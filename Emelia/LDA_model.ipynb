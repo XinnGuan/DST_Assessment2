{
 "cells": [
  {
   "cell_type": "code",
   "execution_count": null,
   "id": "25a78986",
   "metadata": {},
   "outputs": [],
   "source": [
    "import pandas as pd"
   ]
  },
  {
   "cell_type": "code",
   "execution_count": null,
   "id": "89fd77c7",
   "metadata": {},
   "outputs": [],
   "source": [
    "import pickle"
   ]
  },
  {
   "cell_type": "code",
   "execution_count": null,
   "id": "03c638d4",
   "metadata": {},
   "outputs": [],
   "source": [
    "import numpy as np\n",
    "np.random.seed(2018)"
   ]
  },
  {
   "cell_type": "code",
   "execution_count": null,
   "id": "1e5b61c1",
   "metadata": {},
   "outputs": [],
   "source": [
    "import gensim\n",
    "from gensim.utils import simple_preprocess\n",
    "from gensim.parsing.preprocessing import STOPWORDS\n",
    "from nltk.stem import WordNetLemmatizer, SnowballStemmer\n",
    "from nltk.stem.porter import *"
   ]
  },
  {
   "cell_type": "code",
   "execution_count": null,
   "id": "e33a5ce2",
   "metadata": {},
   "outputs": [],
   "source": [
    "url='https://drive.google.com/file/d/1XY8kQd7kEivHHmU3jdZAZD8s0Anb8XsP/view'\n",
    "url='https://drive.google.com/uc?id=' + url.split('/')[-2]\n",
    "trainingDf = pd.read_csv(url)\n",
    "trainingDf.head()"
   ]
  },
  {
   "cell_type": "code",
   "execution_count": null,
   "id": "b96983ac",
   "metadata": {},
   "outputs": [],
   "source": [
    "import gensim\n",
    "from gensim import corpora\n",
    "from pprint import pprint"
   ]
  },
  {
   "cell_type": "code",
   "execution_count": null,
   "id": "7dc69f31",
   "metadata": {},
   "outputs": [],
   "source": [
    "doc = trainingDf[\"combine\"].values.tolist()\n"
   ]
  },
  {
   "cell_type": "code",
   "execution_count": null,
   "id": "613a738f",
   "metadata": {},
   "outputs": [],
   "source": [
    "from gensim.models import Phrases"
   ]
  },
  {
   "cell_type": "code",
   "execution_count": null,
   "id": "d1365fe4",
   "metadata": {},
   "outputs": [],
   "source": [
    "bigram = Phrases(doc, min_count=5, threshold=2)"
   ]
  },
  {
   "cell_type": "code",
   "execution_count": null,
   "id": "11a5dca3",
   "metadata": {},
   "outputs": [],
   "source": [
    "# Add bigrams to docs (only ones that appear 20 times or more).\n",
    "\n",
    "for idx in range(len(doc)):\n",
    "    for token in bigram[doc[idx]]:\n",
    "        if '_' in token:\n",
    "            # Token is a bigram, add to document.\n",
    "            doc[idx].append(token)\n",
    "            if idx<1000:\n",
    "                            "
   ]
  },
  {
   "cell_type": "code",
   "execution_count": null,
   "id": "a9917fb2",
   "metadata": {},
   "outputs": [],
   "source": [
    "doc[5]"
   ]
  },
  {
   "cell_type": "code",
   "execution_count": null,
   "id": "f297bd98",
   "metadata": {},
   "outputs": [],
   "source": [
    "text_tokens = [[text for text in doc.split()] for doc in doc]"
   ]
  },
  {
   "cell_type": "code",
   "execution_count": null,
   "id": "1d7ca8da",
   "metadata": {},
   "outputs": [],
   "source": [
    "dict_LoS = corpora.Dictionary(text_tokens)"
   ]
  },
  {
   "cell_type": "code",
   "execution_count": null,
   "id": "c8eaee9b",
   "metadata": {},
   "outputs": [],
   "source": [
    "print(dict_LoS)"
   ]
  },
  {
   "cell_type": "code",
   "execution_count": null,
   "id": "225be34a",
   "metadata": {},
   "outputs": [],
   "source": [
    "try:\n",
    "    print(\"Reading corpus from pickle\")\n",
    "    bow_corpus=pickle.load(open('bow_corpusE.pkl', 'rb'))\n",
    "except FileNotFoundError:\n",
    "    print(\"Creating corpus and saving to pickle\")\n",
    "    bow_corpus = [dict_LoS.doc2bow(w.split()) for w in doc]\n",
    "    pickle.dump(bow_corpus, open('bow_corpusE.pkl', 'wb'))\n",
    "    pickle.dump(dict_LoS, open('dictionaryE.pkl', 'wb'))"
   ]
  },
  {
   "cell_type": "code",
   "execution_count": null,
   "id": "e7de0ac9",
   "metadata": {},
   "outputs": [],
   "source": [
    "bow_doc_16 = bow_corpus[1000]\n",
    "\n",
    "for i in range(len(bow_doc_16)):\n",
    "    print(\"Word {} (\\\"{}\\\") appears {} time.\".format(bow_doc_16[i][0], \n",
    "                                               dict_LoS[bow_doc_16[i][0]], \n",
    "                                                bow_doc_16[i][1]))"
   ]
  },
  {
   "cell_type": "code",
   "execution_count": null,
   "id": "ddcc1857",
   "metadata": {},
   "outputs": [],
   "source": [
    "try:\n",
    "    lda_model=pickle.load(open('lda_model20.pkl', 'rb'))\n",
    "    print(\"Reading lda_model from pickle\")\n",
    "except FileNotFoundError:\n",
    "    print(\"Creating lda_model and saving to pickle\")\n",
    "    lda_model = gensim.models.LdaMulticore(bow_corpus, num_topics=20, id2word=dict_LoS, passes=2, workers=2)\n",
    "    pickle.dump(lda_model,open('lda_model20.pkl','wb'))"
   ]
  },
  {
   "cell_type": "code",
   "execution_count": null,
   "id": "f2e4944b",
   "metadata": {},
   "outputs": [],
   "source": [
    "import pyLDAvis\n",
    "import pyLDAvis.gensim_models as gensimvis\n",
    "pyLDAvis.enable_notebook()\n",
    "\n",
    "# feed the LDA model into the pyLDAvis instance\n",
    "lda_viz = gensimvis.prepare(lda_model, bow_corpus, dict_LoS)"
   ]
  },
  {
   "cell_type": "code",
   "execution_count": null,
   "id": "ffcbc42b",
   "metadata": {},
   "outputs": [],
   "source": [
    "doc[89]"
   ]
  },
  {
   "cell_type": "code",
   "execution_count": null,
   "id": "fb301eec",
   "metadata": {},
   "outputs": [],
   "source": [
    "lda_model[bow_corpus[89]]"
   ]
  },
  {
   "cell_type": "code",
   "execution_count": null,
   "id": "4622748e",
   "metadata": {},
   "outputs": [],
   "source": [
    "lda_model.show_topics(20,7)"
   ]
  },
  {
   "cell_type": "code",
   "execution_count": null,
   "id": "cbc46614",
   "metadata": {},
   "outputs": [],
   "source": [
    "pyLDAvis.enable_notebook()"
   ]
  },
  {
   "cell_type": "code",
   "execution_count": null,
   "id": "a23b8198",
   "metadata": {},
   "outputs": [],
   "source": [
    "import pyLDAvis.gensim_models"
   ]
  },
  {
   "cell_type": "code",
   "execution_count": null,
   "id": "c8496e47",
   "metadata": {},
   "outputs": [],
   "source": [
    "try:\n",
    "    lda_display=pickle.load(open('lda_display20.pkl', 'rb'))\n",
    "    print(\"Reading lda_display from pickle\")\n",
    "except FileNotFoundError:\n",
    "    print(\"Creating lda_display and saving to pickle\")\n",
    "    lda_display = pyLDAvis.gensim_models.prepare(lda_model, bow_corpus, \n",
    "                                          dict_LoS, mds='mmds')\n",
    "    pickle.dump(lda_display,open('lda_display20.pkl','wb'))"
   ]
  },
  {
   "cell_type": "code",
   "execution_count": null,
   "id": "0dc2984b",
   "metadata": {},
   "outputs": [],
   "source": [
    "pyLDAvis.display(lda_display, template_type='notebook')"
   ]
  },
  {
   "cell_type": "code",
   "execution_count": null,
   "id": "c3ff1cef",
   "metadata": {},
   "outputs": [],
   "source": []
  },
  {
   "cell_type": "code",
   "execution_count": null,
   "id": "a86039ea",
   "metadata": {},
   "outputs": [],
   "source": []
  }
 ],
 "metadata": {
  "kernelspec": {
   "display_name": "Python 3 (ipykernel)",
   "language": "python",
   "name": "python3"
  },
  "language_info": {
   "codemirror_mode": {
    "name": "ipython",
    "version": 3
   },
   "file_extension": ".py",
   "mimetype": "text/x-python",
   "name": "python",
   "nbconvert_exporter": "python",
   "pygments_lexer": "ipython3",
   "version": "3.9.13"
  }
 },
 "nbformat": 4,
 "nbformat_minor": 5
}
