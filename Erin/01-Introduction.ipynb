{
 "cells": [
  {
   "cell_type": "markdown",
   "id": "90fadc40",
   "metadata": {},
   "source": [
    "# Introduction"
   ]
  },
  {
   "cell_type": "markdown",
   "id": "33579743",
   "metadata": {},
   "source": [
    "## 1. Project Overview\n",
    "\n",
    "The aim of this project is to build different unsupervised learning models for the purpose of topic modelling with a dataset of our choice. Afterwards, we will proceed to compare the different models by running them through a classification model. The methods we decided to work with are Latent Dirichlet Allocation (LDA) and Word2Vec.\n",
    "\n",
    "We chose to look into Amazon book reviews in order to analyse whether you could predict the sentiment of a review from just the title, or was it necessary to read the whole review too. \n",
    "\n",
    "We found an appropriate [book review dataset](https://www.kaggle.com/datasets/mohamedbakhet/amazon-books-reviews?fbclid=IwAR3MXEuWxr3_mE1F27D9IvIy_0zdctqMPbIPS2oll9gy7Gv270cpwBViJVg&select=books_data.csv) that covered the main criteria we were looking for. Our criteria were:\n",
    "* The first was that there was a large enough number of observations, which in this case was 3,000,000.\n",
    "* The second was that there were no null entries in the book rating column. This is because the primary aim of our task was to create a suitable topic model, rather than explore how to impute missing ratings.\n",
    "* Lastly, was to make sure that all reviews were in English, to ensure we could form suitable topic models.\n",
    "\n",
    "A preview of this is given below to highlight the original form of the dataset. As the dataset is very large, we cannot load it in automatically by, for example, a google drive link. Therefore, to run any lines which read in a dataset, like the one below, make sure to have the dataset downloaded to your working directory of your machine. Our datasets can be found in this [Google Drive folder](https://drive.google.com/drive/u/0/folders/1a34kpRyqhbxBmbiLMoh7KdzgfvqozoO8).\n",
    "\n",
    "Our plan for comparing the two topic modelling methods was to use each of the outputs as features for a classification model. We would then inspect their ROC curves initially, and use this to inform our inspection of different performance metrics. For this specific dataset we did not believe there was a significant difference in impact between false positives and false negatives, hence we did not reweight recall and precision. \n"
   ]
  },
  {
   "cell_type": "code",
   "execution_count": 2,
   "id": "0d29ba32",
   "metadata": {},
   "outputs": [],
   "source": [
    "import numpy as np\n",
    "import pandas as pd\n",
    "import matplotlib.pyplot as plt"
   ]
  },
  {
   "cell_type": "code",
   "execution_count": 3,
   "id": "3d94252d",
   "metadata": {},
   "outputs": [
    {
     "name": "stderr",
     "output_type": "stream",
     "text": [
      "C:\\Users\\Team Knowhow\\AppData\\Local\\Temp\\ipykernel_21348\\2407891746.py:1: FutureWarning: The error_bad_lines argument has been deprecated and will be removed in a future version. Use on_bad_lines in the future.\n",
      "\n",
      "\n",
      "  book_data = pd.read_csv('Books_rating.csv',engine='python',error_bad_lines=False)\n",
      "Skipping line 68779: unexpected end of data\n"
     ]
    },
    {
     "name": "stdout",
     "output_type": "stream",
     "text": [
      "\u001b[1mSample of the Amazon Book Review dataset:\n"
     ]
    },
    {
     "data": {
      "text/html": [
       "<div>\n",
       "<style scoped>\n",
       "    .dataframe tbody tr th:only-of-type {\n",
       "        vertical-align: middle;\n",
       "    }\n",
       "\n",
       "    .dataframe tbody tr th {\n",
       "        vertical-align: top;\n",
       "    }\n",
       "\n",
       "    .dataframe thead th {\n",
       "        text-align: right;\n",
       "    }\n",
       "</style>\n",
       "<table border=\"1\" class=\"dataframe\">\n",
       "  <thead>\n",
       "    <tr style=\"text-align: right;\">\n",
       "      <th></th>\n",
       "      <th>Id</th>\n",
       "      <th>Title</th>\n",
       "      <th>Price</th>\n",
       "      <th>User_id</th>\n",
       "      <th>profileName</th>\n",
       "      <th>review/helpfulness</th>\n",
       "      <th>review/score</th>\n",
       "      <th>review/time</th>\n",
       "      <th>review/summary</th>\n",
       "      <th>review/text</th>\n",
       "    </tr>\n",
       "  </thead>\n",
       "  <tbody>\n",
       "    <tr>\n",
       "      <th>0</th>\n",
       "      <td>1882931173</td>\n",
       "      <td>Its Only Art If Its Well Hung!</td>\n",
       "      <td>NaN</td>\n",
       "      <td>AVCGYZL8FQQTD</td>\n",
       "      <td>Jim of Oz \"jim-of-oz\"</td>\n",
       "      <td>7/7</td>\n",
       "      <td>4.0</td>\n",
       "      <td>940636800</td>\n",
       "      <td>Nice collection of Julie Strain images</td>\n",
       "      <td>This is only for Julie Strain fans. It's a col...</td>\n",
       "    </tr>\n",
       "    <tr>\n",
       "      <th>1</th>\n",
       "      <td>0826414346</td>\n",
       "      <td>Dr. Seuss: American Icon</td>\n",
       "      <td>NaN</td>\n",
       "      <td>A30TK6U7DNS82R</td>\n",
       "      <td>Kevin Killian</td>\n",
       "      <td>10/10</td>\n",
       "      <td>5.0</td>\n",
       "      <td>1095724800</td>\n",
       "      <td>Really Enjoyed It</td>\n",
       "      <td>I don't care much for Dr. Seuss but after read...</td>\n",
       "    </tr>\n",
       "    <tr>\n",
       "      <th>2</th>\n",
       "      <td>0826414346</td>\n",
       "      <td>Dr. Seuss: American Icon</td>\n",
       "      <td>NaN</td>\n",
       "      <td>A3UH4UZ4RSVO82</td>\n",
       "      <td>John Granger</td>\n",
       "      <td>10/11</td>\n",
       "      <td>5.0</td>\n",
       "      <td>1078790400</td>\n",
       "      <td>Essential for every personal and Public Library</td>\n",
       "      <td>If people become the books they read and if \"t...</td>\n",
       "    </tr>\n",
       "    <tr>\n",
       "      <th>3</th>\n",
       "      <td>0826414346</td>\n",
       "      <td>Dr. Seuss: American Icon</td>\n",
       "      <td>NaN</td>\n",
       "      <td>A2MVUWT453QH61</td>\n",
       "      <td>Roy E. Perry \"amateur philosopher\"</td>\n",
       "      <td>7/7</td>\n",
       "      <td>4.0</td>\n",
       "      <td>1090713600</td>\n",
       "      <td>Phlip Nel gives silly Seuss a serious treatment</td>\n",
       "      <td>Theodore Seuss Geisel (1904-1991), aka &amp;quot;D...</td>\n",
       "    </tr>\n",
       "    <tr>\n",
       "      <th>4</th>\n",
       "      <td>0826414346</td>\n",
       "      <td>Dr. Seuss: American Icon</td>\n",
       "      <td>NaN</td>\n",
       "      <td>A22X4XUPKF66MR</td>\n",
       "      <td>D. H. Richards \"ninthwavestore\"</td>\n",
       "      <td>3/3</td>\n",
       "      <td>4.0</td>\n",
       "      <td>1107993600</td>\n",
       "      <td>Good academic overview</td>\n",
       "      <td>Philip Nel - Dr. Seuss: American IconThis is b...</td>\n",
       "    </tr>\n",
       "  </tbody>\n",
       "</table>\n",
       "</div>"
      ],
      "text/plain": [
       "           Id                           Title  Price         User_id  \\\n",
       "0  1882931173  Its Only Art If Its Well Hung!    NaN   AVCGYZL8FQQTD   \n",
       "1  0826414346        Dr. Seuss: American Icon    NaN  A30TK6U7DNS82R   \n",
       "2  0826414346        Dr. Seuss: American Icon    NaN  A3UH4UZ4RSVO82   \n",
       "3  0826414346        Dr. Seuss: American Icon    NaN  A2MVUWT453QH61   \n",
       "4  0826414346        Dr. Seuss: American Icon    NaN  A22X4XUPKF66MR   \n",
       "\n",
       "                          profileName review/helpfulness  review/score  \\\n",
       "0               Jim of Oz \"jim-of-oz\"                7/7           4.0   \n",
       "1                       Kevin Killian              10/10           5.0   \n",
       "2                        John Granger              10/11           5.0   \n",
       "3  Roy E. Perry \"amateur philosopher\"                7/7           4.0   \n",
       "4     D. H. Richards \"ninthwavestore\"                3/3           4.0   \n",
       "\n",
       "   review/time                                   review/summary  \\\n",
       "0    940636800           Nice collection of Julie Strain images   \n",
       "1   1095724800                                Really Enjoyed It   \n",
       "2   1078790400  Essential for every personal and Public Library   \n",
       "3   1090713600  Phlip Nel gives silly Seuss a serious treatment   \n",
       "4   1107993600                           Good academic overview   \n",
       "\n",
       "                                         review/text  \n",
       "0  This is only for Julie Strain fans. It's a col...  \n",
       "1  I don't care much for Dr. Seuss but after read...  \n",
       "2  If people become the books they read and if \"t...  \n",
       "3  Theodore Seuss Geisel (1904-1991), aka &quot;D...  \n",
       "4  Philip Nel - Dr. Seuss: American IconThis is b...  "
      ]
     },
     "execution_count": 3,
     "metadata": {},
     "output_type": "execute_result"
    }
   ],
   "source": [
    "book_data = pd.read_csv('Books_rating.csv',engine='python',error_bad_lines=False)\n",
    "print('\\033[1m' + \"Sample of the Amazon Book Review dataset:\")\n",
    "book_data.head()"
   ]
  },
  {
   "cell_type": "code",
   "execution_count": 24,
   "id": "1a012eb0",
   "metadata": {},
   "outputs": [],
   "source": [
    "orig_df = pd.DataFrame(book_data)"
   ]
  },
  {
   "cell_type": "markdown",
   "id": "b1bf4cd0",
   "metadata": {},
   "source": [
    "## 2. Our Data"
   ]
  },
  {
   "cell_type": "markdown",
   "id": "a778da18",
   "metadata": {},
   "source": [
    "The original dataset from Kaggle had not been cleaned. Instead, we adapted other code in combination with code from the workshop to preprocess the text data.\n",
    "Upon initial investigation of the data, we found that there was 38 null entries for the review summary and 8 null entries for the review text. As this accounted for such a small percentage of the dataset, we decided to remove any columns which had null entries for either of these columns. Furthermore, as LDA represents each document as a mixture of topics, it did not make sense to include the null entries as the topic distribution would be 0. The rest of our preprocessing included:\n",
    "\n",
    "* Removing stopwords (e.g., 'the', 'is'),\n",
    "* Removing punctuation,\n",
    "* Removing emojis,\n",
    "* Restore common abbreviations,\n",
    "* Converting all characters to lowercase,\n",
    "* Removing short words not captured by stopwords,\n",
    "* Removing numerical characters,\n",
    "* Tokenisation,\n",
    "* Lemmatisation.\n",
    "\n"
   ]
  },
  {
   "cell_type": "code",
   "execution_count": 27,
   "id": "0d02109a",
   "metadata": {},
   "outputs": [
    {
     "name": "stdout",
     "output_type": "stream",
     "text": [
      "\u001b[1mPiechart of the original Training set's Book Scores (1-5):\n"
     ]
    },
    {
     "data": {
      "text/plain": [
       "([<matplotlib.patches.Wedge at 0x1889ac2f370>,\n",
       "  <matplotlib.patches.Wedge at 0x1889ac2fa30>,\n",
       "  <matplotlib.patches.Wedge at 0x1889ac3b190>,\n",
       "  <matplotlib.patches.Wedge at 0x1889ac3b8b0>,\n",
       "  <matplotlib.patches.Wedge at 0x1889ac3bfd0>],\n",
       " [Text(-0.36077028919201587, 1.0391558104713217, '5.0'),\n",
       "  Text(-0.31477391630011986, -1.0540006554158707, '4.0'),\n",
       "  Text(0.6063065680297778, -0.9178193425527448, '3.0'),\n",
       "  Text(0.953977524156105, -0.5476558074237762, '1.0'),\n",
       "  Text(1.086211234231676, -0.17362360043755334, '2.0')],\n",
       " [Text(-0.1967837941047359, 0.5668122602570844, '60.64%'),\n",
       "  Text(-0.17169486343642898, -0.5749094484086568, '19.49%'),\n",
       "  Text(0.3307126734707878, -0.5006287323014971, '8.33%'),\n",
       "  Text(0.5203513768124209, -0.29872134950387785, '6.50%'),\n",
       "  Text(0.5924788550354596, -0.09470378205684726, '5.05%')])"
      ]
     },
     "execution_count": 27,
     "metadata": {},
     "output_type": "execute_result"
    },
    {
     "data": {
      "image/png": "[encoded data removed]",
      "text/plain": [
       "<Figure size 432x288 with 1 Axes>"
      ]
     },
     "metadata": {},
     "output_type": "display_data"
    }
   ],
   "source": [
    "colors = ['indigo', 'darkviolet','mediumorchid','violet','thistle']\n",
    "labels = orig_df['review/score'].value_counts().keys().map(str)\n",
    "values = orig_df['review/score'].value_counts()\n",
    "print('\\033[1m' + \"Piechart of the original Training set's Book Scores (1-5):\")\n",
    "plt.pie(values,colors=colors,labels=labels,autopct='%1.2f%%')"
   ]
  },
  {
   "cell_type": "markdown",
   "id": "a3ec3980",
   "metadata": {},
   "source": [
    "We decided to convert the review scores to binary scores, where 0 represented score 1-3 and 1 represented scores 4-5. This transformed our classification into a binary classification task. We decided to do this for a few reasons, one being that the 5 classes were very imbalanced. We therefore thought it best to group the scores 1-3 together. Intuitively, this makes sense as we believed scores 1-3 represented negative book reviews whereas we deemed a score of 4 or 5 as positive. Furthermore, we thought metrics on the binary labels (such as ROC and accuracy) would be more informative then the mean squared error (over the 5 original classes).\n"
   ]
  },
  {
   "cell_type": "markdown",
   "id": "0cafb560",
   "metadata": {},
   "source": [
    "After cleaning the data, we created two files. One contained just the review summaries, whereas the other contained concatenated text on both the review summaries and review text.\n",
    "\n",
    "Finally, we split our data using a stratified train test split. We created the train set from a random 80% sample of the full dataset and left the rest as our test set (see Test-Training-Preparation.ipynb).\n",
    "\n",
    "This is a preview of 5 rows of the processed data, specifically the file containing the summaries and text combined."
   ]
  },
  {
   "cell_type": "code",
   "execution_count": 4,
   "id": "bb1d1103",
   "metadata": {},
   "outputs": [
    {
     "name": "stdout",
     "output_type": "stream",
     "text": [
      "\u001b[1mSample of the Preprocessed Book Review dataset:\n"
     ]
    },
    {
     "data": {
      "text/html": [
       "<div>\n",
       "<style scoped>\n",
       "    .dataframe tbody tr th:only-of-type {\n",
       "        vertical-align: middle;\n",
       "    }\n",
       "\n",
       "    .dataframe tbody tr th {\n",
       "        vertical-align: top;\n",
       "    }\n",
       "\n",
       "    .dataframe thead th {\n",
       "        text-align: right;\n",
       "    }\n",
       "</style>\n",
       "<table border=\"1\" class=\"dataframe\">\n",
       "  <thead>\n",
       "    <tr style=\"text-align: right;\">\n",
       "      <th></th>\n",
       "      <th>Unnamed: 0</th>\n",
       "      <th>text</th>\n",
       "      <th>sentiment</th>\n",
       "    </tr>\n",
       "  </thead>\n",
       "  <tbody>\n",
       "    <tr>\n",
       "      <th>0</th>\n",
       "      <td>0</td>\n",
       "      <td>['not', 'good', 'buy', 'book', 'read', 'glow',...</td>\n",
       "      <td>0</td>\n",
       "    </tr>\n",
       "    <tr>\n",
       "      <th>1</th>\n",
       "      <td>1</td>\n",
       "      <td>['buyer', 'beware', 'self', 'publish', 'book',...</td>\n",
       "      <td>0</td>\n",
       "    </tr>\n",
       "    <tr>\n",
       "      <th>2</th>\n",
       "      <td>2</td>\n",
       "      <td>['bad', 'complete', 'waste', 'time', 'typograp...</td>\n",
       "      <td>0</td>\n",
       "    </tr>\n",
       "    <tr>\n",
       "      <th>3</th>\n",
       "      <td>3</td>\n",
       "      <td>['please', 'guess', 'romance', 'novel', 'lover...</td>\n",
       "      <td>0</td>\n",
       "    </tr>\n",
       "    <tr>\n",
       "      <th>4</th>\n",
       "      <td>4</td>\n",
       "      <td>['awful', 'beyond', 'belief', 'feel', 'write',...</td>\n",
       "      <td>0</td>\n",
       "    </tr>\n",
       "  </tbody>\n",
       "</table>\n",
       "</div>"
      ],
      "text/plain": [
       "   Unnamed: 0                                               text  sentiment\n",
       "0           0  ['not', 'good', 'buy', 'book', 'read', 'glow',...          0\n",
       "1           1  ['buyer', 'beware', 'self', 'publish', 'book',...          0\n",
       "2           2  ['bad', 'complete', 'waste', 'time', 'typograp...          0\n",
       "3           3  ['please', 'guess', 'romance', 'novel', 'lover...          0\n",
       "4           4  ['awful', 'beyond', 'belief', 'feel', 'write',...          0"
      ]
     },
     "execution_count": 4,
     "metadata": {},
     "output_type": "execute_result"
    }
   ],
   "source": [
    "cleaned_data = pd.read_csv('data_cleaned_full_text_and_summaries.csv')\n",
    "print('\\033[1m' + \"Sample of the Preprocessed Book Review dataset:\")\n",
    "cleaned_data.head()"
   ]
  },
  {
   "cell_type": "markdown",
   "id": "1a87c057",
   "metadata": {},
   "source": [
    "## 3. Exploratory Data Analysis"
   ]
  },
  {
   "cell_type": "code",
   "execution_count": 5,
   "id": "2b78d1ab",
   "metadata": {},
   "outputs": [],
   "source": [
    "import pandas as pd\n",
    "import matplotlib.pyplot as plt\n",
    "from wordcloud import WordCloud"
   ]
  },
  {
   "cell_type": "markdown",
   "id": "ad2c5503",
   "metadata": {},
   "source": [
    "To begin the investigation, the code below gives us information about the dataset size. "
   ]
  },
  {
   "cell_type": "code",
   "execution_count": 6,
   "id": "e43fcafe",
   "metadata": {},
   "outputs": [
    {
     "data": {
      "text/plain": [
       "(2399972, 3)"
      ]
     },
     "execution_count": 6,
     "metadata": {},
     "output_type": "execute_result"
    }
   ],
   "source": [
    "cleaned_data.shape"
   ]
  },
  {
   "cell_type": "code",
   "execution_count": 9,
   "id": "101bd54e",
   "metadata": {},
   "outputs": [],
   "source": [
    "df = pd.DataFrame(cleaned_data)"
   ]
  },
  {
   "cell_type": "markdown",
   "id": "d8942513",
   "metadata": {},
   "source": [
    "Below shows that there are no null entries (as we removed them in the data cleaning step)."
   ]
  },
  {
   "cell_type": "code",
   "execution_count": 10,
   "id": "d798b27e",
   "metadata": {},
   "outputs": [
    {
     "data": {
      "text/plain": [
       "Unnamed: 0    0\n",
       "text          0\n",
       "sentiment     0\n",
       "dtype: int64"
      ]
     },
     "execution_count": 10,
     "metadata": {},
     "output_type": "execute_result"
    }
   ],
   "source": [
    "df.isna().sum()"
   ]
  },
  {
   "cell_type": "markdown",
   "id": "828b076a",
   "metadata": {},
   "source": [
    "Below shows the number of positive reviews contrasted against the number of negative reviews. As you can see, our dataset has a large class imbalance as there are many more positive reviews. We will consider this throughout this project through weighting measures in our classification models, our choice of performance metric and how we downsample our data."
   ]
  },
  {
   "cell_type": "code",
   "execution_count": 8,
   "id": "2ce75480",
   "metadata": {},
   "outputs": [
    {
     "name": "stdout",
     "output_type": "stream",
     "text": [
      "1    1914347\n",
      "0     485625\n",
      "Name: sentiment, dtype: int64\n"
     ]
    },
    {
     "data": {
      "image/png": "[encoded data removed]",
      "text/plain": [
       "<Figure size 432x288 with 1 Axes>"
      ]
     },
     "metadata": {
      "needs_background": "light"
     },
     "output_type": "display_data"
    }
   ],
   "source": [
    "print(df.sentiment.value_counts())\n",
    "p=df.sentiment.value_counts().plot(kind=\"bar\")"
   ]
  },
  {
   "cell_type": "markdown",
   "id": "f54956ff",
   "metadata": {},
   "source": [
    "Here is an example of a tokenised summary concatenated with the review text also. This book review was labelled 0 (negative)."
   ]
  },
  {
   "cell_type": "code",
   "execution_count": 22,
   "id": "09552907",
   "metadata": {},
   "outputs": [
    {
     "data": {
      "text/plain": [
       "\"['bad', 'complete', 'waste', 'time', 'typographical', 'error', 'poor', 'grammar', 'totally', 'pathetic', 'plot', 'add', 'absolutely', 'nothing', 'embarrass', 'author', 'disappoint', 'actually', 'pay', 'book']\""
      ]
     },
     "execution_count": 22,
     "metadata": {},
     "output_type": "execute_result"
    }
   ],
   "source": [
    "df.iloc[2,1]"
   ]
  },
  {
   "cell_type": "markdown",
   "id": "d0738461",
   "metadata": {},
   "source": [
    "To highlight common words within the reviews, we utilised python's WordCloud package ([WordCloud tutorial](https://www.analyticsvidhya.com/blog/2021/05/how-to-build-word-cloud-in-python/)). The code below takes a while to run."
   ]
  },
  {
   "cell_type": "code",
   "execution_count": null,
   "id": "29ca11e7",
   "metadata": {},
   "outputs": [],
   "source": [
    "df['combine']=df['text'].apply(lambda x: ' '.join(x))\n",
    "all_words = \" \".join(sent for sent in df['combine'])\n",
    "\n",
    "from wordcloud import WordCloud\n",
    "wordcloud = WordCloud(width=800, height=500, random_state=42, max_font_size=100).generate(all_words)\n",
    "\n",
    "plt.figure(figsize=(15,8))\n",
    "plt.imshow(wordcloud, interpolation='bilinear')\n",
    "plt.axis('off')\n",
    "plt.show()"
   ]
  },
  {
   "cell_type": "code",
   "execution_count": null,
   "id": "1341b0ee",
   "metadata": {},
   "outputs": [],
   "source": []
  }
 ],
 "metadata": {
  "kernelspec": {
   "display_name": "Python 3 (ipykernel)",
   "language": "python",
   "name": "python3"
  },
  "language_info": {
   "codemirror_mode": {
    "name": "ipython",
    "version": 3
   },
   "file_extension": ".py",
   "mimetype": "text/x-python",
   "name": "python",
   "nbconvert_exporter": "python",
   "pygments_lexer": "ipython3",
   "version": "3.9.12"
  }
 },
 "nbformat": 4,
 "nbformat_minor": 5
}
