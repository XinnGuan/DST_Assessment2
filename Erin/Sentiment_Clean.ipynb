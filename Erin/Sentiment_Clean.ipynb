{
 "cells": [
  {
   "cell_type": "markdown",
   "id": "92cbe877",
   "metadata": {},
   "source": [
    "Load data from google drive"
   ]
  },
  {
   "cell_type": "code",
   "execution_count": 10,
   "id": "c5dc1271",
   "metadata": {},
   "outputs": [],
   "source": [
    "import pandas as pd\n",
    "import re\n",
    "from nltk.corpus import stopwords\n",
    "from nltk.stem.porter import PorterStemmer"
   ]
  },
  {
   "cell_type": "code",
   "execution_count": 11,
   "id": "f926fc95",
   "metadata": {},
   "outputs": [],
   "source": [
    "documents = pd.read_csv('50k_reviews.csv')\n",
    "#documents = reviews[\"text\"]\n",
    "#documents.head()"
   ]
  },
  {
   "cell_type": "markdown",
   "id": "53efcb11",
   "metadata": {},
   "source": [
    "Remove stop words from text"
   ]
  },
  {
   "cell_type": "markdown",
   "id": "7670bf8b",
   "metadata": {},
   "source": [
    "from gensim.parsing.preprocessing import remove_stopwords\n",
    "documents['text'] = [remove_stopwords(line) for line in documents['text']] \n"
   ]
  },
  {
   "cell_type": "code",
   "execution_count": 12,
   "id": "cdd27070",
   "metadata": {},
   "outputs": [
    {
     "data": {
      "text/html": [
       "<div>\n",
       "<style scoped>\n",
       "    .dataframe tbody tr th:only-of-type {\n",
       "        vertical-align: middle;\n",
       "    }\n",
       "\n",
       "    .dataframe tbody tr th {\n",
       "        vertical-align: top;\n",
       "    }\n",
       "\n",
       "    .dataframe thead th {\n",
       "        text-align: right;\n",
       "    }\n",
       "</style>\n",
       "<table border=\"1\" class=\"dataframe\">\n",
       "  <thead>\n",
       "    <tr style=\"text-align: right;\">\n",
       "      <th></th>\n",
       "      <th>score</th>\n",
       "      <th>text</th>\n",
       "    </tr>\n",
       "  </thead>\n",
       "  <tbody>\n",
       "    <tr>\n",
       "      <th>0</th>\n",
       "      <td>3.0</td>\n",
       "      <td>good and helpfull read this book is very good ...</td>\n",
       "    </tr>\n",
       "    <tr>\n",
       "      <th>1</th>\n",
       "      <td>1.0</td>\n",
       "      <td>Sadly overpriced and irrelevant In spite of it...</td>\n",
       "    </tr>\n",
       "    <tr>\n",
       "      <th>2</th>\n",
       "      <td>2.0</td>\n",
       "      <td>Endless rant Howard should have borrowed from ...</td>\n",
       "    </tr>\n",
       "    <tr>\n",
       "      <th>3</th>\n",
       "      <td>1.0</td>\n",
       "      <td>Not Quite Hip It's really a shame about the ti...</td>\n",
       "    </tr>\n",
       "    <tr>\n",
       "      <th>4</th>\n",
       "      <td>5.0</td>\n",
       "      <td>Journey to the Centre of the Earth Hey! This i...</td>\n",
       "    </tr>\n",
       "  </tbody>\n",
       "</table>\n",
       "</div>"
      ],
      "text/plain": [
       "   score                                               text\n",
       "0    3.0  good and helpfull read this book is very good ...\n",
       "1    1.0  Sadly overpriced and irrelevant In spite of it...\n",
       "2    2.0  Endless rant Howard should have borrowed from ...\n",
       "3    1.0  Not Quite Hip It's really a shame about the ti...\n",
       "4    5.0  Journey to the Centre of the Earth Hey! This i..."
      ]
     },
     "execution_count": 12,
     "metadata": {},
     "output_type": "execute_result"
    }
   ],
   "source": [
    "documents.head()"
   ]
  },
  {
   "cell_type": "markdown",
   "id": "946405c0",
   "metadata": {},
   "source": [
    "Convert all letters to lowercase"
   ]
  },
  {
   "cell_type": "code",
   "execution_count": 16,
   "id": "1497300d",
   "metadata": {},
   "outputs": [
    {
     "data": {
      "text/html": [
       "<div>\n",
       "<style scoped>\n",
       "    .dataframe tbody tr th:only-of-type {\n",
       "        vertical-align: middle;\n",
       "    }\n",
       "\n",
       "    .dataframe tbody tr th {\n",
       "        vertical-align: top;\n",
       "    }\n",
       "\n",
       "    .dataframe thead th {\n",
       "        text-align: right;\n",
       "    }\n",
       "</style>\n",
       "<table border=\"1\" class=\"dataframe\">\n",
       "  <thead>\n",
       "    <tr style=\"text-align: right;\">\n",
       "      <th></th>\n",
       "      <th>score</th>\n",
       "      <th>text</th>\n",
       "    </tr>\n",
       "  </thead>\n",
       "  <tbody>\n",
       "    <tr>\n",
       "      <th>0</th>\n",
       "      <td>3.0</td>\n",
       "      <td>good and helpfull read this book is very good ...</td>\n",
       "    </tr>\n",
       "    <tr>\n",
       "      <th>1</th>\n",
       "      <td>1.0</td>\n",
       "      <td>sadly overpriced and irrelevant in spite of it...</td>\n",
       "    </tr>\n",
       "    <tr>\n",
       "      <th>2</th>\n",
       "      <td>2.0</td>\n",
       "      <td>endless rant howard should have borrowed from ...</td>\n",
       "    </tr>\n",
       "    <tr>\n",
       "      <th>3</th>\n",
       "      <td>1.0</td>\n",
       "      <td>not quite hip it's really a shame about the ti...</td>\n",
       "    </tr>\n",
       "    <tr>\n",
       "      <th>4</th>\n",
       "      <td>5.0</td>\n",
       "      <td>journey to the centre of the earth hey! this i...</td>\n",
       "    </tr>\n",
       "  </tbody>\n",
       "</table>\n",
       "</div>"
      ],
      "text/plain": [
       "   score                                               text\n",
       "0    3.0  good and helpfull read this book is very good ...\n",
       "1    1.0  sadly overpriced and irrelevant in spite of it...\n",
       "2    2.0  endless rant howard should have borrowed from ...\n",
       "3    1.0  not quite hip it's really a shame about the ti...\n",
       "4    5.0  journey to the centre of the earth hey! this i..."
      ]
     },
     "execution_count": 16,
     "metadata": {},
     "output_type": "execute_result"
    }
   ],
   "source": [
    "documents['text'] = documents['text'].str.lower()\n",
    "documents.head()"
   ]
  },
  {
   "cell_type": "code",
   "execution_count": 19,
   "id": "8c769d7a",
   "metadata": {},
   "outputs": [
    {
     "name": "stdout",
     "output_type": "stream",
     "text": [
      "[['good', 'and', 'helpfull', 'read', 'this', 'book', 'is', 'very', 'good', 'if', 'you', 'are', 'the', 'type', 'thats', 'finding', 'it', 'difficult', 'to', 'build', 'muscle', 'mass.', 'they', 'go', 'into', 'deep', 'detail', 'but', 'there', 'are', 'some', 'flaws', 'in', 'the', 'book', 'but', 'what', 'book', 'doesnt.', 'i', 'would', 'recommend', 'buying', 'this', 'book', 'if', 'you', 'really', 'are', 'lost', 'this', 'book', 'i', 'think', 'gives', 'you', 'more', 'than', 'a', 'head', 'start.'], ['sadly', 'overpriced', 'and', 'irrelevant', 'in', 'spite', 'of', 'its', 'claim', 'to', '\"illustrate', 'how', 'the', 'pmo', 'can', 'be', 'effective', 'in', 'reducing', 'costs', 'of', 'projects,', 'decreasing', 'the', 'time', 'to', 'market', 'for', 'new', 'products,', 'increasing', 'corporate', 'profits,', 'and', 'ensuring', 'project', 'success,\"', 'this', 'small,', 'overpriced', 'book', 'actually', 'does', 'none', 'of', 'these', 'things.a', 'collection', 'of', 'unrelated', 'articles,', 'all', 'written', 'in', 'a', 'dry,', 'overly', 'academic', 'style,', 'the', 'book', 'totally', 'fails', 'to', 'address', 'the', 'proposition', 'that', 'a', 'project', 'management', 'office', '(pmo)', 'adds', 'value', 'to', 'an', 'organization.', 'there', 'are', 'many', 'statements', 'to', 'the', 'effect', 'that', '\"the', 'pmo', 'can', '...\"', 'perform', 'this', 'or', 'that', 'function,', 'but', 'no', 'assertions', 'about', 'the', 'function', 'itself,', 'or', 'whether', 'it', 'can', 'just', 'as', 'easily', 'be', 'performed', 'in', 'organizations', 'that', 'do', 'not', 'have', 'a', 'formal', 'pmo.it', 'is', 'surprising', 'that', 'more', 'than', 'half', 'of', 'the', 'eight', 'chapters', 'have', 'no', 'relationship', 'to', 'pmo', 'functions', 'at', 'all.', 'they', 'discuss', 'various', 'project', 'management', 'issues,', 'some', 'of', 'which', 'are', 'interesting,', 'but', 'all', 'of', 'which', 'are', 'better', 'covered', 'elsewhere', 'in', 'the', 'literature.', 'these', 'topics', 'are', 'not', 'what', 'one', 'expects', 'when', 'purchasing', 'a', 'book', 'purportedly', 'discussing', 'the', 'pmo', 'function.the', 'book', 'is', 'completely', 'devoid', 'of', 'real', 'world', 'examples,', 'so', 'we', 'are', 'left', 'with', 'the', \"authors'\", 'assertions', 'as', 'to', 'the', 'efficacy', 'of', 'their', 'ideas.', 'there', 'is', 'also', 'a', 'paucity', 'of', 'real', 'action', 'items.', 'the', 'chapter', 'on', '\"implementing', 'the', 'pmo\"', 'obsesses', 'on', 'where', 'this', 'group', 'should', 'report', 'in', 'the', 'organization,', 'and', 'has', 'no', 'practical', 'step-by-step', 'advice', 'on', 'how', 'to', 'go', 'about', 'actually', 'creating', 'a', 'pmo.', 'this', 'chapter', 'does,', 'however,', 'contain', 'an', 'interesting,', 'albeit', 'irrelevant,', 'discussion', 'on', 'managing', '\"projects', 'with', 'virtual', 'teams.\"as', 'someone', 'charged', 'with', 'actually', 'creating', 'a', 'working', 'pmo', 'in', 'a', 'large', 'organization,', 'i', 'was', 'extremely', 'disappointed', 'with', 'this', 'book.', 'it', 'offers', 'almost', 'no', 'practical', 'information', 'on', 'this', 'topic.'], ['endless', 'rant', 'howard', 'should', 'have', 'borrowed', 'from', 'dennis', 'miller', 'and', 'started', 'the', 'book', 'with', '&quot;i', \"don't\", 'mean', 'to', 'go', 'on', 'a', 'rant', 'here,', 'but...&quot;', 'and', 'then', 'proceeded', 'with', 'his', '187', 'pages', 'of', 'endless', 'whining', 'about', 'how', 'horrible', 'the', 'law', 'is', 'in', 'america.the', 'examples', 'given', '(about', 'how', 'law', 'is', 'suffocating', 'america)', 'are', 'sometimes', 'right', 'on', 'the', 'mark', 'and', 'at', 'other', 'times', 'not', 'as', 'well', 'defined.', 'less', 'would', 'have', 'been', 'more.', 'his', 'ideas', 'of', 'how', 'to', 'fix', 'this', 'dilemma', 'are', 'also', 'good...if', 'we', 'lived', 'in', 'a', 'perfect', 'world.', 'unfortunately,', 'we', \"don't.\", 'with', 'no', 'practical', 'solutions', 'and', 'a', 'message', 'lost', 'amongst', 'a', 'myriad', 'of', 'words,', 'i', \"woudn't\", 'recommend', 'this', 'book', 'to', 'anyone', 'but', 'ted', 'kazinski.'], ['not', 'quite', 'hip', \"it's\", 'really', 'a', 'shame', 'about', 'the', 'time', 'and', 'reserch', 'that', 'went', 'into', 'this,', 'because', 'the', 'time', 'devoted', 'to', 'this', 'work', 'and', 'the', 'research', 'that', 'went', 'into', 'it', 'are', 'evident', 'and', 'noteworthy.', 'unfortunately,', \"they're\", 'wasted,', 'ruined', 'by', 'the', 'conclusions', 'he', 'arrived', 'at', 'from', 'his', 'analysis,', 'which', 'ruins', 'the', 'book.hip:', 'the', 'history', 'informs', 'us', 'that', 'singing', 'in', 'blackface', 'is', 'enlightened', 'art,', 'as', 'is', 'robbing', 'bluesmen', 'of', 'the', 'fruits', 'of', 'their', 'labors.', 'mass', 'consumerism?', 'you', \"betcha'\", \"it's\", 'all', 'here,', 'researched,', 'analyzed,', 'and', 'explained.except', 'it', \"isn't.\", 'the', 'arguments', 'justifying', 'inclusion', 'of', 'those', 'acts', 'into', \"hip's\", 'canon', 'lack', 'the', 'power', 'to', 'compel', 'anyone', 'to', 'accept', 'them.', 'even', 'by', 'his', 'own', 'definitions', 'and', 'delineated', 'themes,', 'they', 'fail', '--', 'miserably.this', 'must', 'be', 'what', 'it', 'is', 'like', 'to', 'be', 'a', 'teacher', 'grading', 'a', \"student's\", 'math', 'exam', 'and', 'seeing', 'him', 'following', 'all', 'the', 'proper', 'steps,', 'but', 'getting', 'the', 'answers', 'all', 'wrong:', 'heartbreaking,', 'simply', 'heartbreaking.'], ['journey', 'to', 'the', 'centre', 'of', 'the', 'earth', 'hey!', 'this', 'is', 'a', 'great', 'book!', 'i', 'absolutely', 'loved', 'it!', 'i', 'have', 'read', 'it', 'three', 'times', 'and', 'i', 'find', 'new', 'information', 'every', 'time', 'i', 'do.', 'this', 'book', 'has', 'introduced', 'me', 'to', 'a', 'wonderful', 'collection', 'of', 'books', 'by', 'its', 'author,', 'jules', 'verne.', 'i', 'suggest', 'around', 'the', 'world', 'in', 'eighty', 'days.', 'if', 'you', 'like', 'those', 'books', '...', 'try', 'books', 'by', 'arthur', 'conan', 'doyle,', 'the', 'author', 'of', 'sherlock', 'holmes!', 'peace!'], ['no', 'longer', 'the', 'land', 'of', 'the', 'free', 'the', 'repetitive,', 'silly', 'prose', 'near', 'the', 'end', 'urging', 'us', 'to', 'break', 'free', 'of', 'the', 'stranglehold', 'of', 'unjust', 'and', 'stupid', 'laws', '(which', 'we', 'must)', 'can', 'easily', 'be', 'forgiven:', 'this', 'book', 'exposes', 'the', 'arrogance', 'and', 'stupidity', 'which', 'have', 'become', '&quot;normal&quot;', 'legal', 'proceedings.', 'like', 'our', 'friend', 'tacitus', 'said:', '&quot;the', 'more', 'corrupt', 'the', 'government,', 'the', 'greater', 'number', 'of', 'laws.&quot;', 'message', 'to', 'god:', '&quot;i', 'will', 'believe', 'in', 'you', 'the', 'instant', 'every', 'leeching', 'lawyer', 'that', 'has', 'contributed', 'to', \"america's\", 'current', 'enslavement', 'is', 'struck', 'by', 'lighting!!!&quot;'], ['demon', 'in', 'my', 'view-amelia', 'atwater-rhodes', 'a', 'young', 'writer', 'gets', 'scared', 'when', 'audrey,', 'a', 'foe', 'she', 'has', 'written', 'of', 'in', 'her', 'books,', 'appears', 'in', 'her', 'local', 'high-school.', 'she', 'finds', 'all', 'she', 'has', 'written', 'is', 'true,', 'and', 'that', 'is', 'why', 'other', 'vampires', 'want', 'her', 'dead.', 'but', 'aubrey', 'seems', 'to', 'like', 'her...great!', 'a', 'lot', 'better', 'than', 'her', 'first', 'novella,', '\"in', 'the', 'forests', 'of', 'the', 'night\".', 'i', 'liked', 'it', 'because', 'it', 'seemed', 'to', 'mirror', 'her...'], ['heartbreaking...but', \"you'll\", 'live', 'the', 'novel', 'is', 'a', 'compassionate', 'one', 'in', 'which', 'different', 'feelings', 'and', 'characteristics', 'occur', 'at', 'different', 'times', 'but', 'all', 'show', 'different', 'versions', 'of', 'jane--which', 'is', 'quite', 'impressive.', 'the', 'language', 'is', 'beautifully', 'woven,', 'showing', 'the', \"character's\", 'feelings', 'and', 'giving', 'way', 'to', 'shocking', 'occurrances.', 'the', 'tale', 'is', 'not', 'quite', 'original', 'but', 'it', 'does', 'strike', 'the', 'heart--showing', 'society', 'at', 'the', 'time', 'while', 'weaving', 'the', 'tale--the', 'plots', 'just', 'grasp', 'you', 'harder', 'and', 'harder', 'within', 'each', 'chapter--like', 'glue,', 'if', 'you', \"don't\", 'try', 'to', 'get', 'out', 'of', 'it,', 'you', \"can't\", 'get', 'out--carefully', 'developing', 'the', 'plot', 'with', 'questions,', 'the', 'language,', 'and', 'subtle', 'events', 'that', 'makes', 'the', 'book--not', 'quite', 'original--but', 'giving', 'it', 'a', 'place', 'of', 'its', 'own', 'in', 'the', 'romance', 'genre,', 'getting', 'better', 'and', 'better', 'every', 'time.', 'it', 'is', 'really', 'quite', 'the', 'satisfying', 'experience.', 'personally,', 'i--not', 'being', 'a', 'picky', \"person--don't\", 'have', 'a', 'problem', 'with', 'the', 'printing.', 'the', 'story', 'is', 'enough', 'to', 'change', 'your', 'life', 'if', 'you', 'can', 'be', 'easily', 'shaken', 'by', 'such', 'fictional', 'romance.'], ['i', 'waited', 'for', 'this?', 'i', 'got', 'this', 'book', 'when', 'it', 'first', 'came', 'out', 'and', 'have', 'finally', 'muscled', 'my', 'way', 'through', 'it', 'after', 'putting', 'it', 'down', 'several', 'times.', 'i', 'have', 'to', 'say,', 'it', 'makes', 'me', 'sad.', 'first', 'i', 'had', 'to', 'wonder', 'about', 'the', 'editing,', 'or', 'even', 'if', 'it', 'was', 'edited', 'at', 'all.', 'i', 'mean', 'a', 'lot', 'of', 'there', 'were', 'what', 'seemed', 'to', 'be', 'a', 'lot', 'of', 'typos.', 'tananda', 'was', 'replaced', 'with', 'tanda', 'and', 'klah', 'for', 'klahd', 'etc.', 'but', 'looking', 'at', 'reviews', 'for', 'the', 'new', 'books', 'it', 'seems', 'that', 'it', 'was', 'on', 'purpose.', 'i', 'will', 'spare', 'people', 'the', 'gory', 'details', 'but', 'this', 'story', 'falls', 'flat', 'on', 'its', 'face', 'in', 'a', 'kiddie', 'pool', 'of', 'tripe.', 'sorry', 'mr.', 'asprin', 'but', 'sometimes', 'the', 'truth', 'hurts.while', 'it', 'is', 'the', 'authors', 'prerogative', 'the', 'change', 'cannon', 'or', 'continuity', 'when', 'he', 'feels', 'like,', 'it', 'is', 'also', 'the', 'prerogative', 'of', 'the', 'reader', 'to', 'simply', 'stop', 'reading.', 'so', 'that', 'is', 'what', 'i', 'am', 'going', 'to', 'do.', 'the', 'original', 'series', '(myth', '#1-10)', 'are', 'in', 'inspiration', 'and', 'really', 'give', 'other', 'authors', 'such', 'as', 'douglas', 'adams', 'and', 'terry', 'pratchett', 'a', 'run', 'for', 'their', 'literary', 'money.', 'but', 'now', 'they', 'are', 'quite', 'safe.so', 'if', 'you', 'are', 'new', 'to', 'the', 'series', 'stick', 'with', 'the', 'original', 'ace', 'books', 'minus', 'this', 'one', 'and', 'something', 'm.y.t.h.', 'inc.', '(though', 'you', 'may', 'have', 'to', 'read', 'smi', 'to', 'get', 'closure', 'from', 'sweet', 'myth-tery', 'of', 'life', 'but', 'stop', 'there.)'], ['awesome!', 'the', 'book', 'was', 'absolutely', 'beautiful', 'and', 'my', 'daughter', 'loved', 'it.', 'i', 'am', 'sure', 'it', 'is', 'one', 'she', 'will', 'hand', 'done', 'to', 'her', 'children', 'one', 'day.', 'the', 'service', 'was', 'very', 'prompt', 'also.thank', 'you.']]\n"
     ]
    }
   ],
   "source": [
    "#create your custom stop words list - gensim list but we have chosen to keep 'not', 'can't', 'but', 'however', 'very', \n",
    "my_stop_words = [{'those', 'on', 'own', 'yourselves', 'ie', 'around', 'between', 'four', 'been', 'alone', 'off', \n",
    "                  'am', 'then', 'other', 'can', 'cry', 'regarding', 'hereafter', 'front', 'too', 'used', 'wherein', \n",
    "                  'doing', 'everything', 'up', 'never', 'onto', 'how', 'either', 'before', 'anyway', 'since', 'through',\n",
    "                  'amount', 'now', 'he', 'was', 'con', 'have', 'into', 'because', 'inc', 'therefore', \n",
    "                  'they', 'even', 'whom', 'it', 'see', 'somewhere', 'interest', 'thereupon', 'thick', 'nothing', 'whereas',\n",
    "                  'much', 'whenever', 'find', 'seem', 'until', 'whereby', 'at', 'ltd', 'fire', 'also', 'some', 'last', \n",
    "                  'than', 'get', 'already', 'our', 'doesn', 'once', 'will', 'noone', 'that', 'what', 'thus', 'no', 'myself',\n",
    "                  'out', 'next', 'whatever', 'although', 'though', 'etc', 'which', 'would', 'therein', 'nor', 'somehow', \n",
    "                  'whereupon', 'besides', 'whoever', 'thin', 'ourselves', 'few', 'did', 'third', 'without', 'twelve', \n",
    "                  'anything', 'against', 'while', 'twenty', 'if', 'found', 'herself', 'when', 'may', 'six', \n",
    "                  'ours', 'done', 'seems', 'else', 'call', 'perhaps', 'had', 'nevertheless', 'fill', 'where', 'otherwise',\n",
    "                  'still', 'within', 'its', 'for', 'together', 'elsewhere', 'throughout', 'of', 'eg', 'others', 'show', \n",
    "                  'sincere', 'anywhere', 'anyhow', 'as', 'are', 'the', 'hence', 'something', 'hereby', 'nowhere', \n",
    "                  'latterly', 'de', 'say', 'does', 'neither', 'his', 'go', 'forty', 'put', 'their', 'by', 'namely', \n",
    "                  'km', 'could', 'five', 'unless', 'itself', 'is', 'nine', 'whereafter', 'down', 'bottom', 'thereby', \n",
    "                  'such', 'both', 'she', 'become', 'whole', 'who', 'yourself', 'every', 'thru', 'except',\n",
    "                  'several', 'among', 'being', 'be', 'mine', 'further', 'here', 'during', 'why', 'with', 'just', \n",
    "                  'becomes', 'about', 'a', 'co', 'using', 'seeming', 'due', 'wherever', 'beforehand', 'detail', \n",
    "                  'fifty', 'becoming', 'might', 'amongst', 'my', 'empty', 'thence', 'thereafter', 'almost', 'least', \n",
    "                  'someone', 'often', 'from', 'keep', 'him', 'or', 'top', 'her', 'didn', 'nobody', 'sometime', 'across', \n",
    "                  'hundred', 'only', 'via', 'name', 'eight', 'three', 'back', 'to', 'all', 'became', 'move', 'me', 'we', \n",
    "                  'formerly', 'so', 'i', 'whence', 'describe', 'under', 'always', 'himself', 'more', 'herein', 'in', \n",
    "                  'after', 'themselves', 'you', 'them', 'above', 'sixty', 'hasnt', 'your', 'made', 'everywhere', 'indeed', \n",
    "                  'most', 'kg', 'fifteen', 'must', 'along', 'beside', 'hers', 'computer', 'side', 'former', 'full', \n",
    "                  'anyone', 'has', 'yours', 'whose', 'behind', 'please', 'mill', 'amoungst', 'ten', 'seemed', 'sometimes', \n",
    "                  'should', 'over', 'take', 'each', 'don', 'same', 'rather', 'really', 'latter', 'and', 'part', 'hereupon', \n",
    "                  'per', 'eleven', 'ever', 'enough', 'again', 'us', 'yet', 'moreover', 'mostly', 'one', 'meanwhile', \n",
    "                  'whither', 'there', 'toward', 'give', 'system', 'do', 'quite', 'an', 'these', 'everyone', 'towards', \n",
    "                  'this', 'bill', 'cannot', 'un', 'afterwards', 'beyond', 'make', 'were', 'whether', 'well', 'another', \n",
    "                  'below', 'first', 'upon', 'any', 'none', 'many', 'various', 'serious', 're', 'two', 'less', 'couldnt'}]\n",
    "words = [word for word in documents[\"text\"].str.split() if word not in my_stop_words]\n",
    "print(words[0:10])\n",
    "#new_text = \" \".join(words)\n"
   ]
  },
  {
   "cell_type": "markdown",
   "id": "8438912f",
   "metadata": {},
   "source": [
    "Convert book rating from score out of 5 to positive (score of 4 or 5), neutral (score of 3) and negative(score 1 or 2)."
   ]
  },
  {
   "cell_type": "code",
   "execution_count": null,
   "id": "13b7326d",
   "metadata": {},
   "outputs": [],
   "source": []
  },
  {
   "cell_type": "markdown",
   "id": "c2056882",
   "metadata": {},
   "source": [
    "Create test and train split"
   ]
  },
  {
   "cell_type": "code",
   "execution_count": null,
   "id": "81378896",
   "metadata": {},
   "outputs": [],
   "source": []
  }
 ],
 "metadata": {
  "kernelspec": {
   "display_name": "Python 3 (ipykernel)",
   "language": "python",
   "name": "python3"
  },
  "language_info": {
   "codemirror_mode": {
    "name": "ipython",
    "version": 3
   },
   "file_extension": ".py",
   "mimetype": "text/x-python",
   "name": "python",
   "nbconvert_exporter": "python",
   "pygments_lexer": "ipython3",
   "version": "3.9.12"
  }
 },
 "nbformat": 4,
 "nbformat_minor": 5
}
