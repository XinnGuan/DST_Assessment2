{
 "cells": [
  {
   "cell_type": "code",
   "execution_count": 2,
   "id": "c7f529bc",
   "metadata": {},
   "outputs": [],
   "source": [
    "#load packages\n",
    "import numpy as np\n",
    "import pandas as pd\n",
    "import matplotlib.pyplot as plt\n",
    "import seaborn as sns"
   ]
  },
  {
   "cell_type": "code",
   "execution_count": 3,
   "id": "5506245f",
   "metadata": {},
   "outputs": [
    {
     "data": {
      "text/html": [
       "<div>\n",
       "<style scoped>\n",
       "    .dataframe tbody tr th:only-of-type {\n",
       "        vertical-align: middle;\n",
       "    }\n",
       "\n",
       "    .dataframe tbody tr th {\n",
       "        vertical-align: top;\n",
       "    }\n",
       "\n",
       "    .dataframe thead th {\n",
       "        text-align: right;\n",
       "    }\n",
       "</style>\n",
       "<table border=\"1\" class=\"dataframe\">\n",
       "  <thead>\n",
       "    <tr style=\"text-align: right;\">\n",
       "      <th></th>\n",
       "      <th>score</th>\n",
       "      <th>summary</th>\n",
       "      <th>text</th>\n",
       "    </tr>\n",
       "  </thead>\n",
       "  <tbody>\n",
       "    <tr>\n",
       "      <th>0</th>\n",
       "      <td>1.0</td>\n",
       "      <td>not good</td>\n",
       "      <td>not good I bought this book because I read som...</td>\n",
       "    </tr>\n",
       "    <tr>\n",
       "      <th>1</th>\n",
       "      <td>1.0</td>\n",
       "      <td>Buyer beware</td>\n",
       "      <td>Buyer beware This is a self-published book, an...</td>\n",
       "    </tr>\n",
       "    <tr>\n",
       "      <th>2</th>\n",
       "      <td>1.0</td>\n",
       "      <td>The Worst!</td>\n",
       "      <td>The Worst! A complete waste of time. Typograph...</td>\n",
       "    </tr>\n",
       "    <tr>\n",
       "      <th>3</th>\n",
       "      <td>1.0</td>\n",
       "      <td>Oh please</td>\n",
       "      <td>Oh please I guess you have to be a romance nov...</td>\n",
       "    </tr>\n",
       "    <tr>\n",
       "      <th>4</th>\n",
       "      <td>1.0</td>\n",
       "      <td>Awful beyond belief!</td>\n",
       "      <td>Awful beyond belief! I feel I have to write to...</td>\n",
       "    </tr>\n",
       "  </tbody>\n",
       "</table>\n",
       "</div>"
      ],
      "text/plain": [
       "   score               summary  \\\n",
       "0    1.0              not good   \n",
       "1    1.0          Buyer beware   \n",
       "2    1.0            The Worst!   \n",
       "3    1.0             Oh please   \n",
       "4    1.0  Awful beyond belief!   \n",
       "\n",
       "                                                text  \n",
       "0  not good I bought this book because I read som...  \n",
       "1  Buyer beware This is a self-published book, an...  \n",
       "2  The Worst! A complete waste of time. Typograph...  \n",
       "3  Oh please I guess you have to be a romance nov...  \n",
       "4  Awful beyond belief! I feel I have to write to...  "
      ]
     },
     "execution_count": 3,
     "metadata": {},
     "output_type": "execute_result"
    }
   ],
   "source": [
    "#read csv\n",
    "whole_train = pd.read_csv(\"reviews_train.csv\")\n",
    "whole_train.head()"
   ]
  },
  {
   "cell_type": "code",
   "execution_count": 4,
   "id": "4510bda7",
   "metadata": {},
   "outputs": [
    {
     "data": {
      "text/html": [
       "<div>\n",
       "<style scoped>\n",
       "    .dataframe tbody tr th:only-of-type {\n",
       "        vertical-align: middle;\n",
       "    }\n",
       "\n",
       "    .dataframe tbody tr th {\n",
       "        vertical-align: top;\n",
       "    }\n",
       "\n",
       "    .dataframe thead th {\n",
       "        text-align: right;\n",
       "    }\n",
       "</style>\n",
       "<table border=\"1\" class=\"dataframe\">\n",
       "  <thead>\n",
       "    <tr style=\"text-align: right;\">\n",
       "      <th></th>\n",
       "      <th>score</th>\n",
       "      <th>summary</th>\n",
       "      <th>text</th>\n",
       "    </tr>\n",
       "  </thead>\n",
       "  <tbody>\n",
       "    <tr>\n",
       "      <th>369138</th>\n",
       "      <td>3.0</td>\n",
       "      <td>good and helpfull read</td>\n",
       "      <td>good and helpfull read this book is very good ...</td>\n",
       "    </tr>\n",
       "    <tr>\n",
       "      <th>72547</th>\n",
       "      <td>1.0</td>\n",
       "      <td>Sadly overpriced and irrelevant</td>\n",
       "      <td>Sadly overpriced and irrelevant In spite of it...</td>\n",
       "    </tr>\n",
       "    <tr>\n",
       "      <th>176576</th>\n",
       "      <td>2.0</td>\n",
       "      <td>Endless rant</td>\n",
       "      <td>Endless rant Howard should have borrowed from ...</td>\n",
       "    </tr>\n",
       "    <tr>\n",
       "      <th>74042</th>\n",
       "      <td>1.0</td>\n",
       "      <td>Not Quite Hip</td>\n",
       "      <td>Not Quite Hip It's really a shame about the ti...</td>\n",
       "    </tr>\n",
       "    <tr>\n",
       "      <th>1424811</th>\n",
       "      <td>5.0</td>\n",
       "      <td>Journey to the Centre of the Earth</td>\n",
       "      <td>Journey to the Centre of the Earth Hey! This i...</td>\n",
       "    </tr>\n",
       "  </tbody>\n",
       "</table>\n",
       "</div>"
      ],
      "text/plain": [
       "         score                             summary  \\\n",
       "369138     3.0              good and helpfull read   \n",
       "72547      1.0     Sadly overpriced and irrelevant   \n",
       "176576     2.0                        Endless rant   \n",
       "74042      1.0                       Not Quite Hip   \n",
       "1424811    5.0  Journey to the Centre of the Earth   \n",
       "\n",
       "                                                      text  \n",
       "369138   good and helpfull read this book is very good ...  \n",
       "72547    Sadly overpriced and irrelevant In spite of it...  \n",
       "176576   Endless rant Howard should have borrowed from ...  \n",
       "74042    Not Quite Hip It's really a shame about the ti...  \n",
       "1424811  Journey to the Centre of the Earth Hey! This i...  "
      ]
     },
     "execution_count": 4,
     "metadata": {},
     "output_type": "execute_result"
    }
   ],
   "source": [
    "#sample 50,000 reviews\n",
    "subset = whole_train.sample(n=50000)\n",
    "subset.head()"
   ]
  },
  {
   "cell_type": "code",
   "execution_count": 7,
   "id": "bb488c52",
   "metadata": {},
   "outputs": [],
   "source": [
    "#remove the summary column\n",
    "df = subset.drop('summary', axis=1)"
   ]
  },
  {
   "cell_type": "code",
   "execution_count": 8,
   "id": "d249fd6c",
   "metadata": {},
   "outputs": [],
   "source": [
    "#store sample in new csv\n",
    "dataframe1 = pd.DataFrame(df)\n",
    "dataframe1.to_csv('50k_reviews.csv', index=False)"
   ]
  },
  {
   "cell_type": "code",
   "execution_count": null,
   "id": "7070d34c",
   "metadata": {},
   "outputs": [],
   "source": []
  }
 ],
 "metadata": {
  "kernelspec": {
   "display_name": "Python 3 (ipykernel)",
   "language": "python",
   "name": "python3"
  },
  "language_info": {
   "codemirror_mode": {
    "name": "ipython",
    "version": 3
   },
   "file_extension": ".py",
   "mimetype": "text/x-python",
   "name": "python",
   "nbconvert_exporter": "python",
   "pygments_lexer": "ipython3",
   "version": "3.9.12"
  }
 },
 "nbformat": 4,
 "nbformat_minor": 5
}
