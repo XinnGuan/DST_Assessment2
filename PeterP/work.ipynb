{
 "cells": [
  {
   "cell_type": "markdown",
   "metadata": {},
   "source": [
    "# Lab 1\n",
    "\n",
    "## Introduction\n",
    "This is a basic introduction to IPython and pandas functionality. <a href=\"http://pandas.pydata.org/\">Pandas</a> (Python Data Analysis Library) \"is an open source, BSD-licensed library providing high-performance, easy-to-use data structures and data analysis tools for the Python programming language.\" It (pandas) provides <a href=\"http://pandas.pydata.org/pandas-docs/stable/dsintro.html#dataframe\">dataframe</a> functionality for reading/accessing/manipulating data in memory. You can think of a data frame as a table of indexed values.\n",
    "\n",
    "What you're currently looking at is an IPython Notebook, this acts as a way to interactively use the python interpreter as well as a way to display graphs/charts/images/markdown along with code. IPython is commonly used in scientific computing due to its flexibility. Much more information is available on the <a href='http://ipython.org/'>IPython</a> website.\n",
    "\n",
    "Often data is stored in files, and the first goal is to get that information off of disk and into a dataframe. Since we're working with limited resources in this VM we'll have to use samples of some of the files. Don't worry though, the same techniques apply if you're not sampling the files for exploration.\n",
    "\n",
    "## Tip\n",
    "If you ever want to know the various keyboard shortcuts, just click on a (non-code) cell or the text \"In []\" to the left of the cell, and press the *H* key. Or select *Help* from the menu above, and then *Keyboard Shortcuts*.\n",
    "___"
   ]
  },
  {
   "cell_type": "markdown",
   "metadata": {},
   "source": [
    "## Exercises\n",
    "\n",
    "### File sampling\n",
    "First off, let's take a look at a log file generated from <a href=\"http://www.bro.og/\">Bro</a> this log is similar to netflow logs as well. However, this log file is rather large and doesn't fit in memory.\n",
    "\n",
    "As part of the first exercise, figure out what setting the variable **sample_percent** should be in order to read in between 200k and 300k worth of (randomly selected) lines from the file. Change the variable, after doing that either click the *play* button above (it's the arrow) or hit the *[Shift]+[Enter]* keys as the same time."
   ]
  },
  {
   "cell_type": "code",
   "execution_count": 1,
   "metadata": {
    "collapsed": true
   },
   "outputs": [],
   "source": [
    "from __future__ import print_function"
   ]
  },
  {
   "cell_type": "code",
   "execution_count": 35,
   "metadata": {
    "collapsed": false
   },
   "outputs": [
    {
     "name": "stdout",
     "output_type": "stream",
     "text": [
      "226943 lines in /Users/madjl/GoogleDrive/University/Cyber/DataScience/Lectures/Content/data/conn_sample.log, using a sample of 226943 lines\n"
     ]
    }
   ],
   "source": [
    "import random\n",
    "random.seed(1)\n",
    "logfile = '/Users/madjl/GoogleDrive/University/Cyber/DataScience/Lectures/Content/data/conn_sample.log'\n",
    "sample_percent = 1\n",
    "num_lines = sum(1 for line in open(logfile))\n",
    "slines = set(sorted(random.sample(range(num_lines), int(num_lines * sample_percent))))\n",
    "print(str(num_lines)+\" lines in \"+logfile+\", using a sample of \"+str(len(slines))+\" lines\")"
   ]
  },
  {
   "cell_type": "markdown",
   "metadata": {},
   "source": [
    "### File Creation\n",
    "Awesome! Now that you have a subset of lines to work with, let's write them to another file so we'll have something to practice reading in. Simply hit *[Shift]+[Enter]* below to run the code in the cell and create a new file."
   ]
  },
  {
   "cell_type": "code",
   "execution_count": 36,
   "metadata": {
    "collapsed": true
   },
   "outputs": [],
   "source": [
    "outfile = 'conn_sample.log'"
   ]
  },
  {
   "cell_type": "code",
   "execution_count": 37,
   "metadata": {
    "collapsed": false
   },
   "outputs": [],
   "source": [
    "f = open(outfile, 'w+')\n",
    "i = open(logfile, 'r+')\n",
    "linecount = 0\n",
    "for line in i:\n",
    "    if linecount in slines:\n",
    "        f.write(line)\n",
    "    linecount += 1\n",
    "f.close()\n",
    "i.close()"
   ]
  },
  {
   "cell_type": "markdown",
   "metadata": {},
   "source": [
    "### File Input (CSV)\n",
    "This next cell does a couple of things, first it imports pandas so we can create a dataframe, and then it reads our newly created file from above into memory. You can see the separator is specified to \"\\t\" because Bro produces tab-delimited files by default. In this case we've also specified what we should call the columns in the dataframe."
   ]
  },
  {
   "cell_type": "code",
   "execution_count": 38,
   "metadata": {
    "collapsed": false
   },
   "outputs": [],
   "source": [
    "import pandas as pd\n",
    "conn_df = pd.read_csv(outfile, sep=\"\\t\", header=None, names=['ts','uid','id.orig_h','id.orig_p','id.resp_h','id.resp_p','proto','service','duration','orig_bytes','resp_bytes','conn_state','local_orig','missed_bytes','history','orig_pkts','orig_ip_bytes','resp_pkts','resp_ip_bytes','tunnel_parents','threat','sample'])"
   ]
  },
  {
   "cell_type": "markdown",
   "metadata": {},
   "source": [
    "### Verifying Input\n",
    "Now (in theory) the contents of the file should be in a nicely laid-out dataframe.\n",
    "\n",
    "For this next exercise, experiment with calling the **head()** and **tail()** method to see the values at the beginning and end of the dataframe. You can also pass a number to **head()** and **tail()** to specify the number of lines you want to see. Remember to click *play* or press *[Shift]+[Enter]* to execute the code in the cell after you change it."
   ]
  },
  {
   "cell_type": "code",
   "execution_count": 39,
   "metadata": {
    "collapsed": false
   },
   "outputs": [
    {
     "data": {
      "text/html": [
       "<div>\n",
       "<table border=\"1\" class=\"dataframe\">\n",
       "  <thead>\n",
       "    <tr style=\"text-align: right;\">\n",
       "      <th></th>\n",
       "      <th>ts</th>\n",
       "      <th>uid</th>\n",
       "      <th>id.orig_h</th>\n",
       "      <th>id.orig_p</th>\n",
       "      <th>id.resp_h</th>\n",
       "      <th>id.resp_p</th>\n",
       "      <th>proto</th>\n",
       "      <th>service</th>\n",
       "      <th>duration</th>\n",
       "      <th>orig_bytes</th>\n",
       "      <th>...</th>\n",
       "      <th>local_orig</th>\n",
       "      <th>missed_bytes</th>\n",
       "      <th>history</th>\n",
       "      <th>orig_pkts</th>\n",
       "      <th>orig_ip_bytes</th>\n",
       "      <th>resp_pkts</th>\n",
       "      <th>resp_ip_bytes</th>\n",
       "      <th>tunnel_parents</th>\n",
       "      <th>threat</th>\n",
       "      <th>sample</th>\n",
       "    </tr>\n",
       "  </thead>\n",
       "  <tbody>\n",
       "    <tr>\n",
       "      <th>0</th>\n",
       "      <td>1.331901e+09</td>\n",
       "      <td>CqEvE71FftcS0D7zM3</td>\n",
       "      <td>192.168.202.79</td>\n",
       "      <td>50593</td>\n",
       "      <td>192.168.229.251</td>\n",
       "      <td>80</td>\n",
       "      <td>tcp</td>\n",
       "      <td>http</td>\n",
       "      <td>0.020000</td>\n",
       "      <td>165</td>\n",
       "      <td>...</td>\n",
       "      <td>-</td>\n",
       "      <td>0</td>\n",
       "      <td>ShADfFa</td>\n",
       "      <td>4</td>\n",
       "      <td>381</td>\n",
       "      <td>3</td>\n",
       "      <td>382</td>\n",
       "      <td>(empty)</td>\n",
       "      <td>NaN</td>\n",
       "      <td>NaN</td>\n",
       "    </tr>\n",
       "    <tr>\n",
       "      <th>1</th>\n",
       "      <td>1.331901e+09</td>\n",
       "      <td>Cck0UY3jmmuyDVgsZi</td>\n",
       "      <td>192.168.202.100</td>\n",
       "      <td>45679</td>\n",
       "      <td>192.168.27.203</td>\n",
       "      <td>23</td>\n",
       "      <td>tcp</td>\n",
       "      <td>-</td>\n",
       "      <td>0.010000</td>\n",
       "      <td>0</td>\n",
       "      <td>...</td>\n",
       "      <td>-</td>\n",
       "      <td>0</td>\n",
       "      <td>Sr</td>\n",
       "      <td>1</td>\n",
       "      <td>44</td>\n",
       "      <td>1</td>\n",
       "      <td>40</td>\n",
       "      <td>(empty)</td>\n",
       "      <td>NaN</td>\n",
       "      <td>NaN</td>\n",
       "    </tr>\n",
       "    <tr>\n",
       "      <th>2</th>\n",
       "      <td>1.331901e+09</td>\n",
       "      <td>CEyHIk4u2L9KlqFuNl</td>\n",
       "      <td>192.168.202.76</td>\n",
       "      <td>51670</td>\n",
       "      <td>149.5.45.166</td>\n",
       "      <td>443</td>\n",
       "      <td>tcp</td>\n",
       "      <td>-</td>\n",
       "      <td>-</td>\n",
       "      <td>-</td>\n",
       "      <td>...</td>\n",
       "      <td>-</td>\n",
       "      <td>0</td>\n",
       "      <td>S</td>\n",
       "      <td>1</td>\n",
       "      <td>48</td>\n",
       "      <td>0</td>\n",
       "      <td>0</td>\n",
       "      <td>(empty)</td>\n",
       "      <td>NaN</td>\n",
       "      <td>NaN</td>\n",
       "    </tr>\n",
       "    <tr>\n",
       "      <th>3</th>\n",
       "      <td>1.331901e+09</td>\n",
       "      <td>C32o1w47JHRaiNkRhk</td>\n",
       "      <td>192.168.202.76</td>\n",
       "      <td>51683</td>\n",
       "      <td>111.221.77.148</td>\n",
       "      <td>40004</td>\n",
       "      <td>tcp</td>\n",
       "      <td>-</td>\n",
       "      <td>3.010000</td>\n",
       "      <td>0</td>\n",
       "      <td>...</td>\n",
       "      <td>-</td>\n",
       "      <td>0</td>\n",
       "      <td>S</td>\n",
       "      <td>2</td>\n",
       "      <td>104</td>\n",
       "      <td>0</td>\n",
       "      <td>0</td>\n",
       "      <td>(empty)</td>\n",
       "      <td>NaN</td>\n",
       "      <td>NaN</td>\n",
       "    </tr>\n",
       "    <tr>\n",
       "      <th>4</th>\n",
       "      <td>1.331901e+09</td>\n",
       "      <td>Ci9DCd3idxS5IC3Lai</td>\n",
       "      <td>192.168.202.79</td>\n",
       "      <td>53203</td>\n",
       "      <td>192.168.229.252</td>\n",
       "      <td>389</td>\n",
       "      <td>tcp</td>\n",
       "      <td>-</td>\n",
       "      <td>0.010000</td>\n",
       "      <td>40</td>\n",
       "      <td>...</td>\n",
       "      <td>-</td>\n",
       "      <td>0</td>\n",
       "      <td>ShADdFar</td>\n",
       "      <td>6</td>\n",
       "      <td>360</td>\n",
       "      <td>5</td>\n",
       "      <td>2583</td>\n",
       "      <td>(empty)</td>\n",
       "      <td>NaN</td>\n",
       "      <td>NaN</td>\n",
       "    </tr>\n",
       "  </tbody>\n",
       "</table>\n",
       "<p>5 rows × 22 columns</p>\n",
       "</div>"
      ],
      "text/plain": [
       "             ts                 uid        id.orig_h  id.orig_p  \\\n",
       "0  1.331901e+09  CqEvE71FftcS0D7zM3   192.168.202.79      50593   \n",
       "1  1.331901e+09  Cck0UY3jmmuyDVgsZi  192.168.202.100      45679   \n",
       "2  1.331901e+09  CEyHIk4u2L9KlqFuNl   192.168.202.76      51670   \n",
       "3  1.331901e+09  C32o1w47JHRaiNkRhk   192.168.202.76      51683   \n",
       "4  1.331901e+09  Ci9DCd3idxS5IC3Lai   192.168.202.79      53203   \n",
       "\n",
       "         id.resp_h  id.resp_p proto service  duration orig_bytes  ...    \\\n",
       "0  192.168.229.251         80   tcp    http  0.020000        165  ...     \n",
       "1   192.168.27.203         23   tcp       -  0.010000          0  ...     \n",
       "2     149.5.45.166        443   tcp       -         -          -  ...     \n",
       "3   111.221.77.148      40004   tcp       -  3.010000          0  ...     \n",
       "4  192.168.229.252        389   tcp       -  0.010000         40  ...     \n",
       "\n",
       "  local_orig missed_bytes   history  orig_pkts orig_ip_bytes  resp_pkts  \\\n",
       "0          -            0   ShADfFa          4           381          3   \n",
       "1          -            0        Sr          1            44          1   \n",
       "2          -            0         S          1            48          0   \n",
       "3          -            0         S          2           104          0   \n",
       "4          -            0  ShADdFar          6           360          5   \n",
       "\n",
       "   resp_ip_bytes  tunnel_parents  threat sample  \n",
       "0            382         (empty)     NaN    NaN  \n",
       "1             40         (empty)     NaN    NaN  \n",
       "2              0         (empty)     NaN    NaN  \n",
       "3              0         (empty)     NaN    NaN  \n",
       "4           2583         (empty)     NaN    NaN  \n",
       "\n",
       "[5 rows x 22 columns]"
      ]
     },
     "execution_count": 39,
     "metadata": {},
     "output_type": "execute_result"
    }
   ],
   "source": [
    "conn_df.head()"
   ]
  },
  {
   "cell_type": "markdown",
   "metadata": {},
   "source": [
    "### Data Summarization\n",
    "Now create a new cell below this one. This can be accomplished by clicking on this cell once, and then clicking the *+* icon towards the top or selecting *Insert* from above and then selecting *Insert Cell Below*. After creating the new cell, it's time to learn about the **describe()** method that can be called on dataframes. This will give you a numeric summarization of all columns that contain numbers.\n",
    "\n",
    "Try it out!"
   ]
  },
  {
   "cell_type": "code",
   "execution_count": 40,
   "metadata": {
    "collapsed": false
   },
   "outputs": [
    {
     "data": {
      "text/html": [
       "<div>\n",
       "<table border=\"1\" class=\"dataframe\">\n",
       "  <thead>\n",
       "    <tr style=\"text-align: right;\">\n",
       "      <th></th>\n",
       "      <th>ts</th>\n",
       "      <th>id.orig_p</th>\n",
       "      <th>id.resp_p</th>\n",
       "      <th>missed_bytes</th>\n",
       "      <th>orig_pkts</th>\n",
       "      <th>orig_ip_bytes</th>\n",
       "      <th>resp_pkts</th>\n",
       "      <th>resp_ip_bytes</th>\n",
       "      <th>threat</th>\n",
       "      <th>sample</th>\n",
       "    </tr>\n",
       "  </thead>\n",
       "  <tbody>\n",
       "    <tr>\n",
       "      <th>count</th>\n",
       "      <td>2.269430e+05</td>\n",
       "      <td>226943.000000</td>\n",
       "      <td>226943.000000</td>\n",
       "      <td>226943.0</td>\n",
       "      <td>226943.000000</td>\n",
       "      <td>2.269430e+05</td>\n",
       "      <td>226943.000000</td>\n",
       "      <td>2.269430e+05</td>\n",
       "      <td>0.0</td>\n",
       "      <td>0.0</td>\n",
       "    </tr>\n",
       "    <tr>\n",
       "      <th>mean</th>\n",
       "      <td>1.331949e+09</td>\n",
       "      <td>42724.549980</td>\n",
       "      <td>20354.433906</td>\n",
       "      <td>0.0</td>\n",
       "      <td>1.813235</td>\n",
       "      <td>1.938409e+02</td>\n",
       "      <td>1.283723</td>\n",
       "      <td>2.534223e+02</td>\n",
       "      <td>NaN</td>\n",
       "      <td>NaN</td>\n",
       "    </tr>\n",
       "    <tr>\n",
       "      <th>std</th>\n",
       "      <td>4.271641e+04</td>\n",
       "      <td>15296.007136</td>\n",
       "      <td>20586.389532</td>\n",
       "      <td>0.0</td>\n",
       "      <td>157.018786</td>\n",
       "      <td>2.428806e+04</td>\n",
       "      <td>161.686809</td>\n",
       "      <td>3.703243e+04</td>\n",
       "      <td>NaN</td>\n",
       "      <td>NaN</td>\n",
       "    </tr>\n",
       "    <tr>\n",
       "      <th>min</th>\n",
       "      <td>1.331901e+09</td>\n",
       "      <td>3.000000</td>\n",
       "      <td>0.000000</td>\n",
       "      <td>0.0</td>\n",
       "      <td>0.000000</td>\n",
       "      <td>0.000000e+00</td>\n",
       "      <td>0.000000</td>\n",
       "      <td>0.000000e+00</td>\n",
       "      <td>NaN</td>\n",
       "      <td>NaN</td>\n",
       "    </tr>\n",
       "    <tr>\n",
       "      <th>25%</th>\n",
       "      <td>1.331908e+09</td>\n",
       "      <td>35945.500000</td>\n",
       "      <td>2126.000000</td>\n",
       "      <td>0.0</td>\n",
       "      <td>1.000000</td>\n",
       "      <td>4.400000e+01</td>\n",
       "      <td>0.000000</td>\n",
       "      <td>0.000000e+00</td>\n",
       "      <td>NaN</td>\n",
       "      <td>NaN</td>\n",
       "    </tr>\n",
       "    <tr>\n",
       "      <th>50%</th>\n",
       "      <td>1.331928e+09</td>\n",
       "      <td>44316.000000</td>\n",
       "      <td>10146.000000</td>\n",
       "      <td>0.0</td>\n",
       "      <td>1.000000</td>\n",
       "      <td>4.800000e+01</td>\n",
       "      <td>1.000000</td>\n",
       "      <td>4.000000e+01</td>\n",
       "      <td>NaN</td>\n",
       "      <td>NaN</td>\n",
       "    </tr>\n",
       "    <tr>\n",
       "      <th>75%</th>\n",
       "      <td>1.331997e+09</td>\n",
       "      <td>54466.000000</td>\n",
       "      <td>37524.500000</td>\n",
       "      <td>0.0</td>\n",
       "      <td>1.000000</td>\n",
       "      <td>6.000000e+01</td>\n",
       "      <td>1.000000</td>\n",
       "      <td>4.000000e+01</td>\n",
       "      <td>NaN</td>\n",
       "      <td>NaN</td>\n",
       "    </tr>\n",
       "    <tr>\n",
       "      <th>max</th>\n",
       "      <td>1.332018e+09</td>\n",
       "      <td>65535.000000</td>\n",
       "      <td>65535.000000</td>\n",
       "      <td>0.0</td>\n",
       "      <td>63284.000000</td>\n",
       "      <td>9.694344e+06</td>\n",
       "      <td>64592.000000</td>\n",
       "      <td>1.402328e+07</td>\n",
       "      <td>NaN</td>\n",
       "      <td>NaN</td>\n",
       "    </tr>\n",
       "  </tbody>\n",
       "</table>\n",
       "</div>"
      ],
      "text/plain": [
       "                 ts      id.orig_p      id.resp_p  missed_bytes  \\\n",
       "count  2.269430e+05  226943.000000  226943.000000      226943.0   \n",
       "mean   1.331949e+09   42724.549980   20354.433906           0.0   \n",
       "std    4.271641e+04   15296.007136   20586.389532           0.0   \n",
       "min    1.331901e+09       3.000000       0.000000           0.0   \n",
       "25%    1.331908e+09   35945.500000    2126.000000           0.0   \n",
       "50%    1.331928e+09   44316.000000   10146.000000           0.0   \n",
       "75%    1.331997e+09   54466.000000   37524.500000           0.0   \n",
       "max    1.332018e+09   65535.000000   65535.000000           0.0   \n",
       "\n",
       "           orig_pkts  orig_ip_bytes      resp_pkts  resp_ip_bytes  threat  \\\n",
       "count  226943.000000   2.269430e+05  226943.000000   2.269430e+05     0.0   \n",
       "mean        1.813235   1.938409e+02       1.283723   2.534223e+02     NaN   \n",
       "std       157.018786   2.428806e+04     161.686809   3.703243e+04     NaN   \n",
       "min         0.000000   0.000000e+00       0.000000   0.000000e+00     NaN   \n",
       "25%         1.000000   4.400000e+01       0.000000   0.000000e+00     NaN   \n",
       "50%         1.000000   4.800000e+01       1.000000   4.000000e+01     NaN   \n",
       "75%         1.000000   6.000000e+01       1.000000   4.000000e+01     NaN   \n",
       "max     63284.000000   9.694344e+06   64592.000000   1.402328e+07     NaN   \n",
       "\n",
       "       sample  \n",
       "count     0.0  \n",
       "mean      NaN  \n",
       "std       NaN  \n",
       "min       NaN  \n",
       "25%       NaN  \n",
       "50%       NaN  \n",
       "75%       NaN  \n",
       "max       NaN  "
      ]
     },
     "execution_count": 40,
     "metadata": {},
     "output_type": "execute_result"
    }
   ],
   "source": [
    "conn_df.describe()"
   ]
  },
  {
   "cell_type": "markdown",
   "metadata": {},
   "source": [
    "### Data Types\n",
    "Wait a second, isn't the ts column supposed to be a timestamp? Perhaps this column would be better suited as a time data type vs. a number.\n",
    "\n",
    "Run the cell below to see what type of information Python stored in each column."
   ]
  },
  {
   "cell_type": "code",
   "execution_count": 41,
   "metadata": {
    "collapsed": false
   },
   "outputs": [
    {
     "data": {
      "text/plain": [
       "ts                float64\n",
       "uid                object\n",
       "id.orig_h          object\n",
       "id.orig_p           int64\n",
       "id.resp_h          object\n",
       "id.resp_p           int64\n",
       "proto              object\n",
       "service            object\n",
       "duration           object\n",
       "orig_bytes         object\n",
       "resp_bytes         object\n",
       "conn_state         object\n",
       "local_orig         object\n",
       "missed_bytes        int64\n",
       "history            object\n",
       "orig_pkts           int64\n",
       "orig_ip_bytes       int64\n",
       "resp_pkts           int64\n",
       "resp_ip_bytes       int64\n",
       "tunnel_parents     object\n",
       "threat            float64\n",
       "sample            float64\n",
       "dtype: object"
      ]
     },
     "execution_count": 41,
     "metadata": {},
     "output_type": "execute_result"
    }
   ],
   "source": [
    "conn_df.dtypes"
   ]
  },
  {
   "cell_type": "markdown",
   "metadata": {},
   "source": [
    "### Converting Column Types\n",
    "Time to change the ts column to a datetime object! We will accomplish that by using a simple function provided called *to_datetime()*. The cell below runs this function on the ts column (what should be a time stamp), and then re-assigns this column back to the dataframe in the same place. A new timestamp column could have been added to the dataframe as well so both the float value and the datetime object columns are present.\n",
    "\n",
    "Run the cell below to convert the column type."
   ]
  },
  {
   "cell_type": "code",
   "execution_count": 42,
   "metadata": {
    "collapsed": false
   },
   "outputs": [
    {
     "data": {
      "text/plain": [
       "1331901002.24"
      ]
     },
     "execution_count": 42,
     "metadata": {},
     "output_type": "execute_result"
    }
   ],
   "source": [
    "conn_df['ts'].values[1]"
   ]
  },
  {
   "cell_type": "code",
   "execution_count": 43,
   "metadata": {
    "collapsed": false
   },
   "outputs": [],
   "source": [
    "from datetime import datetime\n",
    "conn_df['ts'] = [datetime.fromtimestamp(float(date)) for date in conn_df['ts'].values]"
   ]
  },
  {
   "cell_type": "code",
   "execution_count": 44,
   "metadata": {
    "collapsed": false
   },
   "outputs": [
    {
     "data": {
      "text/plain": [
       "numpy.datetime64('2012-03-16T12:30:02.240000000')"
      ]
     },
     "execution_count": 44,
     "metadata": {},
     "output_type": "execute_result"
    }
   ],
   "source": [
    "conn_df['ts'].values[1]"
   ]
  },
  {
   "cell_type": "code",
   "execution_count": 45,
   "metadata": {
    "collapsed": false
   },
   "outputs": [
    {
     "data": {
      "text/plain": [
       "ts                datetime64[ns]\n",
       "uid                       object\n",
       "id.orig_h                 object\n",
       "id.orig_p                  int64\n",
       "id.resp_h                 object\n",
       "id.resp_p                  int64\n",
       "proto                     object\n",
       "service                   object\n",
       "duration                  object\n",
       "orig_bytes                object\n",
       "resp_bytes                object\n",
       "conn_state                object\n",
       "local_orig                object\n",
       "missed_bytes               int64\n",
       "history                   object\n",
       "orig_pkts                  int64\n",
       "orig_ip_bytes              int64\n",
       "resp_pkts                  int64\n",
       "resp_ip_bytes              int64\n",
       "tunnel_parents            object\n",
       "threat                   float64\n",
       "sample                   float64\n",
       "dtype: object"
      ]
     },
     "execution_count": 45,
     "metadata": {},
     "output_type": "execute_result"
    }
   ],
   "source": [
    "conn_df.dtypes"
   ]
  },
  {
   "cell_type": "markdown",
   "metadata": {},
   "source": [
    "### Data Value Exploration\n",
    "Verify that the conversion was successful. What is the datatype of the column now?\n",
    "\n",
    "Scroll back up the page and note where you ran the **describe()** function. You'll see under the threat and sample columns there is likely the value of *NaN*. This stands for Not a Number and is a special value assigned to empty column values. There are a few ways to explore what values a column has. Two of these are **value_counts()** and **unique()**. \n",
    "\n",
    "Try them below on different columns. You can create new cells or if you want to get more than the last command worth of output you can put a print statement in front. \n",
    "\n",
    "What happens when you run them on a column with IPs (*id.orig_h, id.resp_h*)? What about sample or threat?"
   ]
  },
  {
   "cell_type": "code",
   "execution_count": 46,
   "metadata": {
    "collapsed": false
   },
   "outputs": [
    {
     "data": {
      "text/plain": [
       "array([ nan])"
      ]
     },
     "execution_count": 46,
     "metadata": {},
     "output_type": "execute_result"
    }
   ],
   "source": [
    "conn_df['sample'].unique()"
   ]
  },
  {
   "cell_type": "markdown",
   "metadata": {},
   "source": [
    "### Remove Columns\n",
    "Another useful operation on a dataframe is removing and adding columns.  Since the threat and sample columns contain only *NaNs*, we can safely remove them and not impact any analysis that may be performed. \n",
    "\n",
    "Below the sample column is removed (dropped), add a similar line to drop the *threat* column and use a method from above to verify they are no longer in the dataframe."
   ]
  },
  {
   "cell_type": "code",
   "execution_count": 47,
   "metadata": {
    "collapsed": false
   },
   "outputs": [],
   "source": [
    "conn_df.drop('sample', axis=1, inplace=True)"
   ]
  },
  {
   "cell_type": "markdown",
   "metadata": {},
   "source": [
    "Can you think of other columns to remove? Select a few and remove them as well. What does your dataframe look like now? (Insert additional cells as needed)"
   ]
  },
  {
   "cell_type": "code",
   "execution_count": 48,
   "metadata": {
    "collapsed": false
   },
   "outputs": [],
   "source": [
    "conn_df.drop('threat', axis=1, inplace=True)"
   ]
  },
  {
   "cell_type": "code",
   "execution_count": 49,
   "metadata": {
    "collapsed": true
   },
   "outputs": [],
   "source": [
    "conn_df.drop('missed_bytes', axis=1, inplace=True)"
   ]
  },
  {
   "cell_type": "markdown",
   "metadata": {},
   "source": [
    "### Table of what is in a column"
   ]
  },
  {
   "cell_type": "code",
   "execution_count": 50,
   "metadata": {
    "collapsed": false
   },
   "outputs": [
    {
     "data": {
      "text/plain": [
       "-           220182\n",
       "http          4445\n",
       "dns           1685\n",
       "ssl            508\n",
       "ssh             49\n",
       "dhcp            28\n",
       "ftp             25\n",
       "ftp-data        19\n",
       "smtp             2\n",
       "Name: service, dtype: int64"
      ]
     },
     "execution_count": 50,
     "metadata": {},
     "output_type": "execute_result"
    }
   ],
   "source": [
    "conn_df.service.value_counts()"
   ]
  },
  {
   "cell_type": "markdown",
   "metadata": {},
   "source": [
    "### Row Selection\n",
    "\n",
    "You can use column values to select rows from the dataframes (and even only view specific columns). First, select all rows that contain *SSL* traffic by running the cell below."
   ]
  },
  {
   "cell_type": "code",
   "execution_count": 51,
   "metadata": {
    "collapsed": false
   },
   "outputs": [
    {
     "data": {
      "text/html": [
       "<div>\n",
       "<table border=\"1\" class=\"dataframe\">\n",
       "  <thead>\n",
       "    <tr style=\"text-align: right;\">\n",
       "      <th></th>\n",
       "      <th>ts</th>\n",
       "      <th>uid</th>\n",
       "      <th>id.orig_h</th>\n",
       "      <th>id.orig_p</th>\n",
       "      <th>id.resp_h</th>\n",
       "      <th>id.resp_p</th>\n",
       "      <th>proto</th>\n",
       "      <th>service</th>\n",
       "      <th>duration</th>\n",
       "      <th>orig_bytes</th>\n",
       "      <th>resp_bytes</th>\n",
       "      <th>conn_state</th>\n",
       "      <th>local_orig</th>\n",
       "      <th>history</th>\n",
       "      <th>orig_pkts</th>\n",
       "      <th>orig_ip_bytes</th>\n",
       "      <th>resp_pkts</th>\n",
       "      <th>resp_ip_bytes</th>\n",
       "      <th>tunnel_parents</th>\n",
       "    </tr>\n",
       "  </thead>\n",
       "  <tbody>\n",
       "    <tr>\n",
       "      <th>5483</th>\n",
       "      <td>2012-03-16 12:46:46.620</td>\n",
       "      <td>Cn2qZl218lJUnQDrwc</td>\n",
       "      <td>192.168.202.79</td>\n",
       "      <td>50766</td>\n",
       "      <td>192.168.229.254</td>\n",
       "      <td>443</td>\n",
       "      <td>tcp</td>\n",
       "      <td>ssl</td>\n",
       "      <td>0.220000</td>\n",
       "      <td>587</td>\n",
       "      <td>915</td>\n",
       "      <td>SF</td>\n",
       "      <td>-</td>\n",
       "      <td>ShADadfFr</td>\n",
       "      <td>16</td>\n",
       "      <td>1427</td>\n",
       "      <td>14</td>\n",
       "      <td>1651</td>\n",
       "      <td>(empty)</td>\n",
       "    </tr>\n",
       "    <tr>\n",
       "      <th>5519</th>\n",
       "      <td>2012-03-16 12:46:52.890</td>\n",
       "      <td>CcaNkl42DToOXsdA2k</td>\n",
       "      <td>192.168.202.79</td>\n",
       "      <td>50964</td>\n",
       "      <td>192.168.229.254</td>\n",
       "      <td>443</td>\n",
       "      <td>tcp</td>\n",
       "      <td>ssl</td>\n",
       "      <td>0.260000</td>\n",
       "      <td>546</td>\n",
       "      <td>1060</td>\n",
       "      <td>SF</td>\n",
       "      <td>-</td>\n",
       "      <td>ShADadfFr</td>\n",
       "      <td>15</td>\n",
       "      <td>1334</td>\n",
       "      <td>13</td>\n",
       "      <td>1744</td>\n",
       "      <td>(empty)</td>\n",
       "    </tr>\n",
       "    <tr>\n",
       "      <th>5520</th>\n",
       "      <td>2012-03-16 12:46:53.620</td>\n",
       "      <td>CksO1QvkaUUXb7y6c</td>\n",
       "      <td>192.168.202.79</td>\n",
       "      <td>50977</td>\n",
       "      <td>192.168.229.254</td>\n",
       "      <td>443</td>\n",
       "      <td>tcp</td>\n",
       "      <td>ssl</td>\n",
       "      <td>0.320000</td>\n",
       "      <td>546</td>\n",
       "      <td>1060</td>\n",
       "      <td>SF</td>\n",
       "      <td>-</td>\n",
       "      <td>ShADadfFr</td>\n",
       "      <td>15</td>\n",
       "      <td>1334</td>\n",
       "      <td>13</td>\n",
       "      <td>1744</td>\n",
       "      <td>(empty)</td>\n",
       "    </tr>\n",
       "    <tr>\n",
       "      <th>5736</th>\n",
       "      <td>2012-03-16 12:47:35.570</td>\n",
       "      <td>CwmS0u2f1SRXmZM2kb</td>\n",
       "      <td>192.168.202.79</td>\n",
       "      <td>52376</td>\n",
       "      <td>192.168.229.254</td>\n",
       "      <td>443</td>\n",
       "      <td>tcp</td>\n",
       "      <td>ssl</td>\n",
       "      <td>0.210000</td>\n",
       "      <td>532</td>\n",
       "      <td>1060</td>\n",
       "      <td>SF</td>\n",
       "      <td>-</td>\n",
       "      <td>ShADadfFr</td>\n",
       "      <td>15</td>\n",
       "      <td>1320</td>\n",
       "      <td>13</td>\n",
       "      <td>1744</td>\n",
       "      <td>(empty)</td>\n",
       "    </tr>\n",
       "    <tr>\n",
       "      <th>5765</th>\n",
       "      <td>2012-03-16 12:47:39.160</td>\n",
       "      <td>C27eNw2n4k0fGyZKkd</td>\n",
       "      <td>192.168.202.79</td>\n",
       "      <td>52564</td>\n",
       "      <td>192.168.229.254</td>\n",
       "      <td>443</td>\n",
       "      <td>tcp</td>\n",
       "      <td>ssl</td>\n",
       "      <td>0.260000</td>\n",
       "      <td>542</td>\n",
       "      <td>1060</td>\n",
       "      <td>SF</td>\n",
       "      <td>-</td>\n",
       "      <td>ShADadfrF</td>\n",
       "      <td>15</td>\n",
       "      <td>1330</td>\n",
       "      <td>13</td>\n",
       "      <td>1744</td>\n",
       "      <td>(empty)</td>\n",
       "    </tr>\n",
       "  </tbody>\n",
       "</table>\n",
       "</div>"
      ],
      "text/plain": [
       "                          ts                 uid       id.orig_h  id.orig_p  \\\n",
       "5483 2012-03-16 12:46:46.620  Cn2qZl218lJUnQDrwc  192.168.202.79      50766   \n",
       "5519 2012-03-16 12:46:52.890  CcaNkl42DToOXsdA2k  192.168.202.79      50964   \n",
       "5520 2012-03-16 12:46:53.620   CksO1QvkaUUXb7y6c  192.168.202.79      50977   \n",
       "5736 2012-03-16 12:47:35.570  CwmS0u2f1SRXmZM2kb  192.168.202.79      52376   \n",
       "5765 2012-03-16 12:47:39.160  C27eNw2n4k0fGyZKkd  192.168.202.79      52564   \n",
       "\n",
       "            id.resp_h  id.resp_p proto service  duration orig_bytes  \\\n",
       "5483  192.168.229.254        443   tcp     ssl  0.220000        587   \n",
       "5519  192.168.229.254        443   tcp     ssl  0.260000        546   \n",
       "5520  192.168.229.254        443   tcp     ssl  0.320000        546   \n",
       "5736  192.168.229.254        443   tcp     ssl  0.210000        532   \n",
       "5765  192.168.229.254        443   tcp     ssl  0.260000        542   \n",
       "\n",
       "     resp_bytes conn_state local_orig    history  orig_pkts  orig_ip_bytes  \\\n",
       "5483        915         SF          -  ShADadfFr         16           1427   \n",
       "5519       1060         SF          -  ShADadfFr         15           1334   \n",
       "5520       1060         SF          -  ShADadfFr         15           1334   \n",
       "5736       1060         SF          -  ShADadfFr         15           1320   \n",
       "5765       1060         SF          -  ShADadfrF         15           1330   \n",
       "\n",
       "      resp_pkts  resp_ip_bytes tunnel_parents  \n",
       "5483         14           1651        (empty)  \n",
       "5519         13           1744        (empty)  \n",
       "5520         13           1744        (empty)  \n",
       "5736         13           1744        (empty)  \n",
       "5765         13           1744        (empty)  "
      ]
     },
     "execution_count": 51,
     "metadata": {},
     "output_type": "execute_result"
    }
   ],
   "source": [
    "conn_df[conn_df['service'] == 'ssl'].head()"
   ]
  },
  {
   "cell_type": "code",
   "execution_count": 52,
   "metadata": {
    "collapsed": false
   },
   "outputs": [],
   "source": [
    "conn_df2=conn_df[(conn_df['service'] == 'dns') | (conn_df['service'] == 'ssl')]\n",
    "conn_df2.assign(total_bytes=conn_df2['orig_bytes']+conn_df2['resp_bytes']);\n",
    "conn_df2.assign(total_pkts=conn_df2['orig_pkts']+conn_df2['resp_pkts']);"
   ]
  },
  {
   "cell_type": "code",
   "execution_count": 53,
   "metadata": {
    "collapsed": false
   },
   "outputs": [
    {
     "data": {
      "text/plain": [
       "dns    1685\n",
       "ssl     508\n",
       "Name: service, dtype: int64"
      ]
     },
     "execution_count": 53,
     "metadata": {},
     "output_type": "execute_result"
    }
   ],
   "source": [
    "conn_df2.service.value_counts()"
   ]
  },
  {
   "cell_type": "code",
   "execution_count": 54,
   "metadata": {
    "collapsed": false
   },
   "outputs": [
    {
     "data": {
      "text/html": [
       "<div>\n",
       "<table border=\"1\" class=\"dataframe\">\n",
       "  <thead>\n",
       "    <tr style=\"text-align: right;\">\n",
       "      <th></th>\n",
       "      <th>ts</th>\n",
       "      <th>uid</th>\n",
       "      <th>id.orig_h</th>\n",
       "      <th>id.orig_p</th>\n",
       "      <th>id.resp_h</th>\n",
       "      <th>id.resp_p</th>\n",
       "      <th>proto</th>\n",
       "      <th>service</th>\n",
       "      <th>duration</th>\n",
       "      <th>orig_bytes</th>\n",
       "      <th>resp_bytes</th>\n",
       "      <th>conn_state</th>\n",
       "      <th>local_orig</th>\n",
       "      <th>history</th>\n",
       "      <th>orig_pkts</th>\n",
       "      <th>orig_ip_bytes</th>\n",
       "      <th>resp_pkts</th>\n",
       "      <th>resp_ip_bytes</th>\n",
       "      <th>tunnel_parents</th>\n",
       "    </tr>\n",
       "  </thead>\n",
       "  <tbody>\n",
       "    <tr>\n",
       "      <th>50</th>\n",
       "      <td>2012-03-16 12:32:48.240</td>\n",
       "      <td>CLkwKgZLb2e4lKKch</td>\n",
       "      <td>192.168.202.80</td>\n",
       "      <td>59464</td>\n",
       "      <td>192.168.202.255</td>\n",
       "      <td>137</td>\n",
       "      <td>udp</td>\n",
       "      <td>dns</td>\n",
       "      <td>0.540000</td>\n",
       "      <td>150</td>\n",
       "      <td>0</td>\n",
       "      <td>S0</td>\n",
       "      <td>-</td>\n",
       "      <td>D</td>\n",
       "      <td>3</td>\n",
       "      <td>234</td>\n",
       "      <td>0</td>\n",
       "      <td>0</td>\n",
       "      <td>(empty)</td>\n",
       "    </tr>\n",
       "    <tr>\n",
       "      <th>64</th>\n",
       "      <td>2012-03-16 12:40:12.170</td>\n",
       "      <td>CtfpEp3XPTLCpGJo0h</td>\n",
       "      <td>192.168.202.95</td>\n",
       "      <td>54593</td>\n",
       "      <td>192.168.207.4</td>\n",
       "      <td>53</td>\n",
       "      <td>udp</td>\n",
       "      <td>dns</td>\n",
       "      <td>-</td>\n",
       "      <td>-</td>\n",
       "      <td>-</td>\n",
       "      <td>SF</td>\n",
       "      <td>-</td>\n",
       "      <td>Dd</td>\n",
       "      <td>1</td>\n",
       "      <td>65</td>\n",
       "      <td>1</td>\n",
       "      <td>122</td>\n",
       "      <td>(empty)</td>\n",
       "    </tr>\n",
       "    <tr>\n",
       "      <th>65</th>\n",
       "      <td>2012-03-16 12:40:24.150</td>\n",
       "      <td>CR3T7r164vZEqO2Pa8</td>\n",
       "      <td>192.168.202.87</td>\n",
       "      <td>57591</td>\n",
       "      <td>192.168.207.4</td>\n",
       "      <td>53</td>\n",
       "      <td>udp</td>\n",
       "      <td>dns</td>\n",
       "      <td>-</td>\n",
       "      <td>-</td>\n",
       "      <td>-</td>\n",
       "      <td>SF</td>\n",
       "      <td>-</td>\n",
       "      <td>Dd</td>\n",
       "      <td>1</td>\n",
       "      <td>68</td>\n",
       "      <td>1</td>\n",
       "      <td>125</td>\n",
       "      <td>(empty)</td>\n",
       "    </tr>\n",
       "    <tr>\n",
       "      <th>201</th>\n",
       "      <td>2012-03-16 12:42:27.490</td>\n",
       "      <td>Cz5EyCXIGdD0tDljl</td>\n",
       "      <td>192.168.202.97</td>\n",
       "      <td>137</td>\n",
       "      <td>192.168.202.255</td>\n",
       "      <td>137</td>\n",
       "      <td>udp</td>\n",
       "      <td>dns</td>\n",
       "      <td>17.600000</td>\n",
       "      <td>900</td>\n",
       "      <td>0</td>\n",
       "      <td>S0</td>\n",
       "      <td>-</td>\n",
       "      <td>D</td>\n",
       "      <td>18</td>\n",
       "      <td>1404</td>\n",
       "      <td>0</td>\n",
       "      <td>0</td>\n",
       "      <td>(empty)</td>\n",
       "    </tr>\n",
       "    <tr>\n",
       "      <th>754</th>\n",
       "      <td>2012-03-16 12:42:57.200</td>\n",
       "      <td>CqmVc91DFubvrtYqil</td>\n",
       "      <td>192.168.202.103</td>\n",
       "      <td>42627</td>\n",
       "      <td>192.168.207.4</td>\n",
       "      <td>53</td>\n",
       "      <td>udp</td>\n",
       "      <td>dns</td>\n",
       "      <td>-</td>\n",
       "      <td>-</td>\n",
       "      <td>-</td>\n",
       "      <td>SF</td>\n",
       "      <td>-</td>\n",
       "      <td>Dd</td>\n",
       "      <td>1</td>\n",
       "      <td>73</td>\n",
       "      <td>1</td>\n",
       "      <td>118</td>\n",
       "      <td>(empty)</td>\n",
       "    </tr>\n",
       "  </tbody>\n",
       "</table>\n",
       "</div>"
      ],
      "text/plain": [
       "                         ts                 uid        id.orig_h  id.orig_p  \\\n",
       "50  2012-03-16 12:32:48.240   CLkwKgZLb2e4lKKch   192.168.202.80      59464   \n",
       "64  2012-03-16 12:40:12.170  CtfpEp3XPTLCpGJo0h   192.168.202.95      54593   \n",
       "65  2012-03-16 12:40:24.150  CR3T7r164vZEqO2Pa8   192.168.202.87      57591   \n",
       "201 2012-03-16 12:42:27.490   Cz5EyCXIGdD0tDljl   192.168.202.97        137   \n",
       "754 2012-03-16 12:42:57.200  CqmVc91DFubvrtYqil  192.168.202.103      42627   \n",
       "\n",
       "           id.resp_h  id.resp_p proto service   duration orig_bytes  \\\n",
       "50   192.168.202.255        137   udp     dns   0.540000        150   \n",
       "64     192.168.207.4         53   udp     dns          -          -   \n",
       "65     192.168.207.4         53   udp     dns          -          -   \n",
       "201  192.168.202.255        137   udp     dns  17.600000        900   \n",
       "754    192.168.207.4         53   udp     dns          -          -   \n",
       "\n",
       "    resp_bytes conn_state local_orig history  orig_pkts  orig_ip_bytes  \\\n",
       "50           0         S0          -       D          3            234   \n",
       "64           -         SF          -      Dd          1             65   \n",
       "65           -         SF          -      Dd          1             68   \n",
       "201          0         S0          -       D         18           1404   \n",
       "754          -         SF          -      Dd          1             73   \n",
       "\n",
       "     resp_pkts  resp_ip_bytes tunnel_parents  \n",
       "50           0              0        (empty)  \n",
       "64           1            122        (empty)  \n",
       "65           1            125        (empty)  \n",
       "201          0              0        (empty)  \n",
       "754          1            118        (empty)  "
      ]
     },
     "execution_count": 54,
     "metadata": {},
     "output_type": "execute_result"
    }
   ],
   "source": [
    "conn_df2.fillna(0).head()"
   ]
  },
  {
   "cell_type": "code",
   "execution_count": 55,
   "metadata": {
    "collapsed": false
   },
   "outputs": [
    {
     "data": {
      "text/plain": [
       "50      234\n",
       "64       65\n",
       "65       68\n",
       "201    1404\n",
       "754      73\n",
       "Name: orig_ip_bytes, dtype: int64"
      ]
     },
     "execution_count": 55,
     "metadata": {},
     "output_type": "execute_result"
    }
   ],
   "source": [
    "conn_df2['orig_ip_bytes'].head()"
   ]
  },
  {
   "cell_type": "code",
   "execution_count": 56,
   "metadata": {
    "collapsed": false
   },
   "outputs": [
    {
     "name": "stderr",
     "output_type": "stream",
     "text": [
      "/Users/madjl/anaconda/lib/python3.4/site-packages/matplotlib/collections.py:590: FutureWarning: elementwise comparison failed; returning scalar instead, but in the future will perform elementwise comparison\n",
      "  if self._edgecolors == str('face'):\n"
     ]
    },
    {
     "data": {
      "image/png": "[encoded data removed]",
      "text/plain": [
       "<matplotlib.figure.Figure at 0x10c5865c0>"
      ]
     },
     "metadata": {},
     "output_type": "display_data"
    }
   ],
   "source": [
    "%matplotlib inline\n",
    "import matplotlib.pyplot as plt\n",
    "import numpy as np\n",
    "\n",
    "plt.scatter(conn_df2['orig_ip_bytes'],conn_df2['orig_pkts']);\n",
    "plt.show()"
   ]
  },
  {
   "cell_type": "markdown",
   "metadata": {},
   "source": [
    "So this is our first plot, a scatter plot of bytes against packets."
   ]
  },
  {
   "cell_type": "code",
   "execution_count": 57,
   "metadata": {
    "collapsed": false
   },
   "outputs": [
    {
     "data": {
      "text/html": [
       "<div>\n",
       "<table border=\"1\" class=\"dataframe\">\n",
       "  <thead>\n",
       "    <tr style=\"text-align: right;\">\n",
       "      <th></th>\n",
       "      <th>ts</th>\n",
       "      <th>uid</th>\n",
       "      <th>id.orig_h</th>\n",
       "      <th>id.orig_p</th>\n",
       "      <th>id.resp_h</th>\n",
       "      <th>id.resp_p</th>\n",
       "      <th>proto</th>\n",
       "      <th>service</th>\n",
       "      <th>duration</th>\n",
       "      <th>orig_bytes</th>\n",
       "      <th>resp_bytes</th>\n",
       "      <th>conn_state</th>\n",
       "      <th>local_orig</th>\n",
       "      <th>history</th>\n",
       "      <th>orig_pkts</th>\n",
       "      <th>orig_ip_bytes</th>\n",
       "      <th>resp_pkts</th>\n",
       "      <th>resp_ip_bytes</th>\n",
       "      <th>tunnel_parents</th>\n",
       "    </tr>\n",
       "  </thead>\n",
       "  <tbody>\n",
       "    <tr>\n",
       "      <th>50</th>\n",
       "      <td>2012-03-16 12:32:48.240</td>\n",
       "      <td>CLkwKgZLb2e4lKKch</td>\n",
       "      <td>192.168.202.80</td>\n",
       "      <td>59464</td>\n",
       "      <td>192.168.202.255</td>\n",
       "      <td>137</td>\n",
       "      <td>udp</td>\n",
       "      <td>dns</td>\n",
       "      <td>0.540000</td>\n",
       "      <td>150</td>\n",
       "      <td>0</td>\n",
       "      <td>S0</td>\n",
       "      <td>-</td>\n",
       "      <td>D</td>\n",
       "      <td>3</td>\n",
       "      <td>234</td>\n",
       "      <td>0</td>\n",
       "      <td>0</td>\n",
       "      <td>(empty)</td>\n",
       "    </tr>\n",
       "    <tr>\n",
       "      <th>64</th>\n",
       "      <td>2012-03-16 12:40:12.170</td>\n",
       "      <td>CtfpEp3XPTLCpGJo0h</td>\n",
       "      <td>192.168.202.95</td>\n",
       "      <td>54593</td>\n",
       "      <td>192.168.207.4</td>\n",
       "      <td>53</td>\n",
       "      <td>udp</td>\n",
       "      <td>dns</td>\n",
       "      <td>-</td>\n",
       "      <td>-</td>\n",
       "      <td>-</td>\n",
       "      <td>SF</td>\n",
       "      <td>-</td>\n",
       "      <td>Dd</td>\n",
       "      <td>1</td>\n",
       "      <td>65</td>\n",
       "      <td>1</td>\n",
       "      <td>122</td>\n",
       "      <td>(empty)</td>\n",
       "    </tr>\n",
       "    <tr>\n",
       "      <th>65</th>\n",
       "      <td>2012-03-16 12:40:24.150</td>\n",
       "      <td>CR3T7r164vZEqO2Pa8</td>\n",
       "      <td>192.168.202.87</td>\n",
       "      <td>57591</td>\n",
       "      <td>192.168.207.4</td>\n",
       "      <td>53</td>\n",
       "      <td>udp</td>\n",
       "      <td>dns</td>\n",
       "      <td>-</td>\n",
       "      <td>-</td>\n",
       "      <td>-</td>\n",
       "      <td>SF</td>\n",
       "      <td>-</td>\n",
       "      <td>Dd</td>\n",
       "      <td>1</td>\n",
       "      <td>68</td>\n",
       "      <td>1</td>\n",
       "      <td>125</td>\n",
       "      <td>(empty)</td>\n",
       "    </tr>\n",
       "    <tr>\n",
       "      <th>201</th>\n",
       "      <td>2012-03-16 12:42:27.490</td>\n",
       "      <td>Cz5EyCXIGdD0tDljl</td>\n",
       "      <td>192.168.202.97</td>\n",
       "      <td>137</td>\n",
       "      <td>192.168.202.255</td>\n",
       "      <td>137</td>\n",
       "      <td>udp</td>\n",
       "      <td>dns</td>\n",
       "      <td>17.600000</td>\n",
       "      <td>900</td>\n",
       "      <td>0</td>\n",
       "      <td>S0</td>\n",
       "      <td>-</td>\n",
       "      <td>D</td>\n",
       "      <td>18</td>\n",
       "      <td>1404</td>\n",
       "      <td>0</td>\n",
       "      <td>0</td>\n",
       "      <td>(empty)</td>\n",
       "    </tr>\n",
       "    <tr>\n",
       "      <th>754</th>\n",
       "      <td>2012-03-16 12:42:57.200</td>\n",
       "      <td>CqmVc91DFubvrtYqil</td>\n",
       "      <td>192.168.202.103</td>\n",
       "      <td>42627</td>\n",
       "      <td>192.168.207.4</td>\n",
       "      <td>53</td>\n",
       "      <td>udp</td>\n",
       "      <td>dns</td>\n",
       "      <td>-</td>\n",
       "      <td>-</td>\n",
       "      <td>-</td>\n",
       "      <td>SF</td>\n",
       "      <td>-</td>\n",
       "      <td>Dd</td>\n",
       "      <td>1</td>\n",
       "      <td>73</td>\n",
       "      <td>1</td>\n",
       "      <td>118</td>\n",
       "      <td>(empty)</td>\n",
       "    </tr>\n",
       "  </tbody>\n",
       "</table>\n",
       "</div>"
      ],
      "text/plain": [
       "                         ts                 uid        id.orig_h  id.orig_p  \\\n",
       "50  2012-03-16 12:32:48.240   CLkwKgZLb2e4lKKch   192.168.202.80      59464   \n",
       "64  2012-03-16 12:40:12.170  CtfpEp3XPTLCpGJo0h   192.168.202.95      54593   \n",
       "65  2012-03-16 12:40:24.150  CR3T7r164vZEqO2Pa8   192.168.202.87      57591   \n",
       "201 2012-03-16 12:42:27.490   Cz5EyCXIGdD0tDljl   192.168.202.97        137   \n",
       "754 2012-03-16 12:42:57.200  CqmVc91DFubvrtYqil  192.168.202.103      42627   \n",
       "\n",
       "           id.resp_h  id.resp_p proto service   duration orig_bytes  \\\n",
       "50   192.168.202.255        137   udp     dns   0.540000        150   \n",
       "64     192.168.207.4         53   udp     dns          -          -   \n",
       "65     192.168.207.4         53   udp     dns          -          -   \n",
       "201  192.168.202.255        137   udp     dns  17.600000        900   \n",
       "754    192.168.207.4         53   udp     dns          -          -   \n",
       "\n",
       "    resp_bytes conn_state local_orig history  orig_pkts  orig_ip_bytes  \\\n",
       "50           0         S0          -       D          3            234   \n",
       "64           -         SF          -      Dd          1             65   \n",
       "65           -         SF          -      Dd          1             68   \n",
       "201          0         S0          -       D         18           1404   \n",
       "754          -         SF          -      Dd          1             73   \n",
       "\n",
       "     resp_pkts  resp_ip_bytes tunnel_parents  \n",
       "50           0              0        (empty)  \n",
       "64           1            122        (empty)  \n",
       "65           1            125        (empty)  \n",
       "201          0              0        (empty)  \n",
       "754          1            118        (empty)  "
      ]
     },
     "execution_count": 57,
     "metadata": {},
     "output_type": "execute_result"
    }
   ],
   "source": [
    "conn_df[conn_df['service'] == 'dns'].head()"
   ]
  },
  {
   "cell_type": "markdown",
   "metadata": {},
   "source": [
    "Next we can assign that result to a dataframe, and then look at all all the *SSL* connections that happen over ports other than 443."
   ]
  },
  {
   "cell_type": "code",
   "execution_count": 58,
   "metadata": {
    "collapsed": false
   },
   "outputs": [
    {
     "data": {
      "text/html": [
       "<div>\n",
       "<table border=\"1\" class=\"dataframe\">\n",
       "  <thead>\n",
       "    <tr style=\"text-align: right;\">\n",
       "      <th></th>\n",
       "      <th>ts</th>\n",
       "      <th>uid</th>\n",
       "      <th>id.orig_h</th>\n",
       "      <th>id.orig_p</th>\n",
       "      <th>id.resp_h</th>\n",
       "      <th>id.resp_p</th>\n",
       "      <th>proto</th>\n",
       "      <th>service</th>\n",
       "      <th>duration</th>\n",
       "      <th>orig_bytes</th>\n",
       "      <th>resp_bytes</th>\n",
       "      <th>conn_state</th>\n",
       "      <th>local_orig</th>\n",
       "      <th>history</th>\n",
       "      <th>orig_pkts</th>\n",
       "      <th>orig_ip_bytes</th>\n",
       "      <th>resp_pkts</th>\n",
       "      <th>resp_ip_bytes</th>\n",
       "      <th>tunnel_parents</th>\n",
       "    </tr>\n",
       "  </thead>\n",
       "  <tbody>\n",
       "    <tr>\n",
       "      <th>29619</th>\n",
       "      <td>2012-03-16 13:20:57.740</td>\n",
       "      <td>C4XpLT0JNlGJoL8wc</td>\n",
       "      <td>192.168.202.110</td>\n",
       "      <td>48528</td>\n",
       "      <td>192.168.27.253</td>\n",
       "      <td>8089</td>\n",
       "      <td>tcp</td>\n",
       "      <td>ssl</td>\n",
       "      <td>0.040000</td>\n",
       "      <td>649</td>\n",
       "      <td>1816</td>\n",
       "      <td>RSTO</td>\n",
       "      <td>-</td>\n",
       "      <td>ShADadfR</td>\n",
       "      <td>7</td>\n",
       "      <td>1021</td>\n",
       "      <td>6</td>\n",
       "      <td>2136</td>\n",
       "      <td>(empty)</td>\n",
       "    </tr>\n",
       "    <tr>\n",
       "      <th>29736</th>\n",
       "      <td>2012-03-16 13:21:03.770</td>\n",
       "      <td>Cqobm814gfetUZNuud</td>\n",
       "      <td>192.168.202.110</td>\n",
       "      <td>48956</td>\n",
       "      <td>192.168.27.253</td>\n",
       "      <td>8089</td>\n",
       "      <td>tcp</td>\n",
       "      <td>ssl</td>\n",
       "      <td>0.050000</td>\n",
       "      <td>649</td>\n",
       "      <td>1816</td>\n",
       "      <td>RSTO</td>\n",
       "      <td>-</td>\n",
       "      <td>ShADadfR</td>\n",
       "      <td>7</td>\n",
       "      <td>1021</td>\n",
       "      <td>6</td>\n",
       "      <td>2136</td>\n",
       "      <td>(empty)</td>\n",
       "    </tr>\n",
       "    <tr>\n",
       "      <th>31077</th>\n",
       "      <td>2012-03-16 13:21:50.010</td>\n",
       "      <td>CbVHEP2NPUzMqOX5U7</td>\n",
       "      <td>192.168.202.110</td>\n",
       "      <td>54694</td>\n",
       "      <td>192.168.27.253</td>\n",
       "      <td>8089</td>\n",
       "      <td>tcp</td>\n",
       "      <td>ssl</td>\n",
       "      <td>0.050000</td>\n",
       "      <td>30</td>\n",
       "      <td>590</td>\n",
       "      <td>RSTO</td>\n",
       "      <td>-</td>\n",
       "      <td>ShADadR</td>\n",
       "      <td>5</td>\n",
       "      <td>298</td>\n",
       "      <td>3</td>\n",
       "      <td>754</td>\n",
       "      <td>(empty)</td>\n",
       "    </tr>\n",
       "    <tr>\n",
       "      <th>41490</th>\n",
       "      <td>2012-03-16 13:33:43.240</td>\n",
       "      <td>C22VQS2cRBRPdPAPs1</td>\n",
       "      <td>192.168.202.110</td>\n",
       "      <td>49037</td>\n",
       "      <td>192.168.27.253</td>\n",
       "      <td>8089</td>\n",
       "      <td>tcp</td>\n",
       "      <td>ssl</td>\n",
       "      <td>0.030000</td>\n",
       "      <td>713</td>\n",
       "      <td>1816</td>\n",
       "      <td>RSTO</td>\n",
       "      <td>-</td>\n",
       "      <td>ShADadfR</td>\n",
       "      <td>7</td>\n",
       "      <td>1085</td>\n",
       "      <td>6</td>\n",
       "      <td>2136</td>\n",
       "      <td>(empty)</td>\n",
       "    </tr>\n",
       "    <tr>\n",
       "      <th>41492</th>\n",
       "      <td>2012-03-16 13:33:43.750</td>\n",
       "      <td>CgDgVe3S9k5eLXIHsf</td>\n",
       "      <td>192.168.202.110</td>\n",
       "      <td>49082</td>\n",
       "      <td>192.168.27.253</td>\n",
       "      <td>8089</td>\n",
       "      <td>tcp</td>\n",
       "      <td>ssl</td>\n",
       "      <td>0.010000</td>\n",
       "      <td>681</td>\n",
       "      <td>1816</td>\n",
       "      <td>RSTO</td>\n",
       "      <td>-</td>\n",
       "      <td>ShADadfR</td>\n",
       "      <td>7</td>\n",
       "      <td>1053</td>\n",
       "      <td>6</td>\n",
       "      <td>2136</td>\n",
       "      <td>(empty)</td>\n",
       "    </tr>\n",
       "  </tbody>\n",
       "</table>\n",
       "</div>"
      ],
      "text/plain": [
       "                           ts                 uid        id.orig_h  id.orig_p  \\\n",
       "29619 2012-03-16 13:20:57.740   C4XpLT0JNlGJoL8wc  192.168.202.110      48528   \n",
       "29736 2012-03-16 13:21:03.770  Cqobm814gfetUZNuud  192.168.202.110      48956   \n",
       "31077 2012-03-16 13:21:50.010  CbVHEP2NPUzMqOX5U7  192.168.202.110      54694   \n",
       "41490 2012-03-16 13:33:43.240  C22VQS2cRBRPdPAPs1  192.168.202.110      49037   \n",
       "41492 2012-03-16 13:33:43.750  CgDgVe3S9k5eLXIHsf  192.168.202.110      49082   \n",
       "\n",
       "            id.resp_h  id.resp_p proto service  duration orig_bytes  \\\n",
       "29619  192.168.27.253       8089   tcp     ssl  0.040000        649   \n",
       "29736  192.168.27.253       8089   tcp     ssl  0.050000        649   \n",
       "31077  192.168.27.253       8089   tcp     ssl  0.050000         30   \n",
       "41490  192.168.27.253       8089   tcp     ssl  0.030000        713   \n",
       "41492  192.168.27.253       8089   tcp     ssl  0.010000        681   \n",
       "\n",
       "      resp_bytes conn_state local_orig   history  orig_pkts  orig_ip_bytes  \\\n",
       "29619       1816       RSTO          -  ShADadfR          7           1021   \n",
       "29736       1816       RSTO          -  ShADadfR          7           1021   \n",
       "31077        590       RSTO          -   ShADadR          5            298   \n",
       "41490       1816       RSTO          -  ShADadfR          7           1085   \n",
       "41492       1816       RSTO          -  ShADadfR          7           1053   \n",
       "\n",
       "       resp_pkts  resp_ip_bytes tunnel_parents  \n",
       "29619          6           2136        (empty)  \n",
       "29736          6           2136        (empty)  \n",
       "31077          3            754        (empty)  \n",
       "41490          6           2136        (empty)  \n",
       "41492          6           2136        (empty)  "
      ]
     },
     "execution_count": 58,
     "metadata": {},
     "output_type": "execute_result"
    }
   ],
   "source": [
    "ssl_df = conn_df[conn_df['service'] == 'ssl']\n",
    "ssl_df[ssl_df['id.resp_p'] != 443].head()"
   ]
  },
  {
   "cell_type": "markdown",
   "metadata": {},
   "source": []
  },
  {
   "cell_type": "markdown",
   "metadata": {},
   "source": [
    "You can see the individual column selections above eg: *conn_df['service']*, and *ssl_df['id.resp_p']* respectively. You can use these to view output of specific columns. \n",
    "\n",
    "For example, run the cell below to see all the individual values of originator bytes associated with a *SSL* connection over port 443."
   ]
  },
  {
   "cell_type": "code",
   "execution_count": 33,
   "metadata": {
    "collapsed": false
   },
   "outputs": [
    {
     "data": {
      "text/html": [
       "<div>\n",
       "<table border=\"1\" class=\"dataframe\">\n",
       "  <thead>\n",
       "    <tr style=\"text-align: right;\">\n",
       "      <th></th>\n",
       "      <th>orig_bytes</th>\n",
       "      <th>proto</th>\n",
       "    </tr>\n",
       "  </thead>\n",
       "  <tbody>\n",
       "    <tr>\n",
       "      <th>401</th>\n",
       "      <td>681</td>\n",
       "      <td>tcp</td>\n",
       "    </tr>\n",
       "    <tr>\n",
       "      <th>985</th>\n",
       "      <td>665</td>\n",
       "      <td>tcp</td>\n",
       "    </tr>\n",
       "    <tr>\n",
       "      <th>1810</th>\n",
       "      <td>697</td>\n",
       "      <td>tcp</td>\n",
       "    </tr>\n",
       "  </tbody>\n",
       "</table>\n",
       "</div>"
      ],
      "text/plain": [
       "     orig_bytes proto\n",
       "401         681   tcp\n",
       "985         665   tcp\n",
       "1810        697   tcp"
      ]
     },
     "execution_count": 33,
     "metadata": {},
     "output_type": "execute_result"
    }
   ],
   "source": [
    "ssl_df[ssl_df['id.resp_p'] == 443][['orig_bytes','proto']].head()"
   ]
  },
  {
   "cell_type": "markdown",
   "metadata": {},
   "source": [
    "## Imported from later labs"
   ]
  },
  {
   "cell_type": "code",
   "execution_count": 108,
   "metadata": {
    "collapsed": false
   },
   "outputs": [
    {
     "data": {
      "text/html": [
       "<div>\n",
       "<table border=\"1\" class=\"dataframe\">\n",
       "  <thead>\n",
       "    <tr style=\"text-align: right;\">\n",
       "      <th></th>\n",
       "      <th>uid</th>\n",
       "      <th>id.orig_h</th>\n",
       "      <th>id.orig_p</th>\n",
       "      <th>id.resp_h</th>\n",
       "      <th>id.resp_p</th>\n",
       "      <th>proto</th>\n",
       "      <th>service</th>\n",
       "      <th>duration</th>\n",
       "      <th>orig_bytes</th>\n",
       "      <th>resp_bytes</th>\n",
       "      <th>conn_state</th>\n",
       "      <th>local_orig</th>\n",
       "      <th>history</th>\n",
       "      <th>orig_pkts</th>\n",
       "      <th>orig_ip_bytes</th>\n",
       "      <th>resp_pkts</th>\n",
       "      <th>resp_ip_bytes</th>\n",
       "      <th>tunnel_parents</th>\n",
       "      <th>count</th>\n",
       "    </tr>\n",
       "    <tr>\n",
       "      <th>ts</th>\n",
       "      <th></th>\n",
       "      <th></th>\n",
       "      <th></th>\n",
       "      <th></th>\n",
       "      <th></th>\n",
       "      <th></th>\n",
       "      <th></th>\n",
       "      <th></th>\n",
       "      <th></th>\n",
       "      <th></th>\n",
       "      <th></th>\n",
       "      <th></th>\n",
       "      <th></th>\n",
       "      <th></th>\n",
       "      <th></th>\n",
       "      <th></th>\n",
       "      <th></th>\n",
       "      <th></th>\n",
       "      <th></th>\n",
       "    </tr>\n",
       "  </thead>\n",
       "  <tbody>\n",
       "    <tr>\n",
       "      <th>2012-03-16 12:30:00.830</th>\n",
       "      <td>CqEvE71FftcS0D7zM3</td>\n",
       "      <td>192.168.202.79</td>\n",
       "      <td>50593</td>\n",
       "      <td>192.168.229.251</td>\n",
       "      <td>80</td>\n",
       "      <td>tcp</td>\n",
       "      <td>http</td>\n",
       "      <td>0.020000</td>\n",
       "      <td>165</td>\n",
       "      <td>214</td>\n",
       "      <td>SF</td>\n",
       "      <td>-</td>\n",
       "      <td>ShADfFa</td>\n",
       "      <td>4</td>\n",
       "      <td>381</td>\n",
       "      <td>3</td>\n",
       "      <td>382</td>\n",
       "      <td>(empty)</td>\n",
       "      <td>1</td>\n",
       "    </tr>\n",
       "    <tr>\n",
       "      <th>2012-03-16 12:30:02.240</th>\n",
       "      <td>Cck0UY3jmmuyDVgsZi</td>\n",
       "      <td>192.168.202.100</td>\n",
       "      <td>45679</td>\n",
       "      <td>192.168.27.203</td>\n",
       "      <td>23</td>\n",
       "      <td>tcp</td>\n",
       "      <td>-</td>\n",
       "      <td>0.010000</td>\n",
       "      <td>0</td>\n",
       "      <td>0</td>\n",
       "      <td>REJ</td>\n",
       "      <td>-</td>\n",
       "      <td>Sr</td>\n",
       "      <td>1</td>\n",
       "      <td>44</td>\n",
       "      <td>1</td>\n",
       "      <td>40</td>\n",
       "      <td>(empty)</td>\n",
       "      <td>1</td>\n",
       "    </tr>\n",
       "    <tr>\n",
       "      <th>2012-03-16 12:30:16.130</th>\n",
       "      <td>CEyHIk4u2L9KlqFuNl</td>\n",
       "      <td>192.168.202.76</td>\n",
       "      <td>51670</td>\n",
       "      <td>149.5.45.166</td>\n",
       "      <td>443</td>\n",
       "      <td>tcp</td>\n",
       "      <td>-</td>\n",
       "      <td>-</td>\n",
       "      <td>-</td>\n",
       "      <td>-</td>\n",
       "      <td>S0</td>\n",
       "      <td>-</td>\n",
       "      <td>S</td>\n",
       "      <td>1</td>\n",
       "      <td>48</td>\n",
       "      <td>0</td>\n",
       "      <td>0</td>\n",
       "      <td>(empty)</td>\n",
       "      <td>1</td>\n",
       "    </tr>\n",
       "    <tr>\n",
       "      <th>2012-03-16 12:30:24.360</th>\n",
       "      <td>C32o1w47JHRaiNkRhk</td>\n",
       "      <td>192.168.202.76</td>\n",
       "      <td>51683</td>\n",
       "      <td>111.221.77.148</td>\n",
       "      <td>40004</td>\n",
       "      <td>tcp</td>\n",
       "      <td>-</td>\n",
       "      <td>3.010000</td>\n",
       "      <td>0</td>\n",
       "      <td>0</td>\n",
       "      <td>S0</td>\n",
       "      <td>-</td>\n",
       "      <td>S</td>\n",
       "      <td>2</td>\n",
       "      <td>104</td>\n",
       "      <td>0</td>\n",
       "      <td>0</td>\n",
       "      <td>(empty)</td>\n",
       "      <td>1</td>\n",
       "    </tr>\n",
       "    <tr>\n",
       "      <th>2012-03-16 12:30:55.530</th>\n",
       "      <td>Ci9DCd3idxS5IC3Lai</td>\n",
       "      <td>192.168.202.79</td>\n",
       "      <td>53203</td>\n",
       "      <td>192.168.229.252</td>\n",
       "      <td>389</td>\n",
       "      <td>tcp</td>\n",
       "      <td>-</td>\n",
       "      <td>0.010000</td>\n",
       "      <td>40</td>\n",
       "      <td>2327</td>\n",
       "      <td>RSTR</td>\n",
       "      <td>-</td>\n",
       "      <td>ShADdFar</td>\n",
       "      <td>6</td>\n",
       "      <td>360</td>\n",
       "      <td>5</td>\n",
       "      <td>2583</td>\n",
       "      <td>(empty)</td>\n",
       "      <td>1</td>\n",
       "    </tr>\n",
       "  </tbody>\n",
       "</table>\n",
       "</div>"
      ],
      "text/plain": [
       "                                        uid        id.orig_h  id.orig_p  \\\n",
       "ts                                                                        \n",
       "2012-03-16 12:30:00.830  CqEvE71FftcS0D7zM3   192.168.202.79      50593   \n",
       "2012-03-16 12:30:02.240  Cck0UY3jmmuyDVgsZi  192.168.202.100      45679   \n",
       "2012-03-16 12:30:16.130  CEyHIk4u2L9KlqFuNl   192.168.202.76      51670   \n",
       "2012-03-16 12:30:24.360  C32o1w47JHRaiNkRhk   192.168.202.76      51683   \n",
       "2012-03-16 12:30:55.530  Ci9DCd3idxS5IC3Lai   192.168.202.79      53203   \n",
       "\n",
       "                               id.resp_h  id.resp_p proto service  duration  \\\n",
       "ts                                                                            \n",
       "2012-03-16 12:30:00.830  192.168.229.251         80   tcp    http  0.020000   \n",
       "2012-03-16 12:30:02.240   192.168.27.203         23   tcp       -  0.010000   \n",
       "2012-03-16 12:30:16.130     149.5.45.166        443   tcp       -         -   \n",
       "2012-03-16 12:30:24.360   111.221.77.148      40004   tcp       -  3.010000   \n",
       "2012-03-16 12:30:55.530  192.168.229.252        389   tcp       -  0.010000   \n",
       "\n",
       "                        orig_bytes resp_bytes conn_state local_orig   history  \\\n",
       "ts                                                                              \n",
       "2012-03-16 12:30:00.830        165        214         SF          -   ShADfFa   \n",
       "2012-03-16 12:30:02.240          0          0        REJ          -        Sr   \n",
       "2012-03-16 12:30:16.130          -          -         S0          -         S   \n",
       "2012-03-16 12:30:24.360          0          0         S0          -         S   \n",
       "2012-03-16 12:30:55.530         40       2327       RSTR          -  ShADdFar   \n",
       "\n",
       "                         orig_pkts  orig_ip_bytes  resp_pkts  resp_ip_bytes  \\\n",
       "ts                                                                            \n",
       "2012-03-16 12:30:00.830          4            381          3            382   \n",
       "2012-03-16 12:30:02.240          1             44          1             40   \n",
       "2012-03-16 12:30:16.130          1             48          0              0   \n",
       "2012-03-16 12:30:24.360          2            104          0              0   \n",
       "2012-03-16 12:30:55.530          6            360          5           2583   \n",
       "\n",
       "                        tunnel_parents  count  \n",
       "ts                                             \n",
       "2012-03-16 12:30:00.830        (empty)      1  \n",
       "2012-03-16 12:30:02.240        (empty)      1  \n",
       "2012-03-16 12:30:16.130        (empty)      1  \n",
       "2012-03-16 12:30:24.360        (empty)      1  \n",
       "2012-03-16 12:30:55.530        (empty)      1  "
      ]
     },
     "execution_count": 108,
     "metadata": {},
     "output_type": "execute_result"
    }
   ],
   "source": [
    "conn_df.head()"
   ]
  },
  {
   "cell_type": "code",
   "execution_count": 73,
   "metadata": {
    "collapsed": true
   },
   "outputs": [],
   "source": [
    "conn_df = conn_df.set_index('ts')"
   ]
  },
  {
   "cell_type": "code",
   "execution_count": 78,
   "metadata": {
    "collapsed": false
   },
   "outputs": [
    {
     "name": "stdout",
     "output_type": "stream",
     "text": [
      "Populating the interactive namespace from numpy and matplotlib\n"
     ]
    },
    {
     "data": {
      "image/png": "[encoded data removed]",
      "text/plain": [
       "<matplotlib.figure.Figure at 0x11bcc1e80>"
      ]
     },
     "metadata": {},
     "output_type": "display_data"
    }
   ],
   "source": [
    "import matplotlib.pyplot as plt\n",
    "%pylab inline\n",
    "pylab.rcParams['figure.figsize'] = (16.0, 5.0)\n",
    "df = conn_df[['orig_ip_bytes','resp_ip_bytes']]\n",
    "\n",
    "df.plot(logy=True);"
   ]
  },
  {
   "cell_type": "code",
   "execution_count": 82,
   "metadata": {
    "collapsed": false
   },
   "outputs": [
    {
     "name": "stderr",
     "output_type": "stream",
     "text": [
      "/Users/madjl/anaconda/lib/python3.4/site-packages/ipykernel/__main__.py:1: FutureWarning: how in .resample() is deprecated\n",
      "the new syntax is .resample(...)..apply(<func>)\n",
      "  if __name__ == '__main__':\n"
     ]
    },
    {
     "data": {
      "text/plain": [
       "<matplotlib.axes._subplots.AxesSubplot at 0x110fa90b8>"
      ]
     },
     "execution_count": 82,
     "metadata": {},
     "output_type": "execute_result"
    },
    {
     "data": {
      "image/png": "[encoded data removed]",
      "text/plain": [
       "<matplotlib.figure.Figure at 0x10ca5b198>"
      ]
     },
     "metadata": {},
     "output_type": "display_data"
    },
    {
     "name": "stderr",
     "output_type": "stream",
     "text": [
      "/Users/madjl/anaconda/lib/python3.4/site-packages/matplotlib/scale.py:100: RuntimeWarning: invalid value encountered in less_equal\n",
      "  a[a <= 0.0] = 1e-300\n",
      "/Users/madjl/anaconda/lib/python3.4/site-packages/numpy/ma/core.py:867: RuntimeWarning: invalid value encountered in less_equal\n",
      "  return umath.less_equal(x, self.critical_value)\n"
     ]
    },
    {
     "data": {
      "image/png": "[encoded data removed]",
      "text/plain": [
       "<matplotlib.figure.Figure at 0x10ca5b588>"
      ]
     },
     "metadata": {},
     "output_type": "display_data"
    }
   ],
   "source": [
    "resamp = df.resample(\"H\", how=['mean', 'count', 'sum'])\n",
    "resamp.plot(subplots=True)\n",
    "resamp.plot(logy=True)"
   ]
  },
  {
   "cell_type": "code",
   "execution_count": 85,
   "metadata": {
    "collapsed": false
   },
   "outputs": [
    {
     "data": {
      "text/plain": [
       "<matplotlib.axes._subplots.AxesSubplot at 0x111e33048>"
      ]
     },
     "execution_count": 85,
     "metadata": {},
     "output_type": "execute_result"
    },
    {
     "data": {
      "image/png": "[encoded data removed]",
      "text/plain": [
       "<matplotlib.figure.Figure at 0x116a14d68>"
      ]
     },
     "metadata": {},
     "output_type": "display_data"
    }
   ],
   "source": [
    "conn_df['count'] = 1\n",
    "conn_df.groupby('service')['count'].sum().plot(kind='bar',logy=True)"
   ]
  },
  {
   "cell_type": "code",
   "execution_count": 87,
   "metadata": {
    "collapsed": false
   },
   "outputs": [
    {
     "name": "stdout",
     "output_type": "stream",
     "text": [
      "ERROR! Session/line number was not unique in database. History logging moved to new session 54\n"
     ]
    },
    {
     "name": "stderr",
     "output_type": "stream",
     "text": [
      "/Users/madjl/anaconda/lib/python3.4/site-packages/ipykernel/__main__.py:1: FutureWarning: order is deprecated, use sort_values(...)\n",
      "  if __name__ == '__main__':\n"
     ]
    },
    {
     "data": {
      "text/plain": [
       "<matplotlib.axes._subplots.AxesSubplot at 0x140dd9748>"
      ]
     },
     "execution_count": 87,
     "metadata": {},
     "output_type": "execute_result"
    },
    {
     "data": {
      "image/png": "[encoded data removed]",
      "text/plain": [
       "<matplotlib.figure.Figure at 0x140d1c7b8>"
      ]
     },
     "metadata": {},
     "output_type": "display_data"
    }
   ],
   "source": [
    "conn_df.groupby('id.orig_h')['count'].sum().order(ascending=False)[:10].plot(kind='bar')"
   ]
  },
  {
   "cell_type": "code",
   "execution_count": 93,
   "metadata": {
    "collapsed": false
   },
   "outputs": [
    {
     "data": {
      "text/plain": [
       "<matplotlib.axes._subplots.AxesSubplot at 0x114b05be0>"
      ]
     },
     "execution_count": 93,
     "metadata": {},
     "output_type": "execute_result"
    },
    {
     "data": {
      "image/png": "[encoded data removed]",
      "text/plain": [
       "<matplotlib.figure.Figure at 0x114b057f0>"
      ]
     },
     "metadata": {},
     "output_type": "display_data"
    }
   ],
   "source": [
    "colors = [(x/3.0, x/3.0, 0.75) for x in range(len(conn_df['proto'].unique().tolist()))]\n",
    "conn_df.groupby(['service','proto'])['count'].sum().unstack('proto').fillna(0).plot(\n",
    "    color=colors, kind='bar', stacked=True, grid=False,logy=True)"
   ]
  },
  {
   "cell_type": "code",
   "execution_count": 94,
   "metadata": {
    "collapsed": false
   },
   "outputs": [
    {
     "data": {
      "text/plain": [
       "<matplotlib.axes._subplots.AxesSubplot at 0x11516af98>"
      ]
     },
     "execution_count": 94,
     "metadata": {},
     "output_type": "execute_result"
    },
    {
     "data": {
      "image/png": "[encoded data removed]",
      "text/plain": [
       "<matplotlib.figure.Figure at 0x11508e0b8>"
      ]
     },
     "metadata": {},
     "output_type": "display_data"
    }
   ],
   "source": [
    "conn_df[conn_df.orig_ip_bytes < 200].boxplot(column='orig_ip_bytes')"
   ]
  },
  {
   "cell_type": "code",
   "execution_count": 97,
   "metadata": {
    "collapsed": false
   },
   "outputs": [
    {
     "data": {
      "image/png": "[encoded data removed]",
      "text/plain": [
       "<matplotlib.figure.Figure at 0x143522438>"
      ]
     },
     "metadata": {},
     "output_type": "display_data"
    }
   ],
   "source": [
    "from scipy.stats import norm\n",
    "from numpy import linspace\n",
    "from pylab import plot,show,hist,figure,title\n",
    "from sklearn.preprocessing import scale\n",
    "samp = scale(conn_df.orig_ip_bytes.tolist()[:100])\n",
    "\n",
    "param = norm.fit(samp) # distribution fitting\n",
    "\n",
    "# now, param[0] and param[1] are the mean and \n",
    "# the standard deviation of the fitted distribution\n",
    "x = linspace(min(samp),max(samp),len(samp))\n",
    "# fitted distribution\n",
    "pdf_fitted = norm.pdf(x,loc=param[0],scale=param[1])\n",
    "# original distribution\n",
    "pdf = norm.pdf(x)\n",
    "\n",
    "title('Normal distribution vs. Bytes')\n",
    "plot(x,pdf_fitted,'r-')\n",
    "plot(x,pdf,'b-')\n",
    "hist(samp,normed=1,alpha=.3)\n",
    "show()"
   ]
  },
  {
   "cell_type": "markdown",
   "metadata": {},
   "source": [
    "http://nbviewer.jupyter.org/url/secrepo.com/honeypot/BSidesDFW%20-%202014.ipynb"
   ]
  },
  {
   "cell_type": "code",
   "execution_count": 144,
   "metadata": {
    "collapsed": false
   },
   "outputs": [],
   "source": []
  },
  {
   "cell_type": "code",
   "execution_count": 145,
   "metadata": {
    "collapsed": false
   },
   "outputs": [
    {
     "name": "stderr",
     "output_type": "stream",
     "text": [
      "/Users/madjl/anaconda/lib/python3.4/site-packages/ipykernel/__main__.py:17: FutureWarning: sort(....) is deprecated, use sort_index(.....)\n",
      "/Users/madjl/anaconda/lib/python3.4/site-packages/ipykernel/__main__.py:18: FutureWarning: sort(....) is deprecated, use sort_index(.....)\n",
      "/Users/madjl/anaconda/lib/python3.4/site-packages/matplotlib/collections.py:590: FutureWarning: elementwise comparison failed; returning scalar instead, but in the future will perform elementwise comparison\n",
      "  if self._edgecolors == str('face'):\n"
     ]
    },
    {
     "data": {
      "image/png": "[encoded data removed]",
      "text/plain": [
       "<matplotlib.figure.Figure at 0x1170e34e0>"
      ]
     },
     "metadata": {},
     "output_type": "display_data"
    }
   ],
   "source": [
    "import pandas as pd \n",
    "cols = ['service','id.orig_h']\n",
    "adf = pd.DataFrame()\n",
    "adf = adf.append(conn_df[cols])\n",
    "adf.reset_index(level=0, inplace=True)\n",
    "subset = adf[['ts','service','id.orig_h']]\n",
    "subset['count'] = 1\n",
    "subset = subset.set_index('ts')\n",
    "pivot = pd.pivot_table(subset, values='count', index=subset.index, columns=['id.orig_h'], fill_value=0)\n",
    "\n",
    "grouped = pivot.groupby([(lambda x: x.minute), (lambda x: x.second)]).sum()\n",
    "\n",
    "topN = subset['id.orig_h'].value_counts()[:20].index\n",
    "corr_df = grouped[topN].corr()\n",
    "\n",
    "import statsmodels.api as sm\n",
    "corr_df.sort(axis=0, inplace=True) # Just sorting so exploits names are easy to find\n",
    "corr_df.sort(axis=1, inplace=True)\n",
    "corr_matrix = corr_df.as_matrix()\n",
    "fill_diagonal(corr_matrix,0) ## MODIFICATION: The diagonal is too high and ruins the plot \n",
    "pylab.rcParams['figure.figsize'] = (10.0, 10.0)\n",
    "sm.graphics.plot_corr(corr_matrix, ynames=corr_df.index.tolist(), xnames=corr_df.columns.tolist())\n",
    "plt.show()"
   ]
  },
  {
   "cell_type": "code",
   "execution_count": null,
   "metadata": {
    "collapsed": true
   },
   "outputs": [],
   "source": []
  }
 ],
 "metadata": {
  "kernelspec": {
   "display_name": "Python 3",
   "language": "python",
   "name": "python3"
  },
  "language_info": {
   "codemirror_mode": {
    "name": "ipython",
    "version": 3
   },
   "file_extension": ".py",
   "mimetype": "text/x-python",
   "name": "python",
   "nbconvert_exporter": "python",
   "pygments_lexer": "ipython3",
   "version": "3.4.5"
  }
 },
 "nbformat": 4,
 "nbformat_minor": 0
}
