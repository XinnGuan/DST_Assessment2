{
 "cells": [
  {
   "cell_type": "code",
   "execution_count": 11,
   "id": "70473ec3",
   "metadata": {},
   "outputs": [],
   "source": [
    "import pandas as pd\n",
    "import matplotlib.pyplot as plt\n",
    "from sklearn.model_selection import train_test_split\n",
    "from gensim.parsing.preprocessing import remove_stopwords\n",
    "from gensim.utils import simple_preprocess\n",
    "from gensim.parsing.porter import PorterStemmer"
   ]
  },
  {
   "cell_type": "code",
   "execution_count": 2,
   "id": "878eb61d",
   "metadata": {},
   "outputs": [],
   "source": [
    "data=pd.read_csv(\"Data/Books_rating.csv\")"
   ]
  },
  {
   "cell_type": "code",
   "execution_count": 3,
   "id": "53220480",
   "metadata": {},
   "outputs": [],
   "source": [
    "subsetData=data.sample(n=50000,replace=False)"
   ]
  },
  {
   "cell_type": "code",
   "execution_count": 4,
   "id": "014dcc1c",
   "metadata": {},
   "outputs": [
    {
     "data": {
      "text/plain": [
       "(50000, 10)"
      ]
     },
     "execution_count": 4,
     "metadata": {},
     "output_type": "execute_result"
    }
   ],
   "source": [
    "subsetData.shape"
   ]
  },
  {
   "cell_type": "code",
   "execution_count": 8,
   "id": "885aabe6",
   "metadata": {},
   "outputs": [
    {
     "data": {
      "text/html": [
       "<div>\n",
       "<style scoped>\n",
       "    .dataframe tbody tr th:only-of-type {\n",
       "        vertical-align: middle;\n",
       "    }\n",
       "\n",
       "    .dataframe tbody tr th {\n",
       "        vertical-align: top;\n",
       "    }\n",
       "\n",
       "    .dataframe thead th {\n",
       "        text-align: right;\n",
       "    }\n",
       "</style>\n",
       "<table border=\"1\" class=\"dataframe\">\n",
       "  <thead>\n",
       "    <tr style=\"text-align: right;\">\n",
       "      <th></th>\n",
       "      <th>Id</th>\n",
       "      <th>Title</th>\n",
       "      <th>Price</th>\n",
       "      <th>User_id</th>\n",
       "      <th>profileName</th>\n",
       "      <th>review/helpfulness</th>\n",
       "      <th>review/score</th>\n",
       "      <th>review/time</th>\n",
       "      <th>review/summary</th>\n",
       "      <th>review/text</th>\n",
       "    </tr>\n",
       "  </thead>\n",
       "  <tbody>\n",
       "    <tr>\n",
       "      <th>2051351</th>\n",
       "      <td>B000F6H01Q</td>\n",
       "      <td>Pride and Prejudice</td>\n",
       "      <td>NaN</td>\n",
       "      <td>A1FRIH8HXDE35R</td>\n",
       "      <td>Kate</td>\n",
       "      <td>8/15</td>\n",
       "      <td>3.0</td>\n",
       "      <td>957744000</td>\n",
       "      <td>Wonderful to read, although not entirely memor...</td>\n",
       "      <td>I am an avid reader of English classics so nat...</td>\n",
       "    </tr>\n",
       "    <tr>\n",
       "      <th>681760</th>\n",
       "      <td>0312195559</td>\n",
       "      <td>Somewhere Off the Coast of Maine: A Novel</td>\n",
       "      <td>NaN</td>\n",
       "      <td>A2WRH95UZP29X9</td>\n",
       "      <td>Carl Roebuck</td>\n",
       "      <td>12/12</td>\n",
       "      <td>4.0</td>\n",
       "      <td>988848000</td>\n",
       "      <td>A Man's Take</td>\n",
       "      <td>I read this book a LONG time ago, and I have b...</td>\n",
       "    </tr>\n",
       "    <tr>\n",
       "      <th>1063638</th>\n",
       "      <td>B000PCESRE</td>\n",
       "      <td>The Catcher in the Rye</td>\n",
       "      <td>NaN</td>\n",
       "      <td>NaN</td>\n",
       "      <td>NaN</td>\n",
       "      <td>0/0</td>\n",
       "      <td>5.0</td>\n",
       "      <td>909964800</td>\n",
       "      <td>Catcher in the Rye</td>\n",
       "      <td>I am 15 yrs old, I read this book and found it...</td>\n",
       "    </tr>\n",
       "    <tr>\n",
       "      <th>2545576</th>\n",
       "      <td>190347115X</td>\n",
       "      <td>Northern Spain Handbook (Footprint Northern Sp...</td>\n",
       "      <td>NaN</td>\n",
       "      <td>A17TAMFK89HXJM</td>\n",
       "      <td>I. Blanck \"LoveNature\"</td>\n",
       "      <td>0/0</td>\n",
       "      <td>3.0</td>\n",
       "      <td>1254614400</td>\n",
       "      <td>Too old but still was very useful even was good</td>\n",
       "      <td>It was our first trip to Northern Spain my hus...</td>\n",
       "    </tr>\n",
       "    <tr>\n",
       "      <th>2748822</th>\n",
       "      <td>0205273521</td>\n",
       "      <td>The New Century Handbook</td>\n",
       "      <td>NaN</td>\n",
       "      <td>A3F5NABZXJMGY</td>\n",
       "      <td>LionHeart</td>\n",
       "      <td>0/0</td>\n",
       "      <td>5.0</td>\n",
       "      <td>1310428800</td>\n",
       "      <td>The best...</td>\n",
       "      <td>This is the best book that I've come across in...</td>\n",
       "    </tr>\n",
       "  </tbody>\n",
       "</table>\n",
       "</div>"
      ],
      "text/plain": [
       "                 Id                                              Title  Price  \\\n",
       "2051351  B000F6H01Q                                Pride and Prejudice    NaN   \n",
       "681760   0312195559          Somewhere Off the Coast of Maine: A Novel    NaN   \n",
       "1063638  B000PCESRE                             The Catcher in the Rye    NaN   \n",
       "2545576  190347115X  Northern Spain Handbook (Footprint Northern Sp...    NaN   \n",
       "2748822  0205273521                           The New Century Handbook    NaN   \n",
       "\n",
       "                User_id             profileName review/helpfulness  \\\n",
       "2051351  A1FRIH8HXDE35R                    Kate               8/15   \n",
       "681760   A2WRH95UZP29X9            Carl Roebuck              12/12   \n",
       "1063638             NaN                     NaN                0/0   \n",
       "2545576  A17TAMFK89HXJM  I. Blanck \"LoveNature\"                0/0   \n",
       "2748822   A3F5NABZXJMGY               LionHeart                0/0   \n",
       "\n",
       "         review/score  review/time  \\\n",
       "2051351           3.0    957744000   \n",
       "681760            4.0    988848000   \n",
       "1063638           5.0    909964800   \n",
       "2545576           3.0   1254614400   \n",
       "2748822           5.0   1310428800   \n",
       "\n",
       "                                            review/summary  \\\n",
       "2051351  Wonderful to read, although not entirely memor...   \n",
       "681760                                        A Man's Take   \n",
       "1063638                                 Catcher in the Rye   \n",
       "2545576    Too old but still was very useful even was good   \n",
       "2748822                                        The best...   \n",
       "\n",
       "                                               review/text  \n",
       "2051351  I am an avid reader of English classics so nat...  \n",
       "681760   I read this book a LONG time ago, and I have b...  \n",
       "1063638  I am 15 yrs old, I read this book and found it...  \n",
       "2545576  It was our first trip to Northern Spain my hus...  \n",
       "2748822  This is the best book that I've come across in...  "
      ]
     },
     "execution_count": 8,
     "metadata": {},
     "output_type": "execute_result"
    }
   ],
   "source": [
    "subsetData.head()"
   ]
  },
  {
   "cell_type": "code",
   "execution_count": 9,
   "id": "e5581454",
   "metadata": {},
   "outputs": [
    {
     "data": {
      "text/plain": [
       "([<matplotlib.patches.Wedge at 0x7fdc194ed0a0>,\n",
       "  <matplotlib.patches.Wedge at 0x7fdc194ed7c0>,\n",
       "  <matplotlib.patches.Wedge at 0x7fdc194edee0>,\n",
       "  <matplotlib.patches.Wedge at 0x7fdc18895640>,\n",
       "  <matplotlib.patches.Wedge at 0x7fdc18895d60>],\n",
       " [Text(-0.35539356851936044, 1.0410069219054572, '5.0'),\n",
       "  Text(-0.3321530354743314, -1.0486535943891042, '4.0'),\n",
       "  Text(0.5890592782143997, -0.9289828667685591, '3.0'),\n",
       "  Text(0.9498977878572008, -0.5547018952770908, '1.0'),\n",
       "  Text(1.0861964517293112, -0.17371605639852172, '2.0')],\n",
       " [Text(-0.19385103737419657, 0.5678219574029766, '60.47%'),\n",
       "  Text(-0.18117438298599894, -0.571992869666784, '19.29%'),\n",
       "  Text(0.321305060844218, -0.5067179273283049, '8.46%'),\n",
       "  Text(0.5181260661039276, -0.30256467015114036, '6.73%'),\n",
       "  Text(0.5924707918523515, -0.09475421258101184, '5.05%')])"
      ]
     },
     "execution_count": 9,
     "metadata": {},
     "output_type": "execute_result"
    },
    {
     "data": {
      "image/png": "[encoded data removed]",
      "text/plain": [
       "<Figure size 640x480 with 1 Axes>"
      ]
     },
     "metadata": {},
     "output_type": "display_data"
    }
   ],
   "source": [
    "colors = ['indigo', 'darkviolet','mediumorchid','violet','thistle']\n",
    "labels = subsetData['review/score'].value_counts().keys().map(str)\n",
    "values = subsetData['review/score'].value_counts()\n",
    "plt.pie(values,colors=colors,labels=labels,autopct='%1.2f%%')"
   ]
  },
  {
   "cell_type": "code",
   "execution_count": 14,
   "id": "5b671b4a",
   "metadata": {},
   "outputs": [
    {
     "name": "stdout",
     "output_type": "stream",
     "text": [
      "Value counts for Train sentiments\n",
      "5.0    24137\n",
      "4.0     7674\n",
      "3.0     3410\n",
      "1.0     2721\n",
      "2.0     2058\n",
      "Name: review/score, dtype: int64\n",
      "Value counts for Test sentiments\n",
      "5.0    6099\n",
      "4.0    1972\n",
      "3.0     820\n",
      "1.0     643\n",
      "2.0     466\n",
      "Name: review/score, dtype: int64\n",
      "<class 'pandas.core.frame.DataFrame'>\n",
      "<class 'pandas.core.series.Series'>\n",
      "     index                                     review/summary  \\\n",
      "0  1237444  Buy the 1999 edition or another collection of ...   \n",
      "1  2820850                                       Amazing book   \n",
      "2   511737                              My first Austen Book!   \n",
      "3  1586180               Not sure what all the fuss is about.   \n",
      "4  1860685                           Disturbingly familiar...   \n",
      "\n",
      "                                         review/text  \n",
      "0  The 1999 edition is better because it contains...  \n",
      "1  I love the patterns in this book. I cannot wai...  \n",
      "2  I read Sense and Sensibility for my English IV...  \n",
      "3  This is the first Tolstoy I have read, I have ...  \n",
      "4  Fahrenheit 451 is a short and simple book that...  \n"
     ]
    }
   ],
   "source": [
    "def split_train_test(subsetData, test_size=0.2, shuffle_state=True):\n",
    "    X_train, X_test, Y_train, Y_test = train_test_split(subsetData[['review/summary', 'review/text']], \n",
    "                                                        subsetData['review/score'], \n",
    "                                                        shuffle=shuffle_state,\n",
    "                                                        test_size=test_size, \n",
    "                                                        random_state=15)\n",
    "    print(\"Value counts for Train sentiments\")\n",
    "    print(Y_train.value_counts())\n",
    "    print(\"Value counts for Test sentiments\")\n",
    "    print(Y_test.value_counts())\n",
    "    print(type(X_train))\n",
    "    print(type(Y_train))\n",
    "    X_train = X_train.reset_index()\n",
    "    X_test = X_test.reset_index()\n",
    "    Y_train = Y_train.to_frame()\n",
    "    Y_train = Y_train.reset_index()\n",
    "    Y_test = Y_test.to_frame()\n",
    "    Y_test = Y_test.reset_index()\n",
    "    print(X_train.head())\n",
    "    return X_train, X_test, Y_train, Y_test\n",
    "\n",
    "# Call the train_test_split\n",
    "X_train, X_test, Y_train, Y_test = split_train_test(subsetData)"
   ]
  },
  {
   "cell_type": "code",
   "execution_count": null,
   "id": "a20bbea9",
   "metadata": {},
   "outputs": [],
   "source": []
  }
 ],
 "metadata": {
  "kernelspec": {
   "display_name": "Python 3 (ipykernel)",
   "language": "python",
   "name": "python3"
  },
  "language_info": {
   "codemirror_mode": {
    "name": "ipython",
    "version": 3
   },
   "file_extension": ".py",
   "mimetype": "text/x-python",
   "name": "python",
   "nbconvert_exporter": "python",
   "pygments_lexer": "ipython3",
   "version": "3.9.13"
  }
 },
 "nbformat": 4,
 "nbformat_minor": 5
}
