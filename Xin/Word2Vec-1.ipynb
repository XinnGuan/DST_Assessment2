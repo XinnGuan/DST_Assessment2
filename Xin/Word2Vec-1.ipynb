{
 "cells": [
  {
   "cell_type": "code",
   "execution_count": 3,
   "metadata": {},
   "outputs": [],
   "source": [
    "import pandas as pd\n",
    "import numpy as np\n",
    "import matplotlib.pyplot as plt\n",
    "from gensim.models import Word2Vec\n",
    "import joblib\n",
    "import pickle\n",
    "import time\n",
    "from sklearn.metrics import classification_report\n",
    "from sklearn.metrics import roc_curve, auc\n",
    "from sklearn.model_selection import train_test_split, RandomizedSearchCV, GridSearchCV\n",
    "from sklearn.decomposition import PCA\n",
    "from sklearn.ensemble import RandomForestClassifier\n",
    "import xgboost as xgb"
   ]
  },
  {
   "attachments": {},
   "cell_type": "markdown",
   "metadata": {},
   "source": [
    "## Loading data\n",
    "\n",
    "We have to use pickle here, because save csv adds quotation marks to tokens, which causes the w2v model fail to work."
   ]
  },
  {
   "cell_type": "code",
   "execution_count": 4,
   "metadata": {},
   "outputs": [],
   "source": [
    "df=pd.read_pickle('Data/data_cleaned_1')"
   ]
  },
  {
   "cell_type": "code",
   "execution_count": 5,
   "metadata": {},
   "outputs": [
    {
     "data": {
      "text/html": [
       "<div>\n",
       "<style scoped>\n",
       "    .dataframe tbody tr th:only-of-type {\n",
       "        vertical-align: middle;\n",
       "    }\n",
       "\n",
       "    .dataframe tbody tr th {\n",
       "        vertical-align: top;\n",
       "    }\n",
       "\n",
       "    .dataframe thead th {\n",
       "        text-align: right;\n",
       "    }\n",
       "</style>\n",
       "<table border=\"1\" class=\"dataframe\">\n",
       "  <thead>\n",
       "    <tr style=\"text-align: right;\">\n",
       "      <th></th>\n",
       "      <th>score</th>\n",
       "      <th>text</th>\n",
       "    </tr>\n",
       "  </thead>\n",
       "  <tbody>\n",
       "    <tr>\n",
       "      <th>0</th>\n",
       "      <td>3.0</td>\n",
       "      <td>[good, helpfull, read, book, good, type, thats...</td>\n",
       "    </tr>\n",
       "    <tr>\n",
       "      <th>1</th>\n",
       "      <td>1.0</td>\n",
       "      <td>[sadly, overprice, irrelevant, spite, claim, i...</td>\n",
       "    </tr>\n",
       "    <tr>\n",
       "      <th>2</th>\n",
       "      <td>2.0</td>\n",
       "      <td>[endless, rant, howard, borrow, dennis, miller...</td>\n",
       "    </tr>\n",
       "    <tr>\n",
       "      <th>3</th>\n",
       "      <td>1.0</td>\n",
       "      <td>[not, quite, hip, really, shame, time, reserch...</td>\n",
       "    </tr>\n",
       "    <tr>\n",
       "      <th>4</th>\n",
       "      <td>5.0</td>\n",
       "      <td>[journey, centre, earth, hey, great, book, abs...</td>\n",
       "    </tr>\n",
       "    <tr>\n",
       "      <th>...</th>\n",
       "      <td>...</td>\n",
       "      <td>...</td>\n",
       "    </tr>\n",
       "    <tr>\n",
       "      <th>49995</th>\n",
       "      <td>5.0</td>\n",
       "      <td>[star, short, easy, explanation, follow, lot, ...</td>\n",
       "    </tr>\n",
       "    <tr>\n",
       "      <th>49996</th>\n",
       "      <td>5.0</td>\n",
       "      <td>[michael, hague, illustration, best, buy, love...</td>\n",
       "    </tr>\n",
       "    <tr>\n",
       "      <th>49997</th>\n",
       "      <td>5.0</td>\n",
       "      <td>[quot, american, beauty, quot, novel, dark, co...</td>\n",
       "    </tr>\n",
       "    <tr>\n",
       "      <th>49998</th>\n",
       "      <td>4.0</td>\n",
       "      <td>[funny, quirky, really, funny, witty, book, su...</td>\n",
       "    </tr>\n",
       "    <tr>\n",
       "      <th>49999</th>\n",
       "      <td>5.0</td>\n",
       "      <td>[soldier, bible, old, son, army, buy, bible, t...</td>\n",
       "    </tr>\n",
       "  </tbody>\n",
       "</table>\n",
       "<p>50000 rows × 2 columns</p>\n",
       "</div>"
      ],
      "text/plain": [
       "       score                                               text\n",
       "0        3.0  [good, helpfull, read, book, good, type, thats...\n",
       "1        1.0  [sadly, overprice, irrelevant, spite, claim, i...\n",
       "2        2.0  [endless, rant, howard, borrow, dennis, miller...\n",
       "3        1.0  [not, quite, hip, really, shame, time, reserch...\n",
       "4        5.0  [journey, centre, earth, hey, great, book, abs...\n",
       "...      ...                                                ...\n",
       "49995    5.0  [star, short, easy, explanation, follow, lot, ...\n",
       "49996    5.0  [michael, hague, illustration, best, buy, love...\n",
       "49997    5.0  [quot, american, beauty, quot, novel, dark, co...\n",
       "49998    4.0  [funny, quirky, really, funny, witty, book, su...\n",
       "49999    5.0  [soldier, bible, old, son, army, buy, bible, t...\n",
       "\n",
       "[50000 rows x 2 columns]"
      ]
     },
     "execution_count": 5,
     "metadata": {},
     "output_type": "execute_result"
    }
   ],
   "source": [
    "df"
   ]
  },
  {
   "attachments": {},
   "cell_type": "markdown",
   "metadata": {},
   "source": [
    "## Comment on w2v model vs d2v model\n",
    "\n",
    "We have started with trying out both w2v and d2v models, and comparing their performance with fixed classification models with the same parameters. The code for the d2v model can be found in Hailey's folder.\n",
    "After comparison, we decided that w2v works better, so we perform the hyperparameter tuning on the w2v model and also on the classification model with inputs from a w2v model."
   ]
  },
  {
   "attachments": {},
   "cell_type": "markdown",
   "metadata": {},
   "source": [
    "## Fit the w2v model\n",
    "\n",
    "Here we try to get the w2v model to work on dataset.\n",
    "\n",
    "Define some parameters for a w2v model and fit our data set into the model."
   ]
  },
  {
   "cell_type": "code",
   "execution_count": 6,
   "metadata": {},
   "outputs": [
    {
     "name": "stdout",
     "output_type": "stream",
     "text": [
      "Time taken to train word2vec model:152.95151329040527\n"
     ]
    }
   ],
   "source": [
    "vector_size=1000\n",
    "#The number of dimensions of embeddings, the default is 100\n",
    "window=3\n",
    "#The maximum distance between a target word and its neighbours, default is 5\n",
    "min_count=3\n",
    "#The minimum counts of words in order for the word to be considered for the training of model, default is 5\n",
    "workers=3\n",
    "#The number of partitions during training, default is 3\n",
    "sg=1\n",
    "#The training algorithom, either CBOW(0) or skip gram(1), default is CBOW\n",
    "\n",
    "#tokens = pd.Series(df['tokenized_text']).values\n",
    "start_t = time.time()\n",
    "w2vmodel=Word2Vec(df['text'],min_count=min_count,vector_size=vector_size,workers=workers,sg=sg)\n",
    "print('Time taken to train word2vec model:' +str(time.time()-start_t))"
   ]
  },
  {
   "cell_type": "code",
   "execution_count": 7,
   "metadata": {},
   "outputs": [],
   "source": [
    "word2vec_model_file = '/Users/xin/Library/CloudStorage/OneDrive-UniversityofBristol/DST/DST_Assessment2/Xin/Data/' + 'word2vec_1' + '.model'\n",
    "w2vmodel.save(word2vec_model_file)"
   ]
  },
  {
   "cell_type": "code",
   "execution_count": 8,
   "metadata": {},
   "outputs": [],
   "source": [
    "w2v_model = Word2Vec.load(word2vec_model_file) \n",
    "#we have to save and load for some of the function below to work"
   ]
  },
  {
   "attachments": {},
   "cell_type": "markdown",
   "metadata": {},
   "source": [
    "## Extract the outputs of w2v model\n",
    "\n",
    "https://towardsdatascience.com/word2vec-explained-49c52b4ccb71\n",
    "\n",
    "how to put the outputs of word2vec into data frame, and apply PCA on the outputs"
   ]
  },
  {
   "cell_type": "code",
   "execution_count": 9,
   "metadata": {},
   "outputs": [
    {
     "name": "stdout",
     "output_type": "stream",
     "text": [
      "(36738, 1000)\n"
     ]
    },
    {
     "data": {
      "text/html": [
       "<div>\n",
       "<style scoped>\n",
       "    .dataframe tbody tr th:only-of-type {\n",
       "        vertical-align: middle;\n",
       "    }\n",
       "\n",
       "    .dataframe tbody tr th {\n",
       "        vertical-align: top;\n",
       "    }\n",
       "\n",
       "    .dataframe thead th {\n",
       "        text-align: right;\n",
       "    }\n",
       "</style>\n",
       "<table border=\"1\" class=\"dataframe\">\n",
       "  <thead>\n",
       "    <tr style=\"text-align: right;\">\n",
       "      <th></th>\n",
       "      <th>0</th>\n",
       "      <th>1</th>\n",
       "      <th>2</th>\n",
       "      <th>3</th>\n",
       "      <th>4</th>\n",
       "      <th>5</th>\n",
       "      <th>6</th>\n",
       "      <th>7</th>\n",
       "      <th>8</th>\n",
       "      <th>9</th>\n",
       "      <th>...</th>\n",
       "      <th>990</th>\n",
       "      <th>991</th>\n",
       "      <th>992</th>\n",
       "      <th>993</th>\n",
       "      <th>994</th>\n",
       "      <th>995</th>\n",
       "      <th>996</th>\n",
       "      <th>997</th>\n",
       "      <th>998</th>\n",
       "      <th>999</th>\n",
       "    </tr>\n",
       "  </thead>\n",
       "  <tbody>\n",
       "    <tr>\n",
       "      <th>book</th>\n",
       "      <td>0.142134</td>\n",
       "      <td>0.001817</td>\n",
       "      <td>-0.001977</td>\n",
       "      <td>0.039095</td>\n",
       "      <td>-0.185617</td>\n",
       "      <td>0.036362</td>\n",
       "      <td>-0.040894</td>\n",
       "      <td>0.058333</td>\n",
       "      <td>-0.097108</td>\n",
       "      <td>-0.024271</td>\n",
       "      <td>...</td>\n",
       "      <td>-0.067489</td>\n",
       "      <td>-0.048330</td>\n",
       "      <td>0.042931</td>\n",
       "      <td>0.073105</td>\n",
       "      <td>0.131919</td>\n",
       "      <td>-0.140548</td>\n",
       "      <td>-0.136153</td>\n",
       "      <td>-0.087357</td>\n",
       "      <td>0.074306</td>\n",
       "      <td>-0.090644</td>\n",
       "    </tr>\n",
       "    <tr>\n",
       "      <th>not</th>\n",
       "      <td>0.127618</td>\n",
       "      <td>0.003186</td>\n",
       "      <td>0.022336</td>\n",
       "      <td>0.070933</td>\n",
       "      <td>-0.048592</td>\n",
       "      <td>-0.033276</td>\n",
       "      <td>-0.033415</td>\n",
       "      <td>0.046059</td>\n",
       "      <td>-0.042061</td>\n",
       "      <td>-0.016839</td>\n",
       "      <td>...</td>\n",
       "      <td>-0.099129</td>\n",
       "      <td>-0.058760</td>\n",
       "      <td>0.046065</td>\n",
       "      <td>0.098410</td>\n",
       "      <td>0.009373</td>\n",
       "      <td>-0.149313</td>\n",
       "      <td>-0.095472</td>\n",
       "      <td>-0.057078</td>\n",
       "      <td>-0.032968</td>\n",
       "      <td>-0.129977</td>\n",
       "    </tr>\n",
       "    <tr>\n",
       "      <th>read</th>\n",
       "      <td>0.152725</td>\n",
       "      <td>-0.039679</td>\n",
       "      <td>-0.007645</td>\n",
       "      <td>0.138506</td>\n",
       "      <td>-0.139321</td>\n",
       "      <td>0.088341</td>\n",
       "      <td>0.065927</td>\n",
       "      <td>0.126205</td>\n",
       "      <td>-0.105629</td>\n",
       "      <td>-0.114903</td>\n",
       "      <td>...</td>\n",
       "      <td>0.024554</td>\n",
       "      <td>0.041556</td>\n",
       "      <td>-0.055108</td>\n",
       "      <td>0.017347</td>\n",
       "      <td>0.064832</td>\n",
       "      <td>0.070416</td>\n",
       "      <td>-0.160607</td>\n",
       "      <td>-0.284233</td>\n",
       "      <td>-0.007708</td>\n",
       "      <td>-0.123880</td>\n",
       "    </tr>\n",
       "    <tr>\n",
       "      <th>one</th>\n",
       "      <td>0.094242</td>\n",
       "      <td>0.110338</td>\n",
       "      <td>0.012368</td>\n",
       "      <td>0.011178</td>\n",
       "      <td>-0.148854</td>\n",
       "      <td>-0.082454</td>\n",
       "      <td>0.125944</td>\n",
       "      <td>0.058808</td>\n",
       "      <td>-0.169197</td>\n",
       "      <td>-0.056303</td>\n",
       "      <td>...</td>\n",
       "      <td>-0.002211</td>\n",
       "      <td>0.086618</td>\n",
       "      <td>0.044833</td>\n",
       "      <td>0.075094</td>\n",
       "      <td>0.039257</td>\n",
       "      <td>-0.110331</td>\n",
       "      <td>-0.023858</td>\n",
       "      <td>-0.241639</td>\n",
       "      <td>0.022365</td>\n",
       "      <td>-0.087534</td>\n",
       "    </tr>\n",
       "    <tr>\n",
       "      <th>story</th>\n",
       "      <td>0.046940</td>\n",
       "      <td>-0.027180</td>\n",
       "      <td>0.004206</td>\n",
       "      <td>0.081102</td>\n",
       "      <td>-0.121405</td>\n",
       "      <td>-0.030946</td>\n",
       "      <td>0.004722</td>\n",
       "      <td>-0.025572</td>\n",
       "      <td>-0.097799</td>\n",
       "      <td>0.050827</td>\n",
       "      <td>...</td>\n",
       "      <td>0.046225</td>\n",
       "      <td>0.029135</td>\n",
       "      <td>0.047138</td>\n",
       "      <td>-0.116216</td>\n",
       "      <td>0.181516</td>\n",
       "      <td>0.059388</td>\n",
       "      <td>-0.076943</td>\n",
       "      <td>-0.100316</td>\n",
       "      <td>0.122159</td>\n",
       "      <td>-0.095791</td>\n",
       "    </tr>\n",
       "  </tbody>\n",
       "</table>\n",
       "<p>5 rows × 1000 columns</p>\n",
       "</div>"
      ],
      "text/plain": [
       "            0         1         2         3         4         5         6    \\\n",
       "book   0.142134  0.001817 -0.001977  0.039095 -0.185617  0.036362 -0.040894   \n",
       "not    0.127618  0.003186  0.022336  0.070933 -0.048592 -0.033276 -0.033415   \n",
       "read   0.152725 -0.039679 -0.007645  0.138506 -0.139321  0.088341  0.065927   \n",
       "one    0.094242  0.110338  0.012368  0.011178 -0.148854 -0.082454  0.125944   \n",
       "story  0.046940 -0.027180  0.004206  0.081102 -0.121405 -0.030946  0.004722   \n",
       "\n",
       "            7         8         9    ...       990       991       992  \\\n",
       "book   0.058333 -0.097108 -0.024271  ... -0.067489 -0.048330  0.042931   \n",
       "not    0.046059 -0.042061 -0.016839  ... -0.099129 -0.058760  0.046065   \n",
       "read   0.126205 -0.105629 -0.114903  ...  0.024554  0.041556 -0.055108   \n",
       "one    0.058808 -0.169197 -0.056303  ... -0.002211  0.086618  0.044833   \n",
       "story -0.025572 -0.097799  0.050827  ...  0.046225  0.029135  0.047138   \n",
       "\n",
       "            993       994       995       996       997       998       999  \n",
       "book   0.073105  0.131919 -0.140548 -0.136153 -0.087357  0.074306 -0.090644  \n",
       "not    0.098410  0.009373 -0.149313 -0.095472 -0.057078 -0.032968 -0.129977  \n",
       "read   0.017347  0.064832  0.070416 -0.160607 -0.284233 -0.007708 -0.123880  \n",
       "one    0.075094  0.039257 -0.110331 -0.023858 -0.241639  0.022365 -0.087534  \n",
       "story -0.116216  0.181516  0.059388 -0.076943 -0.100316  0.122159 -0.095791  \n",
       "\n",
       "[5 rows x 1000 columns]"
      ]
     },
     "execution_count": 9,
     "metadata": {},
     "output_type": "execute_result"
    }
   ],
   "source": [
    "emb_df = (\n",
    "    pd.DataFrame(\n",
    "        [w2v_model.wv.get_vector(str(n)) for n in w2vmodel.wv.key_to_index],\n",
    "        index = w2vmodel.wv.key_to_index\n",
    "    )\n",
    ")\n",
    "print(emb_df.shape)\n",
    "\n",
    "emb_df.head()"
   ]
  },
  {
   "cell_type": "code",
   "execution_count": 10,
   "metadata": {},
   "outputs": [
    {
     "name": "stdout",
     "output_type": "stream",
     "text": [
      "[('wonderfull', 0.6725864410400391), ('splendid', 0.6579285264015198), ('fabulous', 0.6503364443778992), ('marvelous', 0.6404098868370056), ('nesbit', 0.628792941570282), ('tasteful', 0.6281416416168213), ('kingsbury', 0.6256381869316101), ('fantastic', 0.6237612962722778), ('exellent', 0.6178607940673828), ('kaye', 0.6163508296012878)]\n"
     ]
    }
   ],
   "source": [
    "print(w2v_model.wv.most_similar('wonderful'))"
   ]
  },
  {
   "cell_type": "code",
   "execution_count": 11,
   "metadata": {},
   "outputs": [
    {
     "name": "stdout",
     "output_type": "stream",
     "text": [
      "Cosine similarity between 'wonderful' terrible' - Skip Gram :  0.24212708\n"
     ]
    }
   ],
   "source": [
    "print(\"Cosine similarity between 'wonderful' \" +\n",
    "               \"terrible' - Skip Gram : \",\n",
    "    w2v_model.wv.similarity('wonderful', 'bad'))"
   ]
  },
  {
   "cell_type": "code",
   "execution_count": 12,
   "metadata": {},
   "outputs": [
    {
     "data": {
      "text/plain": [
       "[]"
      ]
     },
     "execution_count": 12,
     "metadata": {},
     "output_type": "execute_result"
    },
    {
     "data": {
      "text/plain": [
       "<Figure size 640x480 with 0 Axes>"
      ]
     },
     "metadata": {},
     "output_type": "display_data"
    },
    {
     "data": {
      "image/png": "[encoded data removed]",
      "text/plain": [
       "<Figure size 600x400 with 1 Axes>"
      ]
     },
     "metadata": {},
     "output_type": "display_data"
    }
   ],
   "source": [
    "pca = PCA(n_components=2, random_state=7)\n",
    "pca_mdl = pca.fit_transform(emb_df)\n",
    "\n",
    "emb_df_PCA = (\n",
    "    pd.DataFrame(\n",
    "        pca_mdl,\n",
    "        columns=['x','y'],\n",
    "        index = emb_df.index\n",
    "    )\n",
    ")\n",
    "\n",
    "plt.clf()\n",
    "fig = plt.figure(figsize=(6,4))\n",
    "\n",
    "plt.scatter(\n",
    "    x = emb_df_PCA['x'],\n",
    "    y = emb_df_PCA['y'],\n",
    "    s = 0.4,\n",
    "    color = 'maroon',\n",
    "    alpha = 0.5\n",
    ")\n",
    "\n",
    "plt.xlabel('PCA-1')\n",
    "plt.ylabel('PCA-2')\n",
    "plt.title('PCA Visualization')\n",
    "plt.plot()"
   ]
  },
  {
   "attachments": {},
   "cell_type": "markdown",
   "metadata": {},
   "source": [
    "## Train test data split"
   ]
  },
  {
   "cell_type": "code",
   "execution_count": 13,
   "metadata": {},
   "outputs": [],
   "source": [
    "def split_train_test(df, test_size=0.2, shuffle_state=True):\n",
    "    X_train, X_test, Y_train, Y_test = train_test_split(df['text'], \n",
    "                                                        df['score'], \n",
    "                                                        shuffle=shuffle_state,\n",
    "                                                        test_size=test_size, \n",
    "                                                        random_state=15)\n",
    "    print(\"Value counts for Train sentiments\")\n",
    "    print(Y_train.value_counts())\n",
    "    print(\"Value counts for Test sentiments\")\n",
    "    print(Y_test.value_counts())\n",
    "    print(type(X_train))\n",
    "    print(type(Y_train))\n",
    "    X_train = X_train.reset_index()\n",
    "    X_test = X_test.reset_index()\n",
    "    Y_train = Y_train.to_frame()\n",
    "    Y_train = Y_train.reset_index()\n",
    "    Y_test = Y_test.to_frame()\n",
    "    Y_test = Y_test.reset_index()\n",
    "    print(X_train.head())\n",
    "    return X_train, X_test, Y_train, Y_test"
   ]
  },
  {
   "cell_type": "code",
   "execution_count": 14,
   "metadata": {},
   "outputs": [
    {
     "name": "stdout",
     "output_type": "stream",
     "text": [
      "Value counts for Train sentiments\n",
      "5.0    24226\n",
      "4.0     7728\n",
      "3.0     3422\n",
      "1.0     2638\n",
      "2.0     1986\n",
      "Name: score, dtype: int64\n",
      "Value counts for Test sentiments\n",
      "5.0    6042\n",
      "4.0    1963\n",
      "3.0     854\n",
      "1.0     639\n",
      "2.0     502\n",
      "Name: score, dtype: int64\n",
      "<class 'pandas.core.series.Series'>\n",
      "<class 'pandas.core.series.Series'>\n",
      "   index                                               text\n",
      "0  45570  [multidimensional, thought, book, good, job, p...\n",
      "1  21855  [magnetic, influence, success, business, find,...\n",
      "2  41127  [read, weep, world, full, bad, book, write, am...\n",
      "3   4849  [clear, channel, watt, book, great, show, book...\n",
      "4  20742  [page, miss, line, mass, market, paperback, ed...\n"
     ]
    }
   ],
   "source": [
    "X_train, X_test, y_train, y_test = split_train_test(df)"
   ]
  },
  {
   "cell_type": "code",
   "execution_count": 15,
   "metadata": {},
   "outputs": [],
   "source": [
    "X_train.to_pickle('Data/X_train')\n",
    "X_test.to_pickle('Data/X_test')\n",
    "y_train.to_pickle('Data/y_train')\n",
    "y_test.to_pickle('Data/y_test')"
   ]
  },
  {
   "cell_type": "code",
   "execution_count": 16,
   "metadata": {},
   "outputs": [],
   "source": [
    "X_train=pd.read_pickle('Data/X_train')\n",
    "X_test=pd.read_pickle('Data/X_test')\n",
    "y_train=pd.read_pickle('Data/y_train')\n",
    "y_test=pd.read_pickle('Data/y_test')"
   ]
  },
  {
   "attachments": {},
   "cell_type": "markdown",
   "metadata": {},
   "source": [
    "## Compute feature vectors for each review\n",
    "https://www.kaggle.com/code/varun08/sentiment-analysis-using-word2vec/notebook\n",
    " define functions to compute feature vectors, which is an average of the vectors of each word appeared in the review, and the feature vectors can be then be used as inputs for the classification model."
   ]
  },
  {
   "cell_type": "code",
   "execution_count": 17,
   "metadata": {},
   "outputs": [],
   "source": [
    "# Function to average all word vectors in a paragraph\n",
    "def featureVecMethod(words, model, num_features):\n",
    "    # Pre-initialising empty numpy array for speed\n",
    "    featureVec = np.zeros(num_features,dtype=\"float32\")\n",
    "    nwords = 0\n",
    "    \n",
    "    #Converting Index2Word which is a list to a set for better speed in the execution.\n",
    "    index2word_set = set(model.wv.index_to_key)\n",
    "    for word in  words:\n",
    "        if word in index2word_set:\n",
    "            nwords = nwords + 1\n",
    "            featureVec = np.add(featureVec,model.wv[word])\n",
    "    \n",
    "    if nwords ==0:\n",
    "        featureVec = np.zeros(1000)\n",
    "        #avoiding divide by zero, define it as a all zero vector\n",
    "    else:\n",
    "        featureVec = np.divide(featureVec, nwords)\n",
    "    # Dividing the result by number of words to get average\n",
    "\n",
    "    return featureVec"
   ]
  },
  {
   "cell_type": "code",
   "execution_count": 18,
   "metadata": {},
   "outputs": [],
   "source": [
    "# Function for calculating the average feature vector\n",
    "def getAvgFeatureVecs(reviews, model, num_features):\n",
    "    counter = 0\n",
    "    reviewFeatureVecs = np.zeros((len(reviews),num_features),dtype=\"float32\")\n",
    "    for review in reviews:\n",
    "        # Printing a status message every 1000th review\n",
    "        if counter%1000 == 0:\n",
    "            print(\"Comment %d of %d\"%(counter,len(reviews)))\n",
    "            \n",
    "        reviewFeatureVecs[counter] = featureVecMethod(review, model, num_features)\n",
    "            \n",
    "        counter = counter+1\n",
    "        \n",
    "    return reviewFeatureVecs"
   ]
  },
  {
   "attachments": {},
   "cell_type": "markdown",
   "metadata": {},
   "source": [
    "## Classification models\n",
    "\n",
    "In this section, we train two classification models random forest and xgboost on our train data, we want to compare the their performance on a test data set latter."
   ]
  },
  {
   "cell_type": "code",
   "execution_count": 19,
   "metadata": {},
   "outputs": [
    {
     "name": "stdout",
     "output_type": "stream",
     "text": [
      "Comment 0 of 40000\n",
      "Comment 1000 of 40000\n",
      "Comment 2000 of 40000\n",
      "Comment 3000 of 40000\n",
      "Comment 4000 of 40000\n",
      "Comment 5000 of 40000\n",
      "Comment 6000 of 40000\n",
      "Comment 7000 of 40000\n",
      "Comment 8000 of 40000\n",
      "Comment 9000 of 40000\n",
      "Comment 10000 of 40000\n",
      "Comment 11000 of 40000\n",
      "Comment 12000 of 40000\n",
      "Comment 13000 of 40000\n",
      "Comment 14000 of 40000\n",
      "Comment 15000 of 40000\n",
      "Comment 16000 of 40000\n",
      "Comment 17000 of 40000\n",
      "Comment 18000 of 40000\n",
      "Comment 19000 of 40000\n",
      "Comment 20000 of 40000\n",
      "Comment 21000 of 40000\n",
      "Comment 22000 of 40000\n",
      "Comment 23000 of 40000\n",
      "Comment 24000 of 40000\n",
      "Comment 25000 of 40000\n",
      "Comment 26000 of 40000\n",
      "Comment 27000 of 40000\n",
      "Comment 28000 of 40000\n",
      "Comment 29000 of 40000\n",
      "Comment 30000 of 40000\n",
      "Comment 31000 of 40000\n",
      "Comment 32000 of 40000\n",
      "Comment 33000 of 40000\n",
      "Comment 34000 of 40000\n",
      "Comment 35000 of 40000\n",
      "Comment 36000 of 40000\n",
      "Comment 37000 of 40000\n",
      "Comment 38000 of 40000\n",
      "Comment 39000 of 40000\n"
     ]
    }
   ],
   "source": [
    "trainDataVecs = getAvgFeatureVecs(X_train['text'], w2v_model, 1000)\n",
    "#get feature vectors for train data"
   ]
  },
  {
   "cell_type": "code",
   "execution_count": 20,
   "metadata": {},
   "outputs": [],
   "source": [
    "trainDataVecs.dump('Data/trainDataVecs')"
   ]
  },
  {
   "cell_type": "code",
   "execution_count": 21,
   "metadata": {},
   "outputs": [],
   "source": [
    "trainDataVecs=pd.read_pickle('Data/trainDataVecs')"
   ]
  },
  {
   "cell_type": "code",
   "execution_count": 22,
   "metadata": {},
   "outputs": [],
   "source": [
    "def remove_unuseful_rows(trainDataVecs,y_train):\n",
    "    list=[]\n",
    "    y_train.reset_index()\n",
    "    for i in range(trainDataVecs.shape[0]):\n",
    "        if np.all(trainDataVecs[i,]==0):\n",
    "            list.append(i)\n",
    "    if len(list)!=0:\n",
    "        trainDataVecs=np.delete(trainDataVecs,list,axis=0)\n",
    "        y_train.drop(index=list,inplace=True)\n",
    "    return trainDataVecs,y_train\n",
    "# remove the sample with all zero vector and its corresponding y"
   ]
  },
  {
   "cell_type": "code",
   "execution_count": 23,
   "metadata": {},
   "outputs": [],
   "source": [
    "trainDataVecs1,y_train1=remove_unuseful_rows(trainDataVecs,y_train)"
   ]
  },
  {
   "cell_type": "code",
   "execution_count": 24,
   "metadata": {},
   "outputs": [
    {
     "data": {
      "text/plain": [
       "(39999, 2)"
      ]
     },
     "execution_count": 24,
     "metadata": {},
     "output_type": "execute_result"
    }
   ],
   "source": [
    "y_train1.shape"
   ]
  },
  {
   "cell_type": "code",
   "execution_count": 25,
   "metadata": {},
   "outputs": [
    {
     "data": {
      "text/plain": [
       "(39999, 1000)"
      ]
     },
     "execution_count": 25,
     "metadata": {},
     "output_type": "execute_result"
    }
   ],
   "source": [
    "trainDataVecs1.shape"
   ]
  },
  {
   "attachments": {},
   "cell_type": "markdown",
   "metadata": {},
   "source": [
    "We only want to classify if the review is good or bad, here I create a new label 'sentiment', it equals to 0 if the review is bad(i.e. the raing is less or equals to 3), and equals to 1 otherwise."
   ]
  },
  {
   "cell_type": "code",
   "execution_count": 26,
   "metadata": {},
   "outputs": [],
   "source": [
    "y_train1['sentiment'] = 0"
   ]
  },
  {
   "cell_type": "code",
   "execution_count": 27,
   "metadata": {},
   "outputs": [],
   "source": [
    "y_train1=y_train1.reset_index(drop=True)"
   ]
  },
  {
   "cell_type": "code",
   "execution_count": 28,
   "metadata": {},
   "outputs": [
    {
     "name": "stderr",
     "output_type": "stream",
     "text": [
      "/var/folders/0s/xfpwvv6x0fg3pkqm99zxr6z40000gq/T/ipykernel_7551/2132215972.py:3: SettingWithCopyWarning: \n",
      "A value is trying to be set on a copy of a slice from a DataFrame\n",
      "\n",
      "See the caveats in the documentation: https://pandas.pydata.org/pandas-docs/stable/user_guide/indexing.html#returning-a-view-versus-a-copy\n",
      "  y_train1['sentiment'][i] = 1\n"
     ]
    }
   ],
   "source": [
    "for i in range(y_train1.shape[0]):\n",
    "    if y_train1['score'][i] > 3:\n",
    "        y_train1['sentiment'][i] = 1"
   ]
  },
  {
   "attachments": {},
   "cell_type": "markdown",
   "metadata": {},
   "source": [
    "## Classification models\n",
    "\n",
    "In this section, we train two classification models random forest and xgboost on our train data, we want to compare the their performance on a test data set latter."
   ]
  },
  {
   "cell_type": "code",
   "execution_count": 29,
   "metadata": {},
   "outputs": [
    {
     "name": "stdout",
     "output_type": "stream",
     "text": [
      "Time taken to fit the demodel with word2vec vectors: 516.587042093277\n"
     ]
    }
   ],
   "source": [
    "xgb_model = xgb.XGBClassifier(\n",
    "    max_depth = 9, \n",
    "    min_child_weight = 1, \n",
    "    gamma = 0.4, \n",
    "    subsample=0.9, \n",
    "    colsample_bytree = 0.9,\n",
    "    learning_rate =0.2,\n",
    "    n_estimators=300)\n",
    "\n",
    "\n",
    "start_time = time.time()\n",
    "xgb_model.fit(trainDataVecs1, y_train1[\"sentiment\"])\n",
    "print(\"Time taken to fit the demodel with word2vec vectors: \" + str(time.time() - start_time))"
   ]
  },
  {
   "cell_type": "code",
   "execution_count": 30,
   "metadata": {},
   "outputs": [
    {
     "data": {
      "text/plain": [
       "['xgb_model1.joblib']"
      ]
     },
     "execution_count": 30,
     "metadata": {},
     "output_type": "execute_result"
    }
   ],
   "source": [
    "filename='xgb_model1.joblib'\n",
    "joblib.dump(xgb_model,filename)"
   ]
  },
  {
   "cell_type": "code",
   "execution_count": 31,
   "metadata": {},
   "outputs": [],
   "source": [
    "xgb_model=joblib.load('xgb_model1.joblib')"
   ]
  },
  {
   "cell_type": "code",
   "execution_count": 41,
   "metadata": {},
   "outputs": [
    {
     "name": "stdout",
     "output_type": "stream",
     "text": [
      "Time taken to fit the model with word2vec vectors: 97.03414297103882\n"
     ]
    }
   ],
   "source": [
    "forest = RandomForestClassifier(n_estimators = 100)\n",
    "\n",
    "start_time = time.time()\n",
    "# Fit the model\n",
    "forest = forest.fit(trainDataVecs1, y_train1[\"sentiment\"])\n",
    "print(\"Time taken to fit the model with word2vec vectors: \" + str(time.time() - start_time))"
   ]
  },
  {
   "cell_type": "code",
   "execution_count": 42,
   "metadata": {},
   "outputs": [
    {
     "data": {
      "text/plain": [
       "['forest_model1.joblib']"
      ]
     },
     "execution_count": 42,
     "metadata": {},
     "output_type": "execute_result"
    }
   ],
   "source": [
    "filename='forest_model1.joblib'\n",
    "joblib.dump(forest,filename)"
   ]
  },
  {
   "cell_type": "code",
   "execution_count": 43,
   "metadata": {},
   "outputs": [],
   "source": [
    "forest=joblib.load('forest_model1.joblib')"
   ]
  },
  {
   "attachments": {},
   "cell_type": "markdown",
   "metadata": {},
   "source": [
    "## Test data set\n",
    "\n",
    "We start with process the test data set just like we did for the train data, i.e. compute feature vectors, remove rows that divide by zero, and etc."
   ]
  },
  {
   "cell_type": "code",
   "execution_count": 34,
   "metadata": {},
   "outputs": [
    {
     "name": "stdout",
     "output_type": "stream",
     "text": [
      "Comment 0 of 10000\n",
      "Comment 1000 of 10000\n",
      "Comment 2000 of 10000\n",
      "Comment 3000 of 10000\n",
      "Comment 4000 of 10000\n",
      "Comment 5000 of 10000\n",
      "Comment 6000 of 10000\n",
      "Comment 7000 of 10000\n",
      "Comment 8000 of 10000\n",
      "Comment 9000 of 10000\n"
     ]
    }
   ],
   "source": [
    "testDataVecs = getAvgFeatureVecs(X_test['text'], w2v_model, 1000)"
   ]
  },
  {
   "cell_type": "code",
   "execution_count": 35,
   "metadata": {},
   "outputs": [],
   "source": [
    "y_test=y_test.reset_index(drop=True)"
   ]
  },
  {
   "cell_type": "code",
   "execution_count": 36,
   "metadata": {},
   "outputs": [],
   "source": [
    "testDataVecs1,y_test1=remove_unuseful_rows(testDataVecs,y_test)"
   ]
  },
  {
   "cell_type": "code",
   "execution_count": 37,
   "metadata": {},
   "outputs": [
    {
     "name": "stderr",
     "output_type": "stream",
     "text": [
      "/var/folders/0s/xfpwvv6x0fg3pkqm99zxr6z40000gq/T/ipykernel_7551/1742227497.py:4: SettingWithCopyWarning: \n",
      "A value is trying to be set on a copy of a slice from a DataFrame\n",
      "\n",
      "See the caveats in the documentation: https://pandas.pydata.org/pandas-docs/stable/user_guide/indexing.html#returning-a-view-versus-a-copy\n",
      "  y_test1['sentiment'][i] = 1\n"
     ]
    }
   ],
   "source": [
    "y_test1['sentiment']=0\n",
    "for i in range(y_test1.shape[0]):\n",
    "    if y_test1['score'][i] > 3:\n",
    "        y_test1['sentiment'][i] = 1"
   ]
  },
  {
   "cell_type": "code",
   "execution_count": 44,
   "metadata": {},
   "outputs": [],
   "source": [
    "forest_prediction=forest.predict(testDataVecs1)"
   ]
  },
  {
   "cell_type": "code",
   "execution_count": 45,
   "metadata": {},
   "outputs": [
    {
     "data": {
      "text/plain": [
       "1556"
      ]
     },
     "execution_count": 45,
     "metadata": {},
     "output_type": "execute_result"
    }
   ],
   "source": [
    "np.dot(forest_prediction-y_test1['sentiment'],forest_prediction-y_test1['sentiment'])"
   ]
  },
  {
   "cell_type": "code",
   "execution_count": 46,
   "metadata": {},
   "outputs": [
    {
     "name": "stdout",
     "output_type": "stream",
     "text": [
      "              precision    recall  f1-score   support\n",
      "\n",
      "           0       0.80      0.30      0.43      1995\n",
      "           1       0.85      0.98      0.91      8005\n",
      "\n",
      "    accuracy                           0.84     10000\n",
      "   macro avg       0.82      0.64      0.67     10000\n",
      "weighted avg       0.84      0.84      0.81     10000\n",
      "\n"
     ]
    }
   ],
   "source": [
    "print(classification_report(y_test1['sentiment'],forest_prediction))"
   ]
  },
  {
   "cell_type": "code",
   "execution_count": 47,
   "metadata": {},
   "outputs": [
    {
     "data": {
      "image/png": "[encoded data removed]",
      "text/plain": [
       "<Figure size 500x300 with 1 Axes>"
      ]
     },
     "metadata": {},
     "output_type": "display_data"
    }
   ],
   "source": [
    "y_pred = [x[1] for x in forest.predict_proba(testDataVecs1)]\n",
    "fpr, tpr, thresholds = roc_curve(y_test1['sentiment'], y_pred, pos_label = 1)\n",
    "\n",
    "roc_auc = auc(fpr, tpr)\n",
    "\n",
    "plt.figure(1, figsize = (5, 3))\n",
    "lw = 2\n",
    "plt.plot(fpr, tpr, color='darkorange',\n",
    "         lw=lw, label='ROC curve (area = %0.2f)' % roc_auc)\n",
    "plt.plot([0, 1], [0, 1], lw=lw, linestyle='--')\n",
    "plt.xlim([0.0, 1.0])\n",
    "plt.ylim([0.0, 1.0])\n",
    "plt.xlabel('False Positive Rate')\n",
    "plt.ylabel('True Positive Rate')\n",
    "plt.title('Receiver operating characteristic example')\n",
    "plt.legend(loc=\"lower right\")\n",
    "plt.show()"
   ]
  },
  {
   "cell_type": "code",
   "execution_count": 48,
   "metadata": {},
   "outputs": [],
   "source": [
    "xgb_prediction=xgb_model.predict(testDataVecs1)"
   ]
  },
  {
   "cell_type": "code",
   "execution_count": 39,
   "metadata": {},
   "outputs": [
    {
     "data": {
      "text/plain": [
       "1289"
      ]
     },
     "execution_count": 39,
     "metadata": {},
     "output_type": "execute_result"
    }
   ],
   "source": [
    "np.dot(xgb_prediction-y_test1['sentiment'],xgb_prediction-y_test1['sentiment'])"
   ]
  },
  {
   "cell_type": "code",
   "execution_count": 40,
   "metadata": {},
   "outputs": [
    {
     "name": "stdout",
     "output_type": "stream",
     "text": [
      "              precision    recall  f1-score   support\n",
      "\n",
      "           0       0.77      0.51      0.61      1995\n",
      "           1       0.89      0.96      0.92      8005\n",
      "\n",
      "    accuracy                           0.87     10000\n",
      "   macro avg       0.83      0.74      0.77     10000\n",
      "weighted avg       0.86      0.87      0.86     10000\n",
      "\n"
     ]
    }
   ],
   "source": [
    "print(classification_report(y_test1['sentiment'],xgb_prediction))"
   ]
  },
  {
   "cell_type": "code",
   "execution_count": 52,
   "metadata": {},
   "outputs": [
    {
     "data": {
      "image/png": "[encoded data removed]",
      "text/plain": [
       "<Figure size 500x300 with 1 Axes>"
      ]
     },
     "metadata": {},
     "output_type": "display_data"
    }
   ],
   "source": [
    "y_pred = [x[1] for x in xgb_model.predict_proba(testDataVecs1)]\n",
    "fpr, tpr, thresholds = roc_curve(y_test1['sentiment'], y_pred, pos_label = 1)\n",
    "\n",
    "roc_auc = auc(fpr, tpr)\n",
    "\n",
    "plt.figure(1, figsize = (5, 3))\n",
    "lw = 2\n",
    "plt.plot(fpr, tpr, color='darkorange',\n",
    "         lw=lw, label='ROC curve (area = %0.2f)' % roc_auc)\n",
    "plt.plot([0, 1], [0, 1], lw=lw, linestyle='--')\n",
    "plt.xlim([0.0, 1.0])\n",
    "plt.ylim([0.0, 1.0])\n",
    "plt.xlabel('False Positive Rate')\n",
    "plt.ylabel('True Positive Rate')\n",
    "plt.title('Receiver operating characteristic example')\n",
    "plt.legend(loc=\"lower right\")\n",
    "plt.show()"
   ]
  },
  {
   "attachments": {},
   "cell_type": "markdown",
   "metadata": {},
   "source": [
    "All the metrics that I used above suggests that xgboost works better with the w2v model on our data set than the random forest."
   ]
  },
  {
   "attachments": {},
   "cell_type": "markdown",
   "metadata": {},
   "source": [
    "## XGB with weights"
   ]
  },
  {
   "cell_type": "code",
   "execution_count": 58,
   "metadata": {},
   "outputs": [
    {
     "name": "stdout",
     "output_type": "stream",
     "text": [
      "0.2518073420336119\n"
     ]
    }
   ],
   "source": [
    "scale_pos_weight = (sum(y_train1['sentiment']==0))/(sum(y_train1['sentiment']==1))\n",
    "print(scale_pos_weight)"
   ]
  },
  {
   "cell_type": "code",
   "execution_count": 59,
   "metadata": {},
   "outputs": [
    {
     "name": "stdout",
     "output_type": "stream",
     "text": [
      "Time taken to train the model: 540.5646269321442\n"
     ]
    }
   ],
   "source": [
    "xgb_weighted = xgb.XGBClassifier(\n",
    "    max_depth = 9, \n",
    "    min_child_weight = 1, \n",
    "    gamma = 0.4, \n",
    "    subsample = 0.9, \n",
    "    colsample_bytree = 0.9,\n",
    "    learning_rate = 0.2,\n",
    "    n_estimators = 300,\n",
    "    scale_pos_weight = scale_pos_weight,\n",
    "    eval_metric='logloss')\n",
    "\n",
    "\n",
    "start_time = time.time()\n",
    "xgb_weighted.fit(trainDataVecs1, y_train1[\"sentiment\"])\n",
    "print(\"Time taken to train the model: \" + str(time.time() - start_time))"
   ]
  },
  {
   "cell_type": "code",
   "execution_count": 60,
   "metadata": {},
   "outputs": [
    {
     "data": {
      "text/plain": [
       "['xgb_model_weighted.joblib']"
      ]
     },
     "execution_count": 60,
     "metadata": {},
     "output_type": "execute_result"
    }
   ],
   "source": [
    "filename='xgb_model_weighted.joblib'\n",
    "joblib.dump(xgb_weighted,filename)"
   ]
  },
  {
   "cell_type": "code",
   "execution_count": 61,
   "metadata": {},
   "outputs": [],
   "source": [
    "xgb_weighted=joblib.load('xgb_model_weighted.joblib')"
   ]
  },
  {
   "cell_type": "code",
   "execution_count": 62,
   "metadata": {},
   "outputs": [],
   "source": [
    "xgb_weighted_prediction=xgb_weighted.predict(testDataVecs1)"
   ]
  },
  {
   "cell_type": "code",
   "execution_count": 63,
   "metadata": {},
   "outputs": [
    {
     "data": {
      "text/plain": [
       "1329"
      ]
     },
     "execution_count": 63,
     "metadata": {},
     "output_type": "execute_result"
    }
   ],
   "source": [
    "np.dot(xgb_weighted_prediction-y_test1['sentiment'],xgb_weighted_prediction-y_test1['sentiment'])"
   ]
  },
  {
   "cell_type": "code",
   "execution_count": 64,
   "metadata": {},
   "outputs": [
    {
     "name": "stdout",
     "output_type": "stream",
     "text": [
      "              precision    recall  f1-score   support\n",
      "\n",
      "           0       0.70      0.59      0.64      1995\n",
      "           1       0.90      0.94      0.92      8005\n",
      "\n",
      "    accuracy                           0.87     10000\n",
      "   macro avg       0.80      0.76      0.78     10000\n",
      "weighted avg       0.86      0.87      0.86     10000\n",
      "\n"
     ]
    }
   ],
   "source": [
    "print(classification_report(y_test1['sentiment'],xgb_weighted_prediction))"
   ]
  },
  {
   "cell_type": "code",
   "execution_count": 65,
   "metadata": {},
   "outputs": [
    {
     "data": {
      "image/png": "[encoded data removed]",
      "text/plain": [
       "<Figure size 500x300 with 1 Axes>"
      ]
     },
     "metadata": {},
     "output_type": "display_data"
    }
   ],
   "source": [
    "y_pred = [x[1] for x in xgb_weighted.predict_proba(testDataVecs1)]\n",
    "fpr, tpr, thresholds = roc_curve(y_test1['sentiment'], y_pred, pos_label = 1)\n",
    "\n",
    "roc_auc = auc(fpr, tpr)\n",
    "\n",
    "plt.figure(1, figsize = (5, 3))\n",
    "lw = 2\n",
    "plt.plot(fpr, tpr, color='darkorange',\n",
    "         lw=lw, label='ROC curve (area = %0.2f)' % roc_auc)\n",
    "plt.plot([0, 1], [0, 1], lw=lw, linestyle='--')\n",
    "plt.xlim([0.0, 1.0])\n",
    "plt.ylim([0.0, 1.0])\n",
    "plt.xlabel('False Positive Rate')\n",
    "plt.ylabel('True Positive Rate')\n",
    "plt.title('Receiver operating characteristic example')\n",
    "plt.legend(loc=\"lower right\")\n",
    "plt.show()"
   ]
  },
  {
   "attachments": {},
   "cell_type": "markdown",
   "metadata": {},
   "source": [
    "## Grid Search\n",
    "\n",
    "https://www.kaggle.com/code/tilii7/hyperparameter-grid-search-with-xgboost"
   ]
  },
  {
   "cell_type": "code",
   "execution_count": 53,
   "metadata": {},
   "outputs": [],
   "source": [
    "#params = deepcopy(default_params)\n",
    "\n",
    "param_grid = {\n",
    "        'min_child_weight': [5,10],\n",
    "        'max_depth': [7,9]\n",
    "        }\n",
    "\n",
    "# just for checking if grid search works"
   ]
  },
  {
   "cell_type": "code",
   "execution_count": 55,
   "metadata": {},
   "outputs": [],
   "source": [
    "estimator = xgb.XGBClassifier(n_estimators=300, objective='binary:logistic',learning_rate =0.2, \n",
    "    subsample=0.9, gamma = 0.4,\n",
    "    colsample_bytree = 0.9,)"
   ]
  },
  {
   "cell_type": "code",
   "execution_count": 56,
   "metadata": {},
   "outputs": [
    {
     "name": "stdout",
     "output_type": "stream",
     "text": [
      "Time taken for grid search: 3800.184249162674\n"
     ]
    }
   ],
   "source": [
    "eval_set = [(trainDataVecs1,y_train1['sentiment'].values)]\n",
    "model = GridSearchCV(estimator=estimator, param_grid=param_grid, cv=3, scoring=\"roc_auc\")\n",
    "\n",
    "start_time = time.time()\n",
    "\n",
    "model.fit(trainDataVecs1,y_train1['sentiment'].values, verbose=0)\n",
    "\n",
    "print(\"Time taken for grid search: \" + str(time.time() - start_time))"
   ]
  },
  {
   "cell_type": "code",
   "execution_count": 57,
   "metadata": {},
   "outputs": [
    {
     "name": "stdout",
     "output_type": "stream",
     "text": [
      "{'max_depth': 9, 'min_child_weight': 10}\n"
     ]
    }
   ],
   "source": [
    "print(model.best_params_)"
   ]
  },
  {
   "attachments": {},
   "cell_type": "markdown",
   "metadata": {},
   "source": [
    "### Random Search\n",
    "We perform the random search on the small data set, and then use the best parameters for the 200k data set later, this is due to time constraint and the ranadom search is slow. We also change n_estimator from 300 to 200, try to speed up the process."
   ]
  },
  {
   "cell_type": "code",
   "execution_count": null,
   "metadata": {},
   "outputs": [],
   "source": [
    "param_grid = {\n",
    "        'min_child_weight': [1, 5, 10],\n",
    "        'gamma': [0.5, 1, 2, 5],\n",
    "        'subsample': [0.6, 0.9],\n",
    "        'colsample_bytree': [0.6, 0.9],\n",
    "        'max_depth': [5,10,15]\n",
    "        }"
   ]
  },
  {
   "cell_type": "code",
   "execution_count": null,
   "metadata": {},
   "outputs": [],
   "source": [
    "estimator = xgb.XGBClassifier(n_estimators=300, objective='binary:logistic',learning_rate =0.2)"
   ]
  },
  {
   "cell_type": "code",
   "execution_count": null,
   "metadata": {},
   "outputs": [],
   "source": [
    "rs_model=RandomizedSearchCV(estimator=estimator,param_distributions=param_grid,n_iter=3,scoring='logloss',n_jobs=-1,cv=3,verbose=3)"
   ]
  },
  {
   "cell_type": "code",
   "execution_count": null,
   "metadata": {},
   "outputs": [],
   "source": [
    "rs_model.fit(trainDataVecs1,y_train1['sentiment'])"
   ]
  },
  {
   "cell_type": "code",
   "execution_count": null,
   "metadata": {},
   "outputs": [],
   "source": [
    "rs_model.best_params_"
   ]
  },
  {
   "attachments": {},
   "cell_type": "markdown",
   "metadata": {},
   "source": [
    "https://www.kaggle.com/code/willkoehrsen/intro-to-model-tuning-grid-and-random-search\n",
    "\n",
    "Due to the size of the data set and the time constraint, since we want to search over a large range of hyperparameters rather than finding an exact optima in a small range of hyperprarameters, we will perform a random search on a subset of the data set, and then tuning our hyperparameters for working on the whole data set.\n",
    "\n",
    "If we have more time, we can then perform grid search on a reduced parameter grid, in order to get better performance."
   ]
  }
 ],
 "metadata": {
  "kernelspec": {
   "display_name": "sklearn-env",
   "language": "python",
   "name": "python3"
  },
  "language_info": {
   "codemirror_mode": {
    "name": "ipython",
    "version": 3
   },
   "file_extension": ".py",
   "mimetype": "text/x-python",
   "name": "python",
   "nbconvert_exporter": "python",
   "pygments_lexer": "ipython3",
   "version": "3.11.0"
  },
  "orig_nbformat": 4,
  "vscode": {
   "interpreter": {
    "hash": "4990abdef3ebc9f72751f78a325f8319b605d7f3eaf2931f11ce533253df6476"
   }
  }
 },
 "nbformat": 4,
 "nbformat_minor": 2
}
