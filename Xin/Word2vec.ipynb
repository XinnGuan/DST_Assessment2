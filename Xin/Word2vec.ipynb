{
 "cells": [
  {
   "cell_type": "code",
   "execution_count": 11,
   "id": "fba8d2f1",
   "metadata": {},
   "outputs": [],
   "source": [
    "import pandas as pd\n",
    "import numpy as np\n",
    "import matplotlib.pyplot as plt\n",
    "from gensim.models import Word2Vec\n",
    "import joblib\n",
    "import pickle\n",
    "import time\n",
    "from sklearn.metrics import classification_report\n",
    "from sklearn.metrics import roc_curve, auc\n",
    "from sklearn.model_selection import train_test_split, RandomizedSearchCV, GridSearchCV\n",
    "from sklearn.decomposition import PCA\n",
    "import xgboost as xgb"
   ]
  },
  {
   "attachments": {},
   "cell_type": "markdown",
   "id": "67926227",
   "metadata": {},
   "source": [
    "## Loading data\n",
    "\n",
    "We have to use pickle here, because save csv adds quotation marks to tokens, which causes the w2v model fail to work."
   ]
  },
  {
   "cell_type": "code",
   "execution_count": 136,
   "id": "6f2a6e1c",
   "metadata": {},
   "outputs": [],
   "source": [
    "df=pd.read_pickle('Data/data_cleaned_1')"
   ]
  },
  {
   "cell_type": "code",
   "execution_count": 137,
   "id": "999d5f44",
   "metadata": {},
   "outputs": [
    {
     "data": {
      "text/html": [
       "<div>\n",
       "<style scoped>\n",
       "    .dataframe tbody tr th:only-of-type {\n",
       "        vertical-align: middle;\n",
       "    }\n",
       "\n",
       "    .dataframe tbody tr th {\n",
       "        vertical-align: top;\n",
       "    }\n",
       "\n",
       "    .dataframe thead th {\n",
       "        text-align: right;\n",
       "    }\n",
       "</style>\n",
       "<table border=\"1\" class=\"dataframe\">\n",
       "  <thead>\n",
       "    <tr style=\"text-align: right;\">\n",
       "      <th></th>\n",
       "      <th>score</th>\n",
       "      <th>text</th>\n",
       "    </tr>\n",
       "  </thead>\n",
       "  <tbody>\n",
       "    <tr>\n",
       "      <th>0</th>\n",
       "      <td>3.0</td>\n",
       "      <td>[good, helpfull, read, book, good, type, thats...</td>\n",
       "    </tr>\n",
       "    <tr>\n",
       "      <th>1</th>\n",
       "      <td>1.0</td>\n",
       "      <td>[sadly, overprice, irrelevant, spite, claim, i...</td>\n",
       "    </tr>\n",
       "    <tr>\n",
       "      <th>2</th>\n",
       "      <td>2.0</td>\n",
       "      <td>[endless, rant, howard, borrow, dennis, miller...</td>\n",
       "    </tr>\n",
       "    <tr>\n",
       "      <th>3</th>\n",
       "      <td>1.0</td>\n",
       "      <td>[not, quite, hip, really, shame, time, reserch...</td>\n",
       "    </tr>\n",
       "    <tr>\n",
       "      <th>4</th>\n",
       "      <td>5.0</td>\n",
       "      <td>[journey, centre, earth, hey, great, book, abs...</td>\n",
       "    </tr>\n",
       "    <tr>\n",
       "      <th>...</th>\n",
       "      <td>...</td>\n",
       "      <td>...</td>\n",
       "    </tr>\n",
       "    <tr>\n",
       "      <th>49995</th>\n",
       "      <td>5.0</td>\n",
       "      <td>[star, short, easy, explanation, follow, lot, ...</td>\n",
       "    </tr>\n",
       "    <tr>\n",
       "      <th>49996</th>\n",
       "      <td>5.0</td>\n",
       "      <td>[michael, hague, illustration, best, buy, love...</td>\n",
       "    </tr>\n",
       "    <tr>\n",
       "      <th>49997</th>\n",
       "      <td>5.0</td>\n",
       "      <td>[quot, american, beauty, quot, novel, dark, co...</td>\n",
       "    </tr>\n",
       "    <tr>\n",
       "      <th>49998</th>\n",
       "      <td>4.0</td>\n",
       "      <td>[funny, quirky, really, funny, witty, book, su...</td>\n",
       "    </tr>\n",
       "    <tr>\n",
       "      <th>49999</th>\n",
       "      <td>5.0</td>\n",
       "      <td>[soldier, bible, old, son, army, buy, bible, t...</td>\n",
       "    </tr>\n",
       "  </tbody>\n",
       "</table>\n",
       "<p>50000 rows × 2 columns</p>\n",
       "</div>"
      ],
      "text/plain": [
       "       score                                               text\n",
       "0        3.0  [good, helpfull, read, book, good, type, thats...\n",
       "1        1.0  [sadly, overprice, irrelevant, spite, claim, i...\n",
       "2        2.0  [endless, rant, howard, borrow, dennis, miller...\n",
       "3        1.0  [not, quite, hip, really, shame, time, reserch...\n",
       "4        5.0  [journey, centre, earth, hey, great, book, abs...\n",
       "...      ...                                                ...\n",
       "49995    5.0  [star, short, easy, explanation, follow, lot, ...\n",
       "49996    5.0  [michael, hague, illustration, best, buy, love...\n",
       "49997    5.0  [quot, american, beauty, quot, novel, dark, co...\n",
       "49998    4.0  [funny, quirky, really, funny, witty, book, su...\n",
       "49999    5.0  [soldier, bible, old, son, army, buy, bible, t...\n",
       "\n",
       "[50000 rows x 2 columns]"
      ]
     },
     "execution_count": 137,
     "metadata": {},
     "output_type": "execute_result"
    }
   ],
   "source": [
    "df"
   ]
  },
  {
   "cell_type": "code",
   "execution_count": 96,
   "id": "7408c22e",
   "metadata": {},
   "outputs": [],
   "source": [
    "def myprocess(thisdoc):\n",
    "    return(thisdoc.strip('[]').replace(\"u'\", '').replace(\"'\", '').replace(' ', '').split(','))\n",
    "\n",
    "df['text']=df['text'].map(myprocess) "
   ]
  },
  {
   "cell_type": "code",
   "execution_count": 97,
   "id": "e9b6edca",
   "metadata": {},
   "outputs": [
    {
     "data": {
      "text/html": [
       "<div>\n",
       "<style scoped>\n",
       "    .dataframe tbody tr th:only-of-type {\n",
       "        vertical-align: middle;\n",
       "    }\n",
       "\n",
       "    .dataframe tbody tr th {\n",
       "        vertical-align: top;\n",
       "    }\n",
       "\n",
       "    .dataframe thead th {\n",
       "        text-align: right;\n",
       "    }\n",
       "</style>\n",
       "<table border=\"1\" class=\"dataframe\">\n",
       "  <thead>\n",
       "    <tr style=\"text-align: right;\">\n",
       "      <th></th>\n",
       "      <th>score</th>\n",
       "      <th>text</th>\n",
       "    </tr>\n",
       "  </thead>\n",
       "  <tbody>\n",
       "    <tr>\n",
       "      <th>0</th>\n",
       "      <td>3.0</td>\n",
       "      <td>[good, helpfull, read, book, good, type, thats...</td>\n",
       "    </tr>\n",
       "    <tr>\n",
       "      <th>1</th>\n",
       "      <td>1.0</td>\n",
       "      <td>[sadly, overprice, irrelevant, spite, claim, i...</td>\n",
       "    </tr>\n",
       "    <tr>\n",
       "      <th>2</th>\n",
       "      <td>2.0</td>\n",
       "      <td>[endless, rant, howard, borrow, dennis, miller...</td>\n",
       "    </tr>\n",
       "    <tr>\n",
       "      <th>3</th>\n",
       "      <td>1.0</td>\n",
       "      <td>[not, quite, hip, really, shame, time, reserch...</td>\n",
       "    </tr>\n",
       "    <tr>\n",
       "      <th>4</th>\n",
       "      <td>5.0</td>\n",
       "      <td>[journey, centre, earth, hey, great, book, abs...</td>\n",
       "    </tr>\n",
       "    <tr>\n",
       "      <th>...</th>\n",
       "      <td>...</td>\n",
       "      <td>...</td>\n",
       "    </tr>\n",
       "    <tr>\n",
       "      <th>49995</th>\n",
       "      <td>5.0</td>\n",
       "      <td>[star, short, easy, explanation, follow, lot, ...</td>\n",
       "    </tr>\n",
       "    <tr>\n",
       "      <th>49996</th>\n",
       "      <td>5.0</td>\n",
       "      <td>[michael, hague, illustration, best, buy, love...</td>\n",
       "    </tr>\n",
       "    <tr>\n",
       "      <th>49997</th>\n",
       "      <td>5.0</td>\n",
       "      <td>[quotamerican, beautyquot, novel, dark, comedy...</td>\n",
       "    </tr>\n",
       "    <tr>\n",
       "      <th>49998</th>\n",
       "      <td>4.0</td>\n",
       "      <td>[funny, quirky, really, funny, witty, book, su...</td>\n",
       "    </tr>\n",
       "    <tr>\n",
       "      <th>49999</th>\n",
       "      <td>5.0</td>\n",
       "      <td>[soldier, bible, old, son, army, buy, bible, t...</td>\n",
       "    </tr>\n",
       "  </tbody>\n",
       "</table>\n",
       "<p>50000 rows × 2 columns</p>\n",
       "</div>"
      ],
      "text/plain": [
       "       score                                               text\n",
       "0        3.0  [good, helpfull, read, book, good, type, thats...\n",
       "1        1.0  [sadly, overprice, irrelevant, spite, claim, i...\n",
       "2        2.0  [endless, rant, howard, borrow, dennis, miller...\n",
       "3        1.0  [not, quite, hip, really, shame, time, reserch...\n",
       "4        5.0  [journey, centre, earth, hey, great, book, abs...\n",
       "...      ...                                                ...\n",
       "49995    5.0  [star, short, easy, explanation, follow, lot, ...\n",
       "49996    5.0  [michael, hague, illustration, best, buy, love...\n",
       "49997    5.0  [quotamerican, beautyquot, novel, dark, comedy...\n",
       "49998    4.0  [funny, quirky, really, funny, witty, book, su...\n",
       "49999    5.0  [soldier, bible, old, son, army, buy, bible, t...\n",
       "\n",
       "[50000 rows x 2 columns]"
      ]
     },
     "execution_count": 97,
     "metadata": {},
     "output_type": "execute_result"
    }
   ],
   "source": [
    "df"
   ]
  },
  {
   "attachments": {},
   "cell_type": "markdown",
   "id": "60bf3fc3",
   "metadata": {},
   "source": [
    "## Comment on w2v model vs d2v model\n",
    "\n",
    "We have started with trying out both w2v and d2v models, and comparing their performance with fixed classification models with the same parameters. The code for the d2v model can be found in Hailey's folder.\n",
    "After comparison, we decided that w2v works better, so we perform the hyperparameter tuning on the w2v model and also on the classification model with inputs from a w2v model."
   ]
  },
  {
   "attachments": {},
   "cell_type": "markdown",
   "id": "75f4a26b",
   "metadata": {},
   "source": [
    "## Fit the w2v model\n",
    "\n",
    "Here we try to get the w2v model to work on dataset.\n",
    "\n",
    "Define some parameters for a w2v model and fit our data set into the model."
   ]
  },
  {
   "cell_type": "code",
   "execution_count": 138,
   "id": "418365c4",
   "metadata": {},
   "outputs": [
    {
     "name": "stdout",
     "output_type": "stream",
     "text": [
      "Time taken to train word2vec model:165.3866469860077\n"
     ]
    }
   ],
   "source": [
    "vector_size=1000\n",
    "#The number of dimensions of embeddings, the default is 100\n",
    "window=3\n",
    "#The maximum distance between a target word and its neighbours, default is 5\n",
    "min_count=3\n",
    "#The minimum counts of words in order for the word to be considered for the training of model, default is 5\n",
    "workers=3\n",
    "#The number of partitions during training, default is 3\n",
    "sg=1\n",
    "#The training algorithom, either CBOW(0) or skip gram(1), default is CBOW\n",
    "\n",
    "#tokens = pd.Series(df['tokenized_text']).values\n",
    "start_t = time.time()\n",
    "w2vmodel=Word2Vec(df['text'],min_count=min_count,vector_size=vector_size,workers=workers,sg=sg)\n",
    "print('Time taken to train word2vec model:' +str(time.time()-start_t))"
   ]
  },
  {
   "cell_type": "code",
   "execution_count": 139,
   "id": "c1a7761d",
   "metadata": {},
   "outputs": [],
   "source": [
    "word2vec_model_file = '/Users/xin/Library/CloudStorage/OneDrive-UniversityofBristol/DST/DST_Assessment2/Xin/Data/' + 'word2vec_1' + '.model'\n",
    "w2vmodel.save(word2vec_model_file)"
   ]
  },
  {
   "cell_type": "code",
   "execution_count": 140,
   "id": "efc35323",
   "metadata": {},
   "outputs": [],
   "source": [
    "w2v_model = Word2Vec.load(word2vec_model_file) \n",
    "#we have to save and load for some of the function below to work"
   ]
  },
  {
   "attachments": {},
   "cell_type": "markdown",
   "id": "05407687",
   "metadata": {},
   "source": [
    "## Extract the outputs of w2v model\n",
    "\n",
    "https://towardsdatascience.com/word2vec-explained-49c52b4ccb71\n",
    "\n",
    "how to put the outputs of word2vec into data frame, and apply PCA on the outputs"
   ]
  },
  {
   "cell_type": "code",
   "execution_count": 141,
   "id": "29fbc5f6",
   "metadata": {},
   "outputs": [
    {
     "name": "stdout",
     "output_type": "stream",
     "text": [
      "(36738, 1000)\n"
     ]
    },
    {
     "data": {
      "text/html": [
       "<div>\n",
       "<style scoped>\n",
       "    .dataframe tbody tr th:only-of-type {\n",
       "        vertical-align: middle;\n",
       "    }\n",
       "\n",
       "    .dataframe tbody tr th {\n",
       "        vertical-align: top;\n",
       "    }\n",
       "\n",
       "    .dataframe thead th {\n",
       "        text-align: right;\n",
       "    }\n",
       "</style>\n",
       "<table border=\"1\" class=\"dataframe\">\n",
       "  <thead>\n",
       "    <tr style=\"text-align: right;\">\n",
       "      <th></th>\n",
       "      <th>0</th>\n",
       "      <th>1</th>\n",
       "      <th>2</th>\n",
       "      <th>3</th>\n",
       "      <th>4</th>\n",
       "      <th>5</th>\n",
       "      <th>6</th>\n",
       "      <th>7</th>\n",
       "      <th>8</th>\n",
       "      <th>9</th>\n",
       "      <th>...</th>\n",
       "      <th>990</th>\n",
       "      <th>991</th>\n",
       "      <th>992</th>\n",
       "      <th>993</th>\n",
       "      <th>994</th>\n",
       "      <th>995</th>\n",
       "      <th>996</th>\n",
       "      <th>997</th>\n",
       "      <th>998</th>\n",
       "      <th>999</th>\n",
       "    </tr>\n",
       "  </thead>\n",
       "  <tbody>\n",
       "    <tr>\n",
       "      <th>book</th>\n",
       "      <td>0.168476</td>\n",
       "      <td>-0.018613</td>\n",
       "      <td>-0.055730</td>\n",
       "      <td>0.081687</td>\n",
       "      <td>-0.142106</td>\n",
       "      <td>-0.011658</td>\n",
       "      <td>0.002293</td>\n",
       "      <td>0.004750</td>\n",
       "      <td>-0.177395</td>\n",
       "      <td>-0.049435</td>\n",
       "      <td>...</td>\n",
       "      <td>-0.017896</td>\n",
       "      <td>0.066421</td>\n",
       "      <td>-0.002384</td>\n",
       "      <td>0.104464</td>\n",
       "      <td>0.102096</td>\n",
       "      <td>-0.089903</td>\n",
       "      <td>-0.216934</td>\n",
       "      <td>-0.140294</td>\n",
       "      <td>-0.045522</td>\n",
       "      <td>0.012221</td>\n",
       "    </tr>\n",
       "    <tr>\n",
       "      <th>not</th>\n",
       "      <td>0.048300</td>\n",
       "      <td>0.003301</td>\n",
       "      <td>-0.010512</td>\n",
       "      <td>0.038105</td>\n",
       "      <td>-0.099226</td>\n",
       "      <td>-0.063029</td>\n",
       "      <td>0.010448</td>\n",
       "      <td>-0.005019</td>\n",
       "      <td>-0.035046</td>\n",
       "      <td>-0.031895</td>\n",
       "      <td>...</td>\n",
       "      <td>-0.150673</td>\n",
       "      <td>-0.071826</td>\n",
       "      <td>-0.000067</td>\n",
       "      <td>0.049279</td>\n",
       "      <td>0.021159</td>\n",
       "      <td>-0.061319</td>\n",
       "      <td>-0.068695</td>\n",
       "      <td>-0.014412</td>\n",
       "      <td>-0.031681</td>\n",
       "      <td>0.015912</td>\n",
       "    </tr>\n",
       "    <tr>\n",
       "      <th>read</th>\n",
       "      <td>0.134122</td>\n",
       "      <td>0.024723</td>\n",
       "      <td>0.048496</td>\n",
       "      <td>0.145748</td>\n",
       "      <td>-0.163624</td>\n",
       "      <td>0.054881</td>\n",
       "      <td>-0.011100</td>\n",
       "      <td>-0.009399</td>\n",
       "      <td>-0.066998</td>\n",
       "      <td>-0.097601</td>\n",
       "      <td>...</td>\n",
       "      <td>-0.060924</td>\n",
       "      <td>0.048802</td>\n",
       "      <td>-0.027762</td>\n",
       "      <td>0.121289</td>\n",
       "      <td>0.076179</td>\n",
       "      <td>0.035836</td>\n",
       "      <td>-0.155920</td>\n",
       "      <td>-0.233212</td>\n",
       "      <td>-0.036920</td>\n",
       "      <td>-0.067672</td>\n",
       "    </tr>\n",
       "    <tr>\n",
       "      <th>one</th>\n",
       "      <td>-0.004937</td>\n",
       "      <td>0.096008</td>\n",
       "      <td>0.042581</td>\n",
       "      <td>-0.040736</td>\n",
       "      <td>-0.125047</td>\n",
       "      <td>-0.009484</td>\n",
       "      <td>0.061037</td>\n",
       "      <td>0.042670</td>\n",
       "      <td>-0.027193</td>\n",
       "      <td>0.066876</td>\n",
       "      <td>...</td>\n",
       "      <td>-0.026157</td>\n",
       "      <td>0.117488</td>\n",
       "      <td>0.037110</td>\n",
       "      <td>0.125893</td>\n",
       "      <td>0.017961</td>\n",
       "      <td>-0.139312</td>\n",
       "      <td>-0.003335</td>\n",
       "      <td>-0.018786</td>\n",
       "      <td>0.081319</td>\n",
       "      <td>-0.067598</td>\n",
       "    </tr>\n",
       "    <tr>\n",
       "      <th>story</th>\n",
       "      <td>0.051041</td>\n",
       "      <td>-0.073733</td>\n",
       "      <td>-0.074935</td>\n",
       "      <td>-0.011574</td>\n",
       "      <td>-0.142319</td>\n",
       "      <td>-0.051360</td>\n",
       "      <td>0.011736</td>\n",
       "      <td>-0.009446</td>\n",
       "      <td>0.045547</td>\n",
       "      <td>0.053676</td>\n",
       "      <td>...</td>\n",
       "      <td>-0.003486</td>\n",
       "      <td>-0.037326</td>\n",
       "      <td>0.059666</td>\n",
       "      <td>0.016842</td>\n",
       "      <td>0.112042</td>\n",
       "      <td>0.053421</td>\n",
       "      <td>-0.096389</td>\n",
       "      <td>-0.058410</td>\n",
       "      <td>0.049818</td>\n",
       "      <td>-0.095674</td>\n",
       "    </tr>\n",
       "  </tbody>\n",
       "</table>\n",
       "<p>5 rows × 1000 columns</p>\n",
       "</div>"
      ],
      "text/plain": [
       "            0         1         2         3         4         5         6    \\\n",
       "book   0.168476 -0.018613 -0.055730  0.081687 -0.142106 -0.011658  0.002293   \n",
       "not    0.048300  0.003301 -0.010512  0.038105 -0.099226 -0.063029  0.010448   \n",
       "read   0.134122  0.024723  0.048496  0.145748 -0.163624  0.054881 -0.011100   \n",
       "one   -0.004937  0.096008  0.042581 -0.040736 -0.125047 -0.009484  0.061037   \n",
       "story  0.051041 -0.073733 -0.074935 -0.011574 -0.142319 -0.051360  0.011736   \n",
       "\n",
       "            7         8         9    ...       990       991       992  \\\n",
       "book   0.004750 -0.177395 -0.049435  ... -0.017896  0.066421 -0.002384   \n",
       "not   -0.005019 -0.035046 -0.031895  ... -0.150673 -0.071826 -0.000067   \n",
       "read  -0.009399 -0.066998 -0.097601  ... -0.060924  0.048802 -0.027762   \n",
       "one    0.042670 -0.027193  0.066876  ... -0.026157  0.117488  0.037110   \n",
       "story -0.009446  0.045547  0.053676  ... -0.003486 -0.037326  0.059666   \n",
       "\n",
       "            993       994       995       996       997       998       999  \n",
       "book   0.104464  0.102096 -0.089903 -0.216934 -0.140294 -0.045522  0.012221  \n",
       "not    0.049279  0.021159 -0.061319 -0.068695 -0.014412 -0.031681  0.015912  \n",
       "read   0.121289  0.076179  0.035836 -0.155920 -0.233212 -0.036920 -0.067672  \n",
       "one    0.125893  0.017961 -0.139312 -0.003335 -0.018786  0.081319 -0.067598  \n",
       "story  0.016842  0.112042  0.053421 -0.096389 -0.058410  0.049818 -0.095674  \n",
       "\n",
       "[5 rows x 1000 columns]"
      ]
     },
     "execution_count": 141,
     "metadata": {},
     "output_type": "execute_result"
    }
   ],
   "source": [
    "emb_df = (\n",
    "    pd.DataFrame(\n",
    "        [w2v_model.wv.get_vector(str(n)) for n in w2vmodel.wv.key_to_index],\n",
    "        index = w2vmodel.wv.key_to_index\n",
    "    )\n",
    ")\n",
    "print(emb_df.shape)\n",
    "\n",
    "emb_df.head()"
   ]
  },
  {
   "cell_type": "code",
   "execution_count": 27,
   "id": "048b9518",
   "metadata": {},
   "outputs": [
    {
     "name": "stdout",
     "output_type": "stream",
     "text": [
      "[('wonderfull', 0.7002639770507812), ('fabulous', 0.680500328540802), ('fantastic', 0.654579758644104), ('marvelous', 0.6451808214187622), ('splendid', 0.635278046131134), ('kaye', 0.6347605586051941), ('fasinating', 0.6322073340415955), ('touching', 0.6302890181541443), ('unforgetable', 0.6302193403244019), ('kingsbury', 0.6292902827262878)]\n"
     ]
    }
   ],
   "source": [
    "print(w2v_model.wv.most_similar('wonderful'))"
   ]
  },
  {
   "cell_type": "code",
   "execution_count": null,
   "id": "5f264b35",
   "metadata": {},
   "outputs": [
    {
     "name": "stdout",
     "output_type": "stream",
     "text": [
      "Cosine similarity between 'wonderful' terrible' - Skip Gram :  0.238958\n"
     ]
    }
   ],
   "source": [
    "print(\"Cosine similarity between 'wonderful' \" +\n",
    "               \"terrible' - Skip Gram : \",\n",
    "    w2v_model.wv.similarity('wonderful', 'bad'))"
   ]
  },
  {
   "cell_type": "code",
   "execution_count": null,
   "id": "84d67c28",
   "metadata": {},
   "outputs": [
    {
     "data": {
      "text/plain": [
       "[]"
      ]
     },
     "execution_count": 14,
     "metadata": {},
     "output_type": "execute_result"
    },
    {
     "data": {
      "text/plain": [
       "<Figure size 640x480 with 0 Axes>"
      ]
     },
     "metadata": {},
     "output_type": "display_data"
    },
    {
     "data": {
      "image/png": "[encoded data removed]",
      "text/plain": [
       "<Figure size 600x400 with 1 Axes>"
      ]
     },
     "metadata": {},
     "output_type": "display_data"
    }
   ],
   "source": [
    "pca = PCA(n_components=2, random_state=7)\n",
    "pca_mdl = pca.fit_transform(emb_df)\n",
    "\n",
    "emb_df_PCA = (\n",
    "    pd.DataFrame(\n",
    "        pca_mdl,\n",
    "        columns=['x','y'],\n",
    "        index = emb_df.index\n",
    "    )\n",
    ")\n",
    "\n",
    "plt.clf()\n",
    "fig = plt.figure(figsize=(6,4))\n",
    "\n",
    "plt.scatter(\n",
    "    x = emb_df_PCA['x'],\n",
    "    y = emb_df_PCA['y'],\n",
    "    s = 0.4,\n",
    "    color = 'maroon',\n",
    "    alpha = 0.5\n",
    ")\n",
    "\n",
    "plt.xlabel('PCA-1')\n",
    "plt.ylabel('PCA-2')\n",
    "plt.title('PCA Visualization')\n",
    "plt.plot()"
   ]
  },
  {
   "attachments": {},
   "cell_type": "markdown",
   "id": "d9c928f1",
   "metadata": {},
   "source": [
    "## Train test data split"
   ]
  },
  {
   "cell_type": "code",
   "execution_count": 142,
   "id": "668d8663",
   "metadata": {},
   "outputs": [],
   "source": [
    "def split_train_test(df, test_size=0.2, shuffle_state=True):\n",
    "    X_train, X_test, Y_train, Y_test = train_test_split(df['text'], \n",
    "                                                        df['score'], \n",
    "                                                        shuffle=shuffle_state,\n",
    "                                                        test_size=test_size, \n",
    "                                                        random_state=15)\n",
    "    print(\"Value counts for Train sentiments\")\n",
    "    print(Y_train.value_counts())\n",
    "    print(\"Value counts for Test sentiments\")\n",
    "    print(Y_test.value_counts())\n",
    "    print(type(X_train))\n",
    "    print(type(Y_train))\n",
    "    X_train = X_train.reset_index()\n",
    "    X_test = X_test.reset_index()\n",
    "    Y_train = Y_train.to_frame()\n",
    "    Y_train = Y_train.reset_index()\n",
    "    Y_test = Y_test.to_frame()\n",
    "    Y_test = Y_test.reset_index()\n",
    "    print(X_train.head())\n",
    "    return X_train, X_test, Y_train, Y_test"
   ]
  },
  {
   "cell_type": "code",
   "execution_count": 143,
   "id": "418cb5a4",
   "metadata": {},
   "outputs": [
    {
     "name": "stdout",
     "output_type": "stream",
     "text": [
      "Value counts for Train sentiments\n",
      "5.0    24226\n",
      "4.0     7728\n",
      "3.0     3422\n",
      "1.0     2638\n",
      "2.0     1986\n",
      "Name: score, dtype: int64\n",
      "Value counts for Test sentiments\n",
      "5.0    6042\n",
      "4.0    1963\n",
      "3.0     854\n",
      "1.0     639\n",
      "2.0     502\n",
      "Name: score, dtype: int64\n",
      "<class 'pandas.core.series.Series'>\n",
      "<class 'pandas.core.series.Series'>\n",
      "   index                                               text\n",
      "0  45570  [multidimensional, thought, book, good, job, p...\n",
      "1  21855  [magnetic, influence, success, business, find,...\n",
      "2  41127  [read, weep, world, full, bad, book, write, am...\n",
      "3   4849  [clear, channel, watt, book, great, show, book...\n",
      "4  20742  [page, miss, line, mass, market, paperback, ed...\n"
     ]
    }
   ],
   "source": [
    "X_train, X_test, y_train, y_test = split_train_test(df)"
   ]
  },
  {
   "cell_type": "code",
   "execution_count": 144,
   "id": "6521f8f1",
   "metadata": {},
   "outputs": [],
   "source": [
    "X_train.to_pickle('Data/X_train')\n",
    "X_test.to_pickle('Data/X_test')\n",
    "y_train.to_pickle('Data/y_train')\n",
    "y_test.to_pickle('Data/y_test')"
   ]
  },
  {
   "cell_type": "code",
   "execution_count": 145,
   "id": "504de5eb",
   "metadata": {},
   "outputs": [],
   "source": [
    "X_train=pd.read_pickle('Data/X_train')\n",
    "X_test=pd.read_pickle('Data/X_test')\n",
    "y_train=pd.read_pickle('Data/y_train')\n",
    "y_test=pd.read_pickle('Data/y_test')"
   ]
  },
  {
   "attachments": {},
   "cell_type": "markdown",
   "id": "a16a6102",
   "metadata": {},
   "source": [
    "## Compute feature vectors for each review"
   ]
  },
  {
   "attachments": {},
   "cell_type": "markdown",
   "id": "0d0836d0",
   "metadata": {},
   "source": [
    "https://www.kaggle.com/code/varun08/sentiment-analysis-using-word2vec/notebook\n",
    " define functions to compute feature vectors, which is an average of the vectors of each word appeared in the review, and the feature vectors can be then be used as inputs for the classification model."
   ]
  },
  {
   "cell_type": "code",
   "execution_count": 146,
   "id": "e5823884",
   "metadata": {},
   "outputs": [],
   "source": [
    "# Function to average all word vectors in a paragraph\n",
    "def featureVecMethod(words, model, num_features):\n",
    "    # Pre-initialising empty numpy array for speed\n",
    "    featureVec = np.zeros(num_features,dtype=\"float32\")\n",
    "    nwords = 0\n",
    "    \n",
    "    #Converting Index2Word which is a list to a set for better speed in the execution.\n",
    "    index2word_set = set(model.wv.index_to_key)\n",
    "    for word in  words:\n",
    "        if word in index2word_set:\n",
    "            nwords = nwords + 1\n",
    "            featureVec = np.add(featureVec,model.wv[word])\n",
    "    \n",
    "    if nwords ==0:\n",
    "        featureVec = np.zeros(num_features)\n",
    "        #avoiding divide by zero, define it as a all zero vector\n",
    "    else:\n",
    "        featureVec = np.divide(featureVec, nwords)\n",
    "    # Dividing the result by number of words to get average\n",
    "\n",
    "    return featureVec"
   ]
  },
  {
   "cell_type": "code",
   "execution_count": 147,
   "id": "43a5418e",
   "metadata": {},
   "outputs": [],
   "source": [
    "# Function for calculating the average feature vector\n",
    "def getAvgFeatureVecs(reviews, model, num_features):\n",
    "    counter = 0\n",
    "    reviewFeatureVecs = np.zeros((len(reviews),num_features),dtype=\"float32\")\n",
    "    for review in reviews:\n",
    "        # Printing a status message every 1000th review\n",
    "        if counter%1000 == 0:\n",
    "            print(\"Comment %d of %d\"%(counter,len(reviews)))\n",
    "            \n",
    "        reviewFeatureVecs[counter] = featureVecMethod(review, model, num_features)\n",
    "            \n",
    "        counter = counter+1\n",
    "        \n",
    "    return reviewFeatureVecs"
   ]
  },
  {
   "attachments": {},
   "cell_type": "markdown",
   "id": "ea7671ec",
   "metadata": {},
   "source": [
    "The two functions above will raise an error message of dividing by 0 if nwords=0, this is because the wv2 model has min_count set to 3, sometimes all the words appearing in a review turn out to have count less than 3, this could be due to spelling errors and various other reasons.\n",
    "\n",
    "Therefore, I have added a line of if boolean in the featureVecMethod function, which set the vector to all zeros when nwords=0. And it can be then identified later."
   ]
  },
  {
   "cell_type": "code",
   "execution_count": 148,
   "id": "9a8f4eb1",
   "metadata": {},
   "outputs": [
    {
     "name": "stdout",
     "output_type": "stream",
     "text": [
      "Comment 0 of 40000\n",
      "Comment 1000 of 40000\n",
      "Comment 2000 of 40000\n",
      "Comment 3000 of 40000\n",
      "Comment 4000 of 40000\n",
      "Comment 5000 of 40000\n",
      "Comment 6000 of 40000\n",
      "Comment 7000 of 40000\n",
      "Comment 8000 of 40000\n",
      "Comment 9000 of 40000\n",
      "Comment 10000 of 40000\n",
      "Comment 11000 of 40000\n",
      "Comment 12000 of 40000\n",
      "Comment 13000 of 40000\n",
      "Comment 14000 of 40000\n",
      "Comment 15000 of 40000\n",
      "Comment 16000 of 40000\n",
      "Comment 17000 of 40000\n",
      "Comment 18000 of 40000\n",
      "Comment 19000 of 40000\n",
      "Comment 20000 of 40000\n",
      "Comment 21000 of 40000\n",
      "Comment 22000 of 40000\n",
      "Comment 23000 of 40000\n",
      "Comment 24000 of 40000\n",
      "Comment 25000 of 40000\n",
      "Comment 26000 of 40000\n",
      "Comment 27000 of 40000\n",
      "Comment 28000 of 40000\n",
      "Comment 29000 of 40000\n",
      "Comment 30000 of 40000\n",
      "Comment 31000 of 40000\n",
      "Comment 32000 of 40000\n",
      "Comment 33000 of 40000\n",
      "Comment 34000 of 40000\n",
      "Comment 35000 of 40000\n",
      "Comment 36000 of 40000\n",
      "Comment 37000 of 40000\n",
      "Comment 38000 of 40000\n",
      "Comment 39000 of 40000\n"
     ]
    }
   ],
   "source": [
    "trainDataVecs = getAvgFeatureVecs(X_train['text'], w2v_model, 1000)\n",
    "#get feature vectors for train data"
   ]
  },
  {
   "cell_type": "code",
   "execution_count": 149,
   "id": "1c4062f1",
   "metadata": {},
   "outputs": [],
   "source": [
    "trainDataVecs.dump('Data/trainDataVecs')"
   ]
  },
  {
   "cell_type": "code",
   "execution_count": 150,
   "id": "f7df96d2",
   "metadata": {},
   "outputs": [],
   "source": [
    "trainDataVecs=pd.read_pickle('Data/trainDataVecs')"
   ]
  },
  {
   "cell_type": "code",
   "execution_count": 152,
   "id": "8b3b512b",
   "metadata": {},
   "outputs": [],
   "source": [
    "def remove_unuseful_rows(trainDataVecs,y_train):\n",
    "    list=[]\n",
    "    y_train.reset_index()\n",
    "    for i in range(trainDataVecs.shape[0]):\n",
    "        if np.all(trainDataVecs[i,]==0):\n",
    "            list.append(i)\n",
    "    if len(list)!=0:\n",
    "        trainDataVecs=np.delete(trainDataVecs,list,axis=0)\n",
    "        y_train.drop(index=list,inplace=True)\n",
    "    return trainDataVecs,y_train\n",
    "# remove the sample with all zero vector and its corresponding y"
   ]
  },
  {
   "cell_type": "code",
   "execution_count": 153,
   "id": "8bb1500a",
   "metadata": {},
   "outputs": [],
   "source": [
    "trainDataVecs1,y_train1=remove_unuseful_rows(trainDataVecs,y_train)"
   ]
  },
  {
   "cell_type": "code",
   "execution_count": 154,
   "id": "71810fc7",
   "metadata": {},
   "outputs": [
    {
     "data": {
      "text/plain": [
       "(39999, 2)"
      ]
     },
     "execution_count": 154,
     "metadata": {},
     "output_type": "execute_result"
    }
   ],
   "source": [
    "y_train1.shape"
   ]
  },
  {
   "cell_type": "code",
   "execution_count": 155,
   "id": "8e056193",
   "metadata": {},
   "outputs": [
    {
     "data": {
      "text/plain": [
       "(39999, 1000)"
      ]
     },
     "execution_count": 155,
     "metadata": {},
     "output_type": "execute_result"
    }
   ],
   "source": [
    "trainDataVecs1.shape"
   ]
  },
  {
   "attachments": {},
   "cell_type": "markdown",
   "id": "9475e883",
   "metadata": {},
   "source": [
    "We only want to classify if the review is good or bad, here I create a new label 'sentiment', it equals to 0 if the review is bad(i.e. the raing is less or equals to 3), and equals to 1 otherwise."
   ]
  },
  {
   "cell_type": "code",
   "execution_count": 156,
   "id": "b68f2a69",
   "metadata": {},
   "outputs": [],
   "source": [
    "y_train1['sentiment'] = 0"
   ]
  },
  {
   "cell_type": "code",
   "execution_count": 157,
   "id": "caacc387",
   "metadata": {},
   "outputs": [],
   "source": [
    "y_train1=y_train1.reset_index(drop=True)"
   ]
  },
  {
   "cell_type": "code",
   "execution_count": 158,
   "id": "713bd8b3",
   "metadata": {},
   "outputs": [
    {
     "name": "stderr",
     "output_type": "stream",
     "text": [
      "/var/folders/0s/xfpwvv6x0fg3pkqm99zxr6z40000gq/T/ipykernel_76098/2132215972.py:3: SettingWithCopyWarning: \n",
      "A value is trying to be set on a copy of a slice from a DataFrame\n",
      "\n",
      "See the caveats in the documentation: https://pandas.pydata.org/pandas-docs/stable/user_guide/indexing.html#returning-a-view-versus-a-copy\n",
      "  y_train1['sentiment'][i] = 1\n"
     ]
    }
   ],
   "source": [
    "for i in range(y_train1.shape[0]):\n",
    "    if y_train1['score'][i] > 3:\n",
    "        y_train1['sentiment'][i] = 1"
   ]
  },
  {
   "attachments": {},
   "cell_type": "markdown",
   "id": "dc27e6f8",
   "metadata": {},
   "source": [
    "## Classification models\n",
    "\n",
    "In this section, we train two classification models random forest and xgboost on our train data, we want to compare the their performance on a test data set latter."
   ]
  },
  {
   "cell_type": "code",
   "execution_count": 159,
   "id": "acef530b",
   "metadata": {},
   "outputs": [
    {
     "name": "stdout",
     "output_type": "stream",
     "text": [
      "Time taken to train the model: 615.6189901828766\n"
     ]
    }
   ],
   "source": [
    "xgb_model = xgb.XGBClassifier(\n",
    "    max_depth = 9, \n",
    "    min_child_weight = 1, \n",
    "    gamma = 0.4, \n",
    "    subsample = 0.9, \n",
    "    colsample_bytree = 0.9,\n",
    "    learning_rate = 0.2,\n",
    "    n_estimators = 300)\n",
    "\n",
    "\n",
    "start_time = time.time()\n",
    "xgb_model.fit(trainDataVecs1, y_train1[\"sentiment\"])\n",
    "print(\"Time taken to train the model: \" + str(time.time() - start_time))"
   ]
  },
  {
   "cell_type": "code",
   "execution_count": null,
   "id": "03f9934f",
   "metadata": {},
   "outputs": [],
   "source": [
    "xgb_model2 = xgb.XGBClassifier(\n",
    "    max_depth = 9, \n",
    "    min_child_weight = 1, \n",
    "    gamma = 0.4, \n",
    "    subsample = 0.9, \n",
    "    colsample_bytree = 0.9,\n",
    "    learning_rate = 0.2,\n",
    "    n_estimators = 300,\n",
    "    eval_metric = 'logloss')\n",
    "\n",
    "\n",
    "start_time = time.time()\n",
    "xgb_model.fit(trainDataVecs1, y_train1[\"sentiment\"])\n",
    "print(\"Time taken to train the model: \" + str(time.time() - start_time))"
   ]
  },
  {
   "cell_type": "code",
   "execution_count": null,
   "id": "03324fc4",
   "metadata": {},
   "outputs": [
    {
     "data": {
      "text/plain": [
       "['xgb_model1.joblib']"
      ]
     },
     "execution_count": 86,
     "metadata": {},
     "output_type": "execute_result"
    }
   ],
   "source": [
    "filename='xgb_model1.joblib'\n",
    "joblib.dump(xgb_model,filename)"
   ]
  },
  {
   "cell_type": "code",
   "execution_count": null,
   "id": "e732f55d",
   "metadata": {},
   "outputs": [
    {
     "ename": "FileNotFoundError",
     "evalue": "[Errno 2] No such file or directory: 'xgb_model1.joblib'",
     "output_type": "error",
     "traceback": [
      "\u001b[0;31m---------------------------------------------------------------------------\u001b[0m",
      "\u001b[0;31mFileNotFoundError\u001b[0m                         Traceback (most recent call last)",
      "Cell \u001b[0;32mIn[103], line 1\u001b[0m\n\u001b[0;32m----> 1\u001b[0m xgb_model\u001b[39m=\u001b[39mjoblib\u001b[39m.\u001b[39;49mload(\u001b[39m'\u001b[39;49m\u001b[39mxgb_model1.joblib\u001b[39;49m\u001b[39m'\u001b[39;49m)\n",
      "File \u001b[0;32m~/opt/anaconda3/envs/sklearn-env/lib/python3.11/site-packages/joblib/numpy_pickle.py:650\u001b[0m, in \u001b[0;36mload\u001b[0;34m(filename, mmap_mode)\u001b[0m\n\u001b[1;32m    648\u001b[0m         obj \u001b[39m=\u001b[39m _unpickle(fobj)\n\u001b[1;32m    649\u001b[0m \u001b[39melse\u001b[39;00m:\n\u001b[0;32m--> 650\u001b[0m     \u001b[39mwith\u001b[39;00m \u001b[39mopen\u001b[39;49m(filename, \u001b[39m'\u001b[39;49m\u001b[39mrb\u001b[39;49m\u001b[39m'\u001b[39;49m) \u001b[39mas\u001b[39;00m f:\n\u001b[1;32m    651\u001b[0m         \u001b[39mwith\u001b[39;00m _read_fileobject(f, filename, mmap_mode) \u001b[39mas\u001b[39;00m fobj:\n\u001b[1;32m    652\u001b[0m             \u001b[39mif\u001b[39;00m \u001b[39misinstance\u001b[39m(fobj, \u001b[39mstr\u001b[39m):\n\u001b[1;32m    653\u001b[0m                 \u001b[39m# if the returned file object is a string, this means we\u001b[39;00m\n\u001b[1;32m    654\u001b[0m                 \u001b[39m# try to load a pickle file generated with an version of\u001b[39;00m\n\u001b[1;32m    655\u001b[0m                 \u001b[39m# Joblib so we load it with joblib compatibility function.\u001b[39;00m\n",
      "\u001b[0;31mFileNotFoundError\u001b[0m: [Errno 2] No such file or directory: 'xgb_model1.joblib'"
     ]
    }
   ],
   "source": [
    "xgb_model=joblib.load('xgb_model1.joblib')"
   ]
  },
  {
   "cell_type": "markdown",
   "id": "e69bf5b9",
   "metadata": {},
   "source": [
    "https://xgboost.readthedocs.io/en/stable/python/python_api.html\n",
    "information about xgboost"
   ]
  },
  {
   "cell_type": "code",
   "execution_count": null,
   "id": "6ed105b5",
   "metadata": {},
   "outputs": [
    {
     "name": "stdout",
     "output_type": "stream",
     "text": [
      "Time taken to fit the model with word2vec vectors: 98.51504588127136\n"
     ]
    }
   ],
   "source": [
    "from sklearn.ensemble import RandomForestClassifier\n",
    "forest = RandomForestClassifier(n_estimators = 100)\n",
    "\n",
    "start_time = time.time()\n",
    "# Fit the model\n",
    "forest = forest.fit(trainDataVecs1, y_train1[\"sentiment\"])\n",
    "print(\"Time taken to fit the model with word2vec vectors: \" + str(time.time() - start_time))"
   ]
  },
  {
   "cell_type": "code",
   "execution_count": null,
   "id": "5ead24f3",
   "metadata": {},
   "outputs": [
    {
     "data": {
      "text/plain": [
       "['forest_model1.joblib']"
      ]
     },
     "execution_count": 29,
     "metadata": {},
     "output_type": "execute_result"
    }
   ],
   "source": [
    "filename='forest_model1.joblib'\n",
    "joblib.dump(forest,filename)"
   ]
  },
  {
   "cell_type": "code",
   "execution_count": null,
   "id": "7f7b0783",
   "metadata": {},
   "outputs": [
    {
     "name": "stderr",
     "output_type": "stream",
     "text": [
      "/Users/xin/opt/anaconda3/envs/sklearn-env/lib/python3.11/site-packages/sklearn/base.py:329: UserWarning: Trying to unpickle estimator DecisionTreeClassifier from version 1.0.2 when using version 1.1.3. This might lead to breaking code or invalid results. Use at your own risk. For more info please refer to:\n",
      "https://scikit-learn.org/stable/model_persistence.html#security-maintainability-limitations\n",
      "  warnings.warn(\n",
      "/Users/xin/opt/anaconda3/envs/sklearn-env/lib/python3.11/site-packages/sklearn/base.py:329: UserWarning: Trying to unpickle estimator RandomForestClassifier from version 1.0.2 when using version 1.1.3. This might lead to breaking code or invalid results. Use at your own risk. For more info please refer to:\n",
      "https://scikit-learn.org/stable/model_persistence.html#security-maintainability-limitations\n",
      "  warnings.warn(\n"
     ]
    }
   ],
   "source": [
    "forest=joblib.load('forest_model1.joblib')"
   ]
  },
  {
   "attachments": {},
   "cell_type": "markdown",
   "id": "cae5f7b7",
   "metadata": {},
   "source": [
    "## Test data set\n",
    "\n",
    "We start with process the test data set just like we did for the train data, i.e. compute feature vectors, remove rows that divide by zero, and etc."
   ]
  },
  {
   "cell_type": "code",
   "execution_count": 125,
   "id": "c3ebb3e5",
   "metadata": {},
   "outputs": [
    {
     "name": "stdout",
     "output_type": "stream",
     "text": [
      "Comment 0 of 10000\n",
      "Comment 1000 of 10000\n",
      "Comment 2000 of 10000\n",
      "Comment 3000 of 10000\n",
      "Comment 4000 of 10000\n",
      "Comment 5000 of 10000\n",
      "Comment 6000 of 10000\n",
      "Comment 7000 of 10000\n",
      "Comment 8000 of 10000\n",
      "Comment 9000 of 10000\n"
     ]
    }
   ],
   "source": [
    "testDataVecs = getAvgFeatureVecs(X_test['text'], w2v_model, 1000)"
   ]
  },
  {
   "cell_type": "code",
   "execution_count": 126,
   "id": "dd5c2f55",
   "metadata": {},
   "outputs": [],
   "source": [
    "y_test=y_test.reset_index(drop=True)"
   ]
  },
  {
   "cell_type": "code",
   "execution_count": 127,
   "id": "fcf089a8",
   "metadata": {},
   "outputs": [],
   "source": [
    "testDataVecs1,y_test1=remove_unuseful_rows(testDataVecs,y_test)"
   ]
  },
  {
   "cell_type": "code",
   "execution_count": 128,
   "id": "20715d2e",
   "metadata": {},
   "outputs": [
    {
     "name": "stderr",
     "output_type": "stream",
     "text": [
      "/var/folders/0s/xfpwvv6x0fg3pkqm99zxr6z40000gq/T/ipykernel_76098/1742227497.py:4: SettingWithCopyWarning: \n",
      "A value is trying to be set on a copy of a slice from a DataFrame\n",
      "\n",
      "See the caveats in the documentation: https://pandas.pydata.org/pandas-docs/stable/user_guide/indexing.html#returning-a-view-versus-a-copy\n",
      "  y_test1['sentiment'][i] = 1\n"
     ]
    }
   ],
   "source": [
    "y_test1['sentiment']=0\n",
    "for i in range(y_test1.shape[0]):\n",
    "    if y_test1['score'][i] > 3:\n",
    "        y_test1['sentiment'][i] = 1"
   ]
  },
  {
   "cell_type": "code",
   "execution_count": null,
   "id": "e628701b",
   "metadata": {},
   "outputs": [],
   "source": [
    "forest_prediction=forest.predict(testDataVecs1)"
   ]
  },
  {
   "cell_type": "code",
   "execution_count": null,
   "id": "e2900b42",
   "metadata": {},
   "outputs": [
    {
     "data": {
      "text/plain": [
       "1534"
      ]
     },
     "execution_count": 134,
     "metadata": {},
     "output_type": "execute_result"
    }
   ],
   "source": [
    "np.dot(forest_prediction-y_test1['sentiment'],forest_prediction-y_test1['sentiment'])"
   ]
  },
  {
   "cell_type": "code",
   "execution_count": null,
   "id": "29d6a82b",
   "metadata": {},
   "outputs": [
    {
     "name": "stdout",
     "output_type": "stream",
     "text": [
      "              precision    recall  f1-score   support\n",
      "\n",
      "           0       0.81      0.30      0.44      1995\n",
      "           1       0.85      0.98      0.91      8005\n",
      "\n",
      "    accuracy                           0.85     10000\n",
      "   macro avg       0.83      0.64      0.67     10000\n",
      "weighted avg       0.84      0.85      0.82     10000\n",
      "\n"
     ]
    }
   ],
   "source": [
    "print(classification_report(y_test1['sentiment'],forest_prediction))"
   ]
  },
  {
   "cell_type": "code",
   "execution_count": null,
   "id": "28993165",
   "metadata": {},
   "outputs": [
    {
     "data": {
      "image/png": "[encoded data removed]",
      "text/plain": [
       "<Figure size 500x300 with 1 Axes>"
      ]
     },
     "metadata": {},
     "output_type": "display_data"
    }
   ],
   "source": [
    "y_pred = [x[1] for x in forest.predict_proba(testDataVecs1)]\n",
    "fpr, tpr, thresholds = roc_curve(y_test1['sentiment'], y_pred, pos_label = 1)\n",
    "\n",
    "roc_auc = auc(fpr, tpr)\n",
    "\n",
    "plt.figure(1, figsize = (5, 3))\n",
    "lw = 2\n",
    "plt.plot(fpr, tpr, color='darkorange',\n",
    "         lw=lw, label='ROC curve (area = %0.2f)' % roc_auc)\n",
    "plt.plot([0, 1], [0, 1], lw=lw, linestyle='--')\n",
    "plt.xlim([0.0, 1.0])\n",
    "plt.ylim([0.0, 1.0])\n",
    "plt.xlabel('False Positive Rate')\n",
    "plt.ylabel('True Positive Rate')\n",
    "plt.title('Receiver operating characteristic example')\n",
    "plt.legend(loc=\"lower right\")\n",
    "plt.show()"
   ]
  },
  {
   "cell_type": "code",
   "execution_count": 160,
   "id": "e7b3386c",
   "metadata": {},
   "outputs": [],
   "source": [
    "xgb_prediction=xgb_model.predict(testDataVecs1)"
   ]
  },
  {
   "cell_type": "code",
   "execution_count": 162,
   "id": "7bed9aee",
   "metadata": {},
   "outputs": [
    {
     "data": {
      "text/plain": [
       "1993"
      ]
     },
     "execution_count": 162,
     "metadata": {},
     "output_type": "execute_result"
    }
   ],
   "source": [
    "np.dot(xgb_prediction-y_test1['sentiment'],xgb_prediction-y_test1['sentiment'])"
   ]
  },
  {
   "cell_type": "code",
   "execution_count": 109,
   "id": "464e9298",
   "metadata": {},
   "outputs": [
    {
     "name": "stdout",
     "output_type": "stream",
     "text": [
      "              precision    recall  f1-score   support\n",
      "\n",
      "           0       0.39      0.06      0.10      1995\n",
      "           1       0.81      0.98      0.88      8005\n",
      "\n",
      "    accuracy                           0.79     10000\n",
      "   macro avg       0.60      0.52      0.49     10000\n",
      "weighted avg       0.72      0.79      0.73     10000\n",
      "\n"
     ]
    }
   ],
   "source": [
    "print(classification_report(y_test1['sentiment'],xgb_prediction))"
   ]
  },
  {
   "cell_type": "code",
   "execution_count": 132,
   "id": "b23e3c7e",
   "metadata": {},
   "outputs": [
    {
     "data": {
      "image/png": "[encoded data removed]",
      "text/plain": [
       "<Figure size 500x300 with 1 Axes>"
      ]
     },
     "metadata": {},
     "output_type": "display_data"
    }
   ],
   "source": [
    "y_pred = [x[1] for x in xgb_model.predict_proba(testDataVecs1)]\n",
    "fpr, tpr, thresholds = roc_curve(y_test1['sentiment'], y_pred, pos_label = 1)\n",
    "\n",
    "roc_auc = auc(fpr, tpr)\n",
    "\n",
    "plt.figure(1, figsize = (5, 3))\n",
    "lw = 2\n",
    "plt.plot(fpr, tpr, color='darkorange',\n",
    "         lw=lw, label='ROC curve (area = %0.2f)' % roc_auc)\n",
    "plt.plot([0, 1], [0, 1], lw=lw, linestyle='--')\n",
    "plt.xlim([0.0, 1.0])\n",
    "plt.ylim([0.0, 1.0])\n",
    "plt.xlabel('False Positive Rate')\n",
    "plt.ylabel('True Positive Rate')\n",
    "plt.title('Receiver operating characteristic example')\n",
    "plt.legend(loc=\"lower right\")\n",
    "plt.show()"
   ]
  },
  {
   "attachments": {},
   "cell_type": "markdown",
   "id": "78b7c565",
   "metadata": {},
   "source": [
    "All the metrics that I used above suggests that xgboost works better with the w2v model on our data set than the random forest."
   ]
  },
  {
   "attachments": {},
   "cell_type": "markdown",
   "id": "81b8b1f9",
   "metadata": {},
   "source": [
    "## XGB with weights"
   ]
  },
  {
   "cell_type": "code",
   "execution_count": 164,
   "id": "c34bc03b",
   "metadata": {},
   "outputs": [
    {
     "name": "stdout",
     "output_type": "stream",
     "text": [
      "0.2518073420336119\n"
     ]
    }
   ],
   "source": [
    "scale_pos_weight = (sum(y_train1['sentiment']==0))/(sum(y_train1['sentiment']==1))\n",
    "print(scale_pos_weight)"
   ]
  },
  {
   "cell_type": "code",
   "execution_count": 165,
   "id": "8b7ca852",
   "metadata": {},
   "outputs": [
    {
     "name": "stdout",
     "output_type": "stream",
     "text": [
      "Time taken to train the model: 537.0600700378418\n"
     ]
    }
   ],
   "source": [
    "xgb_weighted = xgb.XGBClassifier(\n",
    "    max_depth = 9, \n",
    "    min_child_weight = 1, \n",
    "    gamma = 0.4, \n",
    "    subsample = 0.9, \n",
    "    colsample_bytree = 0.9,\n",
    "    learning_rate = 0.2,\n",
    "    n_estimators = 300,\n",
    "    scale_pos_weight = scale_pos_weight,\n",
    "    eval_metric='logloss')\n",
    "\n",
    "\n",
    "start_time = time.time()\n",
    "xgb_weighted.fit(trainDataVecs1, y_train1[\"sentiment\"])\n",
    "print(\"Time taken to train the model: \" + str(time.time() - start_time))"
   ]
  },
  {
   "cell_type": "code",
   "execution_count": 166,
   "id": "97047035",
   "metadata": {},
   "outputs": [
    {
     "data": {
      "text/plain": [
       "['xgb_model_weighted.joblib']"
      ]
     },
     "execution_count": 166,
     "metadata": {},
     "output_type": "execute_result"
    }
   ],
   "source": [
    "filename='xgb_model_weighted.joblib'\n",
    "joblib.dump(xgb_weighted,filename)"
   ]
  },
  {
   "cell_type": "code",
   "execution_count": 167,
   "id": "44617e9a",
   "metadata": {},
   "outputs": [],
   "source": [
    "xgb_weighted=joblib.load('xgb_model_weighted.joblib')"
   ]
  },
  {
   "cell_type": "code",
   "execution_count": null,
   "id": "11d3c83d",
   "metadata": {},
   "outputs": [],
   "source": [
    "xgb_weighted_prediction=xgb_weighted.predict(testDataVecs1)"
   ]
  },
  {
   "cell_type": "code",
   "execution_count": null,
   "id": "505668bf",
   "metadata": {},
   "outputs": [],
   "source": [
    "np.dot(xgb_weighted_prediction-y_test1['sentiment'],xgb_weighted_prediction-y_test1['sentiment'])"
   ]
  },
  {
   "cell_type": "code",
   "execution_count": null,
   "id": "37b2bb04",
   "metadata": {},
   "outputs": [],
   "source": [
    "print(classification_report(y_test1['sentiment'],xgb_weighted_prediction))"
   ]
  },
  {
   "cell_type": "code",
   "execution_count": null,
   "id": "9c3281ac",
   "metadata": {},
   "outputs": [],
   "source": [
    "y_pred = [x[1] for x in xgb_weighted.predict_proba(testDataVecs1)]\n",
    "fpr, tpr, thresholds = roc_curve(y_test1['sentiment'], y_pred, pos_label = 1)\n",
    "\n",
    "roc_auc = auc(fpr, tpr)\n",
    "\n",
    "plt.figure(1, figsize = (5, 3))\n",
    "lw = 2\n",
    "plt.plot(fpr, tpr, color='darkorange',\n",
    "         lw=lw, label='ROC curve (area = %0.2f)' % roc_auc)\n",
    "plt.plot([0, 1], [0, 1], lw=lw, linestyle='--')\n",
    "plt.xlim([0.0, 1.0])\n",
    "plt.ylim([0.0, 1.0])\n",
    "plt.xlabel('False Positive Rate')\n",
    "plt.ylabel('True Positive Rate')\n",
    "plt.title('Receiver operating characteristic example')\n",
    "plt.legend(loc=\"lower right\")\n",
    "plt.show()"
   ]
  },
  {
   "attachments": {},
   "cell_type": "markdown",
   "id": "1949749b",
   "metadata": {},
   "source": [
    "## Grid Search\n",
    "\n",
    "https://www.kaggle.com/code/tilii7/hyperparameter-grid-search-with-xgboost"
   ]
  },
  {
   "cell_type": "code",
   "execution_count": 70,
   "id": "2cc0807a",
   "metadata": {},
   "outputs": [],
   "source": [
    "#params = deepcopy(default_params)\n",
    "\n",
    "param_grid = {\n",
    "        'min_child_weight': [1, 5,10],\n",
    "        'max_depth': [7,9],\n",
    "        }\n",
    "\n",
    "# just for checking if grid search works"
   ]
  },
  {
   "cell_type": "code",
   "execution_count": 71,
   "id": "4214a273",
   "metadata": {},
   "outputs": [],
   "source": [
    "estimator = xgb.XGBClassifier(n_estimators=300, objective='binary:logistic',learning_rate =0.2, \n",
    "    subsample=0.9, gamma = 0.4, \n",
    "    colsample_bytree = 0.9,)"
   ]
  },
  {
   "cell_type": "code",
   "execution_count": null,
   "id": "12b45bbd",
   "metadata": {},
   "outputs": [
    {
     "data": {
      "text/plain": [
       "(39999, 1000)"
      ]
     },
     "execution_count": 90,
     "metadata": {},
     "output_type": "execute_result"
    }
   ],
   "source": [
    "trainDataVecs1.shape"
   ]
  },
  {
   "cell_type": "code",
   "execution_count": 72,
   "metadata": {},
   "outputs": [
    {
     "data": {
      "text/plain": [
       "array([1, 1, 0, ..., 1, 1, 1])"
      ]
     },
     "execution_count": 72,
     "metadata": {},
     "output_type": "execute_result"
    }
   ],
   "source": [
    "y_train1['sentiment'].values"
   ]
  },
  {
   "cell_type": "code",
   "execution_count": 73,
   "id": "8cf2bbf8",
   "metadata": {},
   "outputs": [
    {
     "name": "stdout",
     "output_type": "stream",
     "text": [
      "Time taken for random search: 5755.140156984329\n"
     ]
    }
   ],
   "source": [
    "eval_set = [(trainDataVecs1,y_train1['sentiment'].values)]\n",
    "model = GridSearchCV(estimator=estimator, param_grid=param_grid, cv=3, scoring=\"roc_auc\")\n",
    "\n",
    "start_time = time.time()\n",
    "\n",
    "model.fit(trainDataVecs1,y_train1['sentiment'].values, verbose=0)\n",
    "\n",
    "print(\"Time taken for random search: \" + str(time.time() - start_time))"
   ]
  },
  {
   "cell_type": "code",
   "execution_count": 74,
   "id": "aad6d836",
   "metadata": {},
   "outputs": [
    {
     "name": "stdout",
     "output_type": "stream",
     "text": [
      "{'max_depth': 9, 'min_child_weight': 10}\n"
     ]
    }
   ],
   "source": [
    "print(model.best_params_)"
   ]
  },
  {
   "attachments": {},
   "cell_type": "markdown",
   "id": "f6819907",
   "metadata": {},
   "source": [
    "### Try tuned parameters"
   ]
  },
  {
   "cell_type": "code",
   "execution_count": null,
   "id": "4ae2ec5a",
   "metadata": {},
   "outputs": [
    {
     "name": "stdout",
     "output_type": "stream",
     "text": [
      "Time taken to fit the demodel with word2vec vectors: 396.04686403274536\n"
     ]
    }
   ],
   "source": [
    "tuned_xgb_model = xgb.XGBClassifier(\n",
    "    max_depth = 7, \n",
    "    min_child_weight = 5, \n",
    "    gamma = 0.5, \n",
    "    subsample=0.9, \n",
    "    colsample_bytree = 0.9,\n",
    "    learning_rate =0.2,\n",
    "    n_estimators=300)\n",
    "\n",
    "\n",
    "start_time = time.time()\n",
    "tuned_xgb_model.fit(trainDataVecs1, y_train1[\"sentiment\"])\n",
    "print(\"Time taken to fit the demodel with word2vec vectors: \" + str(time.time() - start_time))"
   ]
  },
  {
   "cell_type": "code",
   "execution_count": null,
   "id": "0eee9dff",
   "metadata": {},
   "outputs": [],
   "source": [
    "tuned_xgb_prediction=tuned_xgb_model.predict(testDataVecs1)"
   ]
  },
  {
   "cell_type": "code",
   "execution_count": null,
   "id": "f8de86b2",
   "metadata": {},
   "outputs": [
    {
     "data": {
      "text/plain": [
       "1262"
      ]
     },
     "execution_count": 111,
     "metadata": {},
     "output_type": "execute_result"
    }
   ],
   "source": [
    "np.dot(tuned_xgb_prediction-y_test1['sentiment'],tuned_xgb_prediction-y_test1['sentiment'])"
   ]
  },
  {
   "cell_type": "code",
   "execution_count": null,
   "id": "ad1a01d0",
   "metadata": {},
   "outputs": [
    {
     "data": {
      "image/png": "[encoded data removed]",
      "text/plain": [
       "<Figure size 500x300 with 1 Axes>"
      ]
     },
     "metadata": {},
     "output_type": "display_data"
    }
   ],
   "source": [
    "y_pred = [x[1] for x in tuned_xgb_model.predict_proba(testDataVecs1)]\n",
    "fpr, tpr, thresholds = roc_curve(y_test['sentiment'], y_pred, pos_label = 1)\n",
    "\n",
    "roc_auc = auc(fpr, tpr)\n",
    "\n",
    "plt.figure(1, figsize = (5, 3))\n",
    "lw = 2\n",
    "plt.plot(fpr, tpr, color='darkorange',\n",
    "         lw=lw, label='ROC curve (area = %0.2f)' % roc_auc)\n",
    "plt.plot([0, 1], [0, 1], lw=lw, linestyle='--')\n",
    "plt.xlim([0.0, 1.0])\n",
    "plt.ylim([0.0, 1.0])\n",
    "plt.xlabel('False Positive Rate')\n",
    "plt.ylabel('True Positive Rate')\n",
    "plt.title('Receiver operating characteristic example')\n",
    "plt.legend(loc=\"lower right\")\n",
    "plt.show()"
   ]
  },
  {
   "attachments": {},
   "cell_type": "markdown",
   "id": "df76a4fd",
   "metadata": {},
   "source": [
    "### Random Search"
   ]
  },
  {
   "cell_type": "code",
   "execution_count": 40,
   "id": "28938942",
   "metadata": {},
   "outputs": [],
   "source": [
    "#params = deepcopy(default_params)\n",
    "\n",
    "param_grid = {\n",
    "        'min_child_weight': [1, 5,10],\n",
    "        'max_depth': [7,9],\n",
    "        }\n",
    "\n",
    "# just for checking if grid search works"
   ]
  },
  {
   "cell_type": "code",
   "execution_count": 41,
   "id": "1f3d8942",
   "metadata": {},
   "outputs": [],
   "source": [
    "estimator = xgb.XGBClassifier(n_estimators=300, objective='binary:logistic',learning_rate =0.2, gamma=0.4,\n",
    "    subsample=0.9, \n",
    "    colsample_bytree = 0.9,)"
   ]
  },
  {
   "cell_type": "code",
   "execution_count": 75,
   "id": "b67e2114",
   "metadata": {},
   "outputs": [],
   "source": [
    "rs_model=RandomizedSearchCV(estimator=estimator,param_distributions=param_grid,n_iter=3,scoring='log',n_jobs=-1,cv=3,verbose=3)"
   ]
  },
  {
   "cell_type": "code",
   "execution_count": null,
   "id": "a0fca956",
   "metadata": {},
   "outputs": [
    {
     "name": "stdout",
     "output_type": "stream",
     "text": [
      "Fitting 3 folds for each of 3 candidates, totalling 9 fits\n",
      "[CV 2/3] END ...max_depth=7, min_child_weight=5;, score=0.892 total time=36.1min\n",
      "[CV 3/3] END ...max_depth=7, min_child_weight=5;, score=0.889 total time=36.1min\n",
      "[CV 1/3] END ...max_depth=7, min_child_weight=5;, score=0.892 total time=36.2min\n",
      "[CV 1/3] END ..max_depth=9, min_child_weight=10;, score=0.896 total time=38.9min\n",
      "[CV 2/3] END ..max_depth=9, min_child_weight=10;, score=0.892 total time=39.1min\n",
      "[CV 2/3] END ...max_depth=9, min_child_weight=1;, score=0.891 total time=44.4min\n",
      "[CV 3/3] END ...max_depth=9, min_child_weight=1;, score=0.889 total time=44.4min\n",
      "[CV 1/3] END ...max_depth=9, min_child_weight=1;, score=0.893 total time=44.5min\n",
      "[CV 3/3] END ..max_depth=9, min_child_weight=10;, score=0.892 total time=26.4min\n"
     ]
    },
    {
     "data": {
      "text/html": [
       "<style>#sk-container-id-1 {color: black;background-color: white;}#sk-container-id-1 pre{padding: 0;}#sk-container-id-1 div.sk-toggleable {background-color: white;}#sk-container-id-1 label.sk-toggleable__label {cursor: pointer;display: block;width: 100%;margin-bottom: 0;padding: 0.3em;box-sizing: border-box;text-align: center;}#sk-container-id-1 label.sk-toggleable__label-arrow:before {content: \"▸\";float: left;margin-right: 0.25em;color: #696969;}#sk-container-id-1 label.sk-toggleable__label-arrow:hover:before {color: black;}#sk-container-id-1 div.sk-estimator:hover label.sk-toggleable__label-arrow:before {color: black;}#sk-container-id-1 div.sk-toggleable__content {max-height: 0;max-width: 0;overflow: hidden;text-align: left;background-color: #f0f8ff;}#sk-container-id-1 div.sk-toggleable__content pre {margin: 0.2em;color: black;border-radius: 0.25em;background-color: #f0f8ff;}#sk-container-id-1 input.sk-toggleable__control:checked~div.sk-toggleable__content {max-height: 200px;max-width: 100%;overflow: auto;}#sk-container-id-1 input.sk-toggleable__control:checked~label.sk-toggleable__label-arrow:before {content: \"▾\";}#sk-container-id-1 div.sk-estimator input.sk-toggleable__control:checked~label.sk-toggleable__label {background-color: #d4ebff;}#sk-container-id-1 div.sk-label input.sk-toggleable__control:checked~label.sk-toggleable__label {background-color: #d4ebff;}#sk-container-id-1 input.sk-hidden--visually {border: 0;clip: rect(1px 1px 1px 1px);clip: rect(1px, 1px, 1px, 1px);height: 1px;margin: -1px;overflow: hidden;padding: 0;position: absolute;width: 1px;}#sk-container-id-1 div.sk-estimator {font-family: monospace;background-color: #f0f8ff;border: 1px dotted black;border-radius: 0.25em;box-sizing: border-box;margin-bottom: 0.5em;}#sk-container-id-1 div.sk-estimator:hover {background-color: #d4ebff;}#sk-container-id-1 div.sk-parallel-item::after {content: \"\";width: 100%;border-bottom: 1px solid gray;flex-grow: 1;}#sk-container-id-1 div.sk-label:hover label.sk-toggleable__label {background-color: #d4ebff;}#sk-container-id-1 div.sk-serial::before {content: \"\";position: absolute;border-left: 1px solid gray;box-sizing: border-box;top: 0;bottom: 0;left: 50%;z-index: 0;}#sk-container-id-1 div.sk-serial {display: flex;flex-direction: column;align-items: center;background-color: white;padding-right: 0.2em;padding-left: 0.2em;position: relative;}#sk-container-id-1 div.sk-item {position: relative;z-index: 1;}#sk-container-id-1 div.sk-parallel {display: flex;align-items: stretch;justify-content: center;background-color: white;position: relative;}#sk-container-id-1 div.sk-item::before, #sk-container-id-1 div.sk-parallel-item::before {content: \"\";position: absolute;border-left: 1px solid gray;box-sizing: border-box;top: 0;bottom: 0;left: 50%;z-index: -1;}#sk-container-id-1 div.sk-parallel-item {display: flex;flex-direction: column;z-index: 1;position: relative;background-color: white;}#sk-container-id-1 div.sk-parallel-item:first-child::after {align-self: flex-end;width: 50%;}#sk-container-id-1 div.sk-parallel-item:last-child::after {align-self: flex-start;width: 50%;}#sk-container-id-1 div.sk-parallel-item:only-child::after {width: 0;}#sk-container-id-1 div.sk-dashed-wrapped {border: 1px dashed gray;margin: 0 0.4em 0.5em 0.4em;box-sizing: border-box;padding-bottom: 0.4em;background-color: white;}#sk-container-id-1 div.sk-label label {font-family: monospace;font-weight: bold;display: inline-block;line-height: 1.2em;}#sk-container-id-1 div.sk-label-container {text-align: center;}#sk-container-id-1 div.sk-container {/* jupyter's `normalize.less` sets `[hidden] { display: none; }` but bootstrap.min.css set `[hidden] { display: none !important; }` so we also need the `!important` here to be able to override the default hidden behavior on the sphinx rendered scikit-learn.org. See: https://github.com/scikit-learn/scikit-learn/issues/21755 */display: inline-block !important;position: relative;}#sk-container-id-1 div.sk-text-repr-fallback {display: none;}</style><div id=\"sk-container-id-1\" class=\"sk-top-container\"><div class=\"sk-text-repr-fallback\"><pre>RandomizedSearchCV(cv=3,\n",
       "                   estimator=XGBClassifier(base_score=None, booster=None,\n",
       "                                           callbacks=None,\n",
       "                                           colsample_bylevel=None,\n",
       "                                           colsample_bynode=None,\n",
       "                                           colsample_bytree=0.9,\n",
       "                                           early_stopping_rounds=None,\n",
       "                                           enable_categorical=False,\n",
       "                                           eval_metric=None, feature_types=None,\n",
       "                                           gamma=0.4, gpu_id=None,\n",
       "                                           grow_policy=None,\n",
       "                                           importance_type=None,\n",
       "                                           interaction_constraints=None,\n",
       "                                           learning_rate=0...\n",
       "                                           max_cat_threshold=None,\n",
       "                                           max_cat_to_onehot=None,\n",
       "                                           max_delta_step=None, max_depth=None,\n",
       "                                           max_leaves=None,\n",
       "                                           min_child_weight=None, missing=nan,\n",
       "                                           monotone_constraints=None,\n",
       "                                           n_estimators=300, n_jobs=None,\n",
       "                                           num_parallel_tree=None,\n",
       "                                           predictor=None, random_state=None, ...),\n",
       "                   n_iter=3, n_jobs=-1,\n",
       "                   param_distributions={&#x27;max_depth&#x27;: [7, 9],\n",
       "                                        &#x27;min_child_weight&#x27;: [1, 5, 10]},\n",
       "                   scoring=&#x27;roc_auc&#x27;, verbose=3)</pre><b>In a Jupyter environment, please rerun this cell to show the HTML representation or trust the notebook. <br />On GitHub, the HTML representation is unable to render, please try loading this page with nbviewer.org.</b></div><div class=\"sk-container\" hidden><div class=\"sk-item sk-dashed-wrapped\"><div class=\"sk-label-container\"><div class=\"sk-label sk-toggleable\"><input class=\"sk-toggleable__control sk-hidden--visually\" id=\"sk-estimator-id-1\" type=\"checkbox\" ><label for=\"sk-estimator-id-1\" class=\"sk-toggleable__label sk-toggleable__label-arrow\">RandomizedSearchCV</label><div class=\"sk-toggleable__content\"><pre>RandomizedSearchCV(cv=3,\n",
       "                   estimator=XGBClassifier(base_score=None, booster=None,\n",
       "                                           callbacks=None,\n",
       "                                           colsample_bylevel=None,\n",
       "                                           colsample_bynode=None,\n",
       "                                           colsample_bytree=0.9,\n",
       "                                           early_stopping_rounds=None,\n",
       "                                           enable_categorical=False,\n",
       "                                           eval_metric=None, feature_types=None,\n",
       "                                           gamma=0.4, gpu_id=None,\n",
       "                                           grow_policy=None,\n",
       "                                           importance_type=None,\n",
       "                                           interaction_constraints=None,\n",
       "                                           learning_rate=0...\n",
       "                                           max_cat_threshold=None,\n",
       "                                           max_cat_to_onehot=None,\n",
       "                                           max_delta_step=None, max_depth=None,\n",
       "                                           max_leaves=None,\n",
       "                                           min_child_weight=None, missing=nan,\n",
       "                                           monotone_constraints=None,\n",
       "                                           n_estimators=300, n_jobs=None,\n",
       "                                           num_parallel_tree=None,\n",
       "                                           predictor=None, random_state=None, ...),\n",
       "                   n_iter=3, n_jobs=-1,\n",
       "                   param_distributions={&#x27;max_depth&#x27;: [7, 9],\n",
       "                                        &#x27;min_child_weight&#x27;: [1, 5, 10]},\n",
       "                   scoring=&#x27;roc_auc&#x27;, verbose=3)</pre></div></div></div><div class=\"sk-parallel\"><div class=\"sk-parallel-item\"><div class=\"sk-item\"><div class=\"sk-label-container\"><div class=\"sk-label sk-toggleable\"><input class=\"sk-toggleable__control sk-hidden--visually\" id=\"sk-estimator-id-2\" type=\"checkbox\" ><label for=\"sk-estimator-id-2\" class=\"sk-toggleable__label sk-toggleable__label-arrow\">estimator: XGBClassifier</label><div class=\"sk-toggleable__content\"><pre>XGBClassifier(base_score=None, booster=None, callbacks=None,\n",
       "              colsample_bylevel=None, colsample_bynode=None,\n",
       "              colsample_bytree=0.9, early_stopping_rounds=None,\n",
       "              enable_categorical=False, eval_metric=None, feature_types=None,\n",
       "              gamma=0.4, gpu_id=None, grow_policy=None, importance_type=None,\n",
       "              interaction_constraints=None, learning_rate=0.2, max_bin=None,\n",
       "              max_cat_threshold=None, max_cat_to_onehot=None,\n",
       "              max_delta_step=None, max_depth=None, max_leaves=None,\n",
       "              min_child_weight=None, missing=nan, monotone_constraints=None,\n",
       "              n_estimators=300, n_jobs=None, num_parallel_tree=None,\n",
       "              predictor=None, random_state=None, ...)</pre></div></div></div><div class=\"sk-serial\"><div class=\"sk-item\"><div class=\"sk-estimator sk-toggleable\"><input class=\"sk-toggleable__control sk-hidden--visually\" id=\"sk-estimator-id-3\" type=\"checkbox\" ><label for=\"sk-estimator-id-3\" class=\"sk-toggleable__label sk-toggleable__label-arrow\">XGBClassifier</label><div class=\"sk-toggleable__content\"><pre>XGBClassifier(base_score=None, booster=None, callbacks=None,\n",
       "              colsample_bylevel=None, colsample_bynode=None,\n",
       "              colsample_bytree=0.9, early_stopping_rounds=None,\n",
       "              enable_categorical=False, eval_metric=None, feature_types=None,\n",
       "              gamma=0.4, gpu_id=None, grow_policy=None, importance_type=None,\n",
       "              interaction_constraints=None, learning_rate=0.2, max_bin=None,\n",
       "              max_cat_threshold=None, max_cat_to_onehot=None,\n",
       "              max_delta_step=None, max_depth=None, max_leaves=None,\n",
       "              min_child_weight=None, missing=nan, monotone_constraints=None,\n",
       "              n_estimators=300, n_jobs=None, num_parallel_tree=None,\n",
       "              predictor=None, random_state=None, ...)</pre></div></div></div></div></div></div></div></div></div></div>"
      ],
      "text/plain": [
       "RandomizedSearchCV(cv=3,\n",
       "                   estimator=XGBClassifier(base_score=None, booster=None,\n",
       "                                           callbacks=None,\n",
       "                                           colsample_bylevel=None,\n",
       "                                           colsample_bynode=None,\n",
       "                                           colsample_bytree=0.9,\n",
       "                                           early_stopping_rounds=None,\n",
       "                                           enable_categorical=False,\n",
       "                                           eval_metric=None, feature_types=None,\n",
       "                                           gamma=0.4, gpu_id=None,\n",
       "                                           grow_policy=None,\n",
       "                                           importance_type=None,\n",
       "                                           interaction_constraints=None,\n",
       "                                           learning_rate=0...\n",
       "                                           max_cat_threshold=None,\n",
       "                                           max_cat_to_onehot=None,\n",
       "                                           max_delta_step=None, max_depth=None,\n",
       "                                           max_leaves=None,\n",
       "                                           min_child_weight=None, missing=nan,\n",
       "                                           monotone_constraints=None,\n",
       "                                           n_estimators=300, n_jobs=None,\n",
       "                                           num_parallel_tree=None,\n",
       "                                           predictor=None, random_state=None, ...),\n",
       "                   n_iter=3, n_jobs=-1,\n",
       "                   param_distributions={'max_depth': [7, 9],\n",
       "                                        'min_child_weight': [1, 5, 10]},\n",
       "                   scoring='roc_auc', verbose=3)"
      ]
     },
     "execution_count": 117,
     "metadata": {},
     "output_type": "execute_result"
    }
   ],
   "source": [
    "rs_model.fit(trainDataVecs1,y_train1['sentiment'])"
   ]
  },
  {
   "cell_type": "code",
   "execution_count": null,
   "id": "71039809",
   "metadata": {},
   "outputs": [
    {
     "data": {
      "text/plain": [
       "{'min_child_weight': 10, 'max_depth': 9}"
      ]
     },
     "execution_count": 144,
     "metadata": {},
     "output_type": "execute_result"
    }
   ],
   "source": [
    "best_params = rs_model.best_params_"
   ]
  },
  {
   "attachments": {},
   "cell_type": "markdown",
   "id": "ffc99995",
   "metadata": {},
   "source": [
    "# full random search codes"
   ]
  },
  {
   "cell_type": "code",
   "execution_count": null,
   "id": "b503bbd2",
   "metadata": {},
   "outputs": [],
   "source": [
    "param_grid = {\n",
    "        'min_child_weight': [1, 5, 10],\n",
    "        'gamma': [0.5, 1, 2, 5],\n",
    "        'subsample': [0.6, 0.9],\n",
    "        'colsample_bytree': [0.6, 0.9],\n",
    "        'max_depth': [5,10,15]\n",
    "        }"
   ]
  },
  {
   "cell_type": "code",
   "execution_count": null,
   "id": "12f0fada",
   "metadata": {},
   "outputs": [],
   "source": [
    "estimator = xgb.XGBClassifier(n_estimators=300, objective='binary:logistic',learning_rate =0.2)"
   ]
  },
  {
   "cell_type": "code",
   "execution_count": null,
   "id": "8fda4775",
   "metadata": {},
   "outputs": [],
   "source": [
    "rs_model=RandomizedSearchCV(estimator=estimator,param_distributions=param_grid,n_iter=3,scoring='logloss',n_jobs=-1,cv=3,verbose=3)"
   ]
  },
  {
   "cell_type": "code",
   "execution_count": null,
   "id": "141f4055",
   "metadata": {},
   "outputs": [],
   "source": [
    "tuned_xgb = xgb.XGBClassifier(\n",
    "    max_depth = ?, \n",
    "    min_child_weight = ?, \n",
    "    gamma = ?, \n",
    "    subsample = ?, \n",
    "    colsample_bytree = ?,\n",
    "    learning_rate = 0.2,\n",
    "    n_estimators = 300,\n",
    "    eval_metric='logloss')\n",
    "\n",
    "\n",
    "start_time = time.time()\n",
    "tuned_xgb.fit(trainDataVecs1, y_train1[\"sentiment\"])\n",
    "print(\"Time taken to train the model: \" + str(time.time() - start_time))"
   ]
  },
  {
   "attachments": {},
   "cell_type": "markdown",
   "id": "e4eb0f87",
   "metadata": {},
   "source": [
    "https://www.kaggle.com/code/willkoehrsen/intro-to-model-tuning-grid-and-random-search\n",
    "\n",
    "Due to the size of the data set and the time constraint, since we want to search over a large range of hyperparameters rather than finding an exact optima in a small range of hyperprarameters, we will perform a random search on a subset of the data set, and then tuning our hyperparameters for working on the whole data set.\n",
    "\n",
    "If we have more time, we can then perform grid search on a reduced parameter grid, in order to get better performance."
   ]
  }
 ],
 "metadata": {
  "kernelspec": {
   "display_name": "sklearn-env",
   "language": "python",
   "name": "python3"
  },
  "language_info": {
   "codemirror_mode": {
    "name": "ipython",
    "version": 3
   },
   "file_extension": ".py",
   "mimetype": "text/x-python",
   "name": "python",
   "nbconvert_exporter": "python",
   "pygments_lexer": "ipython3",
   "version": "3.11.0"
  },
  "vscode": {
   "interpreter": {
    "hash": "4990abdef3ebc9f72751f78a325f8319b605d7f3eaf2931f11ce533253df6476"
   }
  }
 },
 "nbformat": 4,
 "nbformat_minor": 5
}
