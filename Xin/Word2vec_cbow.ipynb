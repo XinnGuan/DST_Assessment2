{
 "cells": [
  {
   "cell_type": "code",
   "execution_count": 2,
   "id": "fba8d2f1",
   "metadata": {},
   "outputs": [],
   "source": [
    "import pandas as pd\n",
    "import numpy as np\n",
    "import matplotlib.pyplot as plt\n",
    "from gensim.models import Word2Vec\n",
    "import joblib\n",
    "import pickle\n",
    "import time\n",
    "from sklearn.metrics import classification_report\n",
    "from sklearn.metrics import roc_curve, auc\n",
    "from sklearn.model_selection import train_test_split, RandomizedSearchCV, GridSearchCV\n",
    "from sklearn.decomposition import PCA\n",
    "import xgboost as xgb"
   ]
  },
  {
   "attachments": {},
   "cell_type": "markdown",
   "id": "524abb9d",
   "metadata": {},
   "source": [
    "# Compare CBoW and Skip-gram\n",
    "\n",
    "The Word2Vec model has to model architectures: the Continuous Bag of Words (CBoW) and the Skip-Gram, in this file we use the CBoW instead of skip-gram and then train the XGBoost with feature vector computed from the W2V model to make prediction, and then compare their performance by examining various metrics, i.e. the accuracy and the auc score."
   ]
  },
  {
   "attachments": {},
   "cell_type": "markdown",
   "id": "67926227",
   "metadata": {},
   "source": [
    "## Loading data\n"
   ]
  },
  {
   "cell_type": "code",
   "execution_count": 3,
   "id": "6f2a6e1c",
   "metadata": {},
   "outputs": [],
   "source": [
    "df=pd.read_pickle('Data/data_cleaned_1')"
   ]
  },
  {
   "cell_type": "code",
   "execution_count": 4,
   "id": "999d5f44",
   "metadata": {},
   "outputs": [
    {
     "data": {
      "text/html": [
       "<div>\n",
       "<style scoped>\n",
       "    .dataframe tbody tr th:only-of-type {\n",
       "        vertical-align: middle;\n",
       "    }\n",
       "\n",
       "    .dataframe tbody tr th {\n",
       "        vertical-align: top;\n",
       "    }\n",
       "\n",
       "    .dataframe thead th {\n",
       "        text-align: right;\n",
       "    }\n",
       "</style>\n",
       "<table border=\"1\" class=\"dataframe\">\n",
       "  <thead>\n",
       "    <tr style=\"text-align: right;\">\n",
       "      <th></th>\n",
       "      <th>score</th>\n",
       "      <th>text</th>\n",
       "    </tr>\n",
       "  </thead>\n",
       "  <tbody>\n",
       "    <tr>\n",
       "      <th>0</th>\n",
       "      <td>3.0</td>\n",
       "      <td>[good, helpfull, read, book, good, type, thats...</td>\n",
       "    </tr>\n",
       "    <tr>\n",
       "      <th>1</th>\n",
       "      <td>1.0</td>\n",
       "      <td>[sadly, overprice, irrelevant, spite, claim, i...</td>\n",
       "    </tr>\n",
       "    <tr>\n",
       "      <th>2</th>\n",
       "      <td>2.0</td>\n",
       "      <td>[endless, rant, howard, borrow, dennis, miller...</td>\n",
       "    </tr>\n",
       "    <tr>\n",
       "      <th>3</th>\n",
       "      <td>1.0</td>\n",
       "      <td>[not, quite, hip, really, shame, time, reserch...</td>\n",
       "    </tr>\n",
       "    <tr>\n",
       "      <th>4</th>\n",
       "      <td>5.0</td>\n",
       "      <td>[journey, centre, earth, hey, great, book, abs...</td>\n",
       "    </tr>\n",
       "    <tr>\n",
       "      <th>...</th>\n",
       "      <td>...</td>\n",
       "      <td>...</td>\n",
       "    </tr>\n",
       "    <tr>\n",
       "      <th>49995</th>\n",
       "      <td>5.0</td>\n",
       "      <td>[star, short, easy, explanation, follow, lot, ...</td>\n",
       "    </tr>\n",
       "    <tr>\n",
       "      <th>49996</th>\n",
       "      <td>5.0</td>\n",
       "      <td>[michael, hague, illustration, best, buy, love...</td>\n",
       "    </tr>\n",
       "    <tr>\n",
       "      <th>49997</th>\n",
       "      <td>5.0</td>\n",
       "      <td>[quot, american, beauty, quot, novel, dark, co...</td>\n",
       "    </tr>\n",
       "    <tr>\n",
       "      <th>49998</th>\n",
       "      <td>4.0</td>\n",
       "      <td>[funny, quirky, really, funny, witty, book, su...</td>\n",
       "    </tr>\n",
       "    <tr>\n",
       "      <th>49999</th>\n",
       "      <td>5.0</td>\n",
       "      <td>[soldier, bible, old, son, army, buy, bible, t...</td>\n",
       "    </tr>\n",
       "  </tbody>\n",
       "</table>\n",
       "<p>50000 rows × 2 columns</p>\n",
       "</div>"
      ],
      "text/plain": [
       "       score                                               text\n",
       "0        3.0  [good, helpfull, read, book, good, type, thats...\n",
       "1        1.0  [sadly, overprice, irrelevant, spite, claim, i...\n",
       "2        2.0  [endless, rant, howard, borrow, dennis, miller...\n",
       "3        1.0  [not, quite, hip, really, shame, time, reserch...\n",
       "4        5.0  [journey, centre, earth, hey, great, book, abs...\n",
       "...      ...                                                ...\n",
       "49995    5.0  [star, short, easy, explanation, follow, lot, ...\n",
       "49996    5.0  [michael, hague, illustration, best, buy, love...\n",
       "49997    5.0  [quot, american, beauty, quot, novel, dark, co...\n",
       "49998    4.0  [funny, quirky, really, funny, witty, book, su...\n",
       "49999    5.0  [soldier, bible, old, son, army, buy, bible, t...\n",
       "\n",
       "[50000 rows x 2 columns]"
      ]
     },
     "execution_count": 4,
     "metadata": {},
     "output_type": "execute_result"
    }
   ],
   "source": [
    "df"
   ]
  },
  {
   "attachments": {},
   "cell_type": "markdown",
   "id": "75f4a26b",
   "metadata": {},
   "source": [
    "## Fit the w2v model with sg=CBoW(0)"
   ]
  },
  {
   "cell_type": "code",
   "execution_count": 5,
   "id": "418365c4",
   "metadata": {},
   "outputs": [
    {
     "name": "stdout",
     "output_type": "stream",
     "text": [
      "Time taken to train word2vec model:38.69509315490723\n"
     ]
    }
   ],
   "source": [
    "vector_size=1000\n",
    "#The number of dimensions of embeddings, the default is 100\n",
    "window=3\n",
    "#The maximum distance between a target word and its neighbours, default is 5\n",
    "min_count=3\n",
    "#The minimum counts of words in order for the word to be considered for the training of model, default is 5\n",
    "workers=3\n",
    "#The number of partitions during training, default is 3\n",
    "sg=0\n",
    "#The training algorithom, either CBOW(0) or skip gram(1), default is CBOW\n",
    "\n",
    "#tokens = pd.Series(df['tokenized_text']).values\n",
    "start_t = time.time()\n",
    "w2vmodel=Word2Vec(df['text'],min_count=min_count,vector_size=vector_size,workers=workers,sg=sg)\n",
    "print('Time taken to train word2vec model:' +str(time.time()-start_t))"
   ]
  },
  {
   "attachments": {},
   "cell_type": "markdown",
   "id": "e752fc08",
   "metadata": {},
   "source": [
    "We can see the training time for W2V with CBoW is a lot shorter than W2V with skip gram."
   ]
  },
  {
   "cell_type": "code",
   "execution_count": 6,
   "id": "c1a7761d",
   "metadata": {},
   "outputs": [],
   "source": [
    "word2vec_model_file = '/Users/xin/Library/CloudStorage/OneDrive-UniversityofBristol/DST/DST_Assessment2/Xin/Data/' + 'word2vec_2' + '.model'\n",
    "w2vmodel.save(word2vec_model_file)"
   ]
  },
  {
   "cell_type": "code",
   "execution_count": 7,
   "id": "efc35323",
   "metadata": {},
   "outputs": [],
   "source": [
    "w2v_model = Word2Vec.load(word2vec_model_file) \n",
    "#we have to save and load for some of the function below to work"
   ]
  },
  {
   "attachments": {},
   "cell_type": "markdown",
   "id": "05407687",
   "metadata": {},
   "source": [
    "## Extract the outputs of w2v model\n",
    "\n",
    "https://towardsdatascience.com/word2vec-explained-49c52b4ccb71\n",
    "\n",
    "how to put the outputs of word2vec into data frame, and apply PCA on the outputs"
   ]
  },
  {
   "cell_type": "code",
   "execution_count": 8,
   "id": "29fbc5f6",
   "metadata": {},
   "outputs": [
    {
     "name": "stdout",
     "output_type": "stream",
     "text": [
      "(36738, 1000)\n"
     ]
    },
    {
     "data": {
      "text/html": [
       "<div>\n",
       "<style scoped>\n",
       "    .dataframe tbody tr th:only-of-type {\n",
       "        vertical-align: middle;\n",
       "    }\n",
       "\n",
       "    .dataframe tbody tr th {\n",
       "        vertical-align: top;\n",
       "    }\n",
       "\n",
       "    .dataframe thead th {\n",
       "        text-align: right;\n",
       "    }\n",
       "</style>\n",
       "<table border=\"1\" class=\"dataframe\">\n",
       "  <thead>\n",
       "    <tr style=\"text-align: right;\">\n",
       "      <th></th>\n",
       "      <th>0</th>\n",
       "      <th>1</th>\n",
       "      <th>2</th>\n",
       "      <th>3</th>\n",
       "      <th>4</th>\n",
       "      <th>5</th>\n",
       "      <th>6</th>\n",
       "      <th>7</th>\n",
       "      <th>8</th>\n",
       "      <th>9</th>\n",
       "      <th>...</th>\n",
       "      <th>990</th>\n",
       "      <th>991</th>\n",
       "      <th>992</th>\n",
       "      <th>993</th>\n",
       "      <th>994</th>\n",
       "      <th>995</th>\n",
       "      <th>996</th>\n",
       "      <th>997</th>\n",
       "      <th>998</th>\n",
       "      <th>999</th>\n",
       "    </tr>\n",
       "  </thead>\n",
       "  <tbody>\n",
       "    <tr>\n",
       "      <th>book</th>\n",
       "      <td>-0.253921</td>\n",
       "      <td>0.007940</td>\n",
       "      <td>0.433629</td>\n",
       "      <td>0.333751</td>\n",
       "      <td>-0.129779</td>\n",
       "      <td>0.116287</td>\n",
       "      <td>0.406918</td>\n",
       "      <td>0.043796</td>\n",
       "      <td>-0.307826</td>\n",
       "      <td>-0.531695</td>\n",
       "      <td>...</td>\n",
       "      <td>-0.009229</td>\n",
       "      <td>0.173578</td>\n",
       "      <td>-0.338392</td>\n",
       "      <td>0.247634</td>\n",
       "      <td>0.402454</td>\n",
       "      <td>-0.307052</td>\n",
       "      <td>-0.179264</td>\n",
       "      <td>0.303243</td>\n",
       "      <td>0.489059</td>\n",
       "      <td>0.335967</td>\n",
       "    </tr>\n",
       "    <tr>\n",
       "      <th>not</th>\n",
       "      <td>-0.209543</td>\n",
       "      <td>-0.316898</td>\n",
       "      <td>0.414101</td>\n",
       "      <td>-0.285708</td>\n",
       "      <td>-0.594602</td>\n",
       "      <td>-0.374296</td>\n",
       "      <td>-0.113977</td>\n",
       "      <td>-0.250304</td>\n",
       "      <td>-0.056806</td>\n",
       "      <td>-0.406552</td>\n",
       "      <td>...</td>\n",
       "      <td>0.070347</td>\n",
       "      <td>-0.507486</td>\n",
       "      <td>-0.442185</td>\n",
       "      <td>0.354828</td>\n",
       "      <td>-0.303378</td>\n",
       "      <td>0.012586</td>\n",
       "      <td>0.156392</td>\n",
       "      <td>0.363412</td>\n",
       "      <td>0.228693</td>\n",
       "      <td>0.483637</td>\n",
       "    </tr>\n",
       "    <tr>\n",
       "      <th>read</th>\n",
       "      <td>-0.311027</td>\n",
       "      <td>0.295913</td>\n",
       "      <td>0.167437</td>\n",
       "      <td>0.360623</td>\n",
       "      <td>0.109677</td>\n",
       "      <td>0.200109</td>\n",
       "      <td>-0.313538</td>\n",
       "      <td>-0.170187</td>\n",
       "      <td>0.062062</td>\n",
       "      <td>-0.265991</td>\n",
       "      <td>...</td>\n",
       "      <td>0.112416</td>\n",
       "      <td>0.138460</td>\n",
       "      <td>-0.289697</td>\n",
       "      <td>0.460239</td>\n",
       "      <td>-0.349767</td>\n",
       "      <td>0.500807</td>\n",
       "      <td>0.028558</td>\n",
       "      <td>0.213253</td>\n",
       "      <td>-0.135733</td>\n",
       "      <td>0.810639</td>\n",
       "    </tr>\n",
       "    <tr>\n",
       "      <th>one</th>\n",
       "      <td>-0.351957</td>\n",
       "      <td>0.219230</td>\n",
       "      <td>0.396524</td>\n",
       "      <td>0.236601</td>\n",
       "      <td>-0.262886</td>\n",
       "      <td>-0.070493</td>\n",
       "      <td>0.099000</td>\n",
       "      <td>-0.302694</td>\n",
       "      <td>-0.362885</td>\n",
       "      <td>0.045302</td>\n",
       "      <td>...</td>\n",
       "      <td>-0.038956</td>\n",
       "      <td>-0.081863</td>\n",
       "      <td>-0.443932</td>\n",
       "      <td>-0.041679</td>\n",
       "      <td>-0.095197</td>\n",
       "      <td>-0.065554</td>\n",
       "      <td>-0.215159</td>\n",
       "      <td>0.628756</td>\n",
       "      <td>0.310091</td>\n",
       "      <td>0.438491</td>\n",
       "    </tr>\n",
       "    <tr>\n",
       "      <th>story</th>\n",
       "      <td>-0.051308</td>\n",
       "      <td>0.066355</td>\n",
       "      <td>0.580810</td>\n",
       "      <td>0.170865</td>\n",
       "      <td>0.126754</td>\n",
       "      <td>-0.616359</td>\n",
       "      <td>0.335626</td>\n",
       "      <td>-0.371040</td>\n",
       "      <td>-0.005304</td>\n",
       "      <td>-0.232113</td>\n",
       "      <td>...</td>\n",
       "      <td>0.246067</td>\n",
       "      <td>-0.265161</td>\n",
       "      <td>0.318121</td>\n",
       "      <td>-0.356808</td>\n",
       "      <td>0.842104</td>\n",
       "      <td>0.451485</td>\n",
       "      <td>-0.297985</td>\n",
       "      <td>0.258182</td>\n",
       "      <td>0.188731</td>\n",
       "      <td>-0.586740</td>\n",
       "    </tr>\n",
       "  </tbody>\n",
       "</table>\n",
       "<p>5 rows × 1000 columns</p>\n",
       "</div>"
      ],
      "text/plain": [
       "            0         1         2         3         4         5         6    \\\n",
       "book  -0.253921  0.007940  0.433629  0.333751 -0.129779  0.116287  0.406918   \n",
       "not   -0.209543 -0.316898  0.414101 -0.285708 -0.594602 -0.374296 -0.113977   \n",
       "read  -0.311027  0.295913  0.167437  0.360623  0.109677  0.200109 -0.313538   \n",
       "one   -0.351957  0.219230  0.396524  0.236601 -0.262886 -0.070493  0.099000   \n",
       "story -0.051308  0.066355  0.580810  0.170865  0.126754 -0.616359  0.335626   \n",
       "\n",
       "            7         8         9    ...       990       991       992  \\\n",
       "book   0.043796 -0.307826 -0.531695  ... -0.009229  0.173578 -0.338392   \n",
       "not   -0.250304 -0.056806 -0.406552  ...  0.070347 -0.507486 -0.442185   \n",
       "read  -0.170187  0.062062 -0.265991  ...  0.112416  0.138460 -0.289697   \n",
       "one   -0.302694 -0.362885  0.045302  ... -0.038956 -0.081863 -0.443932   \n",
       "story -0.371040 -0.005304 -0.232113  ...  0.246067 -0.265161  0.318121   \n",
       "\n",
       "            993       994       995       996       997       998       999  \n",
       "book   0.247634  0.402454 -0.307052 -0.179264  0.303243  0.489059  0.335967  \n",
       "not    0.354828 -0.303378  0.012586  0.156392  0.363412  0.228693  0.483637  \n",
       "read   0.460239 -0.349767  0.500807  0.028558  0.213253 -0.135733  0.810639  \n",
       "one   -0.041679 -0.095197 -0.065554 -0.215159  0.628756  0.310091  0.438491  \n",
       "story -0.356808  0.842104  0.451485 -0.297985  0.258182  0.188731 -0.586740  \n",
       "\n",
       "[5 rows x 1000 columns]"
      ]
     },
     "execution_count": 8,
     "metadata": {},
     "output_type": "execute_result"
    }
   ],
   "source": [
    "emb_df = (\n",
    "    pd.DataFrame(\n",
    "        [w2v_model.wv.get_vector(str(n)) for n in w2vmodel.wv.key_to_index],\n",
    "        index = w2vmodel.wv.key_to_index\n",
    "    )\n",
    ")\n",
    "print(emb_df.shape)\n",
    "\n",
    "emb_df.head()"
   ]
  },
  {
   "cell_type": "code",
   "execution_count": 9,
   "id": "048b9518",
   "metadata": {},
   "outputs": [
    {
     "name": "stdout",
     "output_type": "stream",
     "text": [
      "[('fantastic', 0.8484282493591309), ('fabulous', 0.7944499850273132), ('amazing', 0.7848646640777588), ('awesome', 0.7475287318229675), ('amaze', 0.7410269379615784), ('delightful', 0.728579580783844), ('marvelous', 0.718217134475708), ('terrific', 0.7136596441268921), ('incredible', 0.6889655590057373), ('inspirational', 0.6860165596008301)]\n"
     ]
    }
   ],
   "source": [
    "print(w2v_model.wv.most_similar('wonderful'))"
   ]
  },
  {
   "cell_type": "code",
   "execution_count": 11,
   "id": "5f264b35",
   "metadata": {},
   "outputs": [
    {
     "name": "stdout",
     "output_type": "stream",
     "text": [
      "Cosine similarity between 'wonderful' terrible' - CBoW :  0.0067944583\n"
     ]
    }
   ],
   "source": [
    "print(\"Cosine similarity between 'wonderful' \" +\n",
    "               \"terrible' - CBoW : \",\n",
    "    w2v_model.wv.similarity('wonderful', 'bad'))"
   ]
  },
  {
   "attachments": {},
   "cell_type": "markdown",
   "id": "74a9f644",
   "metadata": {},
   "source": [
    "We can see that the result above already shows the difference with the two different model arhitectures, the values of CBoW seem to be slightly more extreme than the ones of skip-gram."
   ]
  },
  {
   "cell_type": "code",
   "execution_count": 12,
   "id": "84d67c28",
   "metadata": {},
   "outputs": [
    {
     "data": {
      "text/plain": [
       "[]"
      ]
     },
     "execution_count": 12,
     "metadata": {},
     "output_type": "execute_result"
    },
    {
     "data": {
      "text/plain": [
       "<Figure size 640x480 with 0 Axes>"
      ]
     },
     "metadata": {},
     "output_type": "display_data"
    },
    {
     "data": {
      "image/png": "[encoded data removed]",
      "text/plain": [
       "<Figure size 600x400 with 1 Axes>"
      ]
     },
     "metadata": {},
     "output_type": "display_data"
    }
   ],
   "source": [
    "pca = PCA(n_components=2, random_state=7)\n",
    "pca_mdl = pca.fit_transform(emb_df)\n",
    "\n",
    "emb_df_PCA = (\n",
    "    pd.DataFrame(\n",
    "        pca_mdl,\n",
    "        columns=['x','y'],\n",
    "        index = emb_df.index\n",
    "    )\n",
    ")\n",
    "\n",
    "plt.clf()\n",
    "fig = plt.figure(figsize=(6,4))\n",
    "\n",
    "plt.scatter(\n",
    "    x = emb_df_PCA['x'],\n",
    "    y = emb_df_PCA['y'],\n",
    "    s = 0.4,\n",
    "    color = 'maroon',\n",
    "    alpha = 0.5\n",
    ")\n",
    "\n",
    "plt.xlabel('PCA-1')\n",
    "plt.ylabel('PCA-2')\n",
    "plt.title('PCA Visualization')\n",
    "plt.plot()"
   ]
  },
  {
   "attachments": {},
   "cell_type": "markdown",
   "id": "d9c928f1",
   "metadata": {},
   "source": [
    "## Train test data split\n",
    "\n",
    "Use the same train test data set, to make the comparison fair"
   ]
  },
  {
   "cell_type": "code",
   "execution_count": 14,
   "id": "504de5eb",
   "metadata": {},
   "outputs": [],
   "source": [
    "X_train=pd.read_pickle('Data/X_train')\n",
    "X_test=pd.read_pickle('Data/X_test')\n",
    "y_train=pd.read_pickle('Data/y_train')\n",
    "y_test=pd.read_pickle('Data/y_test')"
   ]
  },
  {
   "attachments": {},
   "cell_type": "markdown",
   "id": "a16a6102",
   "metadata": {},
   "source": [
    "## Compute feature vectors for each review"
   ]
  },
  {
   "attachments": {},
   "cell_type": "markdown",
   "id": "0d0836d0",
   "metadata": {},
   "source": [
    "https://www.kaggle.com/code/varun08/sentiment-analysis-using-word2vec/notebook\n",
    " define functions to compute feature vectors, which is an average of the vectors of each word appeared in the review, and the feature vectors can be then be used as inputs for the classification model."
   ]
  },
  {
   "cell_type": "code",
   "execution_count": 15,
   "id": "e5823884",
   "metadata": {},
   "outputs": [],
   "source": [
    "# Function to average all word vectors in a paragraph\n",
    "def featureVecMethod(words, model, num_features):\n",
    "    # Pre-initialising empty numpy array for speed\n",
    "    featureVec = np.zeros(num_features,dtype=\"float32\")\n",
    "    nwords = 0\n",
    "    \n",
    "    #Converting Index2Word which is a list to a set for better speed in the execution.\n",
    "    index2word_set = set(model.wv.index_to_key)\n",
    "    for word in  words:\n",
    "        if word in index2word_set:\n",
    "            nwords = nwords + 1\n",
    "            featureVec = np.add(featureVec,model.wv[word])\n",
    "    \n",
    "    if nwords ==0:\n",
    "        featureVec = np.zeros(1000)\n",
    "        #avoiding divide by zero, define it as a all zero vector\n",
    "    else:\n",
    "        featureVec = np.divide(featureVec, nwords)\n",
    "    # Dividing the result by number of words to get average\n",
    "\n",
    "    return featureVec"
   ]
  },
  {
   "cell_type": "code",
   "execution_count": 16,
   "id": "43a5418e",
   "metadata": {},
   "outputs": [],
   "source": [
    "# Function for calculating the average feature vector\n",
    "def getAvgFeatureVecs(reviews, model, num_features):\n",
    "    counter = 0\n",
    "    reviewFeatureVecs = np.zeros((len(reviews),num_features),dtype=\"float32\")\n",
    "    for review in reviews:\n",
    "        # Printing a status message every 1000th review\n",
    "        if counter%1000 == 0:\n",
    "            print(\"Comment %d of %d\"%(counter,len(reviews)))\n",
    "            \n",
    "        reviewFeatureVecs[counter] = featureVecMethod(review, model, num_features)\n",
    "            \n",
    "        counter = counter+1\n",
    "        \n",
    "    return reviewFeatureVecs"
   ]
  },
  {
   "cell_type": "code",
   "execution_count": 18,
   "id": "326b229f",
   "metadata": {},
   "outputs": [
    {
     "data": {
      "text/html": [
       "<div>\n",
       "<style scoped>\n",
       "    .dataframe tbody tr th:only-of-type {\n",
       "        vertical-align: middle;\n",
       "    }\n",
       "\n",
       "    .dataframe tbody tr th {\n",
       "        vertical-align: top;\n",
       "    }\n",
       "\n",
       "    .dataframe thead th {\n",
       "        text-align: right;\n",
       "    }\n",
       "</style>\n",
       "<table border=\"1\" class=\"dataframe\">\n",
       "  <thead>\n",
       "    <tr style=\"text-align: right;\">\n",
       "      <th></th>\n",
       "      <th>index</th>\n",
       "      <th>text</th>\n",
       "    </tr>\n",
       "  </thead>\n",
       "  <tbody>\n",
       "    <tr>\n",
       "      <th>0</th>\n",
       "      <td>45570</td>\n",
       "      <td>[multidimensional, thought, book, good, job, p...</td>\n",
       "    </tr>\n",
       "    <tr>\n",
       "      <th>1</th>\n",
       "      <td>21855</td>\n",
       "      <td>[magnetic, influence, success, business, find,...</td>\n",
       "    </tr>\n",
       "    <tr>\n",
       "      <th>2</th>\n",
       "      <td>41127</td>\n",
       "      <td>[read, weep, world, full, bad, book, write, am...</td>\n",
       "    </tr>\n",
       "    <tr>\n",
       "      <th>3</th>\n",
       "      <td>4849</td>\n",
       "      <td>[clear, channel, watt, book, great, show, book...</td>\n",
       "    </tr>\n",
       "    <tr>\n",
       "      <th>4</th>\n",
       "      <td>20742</td>\n",
       "      <td>[page, miss, line, mass, market, paperback, ed...</td>\n",
       "    </tr>\n",
       "    <tr>\n",
       "      <th>...</th>\n",
       "      <td>...</td>\n",
       "      <td>...</td>\n",
       "    </tr>\n",
       "    <tr>\n",
       "      <th>39995</th>\n",
       "      <td>39296</td>\n",
       "      <td>[euphoric, sandra, cisneros, not, writershe, m...</td>\n",
       "    </tr>\n",
       "    <tr>\n",
       "      <th>39996</th>\n",
       "      <td>49015</td>\n",
       "      <td>[keep, get, well, start, first, leave, behind,...</td>\n",
       "    </tr>\n",
       "    <tr>\n",
       "      <th>39997</th>\n",
       "      <td>2693</td>\n",
       "      <td>[new, age, twaddle, here, good, book, not, sur...</td>\n",
       "    </tr>\n",
       "    <tr>\n",
       "      <th>39998</th>\n",
       "      <td>8076</td>\n",
       "      <td>[enlighten, new, biography, read, everything, ...</td>\n",
       "    </tr>\n",
       "    <tr>\n",
       "      <th>39999</th>\n",
       "      <td>7624</td>\n",
       "      <td>[one, favorites, one, great, book, wish, work,...</td>\n",
       "    </tr>\n",
       "  </tbody>\n",
       "</table>\n",
       "<p>40000 rows × 2 columns</p>\n",
       "</div>"
      ],
      "text/plain": [
       "       index                                               text\n",
       "0      45570  [multidimensional, thought, book, good, job, p...\n",
       "1      21855  [magnetic, influence, success, business, find,...\n",
       "2      41127  [read, weep, world, full, bad, book, write, am...\n",
       "3       4849  [clear, channel, watt, book, great, show, book...\n",
       "4      20742  [page, miss, line, mass, market, paperback, ed...\n",
       "...      ...                                                ...\n",
       "39995  39296  [euphoric, sandra, cisneros, not, writershe, m...\n",
       "39996  49015  [keep, get, well, start, first, leave, behind,...\n",
       "39997   2693  [new, age, twaddle, here, good, book, not, sur...\n",
       "39998   8076  [enlighten, new, biography, read, everything, ...\n",
       "39999   7624  [one, favorites, one, great, book, wish, work,...\n",
       "\n",
       "[40000 rows x 2 columns]"
      ]
     },
     "execution_count": 18,
     "metadata": {},
     "output_type": "execute_result"
    }
   ],
   "source": [
    "X_train"
   ]
  },
  {
   "attachments": {},
   "cell_type": "markdown",
   "id": "ea7671ec",
   "metadata": {},
   "source": [
    "The two functions above will raise an error message of dividing by 0 if nwords=0, this is because the wv2 model has min_count set to 3, sometimes all the words appearing in a review turn out to have count less than 3, this could be due to spelling errors and various other reasons.\n",
    "\n",
    "Therefore, I have added a line of if boolean in the featureVecMethod function, which set the vector to all zeros when nwords=0. And it can be then identified later."
   ]
  },
  {
   "cell_type": "code",
   "execution_count": 19,
   "id": "9a8f4eb1",
   "metadata": {},
   "outputs": [
    {
     "name": "stdout",
     "output_type": "stream",
     "text": [
      "Comment 0 of 40000\n",
      "Comment 1000 of 40000\n",
      "Comment 2000 of 40000\n",
      "Comment 3000 of 40000\n",
      "Comment 4000 of 40000\n",
      "Comment 5000 of 40000\n",
      "Comment 6000 of 40000\n",
      "Comment 7000 of 40000\n",
      "Comment 8000 of 40000\n",
      "Comment 9000 of 40000\n",
      "Comment 10000 of 40000\n",
      "Comment 11000 of 40000\n",
      "Comment 12000 of 40000\n",
      "Comment 13000 of 40000\n",
      "Comment 14000 of 40000\n",
      "Comment 15000 of 40000\n",
      "Comment 16000 of 40000\n",
      "Comment 17000 of 40000\n",
      "Comment 18000 of 40000\n",
      "Comment 19000 of 40000\n",
      "Comment 20000 of 40000\n",
      "Comment 21000 of 40000\n",
      "Comment 22000 of 40000\n",
      "Comment 23000 of 40000\n",
      "Comment 24000 of 40000\n",
      "Comment 25000 of 40000\n",
      "Comment 26000 of 40000\n",
      "Comment 27000 of 40000\n",
      "Comment 28000 of 40000\n",
      "Comment 29000 of 40000\n",
      "Comment 30000 of 40000\n",
      "Comment 31000 of 40000\n",
      "Comment 32000 of 40000\n",
      "Comment 33000 of 40000\n",
      "Comment 34000 of 40000\n",
      "Comment 35000 of 40000\n",
      "Comment 36000 of 40000\n",
      "Comment 37000 of 40000\n",
      "Comment 38000 of 40000\n",
      "Comment 39000 of 40000\n"
     ]
    }
   ],
   "source": [
    "trainDataVecs = getAvgFeatureVecs(X_train['text'], w2v_model, 1000)\n",
    "#get feature vectors for train data"
   ]
  },
  {
   "cell_type": "code",
   "execution_count": 21,
   "id": "8b3b512b",
   "metadata": {},
   "outputs": [],
   "source": [
    "def remove_unuseful_rows(trainDataVecs,y_train):\n",
    "    list=[]\n",
    "    y_train.reset_index()\n",
    "    for i in range(trainDataVecs.shape[0]):\n",
    "        if np.all(trainDataVecs[i,]==0):\n",
    "            list.append(i)\n",
    "    if len(list)!=0:\n",
    "        trainDataVecs=np.delete(trainDataVecs,list,axis=0)\n",
    "        y_train.drop(index=list,inplace=True)\n",
    "    return trainDataVecs,y_train\n",
    "# remove the sample with all zero vector and its corresponding y"
   ]
  },
  {
   "cell_type": "code",
   "execution_count": 27,
   "id": "1c4062f1",
   "metadata": {},
   "outputs": [],
   "source": [
    "trainDataVecs.dump('Data/trainDataVecs_CBoW')"
   ]
  },
  {
   "cell_type": "code",
   "execution_count": 28,
   "id": "f7df96d2",
   "metadata": {},
   "outputs": [],
   "source": [
    "trainDataVecs=pd.read_pickle('Data/trainDataVecs_CBoW')"
   ]
  },
  {
   "cell_type": "code",
   "execution_count": 22,
   "id": "8bb1500a",
   "metadata": {},
   "outputs": [],
   "source": [
    "trainDataVecs1,y_train1=remove_unuseful_rows(trainDataVecs,y_train)"
   ]
  },
  {
   "cell_type": "code",
   "execution_count": 23,
   "id": "71810fc7",
   "metadata": {},
   "outputs": [
    {
     "data": {
      "text/plain": [
       "(39999, 2)"
      ]
     },
     "execution_count": 23,
     "metadata": {},
     "output_type": "execute_result"
    }
   ],
   "source": [
    "y_train1.shape"
   ]
  },
  {
   "cell_type": "code",
   "execution_count": 24,
   "id": "8e056193",
   "metadata": {},
   "outputs": [
    {
     "data": {
      "text/plain": [
       "(39999, 1000)"
      ]
     },
     "execution_count": 24,
     "metadata": {},
     "output_type": "execute_result"
    }
   ],
   "source": [
    "trainDataVecs1.shape"
   ]
  },
  {
   "attachments": {},
   "cell_type": "markdown",
   "id": "9475e883",
   "metadata": {},
   "source": [
    "We only want to classify if the review is good or bad, here I create a new label 'sentiment', it equals to 0 if the review is bad(i.e. the raing is less or equals to 3), and equals to 1 otherwise."
   ]
  },
  {
   "cell_type": "code",
   "execution_count": 25,
   "id": "b68f2a69",
   "metadata": {},
   "outputs": [],
   "source": [
    "y_train1['sentiment'] = 0"
   ]
  },
  {
   "cell_type": "code",
   "execution_count": 27,
   "id": "caacc387",
   "metadata": {},
   "outputs": [],
   "source": [
    "y_train1=y_train1.reset_index(drop=True)"
   ]
  },
  {
   "cell_type": "code",
   "execution_count": 28,
   "id": "713bd8b3",
   "metadata": {},
   "outputs": [
    {
     "name": "stderr",
     "output_type": "stream",
     "text": [
      "/var/folders/0s/xfpwvv6x0fg3pkqm99zxr6z40000gq/T/ipykernel_24206/2132215972.py:3: SettingWithCopyWarning: \n",
      "A value is trying to be set on a copy of a slice from a DataFrame\n",
      "\n",
      "See the caveats in the documentation: https://pandas.pydata.org/pandas-docs/stable/user_guide/indexing.html#returning-a-view-versus-a-copy\n",
      "  y_train1['sentiment'][i] = 1\n"
     ]
    }
   ],
   "source": [
    "for i in range(y_train1.shape[0]):\n",
    "    if y_train1['score'][i] > 3:\n",
    "        y_train1['sentiment'][i] = 1"
   ]
  },
  {
   "attachments": {},
   "cell_type": "markdown",
   "id": "dc27e6f8",
   "metadata": {},
   "source": [
    "## XGBoost Classification model\n",
    "\n",
    "Here, we train the XGBoost model with the input feature vector computed from the outputs of W2V with CBoW, and we want to compare the performance with feature vector computed from the outputs of W2V with skip-gram. We compare both accuracy and AUC score."
   ]
  },
  {
   "cell_type": "code",
   "execution_count": 29,
   "id": "8b7ca852",
   "metadata": {},
   "outputs": [
    {
     "name": "stdout",
     "output_type": "stream",
     "text": [
      "Time taken to fit the demodel with word2vec vectors: 524.496169090271\n"
     ]
    }
   ],
   "source": [
    "xgb_model = xgb.XGBClassifier(\n",
    "    max_depth = 9, \n",
    "    min_child_weight = 1, \n",
    "    gamma = 0.4, \n",
    "    subsample=0.9, \n",
    "    colsample_bytree = 0.9,\n",
    "    learning_rate =0.2,\n",
    "    n_estimators=300)\n",
    "\n",
    "\n",
    "start_time = time.time()\n",
    "xgb_model.fit(trainDataVecs1, y_train1[\"sentiment\"])\n",
    "print(\"Time taken to fit the demodel with word2vec vectors: \" + str(time.time() - start_time))"
   ]
  },
  {
   "cell_type": "markdown",
   "id": "e69bf5b9",
   "metadata": {},
   "source": [
    "https://xgboost.readthedocs.io/en/stable/python/python_api.html\n",
    "information about xgboost"
   ]
  },
  {
   "cell_type": "code",
   "execution_count": 30,
   "id": "97047035",
   "metadata": {},
   "outputs": [
    {
     "data": {
      "text/plain": [
       "['xgb_model_cbow.joblib']"
      ]
     },
     "execution_count": 30,
     "metadata": {},
     "output_type": "execute_result"
    }
   ],
   "source": [
    "filename='xgb_model_cbow.joblib'\n",
    "joblib.dump(xgb_model,filename)"
   ]
  },
  {
   "cell_type": "code",
   "execution_count": 31,
   "id": "44617e9a",
   "metadata": {},
   "outputs": [],
   "source": [
    "xgb_model=joblib.load('xgb_model_cbow.joblib')"
   ]
  },
  {
   "attachments": {},
   "cell_type": "markdown",
   "id": "cae5f7b7",
   "metadata": {},
   "source": [
    "## Test data set\n",
    "\n",
    "We start with process the test data set just like we did for the train data, i.e. compute feature vectors, remove rows that divide by zero, and etc."
   ]
  },
  {
   "cell_type": "code",
   "execution_count": 32,
   "id": "c3ebb3e5",
   "metadata": {},
   "outputs": [
    {
     "name": "stdout",
     "output_type": "stream",
     "text": [
      "Comment 0 of 10000\n",
      "Comment 1000 of 10000\n",
      "Comment 2000 of 10000\n",
      "Comment 3000 of 10000\n",
      "Comment 4000 of 10000\n",
      "Comment 5000 of 10000\n",
      "Comment 6000 of 10000\n",
      "Comment 7000 of 10000\n",
      "Comment 8000 of 10000\n",
      "Comment 9000 of 10000\n"
     ]
    }
   ],
   "source": [
    "testDataVecs = getAvgFeatureVecs(X_test['text'], w2v_model, 1000)"
   ]
  },
  {
   "cell_type": "code",
   "execution_count": 33,
   "id": "dd5c2f55",
   "metadata": {},
   "outputs": [],
   "source": [
    "y_test=y_test.reset_index(drop=True)"
   ]
  },
  {
   "cell_type": "code",
   "execution_count": 34,
   "id": "fcf089a8",
   "metadata": {},
   "outputs": [],
   "source": [
    "testDataVecs1,y_test1=remove_unuseful_rows(testDataVecs,y_test)"
   ]
  },
  {
   "cell_type": "code",
   "execution_count": 35,
   "id": "20715d2e",
   "metadata": {},
   "outputs": [
    {
     "name": "stderr",
     "output_type": "stream",
     "text": [
      "/var/folders/0s/xfpwvv6x0fg3pkqm99zxr6z40000gq/T/ipykernel_24206/1742227497.py:4: SettingWithCopyWarning: \n",
      "A value is trying to be set on a copy of a slice from a DataFrame\n",
      "\n",
      "See the caveats in the documentation: https://pandas.pydata.org/pandas-docs/stable/user_guide/indexing.html#returning-a-view-versus-a-copy\n",
      "  y_test1['sentiment'][i] = 1\n"
     ]
    }
   ],
   "source": [
    "y_test1['sentiment']=0\n",
    "for i in range(y_test1.shape[0]):\n",
    "    if y_test1['score'][i] > 3:\n",
    "        y_test1['sentiment'][i] = 1"
   ]
  },
  {
   "cell_type": "code",
   "execution_count": 36,
   "id": "e7b3386c",
   "metadata": {},
   "outputs": [],
   "source": [
    "xgb_prediction=xgb_model.predict(testDataVecs1)"
   ]
  },
  {
   "cell_type": "code",
   "execution_count": 37,
   "id": "7bed9aee",
   "metadata": {},
   "outputs": [
    {
     "data": {
      "text/plain": [
       "1424"
      ]
     },
     "execution_count": 37,
     "metadata": {},
     "output_type": "execute_result"
    }
   ],
   "source": [
    "np.dot(xgb_prediction-y_test1['sentiment'],xgb_prediction-y_test1['sentiment'])"
   ]
  },
  {
   "cell_type": "code",
   "execution_count": 39,
   "id": "464e9298",
   "metadata": {},
   "outputs": [
    {
     "name": "stdout",
     "output_type": "stream",
     "text": [
      "              precision    recall  f1-score   support\n",
      "\n",
      "           0       0.72      0.47      0.57      1995\n",
      "           1       0.88      0.95      0.91      8005\n",
      "\n",
      "    accuracy                           0.86     10000\n",
      "   macro avg       0.80      0.71      0.74     10000\n",
      "weighted avg       0.85      0.86      0.85     10000\n",
      "\n"
     ]
    }
   ],
   "source": [
    "print(classification_report(y_test1['sentiment'],xgb_prediction))"
   ]
  },
  {
   "cell_type": "code",
   "execution_count": 41,
   "id": "b23e3c7e",
   "metadata": {},
   "outputs": [
    {
     "data": {
      "image/png": "[encoded data removed]",
      "text/plain": [
       "<Figure size 500x300 with 1 Axes>"
      ]
     },
     "metadata": {},
     "output_type": "display_data"
    }
   ],
   "source": [
    "y_pred = [x[1] for x in xgb_model.predict_proba(testDataVecs1)]\n",
    "fpr, tpr, thresholds = roc_curve(y_test1['sentiment'], y_pred, pos_label = 1)\n",
    "\n",
    "roc_auc = auc(fpr, tpr)\n",
    "\n",
    "plt.figure(1, figsize = (5, 3))\n",
    "lw = 2\n",
    "plt.plot(fpr, tpr, color='darkorange',\n",
    "         lw=lw, label='ROC curve (area = %0.2f)' % roc_auc)\n",
    "plt.plot([0, 1], [0, 1], lw=lw, linestyle='--')\n",
    "plt.xlim([0.0, 1.0])\n",
    "plt.ylim([0.0, 1.0])\n",
    "plt.xlabel('False Positive Rate')\n",
    "plt.ylabel('True Positive Rate')\n",
    "plt.title('Receiver operating characteristic example')\n",
    "plt.legend(loc=\"lower right\")\n",
    "plt.show()"
   ]
  },
  {
   "attachments": {},
   "cell_type": "markdown",
   "id": "225412a3",
   "metadata": {},
   "source": [
    "The mean square error incresed quite significantly from 1293 to 1424, the accuracy and the auc score has decreased slightly. The CBoW has worse performance for the infrequent words compared to skip-gram. Therefore, when the size of dataset is small or the budget is limited, skip-gram is preferable to CBoW."
   ]
  }
 ],
 "metadata": {
  "kernelspec": {
   "display_name": "sklearn-env",
   "language": "python",
   "name": "python3"
  },
  "language_info": {
   "codemirror_mode": {
    "name": "ipython",
    "version": 3
   },
   "file_extension": ".py",
   "mimetype": "text/x-python",
   "name": "python",
   "nbconvert_exporter": "python",
   "pygments_lexer": "ipython3",
   "version": "3.11.0"
  },
  "vscode": {
   "interpreter": {
    "hash": "4990abdef3ebc9f72751f78a325f8319b605d7f3eaf2931f11ce533253df6476"
   }
  }
 },
 "nbformat": 4,
 "nbformat_minor": 5
}
