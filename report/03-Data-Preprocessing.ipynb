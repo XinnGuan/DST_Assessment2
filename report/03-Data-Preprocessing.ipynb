{
 "cells": [
  {
   "cell_type": "markdown",
   "id": "e4cf4ef5",
   "metadata": {},
   "source": [
    "# Data Preprocessing\n",
    "\n",
    "There are many things we would like to do to our text data before we give it to our models in order to allow the models to run more easily. From typing errors to badly formatted text, many issues can occur which would not exist in an ideal world. Therefore, at this data cleaning stage we attempt to solve as many of these problems as possible. Unfortunately, it will never be the case that we can sort every problem, so we focus on some key aspects here.\n",
    "\n",
    "## 1. Preperation\n",
    "\n",
    "First, load in the required packages."
   ]
  },
  {
   "cell_type": "code",
   "execution_count": 7,
   "id": "44a8194b",
   "metadata": {},
   "outputs": [],
   "source": [
    "import pandas as pd\n",
    "import re\n",
    "import string\n",
    "import numpy as np \n",
    "import random\n",
    "import pandas as pd \n",
    "from numpy.random import RandomState\n",
    "rng = RandomState()"
   ]
  },
  {
   "cell_type": "markdown",
   "id": "539122f1",
   "metadata": {},
   "source": [
    "Now we load in our training and test datasets that we produced previously."
   ]
  },
  {
   "cell_type": "code",
   "execution_count": 2,
   "id": "d6754422",
   "metadata": {},
   "outputs": [],
   "source": [
    "df_train = pd.read_csv(\"reviews_train.csv\")\n",
    "df_test = pd.read_csv(\"reviews_test.csv\")"
   ]
  },
  {
   "cell_type": "code",
   "execution_count": 4,
   "id": "2945f8f7",
   "metadata": {},
   "outputs": [
    {
     "data": {
      "text/html": [
       "<div>\n",
       "<style scoped>\n",
       "    .dataframe tbody tr th:only-of-type {\n",
       "        vertical-align: middle;\n",
       "    }\n",
       "\n",
       "    .dataframe tbody tr th {\n",
       "        vertical-align: top;\n",
       "    }\n",
       "\n",
       "    .dataframe thead th {\n",
       "        text-align: right;\n",
       "    }\n",
       "</style>\n",
       "<table border=\"1\" class=\"dataframe\">\n",
       "  <thead>\n",
       "    <tr style=\"text-align: right;\">\n",
       "      <th></th>\n",
       "      <th>score</th>\n",
       "      <th>summary</th>\n",
       "      <th>text</th>\n",
       "    </tr>\n",
       "  </thead>\n",
       "  <tbody>\n",
       "    <tr>\n",
       "      <th>0</th>\n",
       "      <td>1.0</td>\n",
       "      <td>Misrepresented, majority of short stories not ...</td>\n",
       "      <td>Misrepresented, majority of short stories not ...</td>\n",
       "    </tr>\n",
       "    <tr>\n",
       "      <th>1</th>\n",
       "      <td>1.0</td>\n",
       "      <td>Comments on &amp;quot;Magic Time&amp;quot;</td>\n",
       "      <td>Comments on &amp;quot;Magic Time&amp;quot; I am long t...</td>\n",
       "    </tr>\n",
       "    <tr>\n",
       "      <th>2</th>\n",
       "      <td>1.0</td>\n",
       "      <td>Missed opportunity</td>\n",
       "      <td>Missed opportunity The author must have done v...</td>\n",
       "    </tr>\n",
       "    <tr>\n",
       "      <th>3</th>\n",
       "      <td>1.0</td>\n",
       "      <td>Raise a Citizen!</td>\n",
       "      <td>Raise a Citizen! If you have Kids or Grandkids...</td>\n",
       "    </tr>\n",
       "    <tr>\n",
       "      <th>4</th>\n",
       "      <td>1.0</td>\n",
       "      <td>Unimpressed</td>\n",
       "      <td>Unimpressed I would never understand why this ...</td>\n",
       "    </tr>\n",
       "  </tbody>\n",
       "</table>\n",
       "</div>"
      ],
      "text/plain": [
       "   score                                            summary  \\\n",
       "0    1.0  Misrepresented, majority of short stories not ...   \n",
       "1    1.0                 Comments on &quot;Magic Time&quot;   \n",
       "2    1.0                                 Missed opportunity   \n",
       "3    1.0                                   Raise a Citizen!   \n",
       "4    1.0                                        Unimpressed   \n",
       "\n",
       "                                                text  \n",
       "0  Misrepresented, majority of short stories not ...  \n",
       "1  Comments on &quot;Magic Time&quot; I am long t...  \n",
       "2  Missed opportunity The author must have done v...  \n",
       "3  Raise a Citizen! If you have Kids or Grandkids...  \n",
       "4  Unimpressed I would never understand why this ...  "
      ]
     },
     "execution_count": 4,
     "metadata": {},
     "output_type": "execute_result"
    }
   ],
   "source": [
    "df_test.head()"
   ]
  },
  {
   "cell_type": "markdown",
   "id": "aa5cbc9a",
   "metadata": {},
   "source": [
    "Due to the large size of our dataset, we ran the data cleaning for the full train and test datasets on the HPC. To illustrate our steps, we will downsample the test and train to a manageable size and run through that in this notebook.\n",
    "\n",
    "This is the code to produce the downsampled training set."
   ]
  },
  {
   "cell_type": "code",
   "execution_count": 8,
   "id": "fd9d3fbe",
   "metadata": {},
   "outputs": [],
   "source": [
    "ones = df_train[df_train['score'] == 1]\n",
    "twos = df_train[df_train['score'] == 2]\n",
    "threes = df_train[df_train['score'] == 3]\n",
    "fours = df_train[df_train['score'] == 4]\n",
    "fives = df_train[df_train['score'] == 5]\n",
    "\n",
    "num_ones = round(len(ones) * 1/48)\n",
    "num_twos = round(len(twos) * 1/48)\n",
    "num_threes = round(len(threes) * 1/48)\n",
    "num_fours = round(len(fours) * 1/48)\n",
    "num_fives = round(len(fives) * 1/48)\n",
    "\n",
    "new_ones = ones.sample(n=num_ones, random_state=rng)\n",
    "new_twos = twos.sample(n=num_twos, random_state=rng)\n",
    "new_threes = threes.sample(n=num_threes, random_state=rng)\n",
    "new_fours = fours.sample(n=num_fours, random_state=rng)\n",
    "new_fives = fives.sample(n=num_fives, random_state=rng)\n",
    "\n",
    "trainframe = [new_ones,new_twos,new_threes,new_fours,new_fives]\n",
    "\n",
    "new_train = pd.concat(trainframe)"
   ]
  },
  {
   "cell_type": "code",
   "execution_count": 9,
   "id": "47e5e7a5",
   "metadata": {},
   "outputs": [],
   "source": [
    "new_train.to_csv('train_50k.csv', sep=\",\", index=False)"
   ]
  },
  {
   "cell_type": "markdown",
   "id": "9df57576",
   "metadata": {},
   "source": [
    "This is the code to produce the downsampled test set."
   ]
  },
  {
   "cell_type": "code",
   "execution_count": 12,
   "id": "0aa69652",
   "metadata": {},
   "outputs": [],
   "source": [
    "ones = df_test[df_test['score'] == 1]\n",
    "twos = df_test[df_test['score'] == 2]\n",
    "threes = df_test[df_test['score'] == 3]\n",
    "fours = df_test[df_test['score'] == 4]\n",
    "fives = df_test[df_test['score'] == 5]\n",
    "\n",
    "num_ones = round(len(ones) * 1/60)\n",
    "num_twos = round(len(twos) * 1/60)\n",
    "num_threes = round(len(threes) * 1/60)\n",
    "num_fours = round(len(fours) * 1/60)\n",
    "num_fives = round(len(fives) * 1/60)\n",
    "\n",
    "new_ones = ones.sample(n=num_ones, random_state=rng)\n",
    "new_twos = twos.sample(n=num_twos, random_state=rng)\n",
    "new_threes = threes.sample(n=num_threes, random_state=rng)\n",
    "new_fours = fours.sample(n=num_fours, random_state=rng)\n",
    "new_fives = fives.sample(n=num_fives, random_state=rng)\n",
    "\n",
    "testframe = [new_ones,new_twos,new_threes,new_fours,new_fives]\n",
    "\n",
    "new_test = pd.concat(testframe)"
   ]
  },
  {
   "cell_type": "code",
   "execution_count": 14,
   "id": "28a169c1",
   "metadata": {},
   "outputs": [],
   "source": [
    "new_test.to_csv('test_10k.csv', sep=\",\", index=False)"
   ]
  },
  {
   "cell_type": "markdown",
   "id": "3bd70bdb",
   "metadata": {},
   "source": [
    "Now we have a training set of 50,000 and a test set of 10,000 to work with. If you are coming back to this notebook, then you can just run the cells below to load the downsampled test and training sets back in."
   ]
  },
  {
   "cell_type": "code",
   "execution_count": 15,
   "id": "19bd898a",
   "metadata": {},
   "outputs": [],
   "source": [
    "df_train = pd.read_csv(\"train_50k.csv\")\n",
    "df_test = pd.read_csv(\"test_10k.csv\")"
   ]
  },
  {
   "cell_type": "code",
   "execution_count": 17,
   "id": "1ce3ca79",
   "metadata": {},
   "outputs": [
    {
     "data": {
      "text/html": [
       "<div>\n",
       "<style scoped>\n",
       "    .dataframe tbody tr th:only-of-type {\n",
       "        vertical-align: middle;\n",
       "    }\n",
       "\n",
       "    .dataframe tbody tr th {\n",
       "        vertical-align: top;\n",
       "    }\n",
       "\n",
       "    .dataframe thead th {\n",
       "        text-align: right;\n",
       "    }\n",
       "</style>\n",
       "<table border=\"1\" class=\"dataframe\">\n",
       "  <thead>\n",
       "    <tr style=\"text-align: right;\">\n",
       "      <th></th>\n",
       "      <th>score</th>\n",
       "      <th>summary</th>\n",
       "      <th>text</th>\n",
       "    </tr>\n",
       "  </thead>\n",
       "  <tbody>\n",
       "    <tr>\n",
       "      <th>0</th>\n",
       "      <td>1.0</td>\n",
       "      <td>Painful</td>\n",
       "      <td>Painful I should start by saying that I have e...</td>\n",
       "    </tr>\n",
       "    <tr>\n",
       "      <th>1</th>\n",
       "      <td>1.0</td>\n",
       "      <td>I returned it!</td>\n",
       "      <td>I returned it! I was left scratching my head a...</td>\n",
       "    </tr>\n",
       "    <tr>\n",
       "      <th>2</th>\n",
       "      <td>1.0</td>\n",
       "      <td>damn foole by luke</td>\n",
       "      <td>damn foole by luke the damn foole by tom mcgra...</td>\n",
       "    </tr>\n",
       "    <tr>\n",
       "      <th>3</th>\n",
       "      <td>1.0</td>\n",
       "      <td>A waste of time and poorly written</td>\n",
       "      <td>A waste of time and poorly written This book w...</td>\n",
       "    </tr>\n",
       "    <tr>\n",
       "      <th>4</th>\n",
       "      <td>1.0</td>\n",
       "      <td>Bo-o-o-oring!</td>\n",
       "      <td>Bo-o-o-oring! I don't know what to make of thi...</td>\n",
       "    </tr>\n",
       "  </tbody>\n",
       "</table>\n",
       "</div>"
      ],
      "text/plain": [
       "   score                             summary  \\\n",
       "0    1.0                             Painful   \n",
       "1    1.0                      I returned it!   \n",
       "2    1.0                  damn foole by luke   \n",
       "3    1.0  A waste of time and poorly written   \n",
       "4    1.0                       Bo-o-o-oring!   \n",
       "\n",
       "                                                text  \n",
       "0  Painful I should start by saying that I have e...  \n",
       "1  I returned it! I was left scratching my head a...  \n",
       "2  damn foole by luke the damn foole by tom mcgra...  \n",
       "3  A waste of time and poorly written This book w...  \n",
       "4  Bo-o-o-oring! I don't know what to make of thi...  "
      ]
     },
     "execution_count": 17,
     "metadata": {},
     "output_type": "execute_result"
    }
   ],
   "source": [
    "df_train.head()"
   ]
  },
  {
   "cell_type": "code",
   "execution_count": 18,
   "id": "f5d457f6",
   "metadata": {},
   "outputs": [
    {
     "data": {
      "text/html": [
       "<div>\n",
       "<style scoped>\n",
       "    .dataframe tbody tr th:only-of-type {\n",
       "        vertical-align: middle;\n",
       "    }\n",
       "\n",
       "    .dataframe tbody tr th {\n",
       "        vertical-align: top;\n",
       "    }\n",
       "\n",
       "    .dataframe thead th {\n",
       "        text-align: right;\n",
       "    }\n",
       "</style>\n",
       "<table border=\"1\" class=\"dataframe\">\n",
       "  <thead>\n",
       "    <tr style=\"text-align: right;\">\n",
       "      <th></th>\n",
       "      <th>score</th>\n",
       "      <th>summary</th>\n",
       "      <th>text</th>\n",
       "    </tr>\n",
       "  </thead>\n",
       "  <tbody>\n",
       "    <tr>\n",
       "      <th>0</th>\n",
       "      <td>1.0</td>\n",
       "      <td>how to be ashamed of your masculinity</td>\n",
       "      <td>how to be ashamed of your masculinity Stoltenb...</td>\n",
       "    </tr>\n",
       "    <tr>\n",
       "      <th>1</th>\n",
       "      <td>1.0</td>\n",
       "      <td>Misleading book for managers.</td>\n",
       "      <td>Misleading book for managers. This book is ent...</td>\n",
       "    </tr>\n",
       "    <tr>\n",
       "      <th>2</th>\n",
       "      <td>1.0</td>\n",
       "      <td>The Black Dahlia</td>\n",
       "      <td>The Black Dahlia I received great service for ...</td>\n",
       "    </tr>\n",
       "    <tr>\n",
       "      <th>3</th>\n",
       "      <td>1.0</td>\n",
       "      <td>Frugal Too Much</td>\n",
       "      <td>Frugal Too Much This book is a huge disappoint...</td>\n",
       "    </tr>\n",
       "    <tr>\n",
       "      <th>4</th>\n",
       "      <td>1.0</td>\n",
       "      <td>Depressing and inaccurate.</td>\n",
       "      <td>Depressing and inaccurate. Like another review...</td>\n",
       "    </tr>\n",
       "  </tbody>\n",
       "</table>\n",
       "</div>"
      ],
      "text/plain": [
       "   score                                summary  \\\n",
       "0    1.0  how to be ashamed of your masculinity   \n",
       "1    1.0          Misleading book for managers.   \n",
       "2    1.0                       The Black Dahlia   \n",
       "3    1.0                        Frugal Too Much   \n",
       "4    1.0             Depressing and inaccurate.   \n",
       "\n",
       "                                                text  \n",
       "0  how to be ashamed of your masculinity Stoltenb...  \n",
       "1  Misleading book for managers. This book is ent...  \n",
       "2  The Black Dahlia I received great service for ...  \n",
       "3  Frugal Too Much This book is a huge disappoint...  \n",
       "4  Depressing and inaccurate. Like another review...  "
      ]
     },
     "execution_count": 18,
     "metadata": {},
     "output_type": "execute_result"
    }
   ],
   "source": [
    "df_test.head()"
   ]
  },
  {
   "cell_type": "markdown",
   "id": "a31e1742",
   "metadata": {},
   "source": [
    "## 2. Change Score To Sentiment\n",
    "\n",
    "Here we create a function which maps each score to our chosen sentiment classification categories of negative being 3 stars or less and positive being four or five stars."
   ]
  },
  {
   "cell_type": "code",
   "execution_count": 16,
   "id": "1ab8bf48",
   "metadata": {},
   "outputs": [],
   "source": [
    "def map_sentiment(stars_received):\n",
    "    if stars_received <= 3:\n",
    "        return 0\n",
    "    else:\n",
    "        return 1"
   ]
  },
  {
   "cell_type": "code",
   "execution_count": 19,
   "id": "2c3e1b8b",
   "metadata": {},
   "outputs": [],
   "source": [
    "df_train['sentiment'] = [map_sentiment(x) for x in df_train['score']]\n",
    "df_test['sentiment'] = [map_sentiment(x) for x in df_test['score']]"
   ]
  },
  {
   "cell_type": "code",
   "execution_count": 21,
   "id": "921ca6a5",
   "metadata": {},
   "outputs": [],
   "source": [
    "df_train.drop(['score'], axis=1, inplace=True)\n",
    "df_test.drop(['score'], axis=1, inplace=True)"
   ]
  },
  {
   "cell_type": "code",
   "execution_count": 22,
   "id": "71374d79",
   "metadata": {},
   "outputs": [
    {
     "data": {
      "text/html": [
       "<div>\n",
       "<style scoped>\n",
       "    .dataframe tbody tr th:only-of-type {\n",
       "        vertical-align: middle;\n",
       "    }\n",
       "\n",
       "    .dataframe tbody tr th {\n",
       "        vertical-align: top;\n",
       "    }\n",
       "\n",
       "    .dataframe thead th {\n",
       "        text-align: right;\n",
       "    }\n",
       "</style>\n",
       "<table border=\"1\" class=\"dataframe\">\n",
       "  <thead>\n",
       "    <tr style=\"text-align: right;\">\n",
       "      <th></th>\n",
       "      <th>summary</th>\n",
       "      <th>text</th>\n",
       "      <th>sentiment</th>\n",
       "    </tr>\n",
       "  </thead>\n",
       "  <tbody>\n",
       "    <tr>\n",
       "      <th>0</th>\n",
       "      <td>Painful</td>\n",
       "      <td>Painful I should start by saying that I have e...</td>\n",
       "      <td>0</td>\n",
       "    </tr>\n",
       "    <tr>\n",
       "      <th>1</th>\n",
       "      <td>I returned it!</td>\n",
       "      <td>I returned it! I was left scratching my head a...</td>\n",
       "      <td>0</td>\n",
       "    </tr>\n",
       "    <tr>\n",
       "      <th>2</th>\n",
       "      <td>damn foole by luke</td>\n",
       "      <td>damn foole by luke the damn foole by tom mcgra...</td>\n",
       "      <td>0</td>\n",
       "    </tr>\n",
       "    <tr>\n",
       "      <th>3</th>\n",
       "      <td>A waste of time and poorly written</td>\n",
       "      <td>A waste of time and poorly written This book w...</td>\n",
       "      <td>0</td>\n",
       "    </tr>\n",
       "    <tr>\n",
       "      <th>4</th>\n",
       "      <td>Bo-o-o-oring!</td>\n",
       "      <td>Bo-o-o-oring! I don't know what to make of thi...</td>\n",
       "      <td>0</td>\n",
       "    </tr>\n",
       "  </tbody>\n",
       "</table>\n",
       "</div>"
      ],
      "text/plain": [
       "                              summary  \\\n",
       "0                             Painful   \n",
       "1                      I returned it!   \n",
       "2                  damn foole by luke   \n",
       "3  A waste of time and poorly written   \n",
       "4                       Bo-o-o-oring!   \n",
       "\n",
       "                                                text  sentiment  \n",
       "0  Painful I should start by saying that I have e...          0  \n",
       "1  I returned it! I was left scratching my head a...          0  \n",
       "2  damn foole by luke the damn foole by tom mcgra...          0  \n",
       "3  A waste of time and poorly written This book w...          0  \n",
       "4  Bo-o-o-oring! I don't know what to make of thi...          0  "
      ]
     },
     "execution_count": 22,
     "metadata": {},
     "output_type": "execute_result"
    }
   ],
   "source": [
    "df_train.head()"
   ]
  },
  {
   "cell_type": "code",
   "execution_count": 24,
   "id": "3fbb2543",
   "metadata": {},
   "outputs": [
    {
     "data": {
      "text/html": [
       "<div>\n",
       "<style scoped>\n",
       "    .dataframe tbody tr th:only-of-type {\n",
       "        vertical-align: middle;\n",
       "    }\n",
       "\n",
       "    .dataframe tbody tr th {\n",
       "        vertical-align: top;\n",
       "    }\n",
       "\n",
       "    .dataframe thead th {\n",
       "        text-align: right;\n",
       "    }\n",
       "</style>\n",
       "<table border=\"1\" class=\"dataframe\">\n",
       "  <thead>\n",
       "    <tr style=\"text-align: right;\">\n",
       "      <th></th>\n",
       "      <th>summary</th>\n",
       "      <th>text</th>\n",
       "      <th>sentiment</th>\n",
       "    </tr>\n",
       "  </thead>\n",
       "  <tbody>\n",
       "    <tr>\n",
       "      <th>0</th>\n",
       "      <td>how to be ashamed of your masculinity</td>\n",
       "      <td>how to be ashamed of your masculinity Stoltenb...</td>\n",
       "      <td>0</td>\n",
       "    </tr>\n",
       "    <tr>\n",
       "      <th>1</th>\n",
       "      <td>Misleading book for managers.</td>\n",
       "      <td>Misleading book for managers. This book is ent...</td>\n",
       "      <td>0</td>\n",
       "    </tr>\n",
       "    <tr>\n",
       "      <th>2</th>\n",
       "      <td>The Black Dahlia</td>\n",
       "      <td>The Black Dahlia I received great service for ...</td>\n",
       "      <td>0</td>\n",
       "    </tr>\n",
       "    <tr>\n",
       "      <th>3</th>\n",
       "      <td>Frugal Too Much</td>\n",
       "      <td>Frugal Too Much This book is a huge disappoint...</td>\n",
       "      <td>0</td>\n",
       "    </tr>\n",
       "    <tr>\n",
       "      <th>4</th>\n",
       "      <td>Depressing and inaccurate.</td>\n",
       "      <td>Depressing and inaccurate. Like another review...</td>\n",
       "      <td>0</td>\n",
       "    </tr>\n",
       "  </tbody>\n",
       "</table>\n",
       "</div>"
      ],
      "text/plain": [
       "                                 summary  \\\n",
       "0  how to be ashamed of your masculinity   \n",
       "1          Misleading book for managers.   \n",
       "2                       The Black Dahlia   \n",
       "3                        Frugal Too Much   \n",
       "4             Depressing and inaccurate.   \n",
       "\n",
       "                                                text  sentiment  \n",
       "0  how to be ashamed of your masculinity Stoltenb...          0  \n",
       "1  Misleading book for managers. This book is ent...          0  \n",
       "2  The Black Dahlia I received great service for ...          0  \n",
       "3  Frugal Too Much This book is a huge disappoint...          0  \n",
       "4  Depressing and inaccurate. Like another review...          0  "
      ]
     },
     "execution_count": 24,
     "metadata": {},
     "output_type": "execute_result"
    }
   ],
   "source": [
    "df_test.head()"
   ]
  },
  {
   "cell_type": "markdown",
   "id": "8fec7fbd",
   "metadata": {},
   "source": [
    "## 3. Data Cleaning"
   ]
  },
  {
   "cell_type": "markdown",
   "id": "a333710e",
   "metadata": {},
   "source": [
    "In this section, we have performed various pre-processing steps on the dataset. This includes removing rows which have any empty values, changing abbreviations back to their standard version and removing stopwords. The text document is then converted into the lowercase for better consistency.\n",
    "\n",
    "Subsequently, we remove all punctuation thereby reducing the unnecessary noise in the dataset. After that, we have also removed repeating characters from the words, such as if someone were to type \"hhhhhhello\".\n",
    "\n",
    "Next we perform 'tokenization', which is splitting the text up into its constiuent words, and 'lemmatization' (reducing the derived words to their root form known as lemma). This limits the vocabulary to part of speech, which simplifies it for better results."
   ]
  },
  {
   "cell_type": "markdown",
   "id": "3b7a5fb1",
   "metadata": {},
   "source": [
    "### 3.1 Removing Rows with Empty Values"
   ]
  },
  {
   "cell_type": "markdown",
   "id": "2dedcfe3",
   "metadata": {},
   "source": [
    "It is simple to remove any rows with empty values. We can see that there are no null values left after we carry out this step."
   ]
  },
  {
   "cell_type": "code",
   "execution_count": 25,
   "id": "dbac2c1a",
   "metadata": {},
   "outputs": [],
   "source": [
    "df_train.dropna(axis= 0,how='any',inplace=True)\n",
    "df_test.dropna(axis= 0,how='any',inplace=True)"
   ]
  },
  {
   "cell_type": "code",
   "execution_count": 26,
   "id": "280e2626",
   "metadata": {},
   "outputs": [
    {
     "data": {
      "text/plain": [
       "summary      0\n",
       "text         0\n",
       "sentiment    0\n",
       "dtype: int64"
      ]
     },
     "execution_count": 26,
     "metadata": {},
     "output_type": "execute_result"
    }
   ],
   "source": [
    "df_train.isna().sum()"
   ]
  },
  {
   "cell_type": "code",
   "execution_count": 27,
   "id": "093b98a6",
   "metadata": {},
   "outputs": [
    {
     "data": {
      "text/plain": [
       "summary      0\n",
       "text         0\n",
       "sentiment    0\n",
       "dtype: int64"
      ]
     },
     "execution_count": 27,
     "metadata": {},
     "output_type": "execute_result"
    }
   ],
   "source": [
    "df_test.isna().sum()"
   ]
  },
  {
   "cell_type": "markdown",
   "id": "58b59237",
   "metadata": {},
   "source": [
    "Now we import some packages we require for the next stage."
   ]
  },
  {
   "cell_type": "code",
   "execution_count": 51,
   "id": "9aca2de3",
   "metadata": {},
   "outputs": [
    {
     "name": "stderr",
     "output_type": "stream",
     "text": [
      "[nltk_data] Downloading package stopwords to\n",
      "[nltk_data]     C:\\Users\\ego99\\AppData\\Roaming\\nltk_data...\n",
      "[nltk_data]   Package stopwords is already up-to-date!\n"
     ]
    }
   ],
   "source": [
    "import nltk\n",
    "from nltk.stem import WordNetLemmatizer\n",
    "lemma = WordNetLemmatizer()\n",
    "nltk.download('stopwords')\n",
    "from nltk.corpus import stopwords"
   ]
  },
  {
   "cell_type": "markdown",
   "id": "7f852b3f",
   "metadata": {},
   "source": [
    "### 3.2 Changing all Text to Lowercase\n",
    "\n",
    "It is also straightforward to turn all text to lowercase."
   ]
  },
  {
   "cell_type": "code",
   "execution_count": 28,
   "id": "daa1af44",
   "metadata": {},
   "outputs": [],
   "source": [
    "df_train['text']=df_train['text'].str.lower()\n",
    "df_test['text']=df_test['text'].str.lower()\n",
    "df_train['summary']=df_train['summary'].str.lower()\n",
    "df_test['summary']=df_test['summary'].str.lower()"
   ]
  },
  {
   "cell_type": "code",
   "execution_count": 29,
   "id": "a0186f3b",
   "metadata": {},
   "outputs": [
    {
     "data": {
      "text/html": [
       "<div>\n",
       "<style scoped>\n",
       "    .dataframe tbody tr th:only-of-type {\n",
       "        vertical-align: middle;\n",
       "    }\n",
       "\n",
       "    .dataframe tbody tr th {\n",
       "        vertical-align: top;\n",
       "    }\n",
       "\n",
       "    .dataframe thead th {\n",
       "        text-align: right;\n",
       "    }\n",
       "</style>\n",
       "<table border=\"1\" class=\"dataframe\">\n",
       "  <thead>\n",
       "    <tr style=\"text-align: right;\">\n",
       "      <th></th>\n",
       "      <th>summary</th>\n",
       "      <th>text</th>\n",
       "      <th>sentiment</th>\n",
       "    </tr>\n",
       "  </thead>\n",
       "  <tbody>\n",
       "    <tr>\n",
       "      <th>0</th>\n",
       "      <td>painful</td>\n",
       "      <td>painful i should start by saying that i have e...</td>\n",
       "      <td>0</td>\n",
       "    </tr>\n",
       "    <tr>\n",
       "      <th>1</th>\n",
       "      <td>i returned it!</td>\n",
       "      <td>i returned it! i was left scratching my head a...</td>\n",
       "      <td>0</td>\n",
       "    </tr>\n",
       "    <tr>\n",
       "      <th>2</th>\n",
       "      <td>damn foole by luke</td>\n",
       "      <td>damn foole by luke the damn foole by tom mcgra...</td>\n",
       "      <td>0</td>\n",
       "    </tr>\n",
       "    <tr>\n",
       "      <th>3</th>\n",
       "      <td>a waste of time and poorly written</td>\n",
       "      <td>a waste of time and poorly written this book w...</td>\n",
       "      <td>0</td>\n",
       "    </tr>\n",
       "    <tr>\n",
       "      <th>4</th>\n",
       "      <td>bo-o-o-oring!</td>\n",
       "      <td>bo-o-o-oring! i don't know what to make of thi...</td>\n",
       "      <td>0</td>\n",
       "    </tr>\n",
       "  </tbody>\n",
       "</table>\n",
       "</div>"
      ],
      "text/plain": [
       "                              summary  \\\n",
       "0                             painful   \n",
       "1                      i returned it!   \n",
       "2                  damn foole by luke   \n",
       "3  a waste of time and poorly written   \n",
       "4                       bo-o-o-oring!   \n",
       "\n",
       "                                                text  sentiment  \n",
       "0  painful i should start by saying that i have e...          0  \n",
       "1  i returned it! i was left scratching my head a...          0  \n",
       "2  damn foole by luke the damn foole by tom mcgra...          0  \n",
       "3  a waste of time and poorly written this book w...          0  \n",
       "4  bo-o-o-oring! i don't know what to make of thi...          0  "
      ]
     },
     "execution_count": 29,
     "metadata": {},
     "output_type": "execute_result"
    }
   ],
   "source": [
    "df_train.head()"
   ]
  },
  {
   "cell_type": "code",
   "execution_count": 30,
   "id": "73d0c572",
   "metadata": {},
   "outputs": [
    {
     "data": {
      "text/html": [
       "<div>\n",
       "<style scoped>\n",
       "    .dataframe tbody tr th:only-of-type {\n",
       "        vertical-align: middle;\n",
       "    }\n",
       "\n",
       "    .dataframe tbody tr th {\n",
       "        vertical-align: top;\n",
       "    }\n",
       "\n",
       "    .dataframe thead th {\n",
       "        text-align: right;\n",
       "    }\n",
       "</style>\n",
       "<table border=\"1\" class=\"dataframe\">\n",
       "  <thead>\n",
       "    <tr style=\"text-align: right;\">\n",
       "      <th></th>\n",
       "      <th>summary</th>\n",
       "      <th>text</th>\n",
       "      <th>sentiment</th>\n",
       "    </tr>\n",
       "  </thead>\n",
       "  <tbody>\n",
       "    <tr>\n",
       "      <th>0</th>\n",
       "      <td>how to be ashamed of your masculinity</td>\n",
       "      <td>how to be ashamed of your masculinity stoltenb...</td>\n",
       "      <td>0</td>\n",
       "    </tr>\n",
       "    <tr>\n",
       "      <th>1</th>\n",
       "      <td>misleading book for managers.</td>\n",
       "      <td>misleading book for managers. this book is ent...</td>\n",
       "      <td>0</td>\n",
       "    </tr>\n",
       "    <tr>\n",
       "      <th>2</th>\n",
       "      <td>the black dahlia</td>\n",
       "      <td>the black dahlia i received great service for ...</td>\n",
       "      <td>0</td>\n",
       "    </tr>\n",
       "    <tr>\n",
       "      <th>3</th>\n",
       "      <td>frugal too much</td>\n",
       "      <td>frugal too much this book is a huge disappoint...</td>\n",
       "      <td>0</td>\n",
       "    </tr>\n",
       "    <tr>\n",
       "      <th>4</th>\n",
       "      <td>depressing and inaccurate.</td>\n",
       "      <td>depressing and inaccurate. like another review...</td>\n",
       "      <td>0</td>\n",
       "    </tr>\n",
       "  </tbody>\n",
       "</table>\n",
       "</div>"
      ],
      "text/plain": [
       "                                 summary  \\\n",
       "0  how to be ashamed of your masculinity   \n",
       "1          misleading book for managers.   \n",
       "2                       the black dahlia   \n",
       "3                        frugal too much   \n",
       "4             depressing and inaccurate.   \n",
       "\n",
       "                                                text  sentiment  \n",
       "0  how to be ashamed of your masculinity stoltenb...          0  \n",
       "1  misleading book for managers. this book is ent...          0  \n",
       "2  the black dahlia i received great service for ...          0  \n",
       "3  frugal too much this book is a huge disappoint...          0  \n",
       "4  depressing and inaccurate. like another review...          0  "
      ]
     },
     "execution_count": 30,
     "metadata": {},
     "output_type": "execute_result"
    }
   ],
   "source": [
    "df_test.head()"
   ]
  },
  {
   "cell_type": "markdown",
   "id": "4d10b9f8",
   "metadata": {},
   "source": [
    "### 3.3 Restoring Common Abbreviations\n",
    "\n",
    "The code below restores common abbreviations to their proper form."
   ]
  },
  {
   "cell_type": "code",
   "execution_count": 31,
   "id": "e9732db5",
   "metadata": {},
   "outputs": [],
   "source": [
    "def restore_common_abbr(caption):\n",
    "    pat_is = re.compile(\"(it|he|she|that|this|there|here)(\\'s)\", re.I)\n",
    "    pat_s = re.compile(\"(?<=[a-zA-Z])\\'s\")  \n",
    "    pat_s2 = re.compile(\"(?<=s)\\'s?\")\n",
    "    pat_not = re.compile(\"(?<=[a-zA-Z])n\\'t\")  # not abbreviation\n",
    "    pat_would = re.compile(\"(?<=[a-zA-Z])\\'d\")  # would abbreviation\n",
    "    pat_will = re.compile(\"(?<=[a-zA-Z])\\'ll\")  # will abbreviation\n",
    "    pat_am = re.compile(\"(?<=[I|i])\\'m\")  # am abbreviation\n",
    "    pat_are = re.compile(\"(?<=[a-zA-Z])\\'re\")  # are abbreviation\n",
    "    pat_ve = re.compile(\"(?<=[a-zA-Z])\\'ve\")  # have abbreviation\n",
    "\n",
    "    new_text = caption\n",
    "    new_text = pat_is.sub(r\"\\1 is\", new_text)\n",
    "    new_text = pat_s.sub(\"\", new_text)\n",
    "    new_text = pat_s2.sub(\"\", new_text)\n",
    "    new_text = pat_not.sub(\" not\", new_text)\n",
    "    new_text = pat_would.sub(\" would\", new_text)\n",
    "    new_text = pat_will.sub(\" will\", new_text)\n",
    "    new_text = pat_am.sub(\" am\", new_text)\n",
    "    new_text = pat_are.sub(\" are\", new_text)\n",
    "    new_text = pat_ve.sub(\" have\", new_text)\n",
    "    new_text = new_text.replace('\\'', ' ')\n",
    "    return new_text"
   ]
  },
  {
   "cell_type": "code",
   "execution_count": 32,
   "id": "080368a7",
   "metadata": {},
   "outputs": [],
   "source": [
    "df_train['text']= df_train['text'].apply(lambda x: restore_common_abbr(x))\n",
    "df_train['summary']= df_train['summary'].apply(lambda x: restore_common_abbr(x))\n",
    "df_test['text']= df_test['text'].apply(lambda x: restore_common_abbr(x))\n",
    "df_test['summary']= df_test['summary'].apply(lambda x: restore_common_abbr(x))"
   ]
  },
  {
   "cell_type": "markdown",
   "id": "c5fcab67",
   "metadata": {},
   "source": [
    "### 3.4 Removing Stop Words\n",
    "\n",
    "To choose the stop words we would like to remove, we start with a standard set that comes with a package. We then inspected these and chose some to keep which we felt might still be useful."
   ]
  },
  {
   "cell_type": "code",
   "execution_count": 19,
   "id": "e5b975c1",
   "metadata": {},
   "outputs": [
    {
     "name": "stdout",
     "output_type": "stream",
     "text": [
      "{'have', 'my', 'so', 're', 'any', 'only', 'haven', 'between', 'be', 'am', \"hadn't\", 'its', 've', 'needn', 'you', 'doing', \"don't\", 'she', 'all', 'against', 'me', 'were', 'y', 'theirs', 'hadn', 'myself', 'should', \"didn't\", 'our', 'themselves', \"should've\", \"you'd\", 'where', 'a', 'hers', 'here', 'are', 'didn', 'below', 'is', 'this', 'ma', \"that'll\", \"mustn't\", 'weren', 'wouldn', 'their', 'ours', 'don', 'other', 'same', \"won't\", 'more', 'how', \"isn't\", 'few', 'than', 'too', 'in', 'if', 'yours', 'ain', 'yourself', \"wouldn't\", 'those', \"she's\", 'until', 'i', 'itself', 'has', 'shouldn', 'your', 'own', 'under', 'further', 'again', 'm', 'but', 'won', 'over', 'no', 'mustn', 'that', 'while', 'during', 'to', 'above', 'such', 'will', 'shan', \"wasn't\", 'him', 'them', 'was', 'he', 'yourselves', 'there', 'herself', 'for', \"doesn't\", \"couldn't\", 'doesn', 'not', 'did', 'hasn', 'with', 'some', 'into', 'does', 'nor', 'o', \"needn't\", 'and', 'most', 'his', 'having', 'after', \"you've\", 'the', 'they', 'then', 'isn', \"shan't\", 'once', 't', 'it', \"shouldn't\", 'been', 'can', 'being', 'of', 'about', 'just', 'down', \"hasn't\", 'now', 'ourselves', 'd', 'up', 'her', 'had', 'aren', 'what', 'from', \"you'll\", 'each', 'we', 'whom', \"mightn't\", 'do', 'because', 'through', 's', \"weren't\", 'himself', 'who', 'both', 'an', 'by', 'when', 'at', 'as', 'off', 'very', 'these', 'or', \"it's\", 'mightn', 'before', \"you're\", \"haven't\", 'on', 'why', 'll', 'which', 'wasn', \"aren't\", 'couldn', 'out'}\n"
     ]
    }
   ],
   "source": [
    "STOPWORDS = set(stopwords.words('english'))\n",
    "print(STOPWORDS)"
   ]
  },
  {
   "cell_type": "code",
   "execution_count": 33,
   "id": "5cf1f4dc",
   "metadata": {},
   "outputs": [],
   "source": [
    "#create our new stopoing words to keep some words like 'not'  \n",
    "my_stopwords ={'have', 'my', 'so', 're', 'any', 'only', 'haven', 'between', 'be', 'am', \"hadn't\", 'its', 've', 'needn', 'you', 'doing', \"don't\", 'she', 'all', 'against', 'me', 'were', 'y', 'theirs', 'hadn', 'myself', 'should', \"didn't\", 'our', 'themselves', \"should've\", \"you'd\", 'where', 'a', 'hers', 'here', 'are', 'didn', 'below', 'is', 'this', 'ma', \"that'll\", \"mustn't\", 'weren', 'wouldn', 'their', 'ours', 'don', 'other', 'same', \"won't\", 'more', 'how', \"isn't\", 'few', 'than', 'too', 'in', 'if', 'yours', 'ain', 'yourself', \"wouldn't\", 'those', \"she's\", 'until', 'i', 'itself', 'has', 'shouldn', 'your', 'own', 'under', 'further', 'again', 'm', 'but', 'won', 'over', 'no', 'mustn', 'that', 'while', 'during', 'to', 'above', 'such', 'will', 'shan', \"wasn't\", 'him', 'them', 'was', 'he', 'yourselves', 'there', 'herself', 'for', \"doesn't\", \"couldn't\", 'doesn', 'did', 'hasn', 'with', 'some', 'into', 'does', 'nor', 'o', \"needn't\", 'and', 'most', 'his', 'having', 'after', \"you've\", 'the', 'they', 'then', 'isn', \"shan't\", 'once', 't', 'it', \"shouldn't\", 'been', 'can', 'being', 'of', 'about', 'just', 'down', \"hasn't\", 'now', 'ourselves', 'd', 'up', 'her', 'had', 'aren', 'what', 'from', \"you'll\", 'each', 'we', 'whom', \"mightn't\", 'do', 'because', 'through', 's', \"weren't\", 'himself', 'who', 'both', 'an', 'by', 'when', 'at', 'as', 'off', 'very', 'these', 'or', \"it's\", 'mightn', 'before', \"you're\", \"haven't\", 'on', 'why', 'll', 'which', 'wasn', \"aren't\", 'couldn', 'out'}"
   ]
  },
  {
   "cell_type": "code",
   "execution_count": 34,
   "id": "ab13476e",
   "metadata": {},
   "outputs": [],
   "source": [
    "def cleaning_stopwords(text):\n",
    "    return \" \".join([word for word in str(text).split() if word not in my_stopwords])"
   ]
  },
  {
   "cell_type": "code",
   "execution_count": 35,
   "id": "52a5a723",
   "metadata": {},
   "outputs": [],
   "source": [
    "df_train['text'] = df_train['text'].apply(lambda text: cleaning_stopwords(text))\n",
    "df_train['summary'] = df_train['summary'].apply(lambda text: cleaning_stopwords(text))\n",
    "df_test['text'] = df_test['text'].apply(lambda text: cleaning_stopwords(text))\n",
    "df_test['summary'] = df_test['summary'].apply(lambda text: cleaning_stopwords(text))"
   ]
  },
  {
   "cell_type": "markdown",
   "id": "2d4bfdcc",
   "metadata": {},
   "source": [
    "### 3.5 Removing Punctuations\n",
    "\n",
    "The following code removes all of the punctuation, replacing each with a space to prevent words which are only seperated by a piece of punctuation from conjoining."
   ]
  },
  {
   "cell_type": "code",
   "execution_count": 36,
   "id": "81a17733",
   "metadata": {},
   "outputs": [],
   "source": [
    "exclude = set('\"#$%&\\()*+-/:<=>@[\\\\]^_`{|}!?,.')\n",
    "def cleaning_punctuations(lines):\n",
    "    line = ' '.join(''.join(' ' if ch in exclude else ch for ch in lines).split())\n",
    "    return line"
   ]
  },
  {
   "cell_type": "code",
   "execution_count": 37,
   "id": "96cd66a6",
   "metadata": {},
   "outputs": [],
   "source": [
    "df_train['text'] = df_train['text'].apply(lambda x: cleaning_punctuations(x))\n",
    "df_train['summary'] = df_train['summary'].apply(lambda x: cleaning_punctuations(x))\n",
    "df_test['text'] = df_test['text'].apply(lambda x: cleaning_punctuations(x))\n",
    "df_test['summary'] = df_test['summary'].apply(lambda x: cleaning_punctuations(x))"
   ]
  },
  {
   "cell_type": "code",
   "execution_count": 38,
   "id": "d03327b8",
   "metadata": {},
   "outputs": [
    {
     "data": {
      "text/html": [
       "<div>\n",
       "<style scoped>\n",
       "    .dataframe tbody tr th:only-of-type {\n",
       "        vertical-align: middle;\n",
       "    }\n",
       "\n",
       "    .dataframe tbody tr th {\n",
       "        vertical-align: top;\n",
       "    }\n",
       "\n",
       "    .dataframe thead th {\n",
       "        text-align: right;\n",
       "    }\n",
       "</style>\n",
       "<table border=\"1\" class=\"dataframe\">\n",
       "  <thead>\n",
       "    <tr style=\"text-align: right;\">\n",
       "      <th></th>\n",
       "      <th>summary</th>\n",
       "      <th>text</th>\n",
       "      <th>sentiment</th>\n",
       "    </tr>\n",
       "  </thead>\n",
       "  <tbody>\n",
       "    <tr>\n",
       "      <th>0</th>\n",
       "      <td>painful</td>\n",
       "      <td>painful start saying enjoyed sophie kinsella b...</td>\n",
       "      <td>0</td>\n",
       "    </tr>\n",
       "    <tr>\n",
       "      <th>1</th>\n",
       "      <td>returned it</td>\n",
       "      <td>returned it left scratching head first chapter...</td>\n",
       "      <td>0</td>\n",
       "    </tr>\n",
       "    <tr>\n",
       "      <th>2</th>\n",
       "      <td>damn foole luke</td>\n",
       "      <td>damn foole luke damn foole tom mcgrath good bo...</td>\n",
       "      <td>0</td>\n",
       "    </tr>\n",
       "    <tr>\n",
       "      <th>3</th>\n",
       "      <td>waste time poorly written</td>\n",
       "      <td>waste time poorly written book poorly written ...</td>\n",
       "      <td>0</td>\n",
       "    </tr>\n",
       "    <tr>\n",
       "      <th>4</th>\n",
       "      <td>bo o o oring</td>\n",
       "      <td>bo o o oring not know make book wo not recap s...</td>\n",
       "      <td>0</td>\n",
       "    </tr>\n",
       "  </tbody>\n",
       "</table>\n",
       "</div>"
      ],
      "text/plain": [
       "                     summary  \\\n",
       "0                    painful   \n",
       "1                returned it   \n",
       "2            damn foole luke   \n",
       "3  waste time poorly written   \n",
       "4               bo o o oring   \n",
       "\n",
       "                                                text  sentiment  \n",
       "0  painful start saying enjoyed sophie kinsella b...          0  \n",
       "1  returned it left scratching head first chapter...          0  \n",
       "2  damn foole luke damn foole tom mcgrath good bo...          0  \n",
       "3  waste time poorly written book poorly written ...          0  \n",
       "4  bo o o oring not know make book wo not recap s...          0  "
      ]
     },
     "execution_count": 38,
     "metadata": {},
     "output_type": "execute_result"
    }
   ],
   "source": [
    "df_train.head()"
   ]
  },
  {
   "cell_type": "code",
   "execution_count": 39,
   "id": "ffca4c0c",
   "metadata": {},
   "outputs": [
    {
     "data": {
      "text/html": [
       "<div>\n",
       "<style scoped>\n",
       "    .dataframe tbody tr th:only-of-type {\n",
       "        vertical-align: middle;\n",
       "    }\n",
       "\n",
       "    .dataframe tbody tr th {\n",
       "        vertical-align: top;\n",
       "    }\n",
       "\n",
       "    .dataframe thead th {\n",
       "        text-align: right;\n",
       "    }\n",
       "</style>\n",
       "<table border=\"1\" class=\"dataframe\">\n",
       "  <thead>\n",
       "    <tr style=\"text-align: right;\">\n",
       "      <th></th>\n",
       "      <th>summary</th>\n",
       "      <th>text</th>\n",
       "      <th>sentiment</th>\n",
       "    </tr>\n",
       "  </thead>\n",
       "  <tbody>\n",
       "    <tr>\n",
       "      <th>0</th>\n",
       "      <td>ashamed masculinity</td>\n",
       "      <td>ashamed masculinity stoltenberg classic soft m...</td>\n",
       "      <td>0</td>\n",
       "    </tr>\n",
       "    <tr>\n",
       "      <th>1</th>\n",
       "      <td>misleading book managers</td>\n",
       "      <td>misleading book managers book entirely managem...</td>\n",
       "      <td>0</td>\n",
       "    </tr>\n",
       "    <tr>\n",
       "      <th>2</th>\n",
       "      <td>black dahlia</td>\n",
       "      <td>black dahlia received great service item not l...</td>\n",
       "      <td>0</td>\n",
       "    </tr>\n",
       "    <tr>\n",
       "      <th>3</th>\n",
       "      <td>frugal much</td>\n",
       "      <td>frugal much book huge disappointment even bigg...</td>\n",
       "      <td>0</td>\n",
       "    </tr>\n",
       "    <tr>\n",
       "      <th>4</th>\n",
       "      <td>depressing inaccurate</td>\n",
       "      <td>depressing inaccurate like another reviewer mu...</td>\n",
       "      <td>0</td>\n",
       "    </tr>\n",
       "  </tbody>\n",
       "</table>\n",
       "</div>"
      ],
      "text/plain": [
       "                    summary  \\\n",
       "0       ashamed masculinity   \n",
       "1  misleading book managers   \n",
       "2              black dahlia   \n",
       "3               frugal much   \n",
       "4     depressing inaccurate   \n",
       "\n",
       "                                                text  sentiment  \n",
       "0  ashamed masculinity stoltenberg classic soft m...          0  \n",
       "1  misleading book managers book entirely managem...          0  \n",
       "2  black dahlia received great service item not l...          0  \n",
       "3  frugal much book huge disappointment even bigg...          0  \n",
       "4  depressing inaccurate like another reviewer mu...          0  "
      ]
     },
     "execution_count": 39,
     "metadata": {},
     "output_type": "execute_result"
    }
   ],
   "source": [
    "df_test.head()"
   ]
  },
  {
   "cell_type": "markdown",
   "id": "432ef081",
   "metadata": {},
   "source": [
    "### 3.6 Removing Repeating Characters\n",
    "\n",
    "The code below removes unwanted sets of repeated characters."
   ]
  },
  {
   "cell_type": "code",
   "execution_count": 41,
   "id": "c692e7ab",
   "metadata": {},
   "outputs": [],
   "source": [
    "def cleaning_repeating_char(text):\n",
    "    return re.sub(r'(.)1+', r'1', text)"
   ]
  },
  {
   "cell_type": "code",
   "execution_count": 42,
   "id": "4432ec7c",
   "metadata": {},
   "outputs": [],
   "source": [
    "df_train['text'] = df_train['text'].apply(lambda x: cleaning_repeating_char(x))\n",
    "df_train['summary'] = df_train['summary'].apply(lambda x: cleaning_repeating_char(x))\n",
    "df_test['text'] = df_test['text'].apply(lambda x: cleaning_repeating_char(x))\n",
    "df_test['summary'] = df_test['summary'].apply(lambda x: cleaning_repeating_char(x))"
   ]
  },
  {
   "cell_type": "markdown",
   "id": "f0fea2b4",
   "metadata": {},
   "source": [
    "### 3.7 Removing Numeric Characters\n",
    "\n",
    "It seems that numbers would not be particularly useful for our task, so the code below takes them out."
   ]
  },
  {
   "cell_type": "code",
   "execution_count": 43,
   "id": "40ac519d",
   "metadata": {},
   "outputs": [],
   "source": [
    "def cleaning_numbers(data):\n",
    "    return re.sub('[0-9]+', ' ', data)"
   ]
  },
  {
   "cell_type": "code",
   "execution_count": 44,
   "id": "b668b8e6",
   "metadata": {},
   "outputs": [],
   "source": [
    "df_train['text'] = df_train['text'].apply(lambda x: cleaning_numbers(x))\n",
    "df_train['summary'] = df_train['summary'].apply(lambda x: cleaning_numbers(x))\n",
    "df_test['text'] = df_test['text'].apply(lambda x: cleaning_numbers(x))\n",
    "df_test['summary'] = df_test['summary'].apply(lambda x: cleaning_numbers(x))"
   ]
  },
  {
   "cell_type": "markdown",
   "id": "6146d3f7",
   "metadata": {},
   "source": [
    "### 3.8 Removing Short Words\n",
    "\n",
    "As a general rule, very short words probably do not provide much information, so the code below removes any word of less than 3 letters."
   ]
  },
  {
   "cell_type": "code",
   "execution_count": 46,
   "id": "639b3a4a",
   "metadata": {},
   "outputs": [],
   "source": [
    "def transform_text(text):\n",
    "    return ' '.join([word for word in text.split() if len(word) > 2])"
   ]
  },
  {
   "cell_type": "code",
   "execution_count": 47,
   "id": "b0f436b1",
   "metadata": {},
   "outputs": [],
   "source": [
    "df_train['text'] = df_train['text'].apply(lambda x: transform_text(x))\n",
    "df_train['summary'] = df_train['summary'].apply(lambda x: transform_text(x))\n",
    "df_test['text'] = df_test['text'].apply(lambda x: transform_text(x))\n",
    "df_test['summary'] = df_test['summary'].apply(lambda x: transform_text(x))"
   ]
  },
  {
   "cell_type": "code",
   "execution_count": 48,
   "id": "ea6fff52",
   "metadata": {},
   "outputs": [
    {
     "data": {
      "text/html": [
       "<div>\n",
       "<style scoped>\n",
       "    .dataframe tbody tr th:only-of-type {\n",
       "        vertical-align: middle;\n",
       "    }\n",
       "\n",
       "    .dataframe tbody tr th {\n",
       "        vertical-align: top;\n",
       "    }\n",
       "\n",
       "    .dataframe thead th {\n",
       "        text-align: right;\n",
       "    }\n",
       "</style>\n",
       "<table border=\"1\" class=\"dataframe\">\n",
       "  <thead>\n",
       "    <tr style=\"text-align: right;\">\n",
       "      <th></th>\n",
       "      <th>summary</th>\n",
       "      <th>text</th>\n",
       "      <th>sentiment</th>\n",
       "    </tr>\n",
       "  </thead>\n",
       "  <tbody>\n",
       "    <tr>\n",
       "      <th>0</th>\n",
       "      <td>painful</td>\n",
       "      <td>painful start saying enjoyed sophie kinsella b...</td>\n",
       "      <td>0</td>\n",
       "    </tr>\n",
       "    <tr>\n",
       "      <th>1</th>\n",
       "      <td>returned</td>\n",
       "      <td>returned left scratching head first chapter sc...</td>\n",
       "      <td>0</td>\n",
       "    </tr>\n",
       "    <tr>\n",
       "      <th>2</th>\n",
       "      <td>damn foole luke</td>\n",
       "      <td>damn foole luke damn foole tom mcgrath good bo...</td>\n",
       "      <td>0</td>\n",
       "    </tr>\n",
       "    <tr>\n",
       "      <th>3</th>\n",
       "      <td>waste time poorly written</td>\n",
       "      <td>waste time poorly written book poorly written ...</td>\n",
       "      <td>0</td>\n",
       "    </tr>\n",
       "    <tr>\n",
       "      <th>4</th>\n",
       "      <td>oring</td>\n",
       "      <td>oring not know make book not recap story done ...</td>\n",
       "      <td>0</td>\n",
       "    </tr>\n",
       "  </tbody>\n",
       "</table>\n",
       "</div>"
      ],
      "text/plain": [
       "                     summary  \\\n",
       "0                    painful   \n",
       "1                   returned   \n",
       "2            damn foole luke   \n",
       "3  waste time poorly written   \n",
       "4                      oring   \n",
       "\n",
       "                                                text  sentiment  \n",
       "0  painful start saying enjoyed sophie kinsella b...          0  \n",
       "1  returned left scratching head first chapter sc...          0  \n",
       "2  damn foole luke damn foole tom mcgrath good bo...          0  \n",
       "3  waste time poorly written book poorly written ...          0  \n",
       "4  oring not know make book not recap story done ...          0  "
      ]
     },
     "execution_count": 48,
     "metadata": {},
     "output_type": "execute_result"
    }
   ],
   "source": [
    "df_train.head()"
   ]
  },
  {
   "cell_type": "code",
   "execution_count": 49,
   "id": "c1b7f2ce",
   "metadata": {},
   "outputs": [
    {
     "data": {
      "text/html": [
       "<div>\n",
       "<style scoped>\n",
       "    .dataframe tbody tr th:only-of-type {\n",
       "        vertical-align: middle;\n",
       "    }\n",
       "\n",
       "    .dataframe tbody tr th {\n",
       "        vertical-align: top;\n",
       "    }\n",
       "\n",
       "    .dataframe thead th {\n",
       "        text-align: right;\n",
       "    }\n",
       "</style>\n",
       "<table border=\"1\" class=\"dataframe\">\n",
       "  <thead>\n",
       "    <tr style=\"text-align: right;\">\n",
       "      <th></th>\n",
       "      <th>summary</th>\n",
       "      <th>text</th>\n",
       "      <th>sentiment</th>\n",
       "    </tr>\n",
       "  </thead>\n",
       "  <tbody>\n",
       "    <tr>\n",
       "      <th>0</th>\n",
       "      <td>ashamed masculinity</td>\n",
       "      <td>ashamed masculinity stoltenberg classic soft m...</td>\n",
       "      <td>0</td>\n",
       "    </tr>\n",
       "    <tr>\n",
       "      <th>1</th>\n",
       "      <td>misleading book managers</td>\n",
       "      <td>misleading book managers book entirely managem...</td>\n",
       "      <td>0</td>\n",
       "    </tr>\n",
       "    <tr>\n",
       "      <th>2</th>\n",
       "      <td>black dahlia</td>\n",
       "      <td>black dahlia received great service item not l...</td>\n",
       "      <td>0</td>\n",
       "    </tr>\n",
       "    <tr>\n",
       "      <th>3</th>\n",
       "      <td>frugal much</td>\n",
       "      <td>frugal much book huge disappointment even bigg...</td>\n",
       "      <td>0</td>\n",
       "    </tr>\n",
       "    <tr>\n",
       "      <th>4</th>\n",
       "      <td>depressing inaccurate</td>\n",
       "      <td>depressing inaccurate like another reviewer mu...</td>\n",
       "      <td>0</td>\n",
       "    </tr>\n",
       "  </tbody>\n",
       "</table>\n",
       "</div>"
      ],
      "text/plain": [
       "                    summary  \\\n",
       "0       ashamed masculinity   \n",
       "1  misleading book managers   \n",
       "2              black dahlia   \n",
       "3               frugal much   \n",
       "4     depressing inaccurate   \n",
       "\n",
       "                                                text  sentiment  \n",
       "0  ashamed masculinity stoltenberg classic soft m...          0  \n",
       "1  misleading book managers book entirely managem...          0  \n",
       "2  black dahlia received great service item not l...          0  \n",
       "3  frugal much book huge disappointment even bigg...          0  \n",
       "4  depressing inaccurate like another reviewer mu...          0  "
      ]
     },
     "execution_count": 49,
     "metadata": {},
     "output_type": "execute_result"
    }
   ],
   "source": [
    "df_test.head()"
   ]
  },
  {
   "cell_type": "markdown",
   "id": "bd0b14fd",
   "metadata": {},
   "source": [
    "### 3.9 Tokenization\n",
    "\n",
    "There is a function within a package available to perform tokenization, so we simply run that on our text and produce the following output."
   ]
  },
  {
   "cell_type": "code",
   "execution_count": 52,
   "id": "931498ee",
   "metadata": {},
   "outputs": [
    {
     "name": "stderr",
     "output_type": "stream",
     "text": [
      "[nltk_data] Downloading package punkt to\n",
      "[nltk_data]     C:\\Users\\ego99\\AppData\\Roaming\\nltk_data...\n",
      "[nltk_data]   Package punkt is already up-to-date!\n"
     ]
    },
    {
     "data": {
      "text/plain": [
       "True"
      ]
     },
     "execution_count": 52,
     "metadata": {},
     "output_type": "execute_result"
    }
   ],
   "source": [
    "nltk.download('punkt')"
   ]
  },
  {
   "cell_type": "code",
   "execution_count": 53,
   "id": "e884061a",
   "metadata": {},
   "outputs": [],
   "source": [
    "from nltk import word_tokenize"
   ]
  },
  {
   "cell_type": "code",
   "execution_count": 54,
   "id": "b556cd2d",
   "metadata": {},
   "outputs": [],
   "source": [
    "df_train['text'] = df_train['text'].apply(lambda x: word_tokenize(x))\n",
    "df_train['summary'] = df_train['summary'].apply(lambda x: word_tokenize(x))\n",
    "df_test['text'] = df_test['text'].apply(lambda x: word_tokenize(x))\n",
    "df_test['summary'] = df_test['summary'].apply(lambda x: word_tokenize(x))"
   ]
  },
  {
   "cell_type": "code",
   "execution_count": 55,
   "id": "ff6bab1f",
   "metadata": {},
   "outputs": [
    {
     "data": {
      "text/html": [
       "<div>\n",
       "<style scoped>\n",
       "    .dataframe tbody tr th:only-of-type {\n",
       "        vertical-align: middle;\n",
       "    }\n",
       "\n",
       "    .dataframe tbody tr th {\n",
       "        vertical-align: top;\n",
       "    }\n",
       "\n",
       "    .dataframe thead th {\n",
       "        text-align: right;\n",
       "    }\n",
       "</style>\n",
       "<table border=\"1\" class=\"dataframe\">\n",
       "  <thead>\n",
       "    <tr style=\"text-align: right;\">\n",
       "      <th></th>\n",
       "      <th>summary</th>\n",
       "      <th>text</th>\n",
       "      <th>sentiment</th>\n",
       "    </tr>\n",
       "  </thead>\n",
       "  <tbody>\n",
       "    <tr>\n",
       "      <th>0</th>\n",
       "      <td>[painful]</td>\n",
       "      <td>[painful, start, saying, enjoyed, sophie, kins...</td>\n",
       "      <td>0</td>\n",
       "    </tr>\n",
       "    <tr>\n",
       "      <th>1</th>\n",
       "      <td>[returned]</td>\n",
       "      <td>[returned, left, scratching, head, first, chap...</td>\n",
       "      <td>0</td>\n",
       "    </tr>\n",
       "    <tr>\n",
       "      <th>2</th>\n",
       "      <td>[damn, foole, luke]</td>\n",
       "      <td>[damn, foole, luke, damn, foole, tom, mcgrath,...</td>\n",
       "      <td>0</td>\n",
       "    </tr>\n",
       "    <tr>\n",
       "      <th>3</th>\n",
       "      <td>[waste, time, poorly, written]</td>\n",
       "      <td>[waste, time, poorly, written, book, poorly, w...</td>\n",
       "      <td>0</td>\n",
       "    </tr>\n",
       "    <tr>\n",
       "      <th>4</th>\n",
       "      <td>[oring]</td>\n",
       "      <td>[oring, not, know, make, book, not, recap, sto...</td>\n",
       "      <td>0</td>\n",
       "    </tr>\n",
       "  </tbody>\n",
       "</table>\n",
       "</div>"
      ],
      "text/plain": [
       "                          summary  \\\n",
       "0                       [painful]   \n",
       "1                      [returned]   \n",
       "2             [damn, foole, luke]   \n",
       "3  [waste, time, poorly, written]   \n",
       "4                         [oring]   \n",
       "\n",
       "                                                text  sentiment  \n",
       "0  [painful, start, saying, enjoyed, sophie, kins...          0  \n",
       "1  [returned, left, scratching, head, first, chap...          0  \n",
       "2  [damn, foole, luke, damn, foole, tom, mcgrath,...          0  \n",
       "3  [waste, time, poorly, written, book, poorly, w...          0  \n",
       "4  [oring, not, know, make, book, not, recap, sto...          0  "
      ]
     },
     "execution_count": 55,
     "metadata": {},
     "output_type": "execute_result"
    }
   ],
   "source": [
    "df_train.head()"
   ]
  },
  {
   "cell_type": "code",
   "execution_count": 56,
   "id": "da66229f",
   "metadata": {},
   "outputs": [
    {
     "data": {
      "text/html": [
       "<div>\n",
       "<style scoped>\n",
       "    .dataframe tbody tr th:only-of-type {\n",
       "        vertical-align: middle;\n",
       "    }\n",
       "\n",
       "    .dataframe tbody tr th {\n",
       "        vertical-align: top;\n",
       "    }\n",
       "\n",
       "    .dataframe thead th {\n",
       "        text-align: right;\n",
       "    }\n",
       "</style>\n",
       "<table border=\"1\" class=\"dataframe\">\n",
       "  <thead>\n",
       "    <tr style=\"text-align: right;\">\n",
       "      <th></th>\n",
       "      <th>summary</th>\n",
       "      <th>text</th>\n",
       "      <th>sentiment</th>\n",
       "    </tr>\n",
       "  </thead>\n",
       "  <tbody>\n",
       "    <tr>\n",
       "      <th>0</th>\n",
       "      <td>[ashamed, masculinity]</td>\n",
       "      <td>[ashamed, masculinity, stoltenberg, classic, s...</td>\n",
       "      <td>0</td>\n",
       "    </tr>\n",
       "    <tr>\n",
       "      <th>1</th>\n",
       "      <td>[misleading, book, managers]</td>\n",
       "      <td>[misleading, book, managers, book, entirely, m...</td>\n",
       "      <td>0</td>\n",
       "    </tr>\n",
       "    <tr>\n",
       "      <th>2</th>\n",
       "      <td>[black, dahlia]</td>\n",
       "      <td>[black, dahlia, received, great, service, item...</td>\n",
       "      <td>0</td>\n",
       "    </tr>\n",
       "    <tr>\n",
       "      <th>3</th>\n",
       "      <td>[frugal, much]</td>\n",
       "      <td>[frugal, much, book, huge, disappointment, eve...</td>\n",
       "      <td>0</td>\n",
       "    </tr>\n",
       "    <tr>\n",
       "      <th>4</th>\n",
       "      <td>[depressing, inaccurate]</td>\n",
       "      <td>[depressing, inaccurate, like, another, review...</td>\n",
       "      <td>0</td>\n",
       "    </tr>\n",
       "  </tbody>\n",
       "</table>\n",
       "</div>"
      ],
      "text/plain": [
       "                        summary  \\\n",
       "0        [ashamed, masculinity]   \n",
       "1  [misleading, book, managers]   \n",
       "2               [black, dahlia]   \n",
       "3                [frugal, much]   \n",
       "4      [depressing, inaccurate]   \n",
       "\n",
       "                                                text  sentiment  \n",
       "0  [ashamed, masculinity, stoltenberg, classic, s...          0  \n",
       "1  [misleading, book, managers, book, entirely, m...          0  \n",
       "2  [black, dahlia, received, great, service, item...          0  \n",
       "3  [frugal, much, book, huge, disappointment, eve...          0  \n",
       "4  [depressing, inaccurate, like, another, review...          0  "
      ]
     },
     "execution_count": 56,
     "metadata": {},
     "output_type": "execute_result"
    }
   ],
   "source": [
    "df_test.head()"
   ]
  },
  {
   "cell_type": "markdown",
   "id": "1c76b0e2",
   "metadata": {},
   "source": [
    "### 3.10 Applying Lemmatizer\n",
    "\n",
    "We take this code from the tutorial which runs the lemmatization."
   ]
  },
  {
   "cell_type": "code",
   "execution_count": 57,
   "id": "fbbe90bc",
   "metadata": {},
   "outputs": [
    {
     "name": "stderr",
     "output_type": "stream",
     "text": [
      "[nltk_data] Downloading package wordnet to\n",
      "[nltk_data]     C:\\Users\\ego99\\AppData\\Roaming\\nltk_data...\n",
      "[nltk_data]   Package wordnet is already up-to-date!\n"
     ]
    },
    {
     "data": {
      "text/plain": [
       "True"
      ]
     },
     "execution_count": 57,
     "metadata": {},
     "output_type": "execute_result"
    }
   ],
   "source": [
    "nltk.download('wordnet')"
   ]
  },
  {
   "cell_type": "code",
   "execution_count": 58,
   "id": "bfd8db23",
   "metadata": {},
   "outputs": [
    {
     "name": "stderr",
     "output_type": "stream",
     "text": [
      "[nltk_data] Downloading package omw-1.4 to\n",
      "[nltk_data]     C:\\Users\\ego99\\AppData\\Roaming\\nltk_data...\n",
      "[nltk_data]   Package omw-1.4 is already up-to-date!\n"
     ]
    },
    {
     "data": {
      "text/plain": [
       "True"
      ]
     },
     "execution_count": 58,
     "metadata": {},
     "output_type": "execute_result"
    }
   ],
   "source": [
    "nltk.download('omw-1.4')"
   ]
  },
  {
   "cell_type": "code",
   "execution_count": 59,
   "id": "ec93347b",
   "metadata": {},
   "outputs": [
    {
     "name": "stderr",
     "output_type": "stream",
     "text": [
      "[nltk_data] Downloading package averaged_perceptron_tagger to\n",
      "[nltk_data]     C:\\Users\\ego99\\AppData\\Roaming\\nltk_data...\n",
      "[nltk_data]   Package averaged_perceptron_tagger is already up-to-\n",
      "[nltk_data]       date!\n"
     ]
    },
    {
     "data": {
      "text/plain": [
       "True"
      ]
     },
     "execution_count": 59,
     "metadata": {},
     "output_type": "execute_result"
    }
   ],
   "source": [
    "nltk.download('averaged_perceptron_tagger')"
   ]
  },
  {
   "cell_type": "code",
   "execution_count": 60,
   "id": "03962b8b",
   "metadata": {},
   "outputs": [],
   "source": [
    "from nltk import word_tokenize, pos_tag\n",
    "from nltk.corpus import wordnet\n",
    "from nltk.stem import WordNetLemmatizer\n",
    "\n",
    "# get the part of speech\n",
    "def get_wordnet_pos(tag):\n",
    "    if tag.startswith('J'):\n",
    "        return wordnet.ADJ\n",
    "    elif tag.startswith('V'):\n",
    "        return wordnet.VERB\n",
    "    elif tag.startswith('N'):\n",
    "        return wordnet.NOUN\n",
    "    elif tag.startswith('R'):\n",
    "        return wordnet.ADV\n",
    "    else:\n",
    "        return None\n",
    "\n",
    "def tag_lem(doc,lemmatizer):\n",
    "    tagged_sent = pos_tag(doc)  # get the part of speech\n",
    "\n",
    "    new_s = []\n",
    "    for c in tagged_sent:\n",
    "        if c[0].isdigit():\n",
    "            new_s.append(\"#number\")\n",
    "        elif c[0] not in string.punctuation:\n",
    "            wordnet_pos = get_wordnet_pos(c[1]) or wordnet.NOUN\n",
    "            new_s.append(lemmatizer.lemmatize(c[0], pos=wordnet_pos))  \n",
    "    return new_s\n",
    "\n",
    "lemmatizer = WordNetLemmatizer()"
   ]
  },
  {
   "cell_type": "code",
   "execution_count": 61,
   "id": "b567e3e6",
   "metadata": {},
   "outputs": [],
   "source": [
    "df_train['text'] = df_train['text'].apply(lambda x: tag_lem(x,lemmatizer))\n",
    "df_train['summary'] = df_train['summary'].apply(lambda x: tag_lem(x,lemmatizer))\n",
    "df_test['text'] = df_test['text'].apply(lambda x: tag_lem(x,lemmatizer))\n",
    "df_test['summary'] = df_test['summary'].apply(lambda x: tag_lem(x,lemmatizer))"
   ]
  },
  {
   "cell_type": "code",
   "execution_count": 62,
   "id": "e4bc8603",
   "metadata": {},
   "outputs": [
    {
     "data": {
      "text/html": [
       "<div>\n",
       "<style scoped>\n",
       "    .dataframe tbody tr th:only-of-type {\n",
       "        vertical-align: middle;\n",
       "    }\n",
       "\n",
       "    .dataframe tbody tr th {\n",
       "        vertical-align: top;\n",
       "    }\n",
       "\n",
       "    .dataframe thead th {\n",
       "        text-align: right;\n",
       "    }\n",
       "</style>\n",
       "<table border=\"1\" class=\"dataframe\">\n",
       "  <thead>\n",
       "    <tr style=\"text-align: right;\">\n",
       "      <th></th>\n",
       "      <th>summary</th>\n",
       "      <th>text</th>\n",
       "      <th>sentiment</th>\n",
       "    </tr>\n",
       "  </thead>\n",
       "  <tbody>\n",
       "    <tr>\n",
       "      <th>0</th>\n",
       "      <td>[painful]</td>\n",
       "      <td>[painful, start, say, enjoy, sophie, kinsella,...</td>\n",
       "      <td>0</td>\n",
       "    </tr>\n",
       "    <tr>\n",
       "      <th>1</th>\n",
       "      <td>[return]</td>\n",
       "      <td>[return, leave, scratch, head, first, chapter,...</td>\n",
       "      <td>0</td>\n",
       "    </tr>\n",
       "    <tr>\n",
       "      <th>2</th>\n",
       "      <td>[damn, foole, luke]</td>\n",
       "      <td>[damn, foole, luke, damn, foole, tom, mcgrath,...</td>\n",
       "      <td>0</td>\n",
       "    </tr>\n",
       "    <tr>\n",
       "      <th>3</th>\n",
       "      <td>[waste, time, poorly, write]</td>\n",
       "      <td>[waste, time, poorly, write, book, poorly, wri...</td>\n",
       "      <td>0</td>\n",
       "    </tr>\n",
       "    <tr>\n",
       "      <th>4</th>\n",
       "      <td>[oring]</td>\n",
       "      <td>[oring, not, know, make, book, not, recap, sto...</td>\n",
       "      <td>0</td>\n",
       "    </tr>\n",
       "  </tbody>\n",
       "</table>\n",
       "</div>"
      ],
      "text/plain": [
       "                        summary  \\\n",
       "0                     [painful]   \n",
       "1                      [return]   \n",
       "2           [damn, foole, luke]   \n",
       "3  [waste, time, poorly, write]   \n",
       "4                       [oring]   \n",
       "\n",
       "                                                text  sentiment  \n",
       "0  [painful, start, say, enjoy, sophie, kinsella,...          0  \n",
       "1  [return, leave, scratch, head, first, chapter,...          0  \n",
       "2  [damn, foole, luke, damn, foole, tom, mcgrath,...          0  \n",
       "3  [waste, time, poorly, write, book, poorly, wri...          0  \n",
       "4  [oring, not, know, make, book, not, recap, sto...          0  "
      ]
     },
     "execution_count": 62,
     "metadata": {},
     "output_type": "execute_result"
    }
   ],
   "source": [
    "df_train.head()"
   ]
  },
  {
   "cell_type": "code",
   "execution_count": 63,
   "id": "de47425f",
   "metadata": {},
   "outputs": [
    {
     "data": {
      "text/html": [
       "<div>\n",
       "<style scoped>\n",
       "    .dataframe tbody tr th:only-of-type {\n",
       "        vertical-align: middle;\n",
       "    }\n",
       "\n",
       "    .dataframe tbody tr th {\n",
       "        vertical-align: top;\n",
       "    }\n",
       "\n",
       "    .dataframe thead th {\n",
       "        text-align: right;\n",
       "    }\n",
       "</style>\n",
       "<table border=\"1\" class=\"dataframe\">\n",
       "  <thead>\n",
       "    <tr style=\"text-align: right;\">\n",
       "      <th></th>\n",
       "      <th>summary</th>\n",
       "      <th>text</th>\n",
       "      <th>sentiment</th>\n",
       "    </tr>\n",
       "  </thead>\n",
       "  <tbody>\n",
       "    <tr>\n",
       "      <th>0</th>\n",
       "      <td>[ashamed, masculinity]</td>\n",
       "      <td>[ashamed, masculinity, stoltenberg, classic, s...</td>\n",
       "      <td>0</td>\n",
       "    </tr>\n",
       "    <tr>\n",
       "      <th>1</th>\n",
       "      <td>[mislead, book, manager]</td>\n",
       "      <td>[mislead, book, manager, book, entirely, manag...</td>\n",
       "      <td>0</td>\n",
       "    </tr>\n",
       "    <tr>\n",
       "      <th>2</th>\n",
       "      <td>[black, dahlia]</td>\n",
       "      <td>[black, dahlia, receive, great, service, item,...</td>\n",
       "      <td>0</td>\n",
       "    </tr>\n",
       "    <tr>\n",
       "      <th>3</th>\n",
       "      <td>[frugal, much]</td>\n",
       "      <td>[frugal, much, book, huge, disappointment, eve...</td>\n",
       "      <td>0</td>\n",
       "    </tr>\n",
       "    <tr>\n",
       "      <th>4</th>\n",
       "      <td>[depress, inaccurate]</td>\n",
       "      <td>[depress, inaccurate, like, another, reviewer,...</td>\n",
       "      <td>0</td>\n",
       "    </tr>\n",
       "  </tbody>\n",
       "</table>\n",
       "</div>"
      ],
      "text/plain": [
       "                    summary  \\\n",
       "0    [ashamed, masculinity]   \n",
       "1  [mislead, book, manager]   \n",
       "2           [black, dahlia]   \n",
       "3            [frugal, much]   \n",
       "4     [depress, inaccurate]   \n",
       "\n",
       "                                                text  sentiment  \n",
       "0  [ashamed, masculinity, stoltenberg, classic, s...          0  \n",
       "1  [mislead, book, manager, book, entirely, manag...          0  \n",
       "2  [black, dahlia, receive, great, service, item,...          0  \n",
       "3  [frugal, much, book, huge, disappointment, eve...          0  \n",
       "4  [depress, inaccurate, like, another, reviewer,...          0  "
      ]
     },
     "execution_count": 63,
     "metadata": {},
     "output_type": "execute_result"
    }
   ],
   "source": [
    "df_test.head()"
   ]
  },
  {
   "cell_type": "markdown",
   "id": "14de5fbf",
   "metadata": {},
   "source": [
    "## 4. Save Cleaned Data\n",
    "\n",
    "Now we save our cleaned data to seperate files, so that we can easily retrieve whichever one we are working on in the future. First build data frames with the correct columns in."
   ]
  },
  {
   "cell_type": "code",
   "execution_count": 64,
   "id": "350bfeda",
   "metadata": {},
   "outputs": [],
   "source": [
    "df_train_combined = pd.DataFrame()"
   ]
  },
  {
   "cell_type": "code",
   "execution_count": 67,
   "id": "27d9c261",
   "metadata": {},
   "outputs": [],
   "source": [
    "df_train_combined['text']=[x for x in df_train['text']]\n",
    "df_train_combined['sentiment']=[x for x in df_train['sentiment']]"
   ]
  },
  {
   "cell_type": "code",
   "execution_count": 68,
   "id": "9265b1fa",
   "metadata": {},
   "outputs": [
    {
     "data": {
      "text/html": [
       "<div>\n",
       "<style scoped>\n",
       "    .dataframe tbody tr th:only-of-type {\n",
       "        vertical-align: middle;\n",
       "    }\n",
       "\n",
       "    .dataframe tbody tr th {\n",
       "        vertical-align: top;\n",
       "    }\n",
       "\n",
       "    .dataframe thead th {\n",
       "        text-align: right;\n",
       "    }\n",
       "</style>\n",
       "<table border=\"1\" class=\"dataframe\">\n",
       "  <thead>\n",
       "    <tr style=\"text-align: right;\">\n",
       "      <th></th>\n",
       "      <th>text</th>\n",
       "      <th>sentiment</th>\n",
       "    </tr>\n",
       "  </thead>\n",
       "  <tbody>\n",
       "    <tr>\n",
       "      <th>0</th>\n",
       "      <td>[painful, start, say, enjoy, sophie, kinsella,...</td>\n",
       "      <td>0</td>\n",
       "    </tr>\n",
       "    <tr>\n",
       "      <th>1</th>\n",
       "      <td>[return, leave, scratch, head, first, chapter,...</td>\n",
       "      <td>0</td>\n",
       "    </tr>\n",
       "    <tr>\n",
       "      <th>2</th>\n",
       "      <td>[damn, foole, luke, damn, foole, tom, mcgrath,...</td>\n",
       "      <td>0</td>\n",
       "    </tr>\n",
       "    <tr>\n",
       "      <th>3</th>\n",
       "      <td>[waste, time, poorly, write, book, poorly, wri...</td>\n",
       "      <td>0</td>\n",
       "    </tr>\n",
       "    <tr>\n",
       "      <th>4</th>\n",
       "      <td>[oring, not, know, make, book, not, recap, sto...</td>\n",
       "      <td>0</td>\n",
       "    </tr>\n",
       "  </tbody>\n",
       "</table>\n",
       "</div>"
      ],
      "text/plain": [
       "                                                text  sentiment\n",
       "0  [painful, start, say, enjoy, sophie, kinsella,...          0\n",
       "1  [return, leave, scratch, head, first, chapter,...          0\n",
       "2  [damn, foole, luke, damn, foole, tom, mcgrath,...          0\n",
       "3  [waste, time, poorly, write, book, poorly, wri...          0\n",
       "4  [oring, not, know, make, book, not, recap, sto...          0"
      ]
     },
     "execution_count": 68,
     "metadata": {},
     "output_type": "execute_result"
    }
   ],
   "source": [
    "df_train_combined.head()"
   ]
  },
  {
   "cell_type": "code",
   "execution_count": 69,
   "id": "20113a90",
   "metadata": {},
   "outputs": [],
   "source": [
    "df_train_summary = pd.DataFrame()"
   ]
  },
  {
   "cell_type": "code",
   "execution_count": 70,
   "id": "b3df35be",
   "metadata": {},
   "outputs": [],
   "source": [
    "df_train_summary['text']=[x for x in df_train['summary']]\n",
    "df_train_summary['sentiment']=[x for x in df_train['sentiment']]"
   ]
  },
  {
   "cell_type": "code",
   "execution_count": 71,
   "id": "c570f105",
   "metadata": {},
   "outputs": [
    {
     "data": {
      "text/html": [
       "<div>\n",
       "<style scoped>\n",
       "    .dataframe tbody tr th:only-of-type {\n",
       "        vertical-align: middle;\n",
       "    }\n",
       "\n",
       "    .dataframe tbody tr th {\n",
       "        vertical-align: top;\n",
       "    }\n",
       "\n",
       "    .dataframe thead th {\n",
       "        text-align: right;\n",
       "    }\n",
       "</style>\n",
       "<table border=\"1\" class=\"dataframe\">\n",
       "  <thead>\n",
       "    <tr style=\"text-align: right;\">\n",
       "      <th></th>\n",
       "      <th>text</th>\n",
       "      <th>sentiment</th>\n",
       "    </tr>\n",
       "  </thead>\n",
       "  <tbody>\n",
       "    <tr>\n",
       "      <th>0</th>\n",
       "      <td>[painful]</td>\n",
       "      <td>0</td>\n",
       "    </tr>\n",
       "    <tr>\n",
       "      <th>1</th>\n",
       "      <td>[return]</td>\n",
       "      <td>0</td>\n",
       "    </tr>\n",
       "    <tr>\n",
       "      <th>2</th>\n",
       "      <td>[damn, foole, luke]</td>\n",
       "      <td>0</td>\n",
       "    </tr>\n",
       "    <tr>\n",
       "      <th>3</th>\n",
       "      <td>[waste, time, poorly, write]</td>\n",
       "      <td>0</td>\n",
       "    </tr>\n",
       "    <tr>\n",
       "      <th>4</th>\n",
       "      <td>[oring]</td>\n",
       "      <td>0</td>\n",
       "    </tr>\n",
       "  </tbody>\n",
       "</table>\n",
       "</div>"
      ],
      "text/plain": [
       "                           text  sentiment\n",
       "0                     [painful]          0\n",
       "1                      [return]          0\n",
       "2           [damn, foole, luke]          0\n",
       "3  [waste, time, poorly, write]          0\n",
       "4                       [oring]          0"
      ]
     },
     "execution_count": 71,
     "metadata": {},
     "output_type": "execute_result"
    }
   ],
   "source": [
    "df_train_summary.head()"
   ]
  },
  {
   "cell_type": "code",
   "execution_count": 72,
   "id": "890adf3e",
   "metadata": {},
   "outputs": [],
   "source": [
    "df_test_combined = pd.DataFrame()"
   ]
  },
  {
   "cell_type": "code",
   "execution_count": 73,
   "id": "4be568eb",
   "metadata": {},
   "outputs": [],
   "source": [
    "df_test_combined['text']=[x for x in df_test['text']]"
   ]
  },
  {
   "cell_type": "code",
   "execution_count": 74,
   "id": "641afde9",
   "metadata": {},
   "outputs": [
    {
     "data": {
      "text/html": [
       "<div>\n",
       "<style scoped>\n",
       "    .dataframe tbody tr th:only-of-type {\n",
       "        vertical-align: middle;\n",
       "    }\n",
       "\n",
       "    .dataframe tbody tr th {\n",
       "        vertical-align: top;\n",
       "    }\n",
       "\n",
       "    .dataframe thead th {\n",
       "        text-align: right;\n",
       "    }\n",
       "</style>\n",
       "<table border=\"1\" class=\"dataframe\">\n",
       "  <thead>\n",
       "    <tr style=\"text-align: right;\">\n",
       "      <th></th>\n",
       "      <th>text</th>\n",
       "    </tr>\n",
       "  </thead>\n",
       "  <tbody>\n",
       "    <tr>\n",
       "      <th>0</th>\n",
       "      <td>[ashamed, masculinity, stoltenberg, classic, s...</td>\n",
       "    </tr>\n",
       "    <tr>\n",
       "      <th>1</th>\n",
       "      <td>[mislead, book, manager, book, entirely, manag...</td>\n",
       "    </tr>\n",
       "    <tr>\n",
       "      <th>2</th>\n",
       "      <td>[black, dahlia, receive, great, service, item,...</td>\n",
       "    </tr>\n",
       "    <tr>\n",
       "      <th>3</th>\n",
       "      <td>[frugal, much, book, huge, disappointment, eve...</td>\n",
       "    </tr>\n",
       "    <tr>\n",
       "      <th>4</th>\n",
       "      <td>[depress, inaccurate, like, another, reviewer,...</td>\n",
       "    </tr>\n",
       "  </tbody>\n",
       "</table>\n",
       "</div>"
      ],
      "text/plain": [
       "                                                text\n",
       "0  [ashamed, masculinity, stoltenberg, classic, s...\n",
       "1  [mislead, book, manager, book, entirely, manag...\n",
       "2  [black, dahlia, receive, great, service, item,...\n",
       "3  [frugal, much, book, huge, disappointment, eve...\n",
       "4  [depress, inaccurate, like, another, reviewer,..."
      ]
     },
     "execution_count": 74,
     "metadata": {},
     "output_type": "execute_result"
    }
   ],
   "source": [
    "df_test_combined.head()"
   ]
  },
  {
   "cell_type": "code",
   "execution_count": 76,
   "id": "784f13cf",
   "metadata": {},
   "outputs": [],
   "source": [
    "df_test_summary = pd.DataFrame()"
   ]
  },
  {
   "cell_type": "code",
   "execution_count": 77,
   "id": "5f57a39b",
   "metadata": {},
   "outputs": [],
   "source": [
    "df_test_summary['text']=[x for x in df_test['summary']]"
   ]
  },
  {
   "cell_type": "code",
   "execution_count": 78,
   "id": "8d362ebf",
   "metadata": {},
   "outputs": [
    {
     "data": {
      "text/html": [
       "<div>\n",
       "<style scoped>\n",
       "    .dataframe tbody tr th:only-of-type {\n",
       "        vertical-align: middle;\n",
       "    }\n",
       "\n",
       "    .dataframe tbody tr th {\n",
       "        vertical-align: top;\n",
       "    }\n",
       "\n",
       "    .dataframe thead th {\n",
       "        text-align: right;\n",
       "    }\n",
       "</style>\n",
       "<table border=\"1\" class=\"dataframe\">\n",
       "  <thead>\n",
       "    <tr style=\"text-align: right;\">\n",
       "      <th></th>\n",
       "      <th>text</th>\n",
       "    </tr>\n",
       "  </thead>\n",
       "  <tbody>\n",
       "    <tr>\n",
       "      <th>0</th>\n",
       "      <td>[ashamed, masculinity]</td>\n",
       "    </tr>\n",
       "    <tr>\n",
       "      <th>1</th>\n",
       "      <td>[mislead, book, manager]</td>\n",
       "    </tr>\n",
       "    <tr>\n",
       "      <th>2</th>\n",
       "      <td>[black, dahlia]</td>\n",
       "    </tr>\n",
       "    <tr>\n",
       "      <th>3</th>\n",
       "      <td>[frugal, much]</td>\n",
       "    </tr>\n",
       "    <tr>\n",
       "      <th>4</th>\n",
       "      <td>[depress, inaccurate]</td>\n",
       "    </tr>\n",
       "  </tbody>\n",
       "</table>\n",
       "</div>"
      ],
      "text/plain": [
       "                       text\n",
       "0    [ashamed, masculinity]\n",
       "1  [mislead, book, manager]\n",
       "2           [black, dahlia]\n",
       "3            [frugal, much]\n",
       "4     [depress, inaccurate]"
      ]
     },
     "execution_count": 78,
     "metadata": {},
     "output_type": "execute_result"
    }
   ],
   "source": [
    "df_test_summary.head()"
   ]
  },
  {
   "cell_type": "code",
   "execution_count": 79,
   "id": "4d05613b",
   "metadata": {},
   "outputs": [],
   "source": [
    "df_test_sentiments = pd.DataFrame()"
   ]
  },
  {
   "cell_type": "code",
   "execution_count": 80,
   "id": "58b8ce7a",
   "metadata": {},
   "outputs": [],
   "source": [
    "df_test_sentiments['sentiment']=[x for x in df_test['sentiment']]"
   ]
  },
  {
   "cell_type": "code",
   "execution_count": 81,
   "id": "00303bf3",
   "metadata": {},
   "outputs": [
    {
     "data": {
      "text/html": [
       "<div>\n",
       "<style scoped>\n",
       "    .dataframe tbody tr th:only-of-type {\n",
       "        vertical-align: middle;\n",
       "    }\n",
       "\n",
       "    .dataframe tbody tr th {\n",
       "        vertical-align: top;\n",
       "    }\n",
       "\n",
       "    .dataframe thead th {\n",
       "        text-align: right;\n",
       "    }\n",
       "</style>\n",
       "<table border=\"1\" class=\"dataframe\">\n",
       "  <thead>\n",
       "    <tr style=\"text-align: right;\">\n",
       "      <th></th>\n",
       "      <th>sentiment</th>\n",
       "    </tr>\n",
       "  </thead>\n",
       "  <tbody>\n",
       "    <tr>\n",
       "      <th>0</th>\n",
       "      <td>0</td>\n",
       "    </tr>\n",
       "    <tr>\n",
       "      <th>1</th>\n",
       "      <td>0</td>\n",
       "    </tr>\n",
       "    <tr>\n",
       "      <th>2</th>\n",
       "      <td>0</td>\n",
       "    </tr>\n",
       "    <tr>\n",
       "      <th>3</th>\n",
       "      <td>0</td>\n",
       "    </tr>\n",
       "    <tr>\n",
       "      <th>4</th>\n",
       "      <td>0</td>\n",
       "    </tr>\n",
       "  </tbody>\n",
       "</table>\n",
       "</div>"
      ],
      "text/plain": [
       "   sentiment\n",
       "0          0\n",
       "1          0\n",
       "2          0\n",
       "3          0\n",
       "4          0"
      ]
     },
     "execution_count": 81,
     "metadata": {},
     "output_type": "execute_result"
    }
   ],
   "source": [
    "df_test_sentiments.head()"
   ]
  },
  {
   "cell_type": "markdown",
   "id": "2ea7883c",
   "metadata": {},
   "source": [
    "Now we can save our cleaned data sets as csvs. When we ran this code on the HPC, we saved the files as the same names, but without the 'D' (meaning downsampled)."
   ]
  },
  {
   "cell_type": "code",
   "execution_count": 82,
   "id": "81f2b491",
   "metadata": {},
   "outputs": [],
   "source": [
    "df_train_combined.to_csv('data_cleaned_full_text_and_summariesD.csv', sep=\",\", index=False)\n",
    "df_train_summary.to_csv('data_cleaned_full_summariesD.csv', sep=\",\", index=False)\n",
    "df_test_combined.to_csv('test_cleaned_text_and_summariesD.csv', sep=\",\", index=False)\n",
    "df_test_summary.to_csv('test_cleaned_summariesD.csv', sep=\",\", index=False)\n",
    "df_test_sentiments.to_csv('reviews_test_with_sentimentD.csv', sep=\",\", index=False)"
   ]
  },
  {
   "cell_type": "code",
   "execution_count": null,
   "id": "6ca5e4dd",
   "metadata": {},
   "outputs": [],
   "source": []
  }
 ],
 "metadata": {
  "kernelspec": {
   "display_name": "Python 3 (ipykernel)",
   "language": "python",
   "name": "python3"
  },
  "language_info": {
   "codemirror_mode": {
    "name": "ipython",
    "version": 3
   },
   "file_extension": ".py",
   "mimetype": "text/x-python",
   "name": "python",
   "nbconvert_exporter": "python",
   "pygments_lexer": "ipython3",
   "version": "3.9.13"
  },
  "vscode": {
   "interpreter": {
    "hash": "e233b3edd5e60f0904e3f8404c7ce821d9d17539f44ffe7eab4eba0129924986"
   }
  }
 },
 "nbformat": 4,
 "nbformat_minor": 5
}
