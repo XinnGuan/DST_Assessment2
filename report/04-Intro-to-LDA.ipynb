{
 "cells": [
  {
   "cell_type": "markdown",
   "id": "aca0a84e",
   "metadata": {},
   "source": [
    "## Latent Dirichlet Allocation for Topic Modelling"
   ]
  },
  {
   "cell_type": "markdown",
   "id": "9b6df898",
   "metadata": {},
   "source": [
    "Latent Dirichlet Allocation (LDA) aims to extract topics from a given corpus. LDA assumes that each document is a mixture of topics and that each topic is a mixture of words.\n",
    "\n",
    "The model uses Bayesian inference to explain the prior knowledge of the distribution of the topics.\n",
    "\n",
    "We produce a document-word matrix (bag of words)"
   ]
  },
  {
   "cell_type": "markdown",
   "id": "b69a4e4b",
   "metadata": {},
   "source": [
    "First we import the necessary packages."
   ]
  },
  {
   "cell_type": "code",
   "execution_count": 17,
   "id": "25a78986",
   "metadata": {},
   "outputs": [],
   "source": [
    "import pandas as pd\n",
    "import pickle\n",
    "import numpy as np\n",
    "np.random.seed(2018)\n",
    "import gensim\n",
    "from gensim.utils import simple_preprocess\n",
    "from gensim.parsing.preprocessing import STOPWORDS\n",
    "from nltk.stem import WordNetLemmatizer, SnowballStemmer\n",
    "from nltk.stem.porter import *\n",
    "from gensim import corpora\n",
    "from pprint import pprint\n",
    "import gensim.models"
   ]
  },
  {
   "cell_type": "markdown",
   "id": "62e607f8",
   "metadata": {},
   "source": [
    "We then load the cleaned dataset from google drive and load into a dataframe."
   ]
  },
  {
   "cell_type": "code",
   "execution_count": 14,
   "id": "e33a5ce2",
   "metadata": {},
   "outputs": [],
   "source": [
    "url='https://drive.google.com/file/d/1XY8kQd7kEivHHmU3jdZAZD8s0Anb8XsP/view'\n",
    "url='https://drive.google.com/uc?id=' + url.split('/')[-2]\n",
    "trainingDf = pd.read_csv(url)"
   ]
  },
  {
   "cell_type": "markdown",
   "id": "58d1b151",
   "metadata": {},
   "source": [
    "Due to issues with data formatting from the preprocessing, the 'text' and 'combine' columns contain the same information, however the 'text' column contains a list of the string word tokens, whereas 'combine' contains a string for each document. Below we assign docs to be just the 'combine' column."
   ]
  },
  {
   "cell_type": "code",
   "execution_count": 15,
   "id": "a8a79dee",
   "metadata": {},
   "outputs": [],
   "source": [
    "def myprocess(thisdoc):\n",
    "    ## Runs on documents (vector of words)\n",
    "    return([text for text in thisdoc.split()])"
   ]
  },
  {
   "cell_type": "code",
   "execution_count": 16,
   "id": "60171701",
   "metadata": {},
   "outputs": [],
   "source": [
    "docs=trainingDf['combine'].map(myprocess) "
   ]
  },
  {
   "cell_type": "markdown",
   "id": "38d4eb92",
   "metadata": {},
   "source": [
    "In order to improve the performance we wanted to explore encoding the meaning of phrases which as seperate words may have essentially opposite meaning, this is called negation detection. For example, a review containing the word \"good\" should be categorised as negative if it happens to have the word \"not\" before it. this exploration is detailed in the notebook 05-Investiagting-Ngrams-LDA.ipynb. The results from this exploration showed that the methods we tried did not improve the performance, hence we decided not to pursue this further."
   ]
  },
  {
   "cell_type": "markdown",
   "id": "6f6e5866",
   "metadata": {},
   "source": [
    "Below we implement the concept of a dictionary, by mapping words to their integer ids. We then filter out any tokens (words) which have frequency less than 5. The no_above parameter removes tokens appearing in more than 50% of documents will be removed. This is because words appearing in less than 5 documents will not help form topics, nor will words that occur very frequently (e.g. book)."
   ]
  },
  {
   "cell_type": "code",
   "execution_count": 18,
   "id": "1d7ca8da",
   "metadata": {},
   "outputs": [],
   "source": [
    "dict_LoS = corpora.Dictionary(docs)"
   ]
  },
  {
   "cell_type": "code",
   "execution_count": 19,
   "id": "1c91e16d",
   "metadata": {},
   "outputs": [],
   "source": [
    "dict_LoS.filter_extremes(no_below=5, no_above=0.5)"
   ]
  },
  {
   "cell_type": "markdown",
   "id": "471374f5",
   "metadata": {},
   "source": [
    "Below we inspect the local directory to try to find the pickle file in order to load it. If the pickle file does not exist there then we create the bag of words corpus for the first time and save this as a pickle. We chose to use pickle over CSV because using pickles was faster when compared to CSV files and has the ability to reduce the file size to almost half of CSV files using its compression techniques."
   ]
  },
  {
   "cell_type": "code",
   "execution_count": 20,
   "id": "225be34a",
   "metadata": {},
   "outputs": [
    {
     "name": "stdout",
     "output_type": "stream",
     "text": [
      "Reading corpus from pickle\n"
     ]
    }
   ],
   "source": [
    "# bag of words\n",
    "try:\n",
    "    print(\"Reading corpus from pickle\")\n",
    "    bow_corpus=pickle.load(open('bow_corpus.pkl', 'rb'))\n",
    "except FileNotFoundError:\n",
    "    print(\"Creating corpus and saving to pickle\")\n",
    "    bow_corpus = [dict_LoS.doc2bow(w) for w in docs]\n",
    "    pickle.dump(bow_corpus, open('bow_corpus.pkl', 'wb'))\n",
    "    pickle.dump(dict_LoS, open('dictionary.pkl', 'wb'))"
   ]
  },
  {
   "cell_type": "markdown",
   "id": "18c0b022",
   "metadata": {},
   "source": [
    "Here we perform a similar step, by checking whether the LDA model has already been created and saved as a pickle file. We chose the default number of topics to be 15, and instructed the model to pass over the entire corpus only once for time purposes. we chose to increase the size of the dataset we would train and tune on instead."
   ]
  },
  {
   "cell_type": "code",
   "execution_count": 22,
   "id": "ddcc1857",
   "metadata": {},
   "outputs": [
    {
     "name": "stdout",
     "output_type": "stream",
     "text": [
      "Reading lda_model from pickle\n"
     ]
    }
   ],
   "source": [
    "# LDA model\n",
    "try:\n",
    "    lda_model=pickle.load(open('lda_model.pkl', 'rb'))\n",
    "    print(\"Reading lda_model from pickle\")\n",
    "except FileNotFoundError:\n",
    "    print(\"Creating lda_model and saving to pickle\")\n",
    "    lda_model = gensim.models.LdaMulticore(bow_corpus, num_topics=15, id2word=dict_LoS, passes=2, workers=2)\n",
    "    pickle.dump(lda_model,open('lda_model.pkl','wb'))"
   ]
  },
  {
   "cell_type": "code",
   "execution_count": 23,
   "id": "4622748e",
   "metadata": {},
   "outputs": [
    {
     "data": {
      "text/plain": [
       "[(11,\n",
       "  '0.007*\"one\" + 0.006*\"people\" + 0.005*\"would\" + 0.005*\"make\" + 0.005*\"world\" + 0.004*\"think\" + 0.004*\"human\"'),\n",
       " (4,\n",
       "  '0.008*\"write\" + 0.007*\"work\" + 0.007*\"one\" + 0.005*\"history\" + 0.005*\"would\" + 0.005*\"new\" + 0.004*\"reader\"'),\n",
       " (5,\n",
       "  '0.009*\"one\" + 0.008*\"time\" + 0.007*\"war\" + 0.006*\"year\" + 0.006*\"write\" + 0.006*\"novel\" + 0.006*\"story\"'),\n",
       " (6,\n",
       "  '0.017*\"novel\" + 0.009*\"one\" + 0.007*\"character\" + 0.007*\"story\" + 0.006*\"life\" + 0.005*\"world\" + 0.005*\"george\"'),\n",
       " (12,\n",
       "  '0.009*\"great\" + 0.009*\"war\" + 0.009*\"good\" + 0.007*\"one\" + 0.006*\"author\" + 0.006*\"use\" + 0.006*\"cover\"'),\n",
       " (10,\n",
       "  '0.023*\"story\" + 0.021*\"love\" + 0.013*\"one\" + 0.012*\"great\" + 0.012*\"character\" + 0.010*\"time\" + 0.010*\"like\"'),\n",
       " (3,\n",
       "  '0.010*\"life\" + 0.007*\"woman\" + 0.007*\"god\" + 0.007*\"one\" + 0.006*\"find\" + 0.006*\"way\" + 0.006*\"man\"'),\n",
       " (7,\n",
       "  '0.012*\"life\" + 0.008*\"time\" + 0.007*\"write\" + 0.007*\"one\" + 0.006*\"well\" + 0.006*\"game\" + 0.006*\"take\"'),\n",
       " (0,\n",
       "  '0.021*\"story\" + 0.014*\"novel\" + 0.013*\"character\" + 0.008*\"write\" + 0.007*\"reader\" + 0.007*\"classic\" + 0.007*\"one\"'),\n",
       " (13,\n",
       "  '0.013*\"character\" + 0.010*\"would\" + 0.010*\"one\" + 0.010*\"write\" + 0.010*\"time\" + 0.010*\"like\" + 0.008*\"first\"')]"
      ]
     },
     "execution_count": 23,
     "metadata": {},
     "output_type": "execute_result"
    }
   ],
   "source": [
    "lda_model.show_topics(10,7)"
   ]
  },
  {
   "cell_type": "markdown",
   "id": "80b4a0d4",
   "metadata": {},
   "source": [
    "# Evaluation of Initial Model"
   ]
  },
  {
   "cell_type": "markdown",
   "id": "a78c8d65",
   "metadata": {},
   "source": [
    "Coherence and perplexity are two types of metrics which can be used to evaluate topic models. \n",
    "Coherence represents how human interpretable the topics are, whereas perplexity represents how probable some new unseen data is given the model that was learned earlier. Ideally, we would like high coherence and low perplexity.\n",
    "\n",
    "For coherence, we chose the C_v measure which is based on a sliding window, one-set segmentation of the top words and an indirect confirmation measure that uses normalized pointwise mutual information (NPMI) and the cosine similarity [[Evaluating LDA Topic Models](https://towardsdatascience.com/evaluate-topic-model-in-python-latent-dirichlet-allocation-lda-7d57484bb5d0#:~:text=But%20before%20that%E2%80%A6-,What%20is%20topic%20coherence%3F,are%20artifacts%20of%20statistical%20inference)].\n",
    "\n",
    "\n"
   ]
  },
  {
   "cell_type": "code",
   "execution_count": 24,
   "id": "d29f8272",
   "metadata": {},
   "outputs": [],
   "source": [
    "from gensim.models import CoherenceModel"
   ]
  },
  {
   "cell_type": "code",
   "execution_count": 25,
   "id": "cb9d632e",
   "metadata": {},
   "outputs": [],
   "source": [
    "# Compute Coherence Score function\n",
    "coherence_model_lda = CoherenceModel(model=lda_model, texts=docs, dictionary=dict_LoS, coherence='c_v')\n",
    "coherence_lda = coherence_model_lda.get_coherence()"
   ]
  },
  {
   "cell_type": "code",
   "execution_count": 26,
   "id": "3e8c0bf9",
   "metadata": {},
   "outputs": [
    {
     "name": "stdout",
     "output_type": "stream",
     "text": [
      "Coherence Score:  0.31528700390605413\n"
     ]
    }
   ],
   "source": [
    "print('Coherence Score: ', coherence_lda)"
   ]
  },
  {
   "cell_type": "code",
   "execution_count": 27,
   "id": "c5e67cb1",
   "metadata": {},
   "outputs": [],
   "source": [
    "import math"
   ]
  },
  {
   "cell_type": "code",
   "execution_count": 28,
   "id": "82ecd99a",
   "metadata": {},
   "outputs": [
    {
     "name": "stdout",
     "output_type": "stream",
     "text": [
      "\n",
      "Perplexity:  0.00027899988061189194\n"
     ]
    }
   ],
   "source": [
    "# Compute perplexity score on the whole corpus\n",
    "print('\\nPerplexity: ', math.exp(lda_model.log_perplexity(bow_corpus)))"
   ]
  },
  {
   "cell_type": "markdown",
   "id": "3608a7d9",
   "metadata": {},
   "source": [
    "## Hyperparameter tuning"
   ]
  },
  {
   "cell_type": "markdown",
   "id": "63d14987",
   "metadata": {},
   "source": [
    "Now we have established a baseline evaluation for our model, we can adjust the hyperparameters to try and optimise the perplexity score.\n",
    "\n",
    "The key hyperparameters for our LDA model are:\n",
    "\n",
    "* Number of Topics (K)\n",
    "* Dirichlet hyperparameter alpha: Document-Topic Density\n",
    "* Dirichlet hyperparameter beta: Word-Topic Density\n",
    "\n",
    "Number of topics\n",
    "Determining the number of topics for an LDA topic modelling alogirthm is important as too few topics may not capture the relationships well between the words, whereas too many topics may produce 'rubbish'. This is similar to under and overfitting respectively.\n",
    "\n",
    "\n",
    "Aside from the number of topics, the most important parameters are the Bayesian prior hyperparameters alpha and beta (labelled ‘eta’ in Gensim). Both hyperparameters represent our prior beliefs about the corpus before we train our model.\n",
    "\n",
    "Due to time and resource constraints, we decided to only explore the number of topics hyperparameter.\n",
    "\n",
    "To determine the number topics, we shall create our own grid search algorithm which iterates through each point in the search space and calculates the perplexity score. We are aiming to minimise our perplexity score, however, we will use the elbow method when plotting the number of topics (k) against the perplexity to select the optimal k. This will hopefully prevent our model from overfitting."
   ]
  },
  {
   "cell_type": "code",
   "execution_count": 29,
   "id": "9252d9de",
   "metadata": {},
   "outputs": [],
   "source": [
    "# this is our supporting function for computing perplexity\n",
    "def compute_perplexity_values(k):\n",
    "    \n",
    "    lda_model = gensim.models.LdaMulticore(bow_corpus, num_topics=k, id2word=dict_LoS, passes=2, workers=2)\n",
    "    \n",
    "    perplexity_model_lda = math.exp(lda_model.log_perplexity(bow_corpus))\n",
    "    \n",
    "    return perplexity_model_lda"
   ]
  },
  {
   "cell_type": "markdown",
   "id": "57bfbdce",
   "metadata": {},
   "source": [
    "Here we include a progress bar so the user can see how long the grid search has left."
   ]
  },
  {
   "cell_type": "code",
   "execution_count": 30,
   "id": "d38bba05",
   "metadata": {},
   "outputs": [],
   "source": [
    "import tqdm"
   ]
  },
  {
   "cell_type": "markdown",
   "id": "73e414f9",
   "metadata": {},
   "source": [
    "We iterate over a range of topic numbers, from 10 to 30, with step size 2. The next chunk of code may take a while to run and should ideally be ran on a HPC. The model results are then outputted to a dataframe and plotted. The plot is saved to an external file."
   ]
  },
  {
   "cell_type": "code",
   "execution_count": 38,
   "id": "97790046",
   "metadata": {},
   "outputs": [
    {
     "name": "stderr",
     "output_type": "stream",
     "text": [
      "100%|███████████████████████████████████████████████████████████████████████████████████| 2/2 [03:51<00:00, 115.57s/it]\n"
     ]
    }
   ],
   "source": [
    "min_topics=4\n",
    "max_topics=5\n",
    "step =1\n",
    "\n",
    "topics_range = range(min_topics, max_topics+1, step)\n",
    "\n",
    "model_results = {'Topics': [],\n",
    "                 'Perplexity': []\n",
    "                }\n",
    "\n",
    "pbar = tqdm.tqdm(total=(len(topics_range)))\n",
    "for k in topics_range:\n",
    "    cp = compute_perplexity_values(k=k)\n",
    "    model_results['Topics'].append(k)\n",
    "    model_results['Perplexity'].append(cp)\n",
    "    \n",
    "    pbar.update(1)\n",
    "pbar.close()\n",
    "    \n",
    "    \n",
    "    "
   ]
  },
  {
   "cell_type": "markdown",
   "id": "b6138935",
   "metadata": {},
   "source": [
    "This code was adapted from [Evaluating LDA Topic Models](https://towardsdatascience.com/evaluate-topic-model-in-python-latent-dirichlet-allocation-lda-7d57484bb5d0#:~:text=But%20before%20that%E2%80%A6-,What%20is%20topic%20coherence%3F,are%20artifacts%20of%20statistical%20inference)."
   ]
  },
  {
   "cell_type": "code",
   "execution_count": 39,
   "id": "115ea190",
   "metadata": {},
   "outputs": [],
   "source": [
    "dframe = pd.DataFrame(model_results)"
   ]
  },
  {
   "cell_type": "code",
   "execution_count": 42,
   "id": "90456e03",
   "metadata": {},
   "outputs": [
    {
     "data": {
      "text/plain": [
       "<AxesSubplot:xlabel='Topics'>"
      ]
     },
     "execution_count": 42,
     "metadata": {},
     "output_type": "execute_result"
    },
    {
     "data": {
      "image/png": "[encoded data removed]",
      "text/plain": [
       "<Figure size 432x288 with 1 Axes>"
      ]
     },
     "metadata": {
      "needs_background": "light"
     },
     "output_type": "display_data"
    }
   ],
   "source": [
    "fig = dframe.plot(x ='Topics', y='Perplexity', kind='line').get_figure()\n",
    "fig.savefig('perplexity_plot.pdf')"
   ]
  },
  {
   "cell_type": "markdown",
   "id": "dac39a8d",
   "metadata": {},
   "source": [
    "Lastly, the scores dataframe is saved to a csv."
   ]
  },
  {
   "cell_type": "code",
   "execution_count": 43,
   "id": "9acc0552",
   "metadata": {},
   "outputs": [],
   "source": [
    "dframe.to_csv('perplexity_scores.csv', index=False)"
   ]
  },
  {
   "cell_type": "markdown",
   "id": "9ad534db",
   "metadata": {},
   "source": [
    "The above demonstrates that our grid search method works. We actually ran our grid search using the HPC with min_topics=10, max_topics = 60 and step_size = 1. Below is the perplexity plot outputted from the grid search. Please ignore the external axis, this is only used to scale the image."
   ]
  },
  {
   "cell_type": "code",
   "execution_count": 5,
   "id": "0799c5ac",
   "metadata": {},
   "outputs": [
    {
     "data": {
      "text/plain": [
       "<matplotlib.image.AxesImage at 0x268b6bbff10>"
      ]
     },
     "execution_count": 5,
     "metadata": {},
     "output_type": "execute_result"
    },
    {
     "data": {
      "image/png": "[encoded data removed]",
      "text/plain": [
       "<Figure size 432x288 with 1 Axes>"
      ]
     },
     "metadata": {
      "needs_background": "light"
     },
     "output_type": "display_data"
    }
   ],
   "source": [
    "from matplotlib import pyplot as plt\n",
    "from matplotlib import image as mpimg\n",
    " \n",
    "plt.title(\"Perplexity Plot for varying number of topics\")\n",
    " \n",
    "image = mpimg.imread(\"Perplexity-Plot-for-tuning.png\")\n",
    "plt.imshow(image)\n",
    "#plt.show()"
   ]
  },
  {
   "cell_type": "markdown",
   "id": "e06abfdb",
   "metadata": {},
   "source": [
    "As there was no elbow in the plot, we decided to set the number of topics to 58 as this produced the lowest perplexity score. As we only ran our hyperparameter tuning on a small subset of the data, we recognise that the true optimal number of topics will be larger than 58, but this provides a good lower bound for our project. If we had more time, we would have performed cross validation as well as exploring a larger search space. "
   ]
  },
  {
   "cell_type": "markdown",
   "id": "cf66c8bf",
   "metadata": {},
   "source": [
    "We adapted this notebook for use on the HPC, in order to run on a larger dataset. We had issues using pickles in the HPC so we changed to csv files. The version used on the HPC is provided in the 06-LDA-toy-example.ipynb notebook. This notebook has been ran with a smaller subset on Jupyter to demonstrate the output."
   ]
  },
  {
   "cell_type": "code",
   "execution_count": null,
   "id": "b634e2ea",
   "metadata": {},
   "outputs": [],
   "source": []
  }
 ],
 "metadata": {
  "kernelspec": {
   "display_name": "Python 3 (ipykernel)",
   "language": "python",
   "name": "python3"
  },
  "language_info": {
   "codemirror_mode": {
    "name": "ipython",
    "version": 3
   },
   "file_extension": ".py",
   "mimetype": "text/x-python",
   "name": "python",
   "nbconvert_exporter": "python",
   "pygments_lexer": "ipython3",
   "version": "3.9.12"
  }
 },
 "nbformat": 4,
 "nbformat_minor": 5
}
