{
 "cells": [
  {
   "cell_type": "code",
   "execution_count": 23,
   "id": "fba8d2f1",
   "metadata": {},
   "outputs": [],
   "source": [
    "import pandas as pd\n",
    "import numpy as np\n",
    "import matplotlib.pyplot as plt\n",
    "from gensim.models import Word2Vec\n",
    "import joblib\n",
    "import pickle\n",
    "import time\n",
    "from sklearn.metrics import classification_report\n",
    "from sklearn.metrics import roc_curve, auc\n",
    "from sklearn.model_selection import train_test_split, RandomizedSearchCV, GridSearchCV\n",
    "from sklearn.decomposition import PCA\n",
    "import xgboost as xgb"
   ]
  },
  {
   "attachments": {},
   "cell_type": "markdown",
   "id": "67926227",
   "metadata": {},
   "source": [
    "## Loading data"
   ]
  },
  {
   "cell_type": "code",
   "execution_count": 22,
   "id": "6f2a6e1c",
   "metadata": {},
   "outputs": [],
   "source": [
    "train=pd.read_csv(\"C:/Users/haile/OneDrive - University of Bristol/assessment2/train_combined_200k.csv\")\n"
   ]
  },
  {
   "cell_type": "code",
   "execution_count": 24,
   "id": "8587d098",
   "metadata": {},
   "outputs": [],
   "source": [
    "def myprocess(thisdoc):\n",
    "    ## Runs on documents (vector of words)\n",
    "    return(thisdoc.strip('[]').replace(\"u'\", '').replace(\"'\", '').replace(' ', '').split(','))\n",
    "#train['text']= train['text'].apply(lambda x: x.map(myprocess))\n",
    "train['text']=train['text'].map(myprocess)"
   ]
  },
  {
   "cell_type": "code",
   "execution_count": 25,
   "id": "999d5f44",
   "metadata": {},
   "outputs": [
    {
     "data": {
      "text/html": [
       "<div>\n",
       "<style scoped>\n",
       "    .dataframe tbody tr th:only-of-type {\n",
       "        vertical-align: middle;\n",
       "    }\n",
       "\n",
       "    .dataframe tbody tr th {\n",
       "        vertical-align: top;\n",
       "    }\n",
       "\n",
       "    .dataframe thead th {\n",
       "        text-align: right;\n",
       "    }\n",
       "</style>\n",
       "<table border=\"1\" class=\"dataframe\">\n",
       "  <thead>\n",
       "    <tr style=\"text-align: right;\">\n",
       "      <th></th>\n",
       "      <th>Unnamed: 0</th>\n",
       "      <th>text</th>\n",
       "      <th>sentiment</th>\n",
       "    </tr>\n",
       "  </thead>\n",
       "  <tbody>\n",
       "    <tr>\n",
       "      <th>0</th>\n",
       "      <td>972974</td>\n",
       "      <td>[enjoyable, great, book, sit, relax, with, fel...</td>\n",
       "      <td>1</td>\n",
       "    </tr>\n",
       "    <tr>\n",
       "      <th>1</th>\n",
       "      <td>1324500</td>\n",
       "      <td>[wonderful, story, mother, favorite, book, chi...</td>\n",
       "      <td>1</td>\n",
       "    </tr>\n",
       "    <tr>\n",
       "      <th>2</th>\n",
       "      <td>1945296</td>\n",
       "      <td>[great, edition, could, not, imagine, book, pu...</td>\n",
       "      <td>1</td>\n",
       "    </tr>\n",
       "    <tr>\n",
       "      <th>3</th>\n",
       "      <td>2355315</td>\n",
       "      <td>[woman, author, great, spiritual, discernment,...</td>\n",
       "      <td>1</td>\n",
       "    </tr>\n",
       "    <tr>\n",
       "      <th>4</th>\n",
       "      <td>771781</td>\n",
       "      <td>[great, read, bit, redundant, time, yankee, mo...</td>\n",
       "      <td>1</td>\n",
       "    </tr>\n",
       "    <tr>\n",
       "      <th>...</th>\n",
       "      <td>...</td>\n",
       "      <td>...</td>\n",
       "      <td>...</td>\n",
       "    </tr>\n",
       "    <tr>\n",
       "      <th>199993</th>\n",
       "      <td>384482</td>\n",
       "      <td>[read, real, thing, first, book, fine, far, go...</td>\n",
       "      <td>0</td>\n",
       "    </tr>\n",
       "    <tr>\n",
       "      <th>199994</th>\n",
       "      <td>466078</td>\n",
       "      <td>[okay, book, pretty, much, same, really, like,...</td>\n",
       "      <td>0</td>\n",
       "    </tr>\n",
       "    <tr>\n",
       "      <th>199995</th>\n",
       "      <td>193304</td>\n",
       "      <td>[bore, sorry, book, boring, opinion, course, f...</td>\n",
       "      <td>0</td>\n",
       "    </tr>\n",
       "    <tr>\n",
       "      <th>199996</th>\n",
       "      <td>479971</td>\n",
       "      <td>[excellent, even, old, reader, although, book,...</td>\n",
       "      <td>0</td>\n",
       "    </tr>\n",
       "    <tr>\n",
       "      <th>199997</th>\n",
       "      <td>227976</td>\n",
       "      <td>[great, expectation, unmet, great, expectation...</td>\n",
       "      <td>0</td>\n",
       "    </tr>\n",
       "  </tbody>\n",
       "</table>\n",
       "<p>199998 rows × 3 columns</p>\n",
       "</div>"
      ],
      "text/plain": [
       "        Unnamed: 0                                               text  \\\n",
       "0           972974  [enjoyable, great, book, sit, relax, with, fel...   \n",
       "1          1324500  [wonderful, story, mother, favorite, book, chi...   \n",
       "2          1945296  [great, edition, could, not, imagine, book, pu...   \n",
       "3          2355315  [woman, author, great, spiritual, discernment,...   \n",
       "4           771781  [great, read, bit, redundant, time, yankee, mo...   \n",
       "...            ...                                                ...   \n",
       "199993      384482  [read, real, thing, first, book, fine, far, go...   \n",
       "199994      466078  [okay, book, pretty, much, same, really, like,...   \n",
       "199995      193304  [bore, sorry, book, boring, opinion, course, f...   \n",
       "199996      479971  [excellent, even, old, reader, although, book,...   \n",
       "199997      227976  [great, expectation, unmet, great, expectation...   \n",
       "\n",
       "        sentiment  \n",
       "0               1  \n",
       "1               1  \n",
       "2               1  \n",
       "3               1  \n",
       "4               1  \n",
       "...           ...  \n",
       "199993          0  \n",
       "199994          0  \n",
       "199995          0  \n",
       "199996          0  \n",
       "199997          0  \n",
       "\n",
       "[199998 rows x 3 columns]"
      ]
     },
     "execution_count": 25,
     "metadata": {},
     "output_type": "execute_result"
    }
   ],
   "source": [
    "train"
   ]
  },
  {
   "cell_type": "code",
   "execution_count": 26,
   "id": "2b2e3834",
   "metadata": {},
   "outputs": [
    {
     "data": {
      "text/plain": [
       "Unnamed: 0    0\n",
       "text          0\n",
       "sentiment     0\n",
       "dtype: int64"
      ]
     },
     "execution_count": 26,
     "metadata": {},
     "output_type": "execute_result"
    }
   ],
   "source": [
    "train.isna().sum()"
   ]
  },
  {
   "attachments": {},
   "cell_type": "markdown",
   "id": "60bf3fc3",
   "metadata": {},
   "source": [
    "## Comment on w2v model vs d2v model\n",
    "\n",
    "We have started with trying out both w2v and d2v models, and comparing their performance with fixed classification models with the same parameters. The code for the d2v model can be found in Hailey's folder.\n",
    "After comparison, we decided that w2v works better, so we perform the hyperparameter tuning on the w2v model and also on the classification model with inputs from a w2v model."
   ]
  },
  {
   "attachments": {},
   "cell_type": "markdown",
   "id": "75f4a26b",
   "metadata": {},
   "source": [
    "## Fit the w2v model\n",
    "\n",
    "Here we try to get the w2v model to work on dataset.\n",
    "\n",
    "Define some parameters for a w2v model and fit our data set into the model."
   ]
  },
  {
   "cell_type": "code",
   "execution_count": 27,
   "id": "418365c4",
   "metadata": {},
   "outputs": [
    {
     "name": "stdout",
     "output_type": "stream",
     "text": [
      "Time taken to train word2vec model:282.917085647583\n"
     ]
    }
   ],
   "source": [
    "vector_size=100\n",
    "#The number of dimensions of embeddings, the default is 100\n",
    "window=3\n",
    "#The maximum distance between a target word and its neighbours, default is 5\n",
    "min_count=3\n",
    "#The minimum counts of words in order for the word to be considered for the training of model, default is 5\n",
    "workers=3\n",
    "#The number of partitions during training, default is 3\n",
    "sg=1\n",
    "#The training algorithom, either CBOW(0) or skip gram(1), default is CBOW\n",
    "\n",
    "#tokens = pd.Series(df['tokenized_text']).values\n",
    "start_t = time.time()\n",
    "w2vmodel=Word2Vec(train['text'],min_count=min_count,vector_size=vector_size,workers=workers,sg=sg)\n",
    "print('Time taken to train word2vec model:' +str(time.time()-start_t))"
   ]
  },
  {
   "cell_type": "code",
   "execution_count": 28,
   "id": "c1a7761d",
   "metadata": {},
   "outputs": [],
   "source": [
    "word2vec_model_file = 'C:/Users/haile/OneDrive - University of Bristol/assessment2' + 'w2v_full_200k' + '.model'\n",
    "w2vmodel.save(word2vec_model_file)"
   ]
  },
  {
   "cell_type": "code",
   "execution_count": 29,
   "id": "efc35323",
   "metadata": {},
   "outputs": [],
   "source": [
    "w2v_model = Word2Vec.load(word2vec_model_file) \n",
    "#we have to save and load for some of the function below to work"
   ]
  },
  {
   "attachments": {},
   "cell_type": "markdown",
   "id": "05407687",
   "metadata": {},
   "source": [
    "## Extract the outputs of w2v model\n",
    "\n",
    "https://towardsdatascience.com/word2vec-explained-49c52b4ccb71\n",
    "\n",
    "how to put the outputs of word2vec into data frame, and apply PCA on the outputs"
   ]
  },
  {
   "cell_type": "code",
   "execution_count": 30,
   "id": "29fbc5f6",
   "metadata": {},
   "outputs": [
    {
     "name": "stdout",
     "output_type": "stream",
     "text": [
      "(73438, 100)\n"
     ]
    },
    {
     "data": {
      "text/html": [
       "<div>\n",
       "<style scoped>\n",
       "    .dataframe tbody tr th:only-of-type {\n",
       "        vertical-align: middle;\n",
       "    }\n",
       "\n",
       "    .dataframe tbody tr th {\n",
       "        vertical-align: top;\n",
       "    }\n",
       "\n",
       "    .dataframe thead th {\n",
       "        text-align: right;\n",
       "    }\n",
       "</style>\n",
       "<table border=\"1\" class=\"dataframe\">\n",
       "  <thead>\n",
       "    <tr style=\"text-align: right;\">\n",
       "      <th></th>\n",
       "      <th>0</th>\n",
       "      <th>1</th>\n",
       "      <th>2</th>\n",
       "      <th>3</th>\n",
       "      <th>4</th>\n",
       "      <th>5</th>\n",
       "      <th>6</th>\n",
       "      <th>7</th>\n",
       "      <th>8</th>\n",
       "      <th>9</th>\n",
       "      <th>...</th>\n",
       "      <th>90</th>\n",
       "      <th>91</th>\n",
       "      <th>92</th>\n",
       "      <th>93</th>\n",
       "      <th>94</th>\n",
       "      <th>95</th>\n",
       "      <th>96</th>\n",
       "      <th>97</th>\n",
       "      <th>98</th>\n",
       "      <th>99</th>\n",
       "    </tr>\n",
       "  </thead>\n",
       "  <tbody>\n",
       "    <tr>\n",
       "      <th>book</th>\n",
       "      <td>-0.182903</td>\n",
       "      <td>0.444808</td>\n",
       "      <td>0.167459</td>\n",
       "      <td>0.121759</td>\n",
       "      <td>0.117114</td>\n",
       "      <td>-0.330693</td>\n",
       "      <td>0.280973</td>\n",
       "      <td>0.502308</td>\n",
       "      <td>-0.141385</td>\n",
       "      <td>-0.261550</td>\n",
       "      <td>...</td>\n",
       "      <td>0.158094</td>\n",
       "      <td>0.198751</td>\n",
       "      <td>0.205140</td>\n",
       "      <td>0.082175</td>\n",
       "      <td>0.594634</td>\n",
       "      <td>0.134701</td>\n",
       "      <td>0.202003</td>\n",
       "      <td>-0.057534</td>\n",
       "      <td>0.210843</td>\n",
       "      <td>0.153562</td>\n",
       "    </tr>\n",
       "    <tr>\n",
       "      <th>not</th>\n",
       "      <td>0.107763</td>\n",
       "      <td>0.373913</td>\n",
       "      <td>-0.109907</td>\n",
       "      <td>-0.009591</td>\n",
       "      <td>0.191718</td>\n",
       "      <td>-0.347924</td>\n",
       "      <td>0.206552</td>\n",
       "      <td>0.540382</td>\n",
       "      <td>-0.129744</td>\n",
       "      <td>-0.250811</td>\n",
       "      <td>...</td>\n",
       "      <td>0.124431</td>\n",
       "      <td>0.175975</td>\n",
       "      <td>0.121477</td>\n",
       "      <td>-0.185674</td>\n",
       "      <td>0.420615</td>\n",
       "      <td>0.301120</td>\n",
       "      <td>0.381545</td>\n",
       "      <td>-0.036842</td>\n",
       "      <td>0.043970</td>\n",
       "      <td>0.079525</td>\n",
       "    </tr>\n",
       "    <tr>\n",
       "      <th>read</th>\n",
       "      <td>0.165691</td>\n",
       "      <td>0.247876</td>\n",
       "      <td>0.162293</td>\n",
       "      <td>-0.151630</td>\n",
       "      <td>0.147380</td>\n",
       "      <td>-0.238636</td>\n",
       "      <td>0.100571</td>\n",
       "      <td>0.487197</td>\n",
       "      <td>-0.148270</td>\n",
       "      <td>-0.192424</td>\n",
       "      <td>...</td>\n",
       "      <td>0.167623</td>\n",
       "      <td>0.123059</td>\n",
       "      <td>0.117757</td>\n",
       "      <td>0.030282</td>\n",
       "      <td>0.521787</td>\n",
       "      <td>-0.038681</td>\n",
       "      <td>0.371420</td>\n",
       "      <td>-0.043137</td>\n",
       "      <td>0.334954</td>\n",
       "      <td>0.088200</td>\n",
       "    </tr>\n",
       "    <tr>\n",
       "      <th>one</th>\n",
       "      <td>-0.021623</td>\n",
       "      <td>0.379505</td>\n",
       "      <td>0.064046</td>\n",
       "      <td>0.035886</td>\n",
       "      <td>0.200664</td>\n",
       "      <td>-0.277362</td>\n",
       "      <td>0.115156</td>\n",
       "      <td>0.578395</td>\n",
       "      <td>-0.135084</td>\n",
       "      <td>-0.365706</td>\n",
       "      <td>...</td>\n",
       "      <td>0.100097</td>\n",
       "      <td>0.262225</td>\n",
       "      <td>-0.018887</td>\n",
       "      <td>-0.139296</td>\n",
       "      <td>0.465450</td>\n",
       "      <td>0.200959</td>\n",
       "      <td>0.338344</td>\n",
       "      <td>-0.076293</td>\n",
       "      <td>0.088482</td>\n",
       "      <td>0.057563</td>\n",
       "    </tr>\n",
       "    <tr>\n",
       "      <th>story</th>\n",
       "      <td>-0.065675</td>\n",
       "      <td>0.444699</td>\n",
       "      <td>-0.085614</td>\n",
       "      <td>0.276173</td>\n",
       "      <td>0.017377</td>\n",
       "      <td>-0.375582</td>\n",
       "      <td>0.017181</td>\n",
       "      <td>0.699086</td>\n",
       "      <td>-0.115110</td>\n",
       "      <td>-0.119142</td>\n",
       "      <td>...</td>\n",
       "      <td>-0.096156</td>\n",
       "      <td>0.138758</td>\n",
       "      <td>0.258005</td>\n",
       "      <td>-0.131972</td>\n",
       "      <td>0.450365</td>\n",
       "      <td>0.071630</td>\n",
       "      <td>0.286372</td>\n",
       "      <td>-0.019650</td>\n",
       "      <td>0.431172</td>\n",
       "      <td>0.229199</td>\n",
       "    </tr>\n",
       "  </tbody>\n",
       "</table>\n",
       "<p>5 rows × 100 columns</p>\n",
       "</div>"
      ],
      "text/plain": [
       "             0         1         2         3         4         5         6   \\\n",
       "book  -0.182903  0.444808  0.167459  0.121759  0.117114 -0.330693  0.280973   \n",
       "not    0.107763  0.373913 -0.109907 -0.009591  0.191718 -0.347924  0.206552   \n",
       "read   0.165691  0.247876  0.162293 -0.151630  0.147380 -0.238636  0.100571   \n",
       "one   -0.021623  0.379505  0.064046  0.035886  0.200664 -0.277362  0.115156   \n",
       "story -0.065675  0.444699 -0.085614  0.276173  0.017377 -0.375582  0.017181   \n",
       "\n",
       "             7         8         9   ...        90        91        92  \\\n",
       "book   0.502308 -0.141385 -0.261550  ...  0.158094  0.198751  0.205140   \n",
       "not    0.540382 -0.129744 -0.250811  ...  0.124431  0.175975  0.121477   \n",
       "read   0.487197 -0.148270 -0.192424  ...  0.167623  0.123059  0.117757   \n",
       "one    0.578395 -0.135084 -0.365706  ...  0.100097  0.262225 -0.018887   \n",
       "story  0.699086 -0.115110 -0.119142  ... -0.096156  0.138758  0.258005   \n",
       "\n",
       "             93        94        95        96        97        98        99  \n",
       "book   0.082175  0.594634  0.134701  0.202003 -0.057534  0.210843  0.153562  \n",
       "not   -0.185674  0.420615  0.301120  0.381545 -0.036842  0.043970  0.079525  \n",
       "read   0.030282  0.521787 -0.038681  0.371420 -0.043137  0.334954  0.088200  \n",
       "one   -0.139296  0.465450  0.200959  0.338344 -0.076293  0.088482  0.057563  \n",
       "story -0.131972  0.450365  0.071630  0.286372 -0.019650  0.431172  0.229199  \n",
       "\n",
       "[5 rows x 100 columns]"
      ]
     },
     "execution_count": 30,
     "metadata": {},
     "output_type": "execute_result"
    }
   ],
   "source": [
    "emb_df = (\n",
    "    pd.DataFrame(\n",
    "        [w2v_model.wv.get_vector(str(n)) for n in w2vmodel.wv.key_to_index],\n",
    "        index = w2vmodel.wv.key_to_index\n",
    "    )\n",
    ")\n",
    "print(emb_df.shape)\n",
    "\n",
    "emb_df.head()"
   ]
  },
  {
   "cell_type": "code",
   "execution_count": 31,
   "id": "048b9518",
   "metadata": {},
   "outputs": [
    {
     "name": "stdout",
     "output_type": "stream",
     "text": [
      "[('fantastic', 0.8683852553367615), ('fabulous', 0.8546572923660278), ('terrific', 0.8446984887123108), ('marvelous', 0.8406555652618408), ('amazing', 0.799076497554779), ('wondeful', 0.7949334383010864), ('splendid', 0.7881342172622681), ('wonderfull', 0.7873572707176208), ('excellent', 0.7861804366111755), ('superb', 0.7860434055328369)]\n"
     ]
    }
   ],
   "source": [
    "print(w2v_model.wv.most_similar('wonderful'))"
   ]
  },
  {
   "cell_type": "code",
   "execution_count": 32,
   "id": "5f264b35",
   "metadata": {},
   "outputs": [
    {
     "name": "stdout",
     "output_type": "stream",
     "text": [
      "Cosine similarity between 'wonderful' terrible' - Skip Gram :  0.4152556\n"
     ]
    }
   ],
   "source": [
    "print(\"Cosine similarity between 'wonderful' \" +\n",
    "               \"terrible' - Skip Gram : \",\n",
    "    w2v_model.wv.similarity('wonderful', 'bad'))"
   ]
  },
  {
   "attachments": {},
   "cell_type": "markdown",
   "id": "841c0972",
   "metadata": {},
   "source": [
    "## load pretrained model"
   ]
  },
  {
   "attachments": {},
   "cell_type": "markdown",
   "id": "16a78f92",
   "metadata": {},
   "source": [
    "In this context, word embeddings are a representation of words in space such that words that have similar meaning are plotted closer together, while words that have different meanings are plotted further apart. Meaning is determined by the co-occurence of words.Often it’s beneficial to make use of a pre-trained model since such models are trained on much larger datasets with many more words and hence might be better at capturing the underlying meaning of a word. We can then build on this prior model and fine-tune the word embeddings to match with our current dataset.\n",
    "\n",
    "I downloaded the Glove model from the Stanford page and chose the glove.twitter.27B.100d model."
   ]
  },
  {
   "cell_type": "code",
   "execution_count": 33,
   "id": "3e1c0f7d",
   "metadata": {},
   "outputs": [
    {
     "data": {
      "text/plain": [
       "(72668007, 79944765)"
      ]
     },
     "execution_count": 33,
     "metadata": {},
     "output_type": "execute_result"
    }
   ],
   "source": [
    "from gensim.models import KeyedVectors\n",
    "from gensim.scripts.glove2word2vec import glove2word2vec \n",
    "glove2word2vec(\"C:/Users/haile/OneDrive - University of Bristol/assessment2/glove.twitter.27B.100d.txt\", \"C:/Users/haile/OneDrive - University of Bristol/assessment2/glove_model2.txt\")#convert to word2vec format\n",
    "pretrained_path = \"C:/Users/haile/OneDrive - University of Bristol/assessment2/glove_model2.txt\"\n",
    "model_2 = KeyedVectors.load_word2vec_format(pretrained_path, binary=False)\n",
    "#model_2.save('C:/Users/haile/OneDrive - University of Bristol/assessment2/glove_model.model')\n",
    "vocab = list(w2v_model.wv.key_to_index)# Save the vocab of your dataset\n",
    "w2v_model.build_vocab([list(model_2.index_to_key)], update=True)# Add the pre-trained model vocabulary\n",
    "training_examples_count = w2v_model.corpus_count\n",
    "w2v_model.train(train['text'],total_examples=training_examples_count, epochs=w2v_model.epochs)#train with our data\n"
   ]
  },
  {
   "attachments": {},
   "cell_type": "markdown",
   "id": "41517105",
   "metadata": {},
   "source": [
    "## Plot Embeddings"
   ]
  },
  {
   "attachments": {},
   "cell_type": "markdown",
   "id": "59359346",
   "metadata": {},
   "source": [
    "### extract embedding"
   ]
  },
  {
   "cell_type": "code",
   "execution_count": 34,
   "id": "4723bd8d",
   "metadata": {},
   "outputs": [
    {
     "data": {
      "text/plain": [
       "(73438, 100)"
      ]
     },
     "execution_count": 34,
     "metadata": {},
     "output_type": "execute_result"
    }
   ],
   "source": [
    "word_embeddings = np.array([ w2v_model.wv[k] if k in w2v_model.wv else np.zeros(100) for k in vocab ])\n",
    "word_embeddings.shape # Should be len(vocab) by 100"
   ]
  },
  {
   "attachments": {},
   "cell_type": "markdown",
   "id": "8806942b",
   "metadata": {},
   "source": [
    "### Dimensionality Reduction"
   ]
  },
  {
   "attachments": {},
   "cell_type": "markdown",
   "id": "cbc17c5f",
   "metadata": {},
   "source": [
    "project the 100 dimensional word embeddings into 2D for visualization"
   ]
  },
  {
   "cell_type": "code",
   "execution_count": 35,
   "id": "7b07ea97",
   "metadata": {},
   "outputs": [],
   "source": [
    "import umap.umap_ as umap\n",
    "#from sklearn.preprocessing import StandardScaler\n",
    "\n",
    "#scaled_we = StandardScaler().fit_transform(word_embeddings)\n",
    "#embedding2d = reducer.fit_transform(scaled_we)\n",
    "\n",
    "reducer = umap.UMAP()\n",
    "embedding2d = reducer.fit_transform(word_embeddings)"
   ]
  },
  {
   "attachments": {},
   "cell_type": "markdown",
   "id": "e9f42752",
   "metadata": {},
   "source": [
    "### plot"
   ]
  },
  {
   "cell_type": "code",
   "execution_count": 36,
   "id": "9142e005",
   "metadata": {},
   "outputs": [
    {
     "data": {
      "text/plain": [
       "<matplotlib.collections.PathCollection at 0x28bb3771e50>"
      ]
     },
     "execution_count": 36,
     "metadata": {},
     "output_type": "execute_result"
    },
    {
     "data": {
      "image/png": "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",
      "text/plain": [
       "<Figure size 640x480 with 1 Axes>"
      ]
     },
     "metadata": {},
     "output_type": "display_data"
    }
   ],
   "source": [
    "import matplotlib.pyplot as plt\n",
    "\n",
    "plt.scatter(\n",
    "    embedding2d[:, 0],\n",
    "    embedding2d[:, 1])"
   ]
  },
  {
   "attachments": {},
   "cell_type": "markdown",
   "id": "a16a6102",
   "metadata": {},
   "source": [
    "## Compute feature vectors for each review"
   ]
  },
  {
   "attachments": {},
   "cell_type": "markdown",
   "id": "0d0836d0",
   "metadata": {},
   "source": [
    "https://www.kaggle.com/code/varun08/sentiment-analysis-using-word2vec/notebook\n",
    " define functions to compute feature vectors, which is an average of the vectors of each word appeared in the review, and the feature vectors can be then be used as inputs for the classification model."
   ]
  },
  {
   "cell_type": "code",
   "execution_count": 43,
   "id": "e5823884",
   "metadata": {},
   "outputs": [],
   "source": [
    "# Function to average all word vectors in a paragraph\n",
    "def featureVecMethod(words, model, num_features):\n",
    "    # Pre-initialising empty numpy array for speed\n",
    "    featureVec = np.zeros(num_features,dtype=\"float32\")\n",
    "    nwords = 0\n",
    "    \n",
    "    #Converting Index2Word which is a list to a set for better speed in the execution.\n",
    "    index2word_set = set(model.wv.index_to_key)\n",
    "    for word in  words:\n",
    "        if word in index2word_set:\n",
    "            nwords = nwords + 1\n",
    "            featureVec = np.add(featureVec,model.wv[word])\n",
    "    \n",
    "    if nwords ==0:\n",
    "        featureVec = np.zeros(100)\n",
    "        #avoiding divide by zero, define it as a all zero vector\n",
    "    else:\n",
    "        featureVec = np.divide(featureVec, nwords)\n",
    "    # Dividing the result by number of words to get average\n",
    "\n",
    "    return featureVec"
   ]
  },
  {
   "cell_type": "code",
   "execution_count": 45,
   "id": "43a5418e",
   "metadata": {},
   "outputs": [],
   "source": [
    "# Function for calculating the average feature vector\n",
    "def getAvgFeatureVecs(reviews, model, num_features):\n",
    "    counter = 0\n",
    "    reviewFeatureVecs = np.zeros((len(reviews),num_features),dtype=\"float32\")\n",
    "    for review in reviews:\n",
    "        # Printing a status message every 1000th review\n",
    "        if counter%1000 == 0:\n",
    "            print(\"Comment %d of %d\"%(counter,len(reviews)))\n",
    "            \n",
    "        reviewFeatureVecs[counter] = featureVecMethod(review, model, num_features)\n",
    "            \n",
    "        counter = counter+1\n",
    "        \n",
    "    return reviewFeatureVecs"
   ]
  },
  {
   "attachments": {},
   "cell_type": "markdown",
   "id": "ea7671ec",
   "metadata": {},
   "source": [
    "The two functions above will raise an error message of dividing by 0 if nwords=0, this is because the wv2 model has min_count set to 3, sometimes all the words appearing in a review turn out to have count less than 3, this could be due to spelling errors and various other reasons.\n",
    "\n",
    "Therefore, I have added a line of if boolean in the featureVecMethod function, which set the vector to all zeros when nwords=0. And it can be then identified later."
   ]
  },
  {
   "cell_type": "code",
   "execution_count": 41,
   "id": "9d9505a6",
   "metadata": {},
   "outputs": [],
   "source": [
    "X_train=train\n",
    "y_train=train['sentiment']"
   ]
  },
  {
   "cell_type": "code",
   "execution_count": 42,
   "id": "9a8f4eb1",
   "metadata": {},
   "outputs": [
    {
     "name": "stdout",
     "output_type": "stream",
     "text": [
      "Comment 0 of 199998\n",
      "Comment 1000 of 199998\n",
      "Comment 2000 of 199998\n",
      "Comment 3000 of 199998\n",
      "Comment 4000 of 199998\n",
      "Comment 5000 of 199998\n",
      "Comment 6000 of 199998\n",
      "Comment 7000 of 199998\n",
      "Comment 8000 of 199998\n",
      "Comment 9000 of 199998\n",
      "Comment 10000 of 199998\n",
      "Comment 11000 of 199998\n",
      "Comment 12000 of 199998\n",
      "Comment 13000 of 199998\n",
      "Comment 14000 of 199998\n",
      "Comment 15000 of 199998\n",
      "Comment 16000 of 199998\n",
      "Comment 17000 of 199998\n",
      "Comment 18000 of 199998\n",
      "Comment 19000 of 199998\n",
      "Comment 20000 of 199998\n",
      "Comment 21000 of 199998\n",
      "Comment 22000 of 199998\n",
      "Comment 23000 of 199998\n",
      "Comment 24000 of 199998\n",
      "Comment 25000 of 199998\n",
      "Comment 26000 of 199998\n",
      "Comment 27000 of 199998\n",
      "Comment 28000 of 199998\n",
      "Comment 29000 of 199998\n",
      "Comment 30000 of 199998\n",
      "Comment 31000 of 199998\n",
      "Comment 32000 of 199998\n",
      "Comment 33000 of 199998\n",
      "Comment 34000 of 199998\n",
      "Comment 35000 of 199998\n",
      "Comment 36000 of 199998\n",
      "Comment 37000 of 199998\n",
      "Comment 38000 of 199998\n",
      "Comment 39000 of 199998\n",
      "Comment 40000 of 199998\n",
      "Comment 41000 of 199998\n",
      "Comment 42000 of 199998\n",
      "Comment 43000 of 199998\n",
      "Comment 44000 of 199998\n",
      "Comment 45000 of 199998\n",
      "Comment 46000 of 199998\n",
      "Comment 47000 of 199998\n",
      "Comment 48000 of 199998\n",
      "Comment 49000 of 199998\n",
      "Comment 50000 of 199998\n",
      "Comment 51000 of 199998\n",
      "Comment 52000 of 199998\n",
      "Comment 53000 of 199998\n",
      "Comment 54000 of 199998\n",
      "Comment 55000 of 199998\n",
      "Comment 56000 of 199998\n",
      "Comment 57000 of 199998\n",
      "Comment 58000 of 199998\n",
      "Comment 59000 of 199998\n",
      "Comment 60000 of 199998\n",
      "Comment 61000 of 199998\n",
      "Comment 62000 of 199998\n",
      "Comment 63000 of 199998\n",
      "Comment 64000 of 199998\n",
      "Comment 65000 of 199998\n",
      "Comment 66000 of 199998\n",
      "Comment 67000 of 199998\n",
      "Comment 68000 of 199998\n",
      "Comment 69000 of 199998\n",
      "Comment 70000 of 199998\n",
      "Comment 71000 of 199998\n",
      "Comment 72000 of 199998\n",
      "Comment 73000 of 199998\n",
      "Comment 74000 of 199998\n",
      "Comment 75000 of 199998\n",
      "Comment 76000 of 199998\n",
      "Comment 77000 of 199998\n",
      "Comment 78000 of 199998\n",
      "Comment 79000 of 199998\n",
      "Comment 80000 of 199998\n",
      "Comment 81000 of 199998\n",
      "Comment 82000 of 199998\n",
      "Comment 83000 of 199998\n",
      "Comment 84000 of 199998\n",
      "Comment 85000 of 199998\n",
      "Comment 86000 of 199998\n",
      "Comment 87000 of 199998\n",
      "Comment 88000 of 199998\n",
      "Comment 89000 of 199998\n",
      "Comment 90000 of 199998\n",
      "Comment 91000 of 199998\n",
      "Comment 92000 of 199998\n",
      "Comment 93000 of 199998\n",
      "Comment 94000 of 199998\n",
      "Comment 95000 of 199998\n",
      "Comment 96000 of 199998\n",
      "Comment 97000 of 199998\n",
      "Comment 98000 of 199998\n",
      "Comment 99000 of 199998\n",
      "Comment 100000 of 199998\n",
      "Comment 101000 of 199998\n",
      "Comment 102000 of 199998\n",
      "Comment 103000 of 199998\n",
      "Comment 104000 of 199998\n",
      "Comment 105000 of 199998\n",
      "Comment 106000 of 199998\n",
      "Comment 107000 of 199998\n",
      "Comment 108000 of 199998\n",
      "Comment 109000 of 199998\n",
      "Comment 110000 of 199998\n",
      "Comment 111000 of 199998\n",
      "Comment 112000 of 199998\n",
      "Comment 113000 of 199998\n",
      "Comment 114000 of 199998\n",
      "Comment 115000 of 199998\n",
      "Comment 116000 of 199998\n",
      "Comment 117000 of 199998\n",
      "Comment 118000 of 199998\n",
      "Comment 119000 of 199998\n",
      "Comment 120000 of 199998\n",
      "Comment 121000 of 199998\n",
      "Comment 122000 of 199998\n",
      "Comment 123000 of 199998\n",
      "Comment 124000 of 199998\n",
      "Comment 125000 of 199998\n",
      "Comment 126000 of 199998\n",
      "Comment 127000 of 199998\n",
      "Comment 128000 of 199998\n",
      "Comment 129000 of 199998\n",
      "Comment 130000 of 199998\n",
      "Comment 131000 of 199998\n",
      "Comment 132000 of 199998\n",
      "Comment 133000 of 199998\n",
      "Comment 134000 of 199998\n",
      "Comment 135000 of 199998\n",
      "Comment 136000 of 199998\n",
      "Comment 137000 of 199998\n",
      "Comment 138000 of 199998\n",
      "Comment 139000 of 199998\n",
      "Comment 140000 of 199998\n",
      "Comment 141000 of 199998\n",
      "Comment 142000 of 199998\n",
      "Comment 143000 of 199998\n",
      "Comment 144000 of 199998\n",
      "Comment 145000 of 199998\n",
      "Comment 146000 of 199998\n",
      "Comment 147000 of 199998\n",
      "Comment 148000 of 199998\n",
      "Comment 149000 of 199998\n",
      "Comment 150000 of 199998\n",
      "Comment 151000 of 199998\n",
      "Comment 152000 of 199998\n",
      "Comment 153000 of 199998\n",
      "Comment 154000 of 199998\n",
      "Comment 155000 of 199998\n",
      "Comment 156000 of 199998\n",
      "Comment 157000 of 199998\n",
      "Comment 158000 of 199998\n",
      "Comment 159000 of 199998\n",
      "Comment 160000 of 199998\n",
      "Comment 161000 of 199998\n",
      "Comment 162000 of 199998\n",
      "Comment 163000 of 199998\n",
      "Comment 164000 of 199998\n",
      "Comment 165000 of 199998\n",
      "Comment 166000 of 199998\n",
      "Comment 167000 of 199998\n",
      "Comment 168000 of 199998\n",
      "Comment 169000 of 199998\n",
      "Comment 170000 of 199998\n",
      "Comment 171000 of 199998\n",
      "Comment 172000 of 199998\n",
      "Comment 173000 of 199998\n",
      "Comment 174000 of 199998\n",
      "Comment 175000 of 199998\n",
      "Comment 176000 of 199998\n",
      "Comment 177000 of 199998\n",
      "Comment 178000 of 199998\n",
      "Comment 179000 of 199998\n",
      "Comment 180000 of 199998\n",
      "Comment 181000 of 199998\n",
      "Comment 182000 of 199998\n",
      "Comment 183000 of 199998\n",
      "Comment 184000 of 199998\n",
      "Comment 185000 of 199998\n",
      "Comment 186000 of 199998\n",
      "Comment 187000 of 199998\n",
      "Comment 188000 of 199998\n",
      "Comment 189000 of 199998\n",
      "Comment 190000 of 199998\n",
      "Comment 191000 of 199998\n",
      "Comment 192000 of 199998\n",
      "Comment 193000 of 199998\n",
      "Comment 194000 of 199998\n",
      "Comment 195000 of 199998\n",
      "Comment 196000 of 199998\n",
      "Comment 197000 of 199998\n",
      "Comment 198000 of 199998\n",
      "Comment 199000 of 199998\n"
     ]
    }
   ],
   "source": [
    "trainDataVecs = getAvgFeatureVecs(X_train['text'], w2v_model, 100)\n",
    "#get feature vectors for train data"
   ]
  },
  {
   "cell_type": "code",
   "execution_count": 54,
   "id": "1c4062f1",
   "metadata": {},
   "outputs": [],
   "source": [
    "trainDataVecs.dump('C:/Users/haile/OneDrive - University of Bristol/assessment2/trainDataVecs')"
   ]
  },
  {
   "cell_type": "code",
   "execution_count": 55,
   "id": "f7df96d2",
   "metadata": {},
   "outputs": [],
   "source": [
    "trainDataVecs=pd.read_pickle('C:/Users/haile/OneDrive - University of Bristol/assessment2/trainDataVecs')"
   ]
  },
  {
   "cell_type": "code",
   "execution_count": 56,
   "id": "8b3b512b",
   "metadata": {},
   "outputs": [],
   "source": [
    "def remove_unuseful_rows(trainDataVecs,y_train):\n",
    "    list=[]\n",
    "    y_train.reset_index()\n",
    "    for i in range(trainDataVecs.shape[0]):\n",
    "        if np.all(trainDataVecs[i,]==0):\n",
    "            list.append(i)\n",
    "    if len(list)!=0:\n",
    "        trainDataVecs=np.delete(trainDataVecs,list,axis=0)\n",
    "        y_train.drop(index=list,inplace=True)\n",
    "    return trainDataVecs,y_train\n",
    "# remove the sample with all zero vector and its corresponding y"
   ]
  },
  {
   "cell_type": "code",
   "execution_count": null,
   "id": "0c361acf",
   "metadata": {},
   "outputs": [],
   "source": [
    "trainDataVecs1,y_train1=remove_unuseful_rows(trainDataVecs,y_train)"
   ]
  },
  {
   "cell_type": "code",
   "execution_count": 58,
   "id": "71810fc7",
   "metadata": {},
   "outputs": [
    {
     "data": {
      "text/plain": [
       "(199997,)"
      ]
     },
     "execution_count": 58,
     "metadata": {},
     "output_type": "execute_result"
    }
   ],
   "source": [
    "y_train1.shape"
   ]
  },
  {
   "cell_type": "code",
   "execution_count": 51,
   "id": "8e056193",
   "metadata": {},
   "outputs": [
    {
     "data": {
      "text/plain": [
       "(199997, 100)"
      ]
     },
     "execution_count": 51,
     "metadata": {},
     "output_type": "execute_result"
    }
   ],
   "source": [
    "trainDataVecs1.shape"
   ]
  },
  {
   "attachments": {},
   "cell_type": "markdown",
   "id": "dc27e6f8",
   "metadata": {},
   "source": [
    "## Classification models\n",
    "\n",
    "In this section, we train two classification models random forest and xgboost on our train data, we want to compare the their performance on a test data set latter."
   ]
  },
  {
   "cell_type": "code",
   "execution_count": 60,
   "id": "31da448d",
   "metadata": {},
   "outputs": [
    {
     "name": "stdout",
     "output_type": "stream",
     "text": [
      "0.25367960483426105\n"
     ]
    }
   ],
   "source": [
    "scale_pos_weight = (sum(y_train1==0))/(sum(y_train1==1))\n",
    "print(scale_pos_weight)"
   ]
  },
  {
   "cell_type": "code",
   "execution_count": 61,
   "id": "8b7ca852",
   "metadata": {},
   "outputs": [
    {
     "name": "stderr",
     "output_type": "stream",
     "text": [
      "c:\\Users\\haile\\anaconda3\\lib\\site-packages\\xgboost\\sklearn.py:1224: UserWarning: The use of label encoder in XGBClassifier is deprecated and will be removed in a future release. To remove this warning, do the following: 1) Pass option use_label_encoder=False when constructing XGBClassifier object; and 2) Encode your labels (y) as integers starting with 0, i.e. 0, 1, 2, ..., [num_class - 1].\n",
      "  warnings.warn(label_encoder_deprecation_msg, UserWarning)\n"
     ]
    },
    {
     "name": "stdout",
     "output_type": "stream",
     "text": [
      "Time taken to fit the demodel with word2vec vectors: 122.31048965454102\n"
     ]
    }
   ],
   "source": [
    "xgb_model = xgb.XGBClassifier(\n",
    "    objective='binary:logistic',\n",
    "    eval_metric='logloss',\n",
    "    scale_pos_weight=scale_pos_weight,\n",
    "    learning_rate=0.05,\n",
    "    n_estimators=150)\n",
    "\n",
    "\n",
    "start_time = time.time()\n",
    "xgb_model.fit(trainDataVecs1, y_train1)\n",
    "print(\"Time taken to fit the demodel with word2vec vectors: \" + str(time.time() - start_time))"
   ]
  },
  {
   "cell_type": "markdown",
   "id": "e69bf5b9",
   "metadata": {},
   "source": [
    "https://xgboost.readthedocs.io/en/stable/python/python_api.html\n",
    "information about xgboost"
   ]
  },
  {
   "cell_type": "code",
   "execution_count": 62,
   "id": "97047035",
   "metadata": {},
   "outputs": [
    {
     "data": {
      "text/plain": [
       "['xgb_model1.joblib']"
      ]
     },
     "execution_count": 62,
     "metadata": {},
     "output_type": "execute_result"
    }
   ],
   "source": [
    "filename='xgb_model1.joblib'\n",
    "joblib.dump(xgb_model,filename)"
   ]
  },
  {
   "cell_type": "code",
   "execution_count": 63,
   "id": "44617e9a",
   "metadata": {},
   "outputs": [],
   "source": [
    "xgb_model=joblib.load('xgb_model1.joblib')"
   ]
  },
  {
   "attachments": {},
   "cell_type": "markdown",
   "id": "cae5f7b7",
   "metadata": {},
   "source": [
    "## Test data set\n",
    "\n",
    "We start with process the test data set just like we did for the train data, i.e. compute feature vectors, remove rows that divide by zero, and etc."
   ]
  },
  {
   "cell_type": "code",
   "execution_count": 67,
   "id": "b986ebd6",
   "metadata": {},
   "outputs": [],
   "source": [
    "X_test=pd.read_csv(\"C:/Users/haile/OneDrive - University of Bristol/assessment2/test_combined_50k.csv\")\n",
    "X_test['text']=X_test['text'].map(myprocess)"
   ]
  },
  {
   "cell_type": "code",
   "execution_count": 68,
   "id": "00219758",
   "metadata": {},
   "outputs": [
    {
     "data": {
      "text/html": [
       "<div>\n",
       "<style scoped>\n",
       "    .dataframe tbody tr th:only-of-type {\n",
       "        vertical-align: middle;\n",
       "    }\n",
       "\n",
       "    .dataframe tbody tr th {\n",
       "        vertical-align: top;\n",
       "    }\n",
       "\n",
       "    .dataframe thead th {\n",
       "        text-align: right;\n",
       "    }\n",
       "</style>\n",
       "<table border=\"1\" class=\"dataframe\">\n",
       "  <thead>\n",
       "    <tr style=\"text-align: right;\">\n",
       "      <th></th>\n",
       "      <th>Unnamed: 0.2</th>\n",
       "      <th>Unnamed: 0.1</th>\n",
       "      <th>Unnamed: 0</th>\n",
       "      <th>summary</th>\n",
       "      <th>text</th>\n",
       "    </tr>\n",
       "  </thead>\n",
       "  <tbody>\n",
       "    <tr>\n",
       "      <th>0</th>\n",
       "      <td>160287</td>\n",
       "      <td>160287</td>\n",
       "      <td>160287</td>\n",
       "      <td>Makes you think, and think some more</td>\n",
       "      <td>[make, think, think, book, make, stop, every, ...</td>\n",
       "    </tr>\n",
       "    <tr>\n",
       "      <th>1</th>\n",
       "      <td>574535</td>\n",
       "      <td>574535</td>\n",
       "      <td>574535</td>\n",
       "      <td>A Great Story Teller</td>\n",
       "      <td>[great, story, teller, little, collection, sto...</td>\n",
       "    </tr>\n",
       "    <tr>\n",
       "      <th>2</th>\n",
       "      <td>277977</td>\n",
       "      <td>277977</td>\n",
       "      <td>277977</td>\n",
       "      <td>Buy this before any other title on the subject!</td>\n",
       "      <td>[buy, title, subject, book, first, publish, wo...</td>\n",
       "    </tr>\n",
       "    <tr>\n",
       "      <th>3</th>\n",
       "      <td>548220</td>\n",
       "      <td>548220</td>\n",
       "      <td>548220</td>\n",
       "      <td>Must read.</td>\n",
       "      <td>[must, read, everyone, read, read, book, reali...</td>\n",
       "    </tr>\n",
       "    <tr>\n",
       "      <th>4</th>\n",
       "      <td>198199</td>\n",
       "      <td>198199</td>\n",
       "      <td>198199</td>\n",
       "      <td>Thoroughly enjoyed.</td>\n",
       "      <td>[thoroughly, enjoyed, end, book, author, note,...</td>\n",
       "    </tr>\n",
       "  </tbody>\n",
       "</table>\n",
       "</div>"
      ],
      "text/plain": [
       "   Unnamed: 0.2  Unnamed: 0.1  Unnamed: 0  \\\n",
       "0        160287        160287      160287   \n",
       "1        574535        574535      574535   \n",
       "2        277977        277977      277977   \n",
       "3        548220        548220      548220   \n",
       "4        198199        198199      198199   \n",
       "\n",
       "                                           summary  \\\n",
       "0             Makes you think, and think some more   \n",
       "1                             A Great Story Teller   \n",
       "2  Buy this before any other title on the subject!   \n",
       "3                                       Must read.   \n",
       "4                              Thoroughly enjoyed.   \n",
       "\n",
       "                                                text  \n",
       "0  [make, think, think, book, make, stop, every, ...  \n",
       "1  [great, story, teller, little, collection, sto...  \n",
       "2  [buy, title, subject, book, first, publish, wo...  \n",
       "3  [must, read, everyone, read, read, book, reali...  \n",
       "4  [thoroughly, enjoyed, end, book, author, note,...  "
      ]
     },
     "execution_count": 68,
     "metadata": {},
     "output_type": "execute_result"
    }
   ],
   "source": [
    "X_test.head()"
   ]
  },
  {
   "cell_type": "code",
   "execution_count": 69,
   "id": "c3ebb3e5",
   "metadata": {},
   "outputs": [
    {
     "name": "stdout",
     "output_type": "stream",
     "text": [
      "Comment 0 of 50000\n",
      "Comment 1000 of 50000\n",
      "Comment 2000 of 50000\n",
      "Comment 3000 of 50000\n",
      "Comment 4000 of 50000\n",
      "Comment 5000 of 50000\n",
      "Comment 6000 of 50000\n",
      "Comment 7000 of 50000\n",
      "Comment 8000 of 50000\n",
      "Comment 9000 of 50000\n",
      "Comment 10000 of 50000\n",
      "Comment 11000 of 50000\n",
      "Comment 12000 of 50000\n",
      "Comment 13000 of 50000\n",
      "Comment 14000 of 50000\n",
      "Comment 15000 of 50000\n",
      "Comment 16000 of 50000\n",
      "Comment 17000 of 50000\n",
      "Comment 18000 of 50000\n",
      "Comment 19000 of 50000\n",
      "Comment 20000 of 50000\n",
      "Comment 21000 of 50000\n",
      "Comment 22000 of 50000\n",
      "Comment 23000 of 50000\n",
      "Comment 24000 of 50000\n",
      "Comment 25000 of 50000\n",
      "Comment 26000 of 50000\n",
      "Comment 27000 of 50000\n",
      "Comment 28000 of 50000\n",
      "Comment 29000 of 50000\n",
      "Comment 30000 of 50000\n",
      "Comment 31000 of 50000\n",
      "Comment 32000 of 50000\n",
      "Comment 33000 of 50000\n",
      "Comment 34000 of 50000\n",
      "Comment 35000 of 50000\n",
      "Comment 36000 of 50000\n",
      "Comment 37000 of 50000\n",
      "Comment 38000 of 50000\n",
      "Comment 39000 of 50000\n",
      "Comment 40000 of 50000\n",
      "Comment 41000 of 50000\n",
      "Comment 42000 of 50000\n",
      "Comment 43000 of 50000\n",
      "Comment 44000 of 50000\n",
      "Comment 45000 of 50000\n",
      "Comment 46000 of 50000\n",
      "Comment 47000 of 50000\n",
      "Comment 48000 of 50000\n",
      "Comment 49000 of 50000\n"
     ]
    }
   ],
   "source": [
    "testDataVecs = getAvgFeatureVecs(X_test['text'], w2v_model, 100)"
   ]
  },
  {
   "cell_type": "code",
   "execution_count": 70,
   "id": "d12449e7",
   "metadata": {},
   "outputs": [],
   "source": [
    "y_test=pd.read_csv(\"C:/Users/haile/OneDrive - University of Bristol/assessment2/test_sentiments_50k.csv\")"
   ]
  },
  {
   "cell_type": "code",
   "execution_count": 71,
   "id": "30370790",
   "metadata": {},
   "outputs": [
    {
     "data": {
      "text/html": [
       "<div>\n",
       "<style scoped>\n",
       "    .dataframe tbody tr th:only-of-type {\n",
       "        vertical-align: middle;\n",
       "    }\n",
       "\n",
       "    .dataframe tbody tr th {\n",
       "        vertical-align: top;\n",
       "    }\n",
       "\n",
       "    .dataframe thead th {\n",
       "        text-align: right;\n",
       "    }\n",
       "</style>\n",
       "<table border=\"1\" class=\"dataframe\">\n",
       "  <thead>\n",
       "    <tr style=\"text-align: right;\">\n",
       "      <th></th>\n",
       "      <th>Unnamed: 0</th>\n",
       "      <th>sentiment</th>\n",
       "    </tr>\n",
       "  </thead>\n",
       "  <tbody>\n",
       "    <tr>\n",
       "      <th>0</th>\n",
       "      <td>160287</td>\n",
       "      <td>1</td>\n",
       "    </tr>\n",
       "    <tr>\n",
       "      <th>1</th>\n",
       "      <td>574535</td>\n",
       "      <td>1</td>\n",
       "    </tr>\n",
       "    <tr>\n",
       "      <th>2</th>\n",
       "      <td>277977</td>\n",
       "      <td>1</td>\n",
       "    </tr>\n",
       "    <tr>\n",
       "      <th>3</th>\n",
       "      <td>548220</td>\n",
       "      <td>1</td>\n",
       "    </tr>\n",
       "    <tr>\n",
       "      <th>4</th>\n",
       "      <td>198199</td>\n",
       "      <td>1</td>\n",
       "    </tr>\n",
       "  </tbody>\n",
       "</table>\n",
       "</div>"
      ],
      "text/plain": [
       "   Unnamed: 0  sentiment\n",
       "0      160287          1\n",
       "1      574535          1\n",
       "2      277977          1\n",
       "3      548220          1\n",
       "4      198199          1"
      ]
     },
     "execution_count": 71,
     "metadata": {},
     "output_type": "execute_result"
    }
   ],
   "source": [
    "y_test.head()"
   ]
  },
  {
   "cell_type": "code",
   "execution_count": 78,
   "id": "fcf089a8",
   "metadata": {},
   "outputs": [],
   "source": [
    "testDataVecs1,y_test1=remove_unuseful_rows(testDataVecs,y_test['sentiment'])"
   ]
  },
  {
   "cell_type": "code",
   "execution_count": 79,
   "id": "e7b3386c",
   "metadata": {},
   "outputs": [],
   "source": [
    "xgb_prediction=xgb_model.predict(testDataVecs1)"
   ]
  },
  {
   "cell_type": "code",
   "execution_count": 76,
   "id": "6b669082",
   "metadata": {},
   "outputs": [
    {
     "data": {
      "text/plain": [
       "array([1, 1, 1, ..., 1, 1, 1], dtype=int64)"
      ]
     },
     "execution_count": 76,
     "metadata": {},
     "output_type": "execute_result"
    }
   ],
   "source": [
    "xgb_prediction"
   ]
  },
  {
   "cell_type": "code",
   "execution_count": 80,
   "id": "49d1ad6d",
   "metadata": {},
   "outputs": [
    {
     "data": {
      "text/plain": [
       "0        1\n",
       "1        1\n",
       "2        1\n",
       "3        1\n",
       "4        1\n",
       "        ..\n",
       "49995    1\n",
       "49996    1\n",
       "49997    1\n",
       "49998    1\n",
       "49999    1\n",
       "Name: sentiment, Length: 50000, dtype: int64"
      ]
     },
     "execution_count": 80,
     "metadata": {},
     "output_type": "execute_result"
    }
   ],
   "source": [
    "y_test1"
   ]
  },
  {
   "cell_type": "code",
   "execution_count": 81,
   "id": "7bed9aee",
   "metadata": {},
   "outputs": [
    {
     "data": {
      "text/plain": [
       "10005"
      ]
     },
     "execution_count": 81,
     "metadata": {},
     "output_type": "execute_result"
    }
   ],
   "source": [
    "np.dot(xgb_prediction-y_test1,xgb_prediction-y_test1)"
   ]
  },
  {
   "cell_type": "code",
   "execution_count": 82,
   "id": "464e9298",
   "metadata": {},
   "outputs": [
    {
     "name": "stdout",
     "output_type": "stream",
     "text": [
      "              precision    recall  f1-score   support\n",
      "\n",
      "           0       0.50      0.78      0.61     10128\n",
      "           1       0.94      0.80      0.86     39872\n",
      "\n",
      "    accuracy                           0.80     50000\n",
      "   macro avg       0.72      0.79      0.74     50000\n",
      "weighted avg       0.85      0.80      0.81     50000\n",
      "\n"
     ]
    }
   ],
   "source": [
    "print(classification_report(y_test1,xgb_prediction))"
   ]
  },
  {
   "cell_type": "code",
   "execution_count": 83,
   "id": "b23e3c7e",
   "metadata": {},
   "outputs": [
    {
     "data": {
      "image/png": "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",
      "text/plain": [
       "<Figure size 500x300 with 1 Axes>"
      ]
     },
     "metadata": {},
     "output_type": "display_data"
    }
   ],
   "source": [
    "y_pred = [x[1] for x in xgb_model.predict_proba(testDataVecs1)]\n",
    "fpr, tpr, thresholds = roc_curve(y_test1, y_pred, pos_label = 1)\n",
    "\n",
    "roc_auc = auc(fpr, tpr)\n",
    "\n",
    "plt.figure(1, figsize = (5, 3))\n",
    "lw = 2\n",
    "plt.plot(fpr, tpr, color='darkorange',\n",
    "         lw=lw, label='ROC curve (area = %0.2f)' % roc_auc)\n",
    "plt.plot([0, 1], [0, 1], lw=lw, linestyle='--')\n",
    "plt.xlim([0.0, 1.0])\n",
    "plt.ylim([0.0, 1.0])\n",
    "plt.xlabel('False Positive Rate')\n",
    "plt.ylabel('True Positive Rate')\n",
    "plt.title('Receiver operating characteristic example')\n",
    "plt.legend(loc=\"lower right\")\n",
    "plt.show()"
   ]
  },
  {
   "cell_type": "code",
   "execution_count": 87,
   "id": "dcc78dd7",
   "metadata": {},
   "outputs": [],
   "source": [
    "df=xgb_model.predict_proba(testDataVecs1)\n",
    "df=pd.DataFrame(df)\n",
    "df.to_csv('combined_proba_results.csv')"
   ]
  },
  {
   "cell_type": "code",
   "execution_count": null,
   "id": "5783db0c",
   "metadata": {},
   "outputs": [],
<<<<<<< Updated upstream
   "source": [
    "param_grid = {\n",
    "        'min_child_weight': [1, 5, 10],\n",
    "        'gamma': [0.5, 1, 1.5, 2, 5],\n",
    "        'subsample': [0.6, 0.8, 1.0],\n",
    "        'colsample_bytree': [0.6, 0.8, 1.0],\n",
    "        'max_depth': [5,7,9,11],\n",
    "        'learning_rate': [0.2,0.05]\n",
    "        }\n",
    "\n",
    "#use this grid on hpc"
   ]
  },
  {
   "cell_type": "code",
   "execution_count": 101,
   "id": "4214a273",
   "metadata": {},
   "outputs": [],
   "source": [
    "estimator = xgb.XGBClassifier(n_estimators=300, objective='binary:logistic',learning_rate =0.2, \n",
    "    subsample=0.9, \n",
    "    colsample_bytree = 0.9,)"
   ]
  },
  {
   "cell_type": "code",
   "execution_count": 90,
   "id": "12b45bbd",
   "metadata": {},
   "outputs": [
    {
     "data": {
      "text/plain": [
       "(39999, 1000)"
      ]
     },
     "execution_count": 90,
     "metadata": {},
     "output_type": "execute_result"
    }
   ],
   "source": [
    "trainDataVecs1.shape"
   ]
  },
  {
   "cell_type": "code",
   "execution_count": 91,
   "id": "81f52eaa",
   "metadata": {},
   "outputs": [
    {
     "data": {
      "text/plain": [
       "array([1, 1, 0, ..., 1, 1, 1])"
      ]
     },
     "execution_count": 91,
     "metadata": {},
     "output_type": "execute_result"
    }
   ],
   "source": [
    "y_train1['sentiment'].values"
   ]
  },
  {
   "cell_type": "code",
   "execution_count": 103,
   "id": "8cf2bbf8",
   "metadata": {},
   "outputs": [
    {
     "name": "stdout",
     "output_type": "stream",
     "text": [
      "Time taken for random search: 11845.541232824326\n"
     ]
    }
   ],
   "source": [
    "eval_set = [(trainDataVecs1,y_train1['sentiment'].values)]\n",
    "model = GridSearchCV(estimator=estimator, param_grid=param_grid, cv=3, scoring=\"roc_auc\")\n",
    "\n",
    "start_time = time.time()\n",
    "\n",
    "model.fit(trainDataVecs1,y_train1['sentiment'].values, verbose=0)\n",
    "\n",
    "print(\"Time taken for random search: \" + str(time.time() - start_time))"
   ]
  },
  {
   "cell_type": "code",
   "execution_count": 146,
   "id": "aad6d836",
   "metadata": {},
   "outputs": [
    {
     "name": "stdout",
     "output_type": "stream",
     "text": [
      "{'gamma': 0.5, 'max_depth': 7, 'min_child_weight': 5}\n"
     ]
    }
   ],
   "source": [
    "print(model.best_params_)"
   ]
  },
  {
   "attachments": {},
   "cell_type": "markdown",
   "id": "f6819907",
   "metadata": {},
   "source": [
    "### Try tuned parameters"
   ]
  },
  {
   "cell_type": "code",
   "execution_count": 109,
   "id": "4ae2ec5a",
   "metadata": {},
   "outputs": [
    {
     "name": "stdout",
     "output_type": "stream",
     "text": [
      "Time taken to fit the demodel with word2vec vectors: 396.04686403274536\n"
     ]
    }
   ],
   "source": [
    "tuned_xgb_model = xgb.XGBClassifier(\n",
    "    max_depth = 7, \n",
    "    min_child_weight = 5, \n",
    "    gamma = 0.5, \n",
    "    subsample=0.9, \n",
    "    colsample_bytree = 0.9,\n",
    "    learning_rate =0.2,\n",
    "    n_estimators=300)\n",
    "\n",
    "\n",
    "start_time = time.time()\n",
    "tuned_xgb_model.fit(trainDataVecs1, y_train1[\"sentiment\"])\n",
    "print(\"Time taken to fit the demodel with word2vec vectors: \" + str(time.time() - start_time))"
   ]
  },
  {
   "cell_type": "code",
   "execution_count": 110,
   "id": "0eee9dff",
   "metadata": {},
   "outputs": [],
   "source": [
    "tuned_xgb_prediction=tuned_xgb_model.predict(testDataVecs1)"
   ]
  },
  {
   "cell_type": "code",
   "execution_count": 111,
   "id": "f8de86b2",
   "metadata": {},
   "outputs": [
    {
     "data": {
      "text/plain": [
       "1262"
      ]
     },
     "execution_count": 111,
     "metadata": {},
     "output_type": "execute_result"
    }
   ],
   "source": [
    "np.dot(tuned_xgb_prediction-y_test1['sentiment'],tuned_xgb_prediction-y_test1['sentiment'])"
   ]
  },
  {
   "cell_type": "code",
   "execution_count": 113,
   "id": "ad1a01d0",
   "metadata": {},
   "outputs": [
    {
     "data": {
      "image/png": "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",
      "text/plain": [
       "<Figure size 500x300 with 1 Axes>"
      ]
     },
     "metadata": {},
     "output_type": "display_data"
    }
   ],
   "source": [
    "y_pred = [x[1] for x in tuned_xgb_model.predict_proba(testDataVecs1)]\n",
    "fpr, tpr, thresholds = roc_curve(y_test['sentiment'], y_pred, pos_label = 1)\n",
    "\n",
    "roc_auc = auc(fpr, tpr)\n",
    "\n",
    "plt.figure(1, figsize = (5, 3))\n",
    "lw = 2\n",
    "plt.plot(fpr, tpr, color='darkorange',\n",
    "         lw=lw, label='ROC curve (area = %0.2f)' % roc_auc)\n",
    "plt.plot([0, 1], [0, 1], lw=lw, linestyle='--')\n",
    "plt.xlim([0.0, 1.0])\n",
    "plt.ylim([0.0, 1.0])\n",
    "plt.xlabel('False Positive Rate')\n",
    "plt.ylabel('True Positive Rate')\n",
    "plt.title('Receiver operating characteristic example')\n",
    "plt.legend(loc=\"lower right\")\n",
    "plt.show()"
   ]
  },
  {
   "attachments": {},
   "cell_type": "markdown",
   "id": "df76a4fd",
   "metadata": {},
   "source": [
    "### Random Search"
   ]
  },
  {
   "cell_type": "code",
   "execution_count": 115,
   "id": "28938942",
   "metadata": {},
   "outputs": [],
   "source": [
    "#params = deepcopy(default_params)\n",
    "\n",
    "param_grid = {\n",
    "        'min_child_weight': [1, 5,10],\n",
    "        'max_depth': [7,9],\n",
    "        }\n",
    "\n",
    "# just for checking if grid search works"
   ]
  },
  {
   "cell_type": "code",
   "execution_count": 114,
   "id": "1f3d8942",
   "metadata": {},
   "outputs": [],
   "source": [
    "estimator = xgb.XGBClassifier(n_estimators=300, objective='binary:logistic',learning_rate =0.2, gamma=0.4,\n",
    "    subsample=0.9, \n",
    "    colsample_bytree = 0.9,)"
   ]
  },
  {
   "cell_type": "code",
   "execution_count": 116,
   "id": "b67e2114",
   "metadata": {},
   "outputs": [],
   "source": [
    "rs_model=RandomizedSearchCV(estimator=estimator,param_distributions=param_grid,n_iter=3,scoring='roc_auc',n_jobs=-1,cv=3,verbose=3)"
   ]
  },
  {
   "cell_type": "code",
   "execution_count": 117,
   "id": "a0fca956",
   "metadata": {},
   "outputs": [
    {
     "name": "stdout",
     "output_type": "stream",
     "text": [
      "Fitting 3 folds for each of 3 candidates, totalling 9 fits\n",
      "[CV 2/3] END ...max_depth=7, min_child_weight=5;, score=0.892 total time=36.1min\n",
      "[CV 3/3] END ...max_depth=7, min_child_weight=5;, score=0.889 total time=36.1min\n",
      "[CV 1/3] END ...max_depth=7, min_child_weight=5;, score=0.892 total time=36.2min\n",
      "[CV 1/3] END ..max_depth=9, min_child_weight=10;, score=0.896 total time=38.9min\n",
      "[CV 2/3] END ..max_depth=9, min_child_weight=10;, score=0.892 total time=39.1min\n",
      "[CV 2/3] END ...max_depth=9, min_child_weight=1;, score=0.891 total time=44.4min\n",
      "[CV 3/3] END ...max_depth=9, min_child_weight=1;, score=0.889 total time=44.4min\n",
      "[CV 1/3] END ...max_depth=9, min_child_weight=1;, score=0.893 total time=44.5min\n",
      "[CV 3/3] END ..max_depth=9, min_child_weight=10;, score=0.892 total time=26.4min\n"
     ]
    },
    {
     "data": {
      "text/html": [
       "<style>#sk-container-id-1 {color: black;background-color: white;}#sk-container-id-1 pre{padding: 0;}#sk-container-id-1 div.sk-toggleable {background-color: white;}#sk-container-id-1 label.sk-toggleable__label {cursor: pointer;display: block;width: 100%;margin-bottom: 0;padding: 0.3em;box-sizing: border-box;text-align: center;}#sk-container-id-1 label.sk-toggleable__label-arrow:before {content: \"▸\";float: left;margin-right: 0.25em;color: #696969;}#sk-container-id-1 label.sk-toggleable__label-arrow:hover:before {color: black;}#sk-container-id-1 div.sk-estimator:hover label.sk-toggleable__label-arrow:before {color: black;}#sk-container-id-1 div.sk-toggleable__content {max-height: 0;max-width: 0;overflow: hidden;text-align: left;background-color: #f0f8ff;}#sk-container-id-1 div.sk-toggleable__content pre {margin: 0.2em;color: black;border-radius: 0.25em;background-color: #f0f8ff;}#sk-container-id-1 input.sk-toggleable__control:checked~div.sk-toggleable__content {max-height: 200px;max-width: 100%;overflow: auto;}#sk-container-id-1 input.sk-toggleable__control:checked~label.sk-toggleable__label-arrow:before {content: \"▾\";}#sk-container-id-1 div.sk-estimator input.sk-toggleable__control:checked~label.sk-toggleable__label {background-color: #d4ebff;}#sk-container-id-1 div.sk-label input.sk-toggleable__control:checked~label.sk-toggleable__label {background-color: #d4ebff;}#sk-container-id-1 input.sk-hidden--visually {border: 0;clip: rect(1px 1px 1px 1px);clip: rect(1px, 1px, 1px, 1px);height: 1px;margin: -1px;overflow: hidden;padding: 0;position: absolute;width: 1px;}#sk-container-id-1 div.sk-estimator {font-family: monospace;background-color: #f0f8ff;border: 1px dotted black;border-radius: 0.25em;box-sizing: border-box;margin-bottom: 0.5em;}#sk-container-id-1 div.sk-estimator:hover {background-color: #d4ebff;}#sk-container-id-1 div.sk-parallel-item::after {content: \"\";width: 100%;border-bottom: 1px solid gray;flex-grow: 1;}#sk-container-id-1 div.sk-label:hover label.sk-toggleable__label {background-color: #d4ebff;}#sk-container-id-1 div.sk-serial::before {content: \"\";position: absolute;border-left: 1px solid gray;box-sizing: border-box;top: 0;bottom: 0;left: 50%;z-index: 0;}#sk-container-id-1 div.sk-serial {display: flex;flex-direction: column;align-items: center;background-color: white;padding-right: 0.2em;padding-left: 0.2em;position: relative;}#sk-container-id-1 div.sk-item {position: relative;z-index: 1;}#sk-container-id-1 div.sk-parallel {display: flex;align-items: stretch;justify-content: center;background-color: white;position: relative;}#sk-container-id-1 div.sk-item::before, #sk-container-id-1 div.sk-parallel-item::before {content: \"\";position: absolute;border-left: 1px solid gray;box-sizing: border-box;top: 0;bottom: 0;left: 50%;z-index: -1;}#sk-container-id-1 div.sk-parallel-item {display: flex;flex-direction: column;z-index: 1;position: relative;background-color: white;}#sk-container-id-1 div.sk-parallel-item:first-child::after {align-self: flex-end;width: 50%;}#sk-container-id-1 div.sk-parallel-item:last-child::after {align-self: flex-start;width: 50%;}#sk-container-id-1 div.sk-parallel-item:only-child::after {width: 0;}#sk-container-id-1 div.sk-dashed-wrapped {border: 1px dashed gray;margin: 0 0.4em 0.5em 0.4em;box-sizing: border-box;padding-bottom: 0.4em;background-color: white;}#sk-container-id-1 div.sk-label label {font-family: monospace;font-weight: bold;display: inline-block;line-height: 1.2em;}#sk-container-id-1 div.sk-label-container {text-align: center;}#sk-container-id-1 div.sk-container {/* jupyter's `normalize.less` sets `[hidden] { display: none; }` but bootstrap.min.css set `[hidden] { display: none !important; }` so we also need the `!important` here to be able to override the default hidden behavior on the sphinx rendered scikit-learn.org. See: https://github.com/scikit-learn/scikit-learn/issues/21755 */display: inline-block !important;position: relative;}#sk-container-id-1 div.sk-text-repr-fallback {display: none;}</style><div id=\"sk-container-id-1\" class=\"sk-top-container\"><div class=\"sk-text-repr-fallback\"><pre>RandomizedSearchCV(cv=3,\n",
       "                   estimator=XGBClassifier(base_score=None, booster=None,\n",
       "                                           callbacks=None,\n",
       "                                           colsample_bylevel=None,\n",
       "                                           colsample_bynode=None,\n",
       "                                           colsample_bytree=0.9,\n",
       "                                           early_stopping_rounds=None,\n",
       "                                           enable_categorical=False,\n",
       "                                           eval_metric=None, feature_types=None,\n",
       "                                           gamma=0.4, gpu_id=None,\n",
       "                                           grow_policy=None,\n",
       "                                           importance_type=None,\n",
       "                                           interaction_constraints=None,\n",
       "                                           learning_rate=0...\n",
       "                                           max_cat_threshold=None,\n",
       "                                           max_cat_to_onehot=None,\n",
       "                                           max_delta_step=None, max_depth=None,\n",
       "                                           max_leaves=None,\n",
       "                                           min_child_weight=None, missing=nan,\n",
       "                                           monotone_constraints=None,\n",
       "                                           n_estimators=300, n_jobs=None,\n",
       "                                           num_parallel_tree=None,\n",
       "                                           predictor=None, random_state=None, ...),\n",
       "                   n_iter=3, n_jobs=-1,\n",
       "                   param_distributions={&#x27;max_depth&#x27;: [7, 9],\n",
       "                                        &#x27;min_child_weight&#x27;: [1, 5, 10]},\n",
       "                   scoring=&#x27;roc_auc&#x27;, verbose=3)</pre><b>In a Jupyter environment, please rerun this cell to show the HTML representation or trust the notebook. <br />On GitHub, the HTML representation is unable to render, please try loading this page with nbviewer.org.</b></div><div class=\"sk-container\" hidden><div class=\"sk-item sk-dashed-wrapped\"><div class=\"sk-label-container\"><div class=\"sk-label sk-toggleable\"><input class=\"sk-toggleable__control sk-hidden--visually\" id=\"sk-estimator-id-1\" type=\"checkbox\" ><label for=\"sk-estimator-id-1\" class=\"sk-toggleable__label sk-toggleable__label-arrow\">RandomizedSearchCV</label><div class=\"sk-toggleable__content\"><pre>RandomizedSearchCV(cv=3,\n",
       "                   estimator=XGBClassifier(base_score=None, booster=None,\n",
       "                                           callbacks=None,\n",
       "                                           colsample_bylevel=None,\n",
       "                                           colsample_bynode=None,\n",
       "                                           colsample_bytree=0.9,\n",
       "                                           early_stopping_rounds=None,\n",
       "                                           enable_categorical=False,\n",
       "                                           eval_metric=None, feature_types=None,\n",
       "                                           gamma=0.4, gpu_id=None,\n",
       "                                           grow_policy=None,\n",
       "                                           importance_type=None,\n",
       "                                           interaction_constraints=None,\n",
       "                                           learning_rate=0...\n",
       "                                           max_cat_threshold=None,\n",
       "                                           max_cat_to_onehot=None,\n",
       "                                           max_delta_step=None, max_depth=None,\n",
       "                                           max_leaves=None,\n",
       "                                           min_child_weight=None, missing=nan,\n",
       "                                           monotone_constraints=None,\n",
       "                                           n_estimators=300, n_jobs=None,\n",
       "                                           num_parallel_tree=None,\n",
       "                                           predictor=None, random_state=None, ...),\n",
       "                   n_iter=3, n_jobs=-1,\n",
       "                   param_distributions={&#x27;max_depth&#x27;: [7, 9],\n",
       "                                        &#x27;min_child_weight&#x27;: [1, 5, 10]},\n",
       "                   scoring=&#x27;roc_auc&#x27;, verbose=3)</pre></div></div></div><div class=\"sk-parallel\"><div class=\"sk-parallel-item\"><div class=\"sk-item\"><div class=\"sk-label-container\"><div class=\"sk-label sk-toggleable\"><input class=\"sk-toggleable__control sk-hidden--visually\" id=\"sk-estimator-id-2\" type=\"checkbox\" ><label for=\"sk-estimator-id-2\" class=\"sk-toggleable__label sk-toggleable__label-arrow\">estimator: XGBClassifier</label><div class=\"sk-toggleable__content\"><pre>XGBClassifier(base_score=None, booster=None, callbacks=None,\n",
       "              colsample_bylevel=None, colsample_bynode=None,\n",
       "              colsample_bytree=0.9, early_stopping_rounds=None,\n",
       "              enable_categorical=False, eval_metric=None, feature_types=None,\n",
       "              gamma=0.4, gpu_id=None, grow_policy=None, importance_type=None,\n",
       "              interaction_constraints=None, learning_rate=0.2, max_bin=None,\n",
       "              max_cat_threshold=None, max_cat_to_onehot=None,\n",
       "              max_delta_step=None, max_depth=None, max_leaves=None,\n",
       "              min_child_weight=None, missing=nan, monotone_constraints=None,\n",
       "              n_estimators=300, n_jobs=None, num_parallel_tree=None,\n",
       "              predictor=None, random_state=None, ...)</pre></div></div></div><div class=\"sk-serial\"><div class=\"sk-item\"><div class=\"sk-estimator sk-toggleable\"><input class=\"sk-toggleable__control sk-hidden--visually\" id=\"sk-estimator-id-3\" type=\"checkbox\" ><label for=\"sk-estimator-id-3\" class=\"sk-toggleable__label sk-toggleable__label-arrow\">XGBClassifier</label><div class=\"sk-toggleable__content\"><pre>XGBClassifier(base_score=None, booster=None, callbacks=None,\n",
       "              colsample_bylevel=None, colsample_bynode=None,\n",
       "              colsample_bytree=0.9, early_stopping_rounds=None,\n",
       "              enable_categorical=False, eval_metric=None, feature_types=None,\n",
       "              gamma=0.4, gpu_id=None, grow_policy=None, importance_type=None,\n",
       "              interaction_constraints=None, learning_rate=0.2, max_bin=None,\n",
       "              max_cat_threshold=None, max_cat_to_onehot=None,\n",
       "              max_delta_step=None, max_depth=None, max_leaves=None,\n",
       "              min_child_weight=None, missing=nan, monotone_constraints=None,\n",
       "              n_estimators=300, n_jobs=None, num_parallel_tree=None,\n",
       "              predictor=None, random_state=None, ...)</pre></div></div></div></div></div></div></div></div></div></div>"
      ],
      "text/plain": [
       "RandomizedSearchCV(cv=3,\n",
       "                   estimator=XGBClassifier(base_score=None, booster=None,\n",
       "                                           callbacks=None,\n",
       "                                           colsample_bylevel=None,\n",
       "                                           colsample_bynode=None,\n",
       "                                           colsample_bytree=0.9,\n",
       "                                           early_stopping_rounds=None,\n",
       "                                           enable_categorical=False,\n",
       "                                           eval_metric=None, feature_types=None,\n",
       "                                           gamma=0.4, gpu_id=None,\n",
       "                                           grow_policy=None,\n",
       "                                           importance_type=None,\n",
       "                                           interaction_constraints=None,\n",
       "                                           learning_rate=0...\n",
       "                                           max_cat_threshold=None,\n",
       "                                           max_cat_to_onehot=None,\n",
       "                                           max_delta_step=None, max_depth=None,\n",
       "                                           max_leaves=None,\n",
       "                                           min_child_weight=None, missing=nan,\n",
       "                                           monotone_constraints=None,\n",
       "                                           n_estimators=300, n_jobs=None,\n",
       "                                           num_parallel_tree=None,\n",
       "                                           predictor=None, random_state=None, ...),\n",
       "                   n_iter=3, n_jobs=-1,\n",
       "                   param_distributions={'max_depth': [7, 9],\n",
       "                                        'min_child_weight': [1, 5, 10]},\n",
       "                   scoring='roc_auc', verbose=3)"
      ]
     },
     "execution_count": 117,
     "metadata": {},
     "output_type": "execute_result"
    }
   ],
   "source": [
    "rs_model.fit(trainDataVecs1,y_train1['sentiment'])"
   ]
  },
  {
   "cell_type": "code",
   "execution_count": 144,
   "id": "71039809",
   "metadata": {},
   "outputs": [
    {
     "data": {
      "text/plain": [
       "{'min_child_weight': 10, 'max_depth': 9}"
      ]
     },
     "execution_count": 144,
     "metadata": {},
     "output_type": "execute_result"
    }
   ],
   "source": [
    "rs_model.best_params_"
   ]
  },
  {
   "attachments": {},
   "cell_type": "markdown",
   "id": "e4eb0f87",
   "metadata": {},
   "source": [
    "https://www.kaggle.com/code/willkoehrsen/intro-to-model-tuning-grid-and-random-search\n",
    "\n",
    "Due to the size of the data set and the time constraint, since we want to search over a large range of hyperparameters rather than finding an exact optima in a small range of hyperprarameters, we will perform a random search on a subset of the data set, and then tuning our hyperparameters for working on the whole data set.\n",
    "\n",
    "If we have more time, we can then perform grid search on a reduced parameter grid, in order to get better performance."
   ]
=======
   "source": []
>>>>>>> Stashed changes
  }
 ],
 "metadata": {
  "kernelspec": {
   "display_name": "base",
   "language": "python",
   "name": "python3"
  },
  "language_info": {
   "codemirror_mode": {
    "name": "ipython",
    "version": 3
   },
   "file_extension": ".py",
   "mimetype": "text/x-python",
   "name": "python",
   "nbconvert_exporter": "python",
   "pygments_lexer": "ipython3",
   "version": "3.9.13"
  },
  "vscode": {
   "interpreter": {
    "hash": "e233b3edd5e60f0904e3f8404c7ce821d9d17539f44ffe7eab4eba0129924986"
   }
  }
 },
 "nbformat": 4,
 "nbformat_minor": 5
}
