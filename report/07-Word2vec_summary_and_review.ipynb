{
 "cells": [
  {
   "cell_type": "markdown",
   "id": "891a5046",
   "metadata": {},
   "source": [
    "# Word2vec Model on the summaries and the review text"
   ]
  },
  {
   "cell_type": "markdown",
   "id": "1e0a54fa",
   "metadata": {},
   "source": [
    "Here we load the necessary packages."
   ]
  },
  {
   "cell_type": "code",
   "execution_count": 23,
   "id": "fba8d2f1",
   "metadata": {},
   "outputs": [],
   "source": [
    "import pandas as pd\n",
    "import numpy as np\n",
    "import matplotlib.pyplot as plt\n",
    "from gensim.models import Word2Vec\n",
    "import joblib\n",
    "import pickle\n",
    "import time\n",
    "from sklearn.metrics import classification_report\n",
    "from sklearn.metrics import roc_curve, auc\n",
    "from sklearn.model_selection import train_test_split, RandomizedSearchCV, GridSearchCV\n",
    "from sklearn.decomposition import PCA\n",
    "import xgboost as xgb"
   ]
  },
  {
   "cell_type": "markdown",
   "id": "67926227",
   "metadata": {},
   "source": [
    "## 1. Loading data"
   ]
  },
  {
   "cell_type": "code",
   "execution_count": 22,
   "id": "6f2a6e1c",
   "metadata": {},
   "outputs": [],
   "source": [
    "train=pd.read_csv(\"Data/train_combined_200k.csv\")\n",
    "# please change the directory to where you download the data to"
   ]
  },
  {
   "cell_type": "code",
   "execution_count": 24,
   "id": "8587d098",
   "metadata": {},
   "outputs": [],
   "source": [
    "def myprocess(thisdoc):\n",
    "    ## Runs on documents (vector of words)\n",
    "    return(thisdoc.strip('[]').replace(\"u'\", '').replace(\"'\", '').replace(' ', '').split(','))\n",
    "#train['text']= train['text'].apply(lambda x: x.map(myprocess))\n",
    "train['text']=train['text'].map(myprocess)"
   ]
  },
  {
   "cell_type": "code",
   "execution_count": 25,
   "id": "999d5f44",
   "metadata": {},
   "outputs": [
    {
     "data": {
      "text/html": [
       "<div>\n",
       "<style scoped>\n",
       "    .dataframe tbody tr th:only-of-type {\n",
       "        vertical-align: middle;\n",
       "    }\n",
       "\n",
       "    .dataframe tbody tr th {\n",
       "        vertical-align: top;\n",
       "    }\n",
       "\n",
       "    .dataframe thead th {\n",
       "        text-align: right;\n",
       "    }\n",
       "</style>\n",
       "<table border=\"1\" class=\"dataframe\">\n",
       "  <thead>\n",
       "    <tr style=\"text-align: right;\">\n",
       "      <th></th>\n",
       "      <th>Unnamed: 0</th>\n",
       "      <th>text</th>\n",
       "      <th>sentiment</th>\n",
       "    </tr>\n",
       "  </thead>\n",
       "  <tbody>\n",
       "    <tr>\n",
       "      <th>0</th>\n",
       "      <td>972974</td>\n",
       "      <td>[enjoyable, great, book, sit, relax, with, fel...</td>\n",
       "      <td>1</td>\n",
       "    </tr>\n",
       "    <tr>\n",
       "      <th>1</th>\n",
       "      <td>1324500</td>\n",
       "      <td>[wonderful, story, mother, favorite, book, chi...</td>\n",
       "      <td>1</td>\n",
       "    </tr>\n",
       "    <tr>\n",
       "      <th>2</th>\n",
       "      <td>1945296</td>\n",
       "      <td>[great, edition, could, not, imagine, book, pu...</td>\n",
       "      <td>1</td>\n",
       "    </tr>\n",
       "    <tr>\n",
       "      <th>3</th>\n",
       "      <td>2355315</td>\n",
       "      <td>[woman, author, great, spiritual, discernment,...</td>\n",
       "      <td>1</td>\n",
       "    </tr>\n",
       "    <tr>\n",
       "      <th>4</th>\n",
       "      <td>771781</td>\n",
       "      <td>[great, read, bit, redundant, time, yankee, mo...</td>\n",
       "      <td>1</td>\n",
       "    </tr>\n",
       "    <tr>\n",
       "      <th>...</th>\n",
       "      <td>...</td>\n",
       "      <td>...</td>\n",
       "      <td>...</td>\n",
       "    </tr>\n",
       "    <tr>\n",
       "      <th>199993</th>\n",
       "      <td>384482</td>\n",
       "      <td>[read, real, thing, first, book, fine, far, go...</td>\n",
       "      <td>0</td>\n",
       "    </tr>\n",
       "    <tr>\n",
       "      <th>199994</th>\n",
       "      <td>466078</td>\n",
       "      <td>[okay, book, pretty, much, same, really, like,...</td>\n",
       "      <td>0</td>\n",
       "    </tr>\n",
       "    <tr>\n",
       "      <th>199995</th>\n",
       "      <td>193304</td>\n",
       "      <td>[bore, sorry, book, boring, opinion, course, f...</td>\n",
       "      <td>0</td>\n",
       "    </tr>\n",
       "    <tr>\n",
       "      <th>199996</th>\n",
       "      <td>479971</td>\n",
       "      <td>[excellent, even, old, reader, although, book,...</td>\n",
       "      <td>0</td>\n",
       "    </tr>\n",
       "    <tr>\n",
       "      <th>199997</th>\n",
       "      <td>227976</td>\n",
       "      <td>[great, expectation, unmet, great, expectation...</td>\n",
       "      <td>0</td>\n",
       "    </tr>\n",
       "  </tbody>\n",
       "</table>\n",
       "<p>199998 rows × 3 columns</p>\n",
       "</div>"
      ],
      "text/plain": [
       "        Unnamed: 0                                               text  \\\n",
       "0           972974  [enjoyable, great, book, sit, relax, with, fel...   \n",
       "1          1324500  [wonderful, story, mother, favorite, book, chi...   \n",
       "2          1945296  [great, edition, could, not, imagine, book, pu...   \n",
       "3          2355315  [woman, author, great, spiritual, discernment,...   \n",
       "4           771781  [great, read, bit, redundant, time, yankee, mo...   \n",
       "...            ...                                                ...   \n",
       "199993      384482  [read, real, thing, first, book, fine, far, go...   \n",
       "199994      466078  [okay, book, pretty, much, same, really, like,...   \n",
       "199995      193304  [bore, sorry, book, boring, opinion, course, f...   \n",
       "199996      479971  [excellent, even, old, reader, although, book,...   \n",
       "199997      227976  [great, expectation, unmet, great, expectation...   \n",
       "\n",
       "        sentiment  \n",
       "0               1  \n",
       "1               1  \n",
       "2               1  \n",
       "3               1  \n",
       "4               1  \n",
       "...           ...  \n",
       "199993          0  \n",
       "199994          0  \n",
       "199995          0  \n",
       "199996          0  \n",
       "199997          0  \n",
       "\n",
       "[199998 rows x 3 columns]"
      ]
     },
     "execution_count": 25,
     "metadata": {},
     "output_type": "execute_result"
    }
   ],
   "source": [
    "train"
   ]
  },
  {
   "cell_type": "code",
   "execution_count": 26,
   "id": "2b2e3834",
   "metadata": {},
   "outputs": [
    {
     "data": {
      "text/plain": [
       "Unnamed: 0    0\n",
       "text          0\n",
       "sentiment     0\n",
       "dtype: int64"
      ]
     },
     "execution_count": 26,
     "metadata": {},
     "output_type": "execute_result"
    }
   ],
   "source": [
    "train.isna().sum()"
   ]
  },
  {
   "cell_type": "markdown",
   "id": "75f4a26b",
   "metadata": {},
   "source": [
    "## 2. Fit the w2v model\n",
    "\n",
    "Here we try to get the w2v model to work on dataset.\n",
    "\n",
    "We define some parameters necessary for a w2v model and fit our model to the dataset."
   ]
  },
  {
   "cell_type": "code",
   "execution_count": 27,
   "id": "418365c4",
   "metadata": {},
   "outputs": [
    {
     "name": "stdout",
     "output_type": "stream",
     "text": [
      "Time taken to train word2vec model:282.917085647583\n"
     ]
    }
   ],
   "source": [
    "vector_size=100\n",
    "#The number of dimensions of embeddings, the default is 100\n",
    "window=3\n",
    "#The maximum distance between a target word and its neighbours, default is 5\n",
    "min_count=3\n",
    "#The minimum counts of words in order for the word to be considered for the training of model, default is 5\n",
    "workers=3\n",
    "#The number of partitions during training, default is 3\n",
    "sg=1\n",
    "#The training algorithom, either CBOW(0) or skip gram(1), default is CBOW\n",
    "\n",
    "#tokens = pd.Series(df['tokenized_text']).values\n",
    "start_t = time.time()\n",
    "w2vmodel=Word2Vec(train['text'],min_count=min_count,vector_size=vector_size,workers=workers,sg=sg)\n",
    "print('Time taken to train word2vec model:' +str(time.time()-start_t))"
   ]
  },
  {
   "cell_type": "code",
   "execution_count": 28,
   "id": "c1a7761d",
   "metadata": {},
   "outputs": [],
   "source": [
    "word2vec_model_file = 'C:/Users/haile/OneDrive - University of Bristol/assessment2' + 'w2v_full_200k' + '.model'\n",
    "w2vmodel.save(word2vec_model_file)"
   ]
  },
  {
   "cell_type": "code",
   "execution_count": 29,
   "id": "efc35323",
   "metadata": {},
   "outputs": [],
   "source": [
    "w2v_model = Word2Vec.load(word2vec_model_file) \n",
    "#we have to save and load for some of the function below to work"
   ]
  },
  {
   "cell_type": "markdown",
   "id": "05407687",
   "metadata": {},
   "source": [
    "## 3. Extract the outputs of w2v model\n",
    "\n",
    "We followed this [tutorial](https://towardsdatascience.com/word2vec-explained-49c52b4ccb71) on how to put the outputs of word2vec into data frame, and apply PCA on the outputs."
   ]
  },
  {
   "cell_type": "code",
   "execution_count": 30,
   "id": "29fbc5f6",
   "metadata": {},
   "outputs": [
    {
     "name": "stdout",
     "output_type": "stream",
     "text": [
      "(73438, 100)\n"
     ]
    },
    {
     "data": {
      "text/html": [
       "<div>\n",
       "<style scoped>\n",
       "    .dataframe tbody tr th:only-of-type {\n",
       "        vertical-align: middle;\n",
       "    }\n",
       "\n",
       "    .dataframe tbody tr th {\n",
       "        vertical-align: top;\n",
       "    }\n",
       "\n",
       "    .dataframe thead th {\n",
       "        text-align: right;\n",
       "    }\n",
       "</style>\n",
       "<table border=\"1\" class=\"dataframe\">\n",
       "  <thead>\n",
       "    <tr style=\"text-align: right;\">\n",
       "      <th></th>\n",
       "      <th>0</th>\n",
       "      <th>1</th>\n",
       "      <th>2</th>\n",
       "      <th>3</th>\n",
       "      <th>4</th>\n",
       "      <th>5</th>\n",
       "      <th>6</th>\n",
       "      <th>7</th>\n",
       "      <th>8</th>\n",
       "      <th>9</th>\n",
       "      <th>...</th>\n",
       "      <th>90</th>\n",
       "      <th>91</th>\n",
       "      <th>92</th>\n",
       "      <th>93</th>\n",
       "      <th>94</th>\n",
       "      <th>95</th>\n",
       "      <th>96</th>\n",
       "      <th>97</th>\n",
       "      <th>98</th>\n",
       "      <th>99</th>\n",
       "    </tr>\n",
       "  </thead>\n",
       "  <tbody>\n",
       "    <tr>\n",
       "      <th>book</th>\n",
       "      <td>-0.182903</td>\n",
       "      <td>0.444808</td>\n",
       "      <td>0.167459</td>\n",
       "      <td>0.121759</td>\n",
       "      <td>0.117114</td>\n",
       "      <td>-0.330693</td>\n",
       "      <td>0.280973</td>\n",
       "      <td>0.502308</td>\n",
       "      <td>-0.141385</td>\n",
       "      <td>-0.261550</td>\n",
       "      <td>...</td>\n",
       "      <td>0.158094</td>\n",
       "      <td>0.198751</td>\n",
       "      <td>0.205140</td>\n",
       "      <td>0.082175</td>\n",
       "      <td>0.594634</td>\n",
       "      <td>0.134701</td>\n",
       "      <td>0.202003</td>\n",
       "      <td>-0.057534</td>\n",
       "      <td>0.210843</td>\n",
       "      <td>0.153562</td>\n",
       "    </tr>\n",
       "    <tr>\n",
       "      <th>not</th>\n",
       "      <td>0.107763</td>\n",
       "      <td>0.373913</td>\n",
       "      <td>-0.109907</td>\n",
       "      <td>-0.009591</td>\n",
       "      <td>0.191718</td>\n",
       "      <td>-0.347924</td>\n",
       "      <td>0.206552</td>\n",
       "      <td>0.540382</td>\n",
       "      <td>-0.129744</td>\n",
       "      <td>-0.250811</td>\n",
       "      <td>...</td>\n",
       "      <td>0.124431</td>\n",
       "      <td>0.175975</td>\n",
       "      <td>0.121477</td>\n",
       "      <td>-0.185674</td>\n",
       "      <td>0.420615</td>\n",
       "      <td>0.301120</td>\n",
       "      <td>0.381545</td>\n",
       "      <td>-0.036842</td>\n",
       "      <td>0.043970</td>\n",
       "      <td>0.079525</td>\n",
       "    </tr>\n",
       "    <tr>\n",
       "      <th>read</th>\n",
       "      <td>0.165691</td>\n",
       "      <td>0.247876</td>\n",
       "      <td>0.162293</td>\n",
       "      <td>-0.151630</td>\n",
       "      <td>0.147380</td>\n",
       "      <td>-0.238636</td>\n",
       "      <td>0.100571</td>\n",
       "      <td>0.487197</td>\n",
       "      <td>-0.148270</td>\n",
       "      <td>-0.192424</td>\n",
       "      <td>...</td>\n",
       "      <td>0.167623</td>\n",
       "      <td>0.123059</td>\n",
       "      <td>0.117757</td>\n",
       "      <td>0.030282</td>\n",
       "      <td>0.521787</td>\n",
       "      <td>-0.038681</td>\n",
       "      <td>0.371420</td>\n",
       "      <td>-0.043137</td>\n",
       "      <td>0.334954</td>\n",
       "      <td>0.088200</td>\n",
       "    </tr>\n",
       "    <tr>\n",
       "      <th>one</th>\n",
       "      <td>-0.021623</td>\n",
       "      <td>0.379505</td>\n",
       "      <td>0.064046</td>\n",
       "      <td>0.035886</td>\n",
       "      <td>0.200664</td>\n",
       "      <td>-0.277362</td>\n",
       "      <td>0.115156</td>\n",
       "      <td>0.578395</td>\n",
       "      <td>-0.135084</td>\n",
       "      <td>-0.365706</td>\n",
       "      <td>...</td>\n",
       "      <td>0.100097</td>\n",
       "      <td>0.262225</td>\n",
       "      <td>-0.018887</td>\n",
       "      <td>-0.139296</td>\n",
       "      <td>0.465450</td>\n",
       "      <td>0.200959</td>\n",
       "      <td>0.338344</td>\n",
       "      <td>-0.076293</td>\n",
       "      <td>0.088482</td>\n",
       "      <td>0.057563</td>\n",
       "    </tr>\n",
       "    <tr>\n",
       "      <th>story</th>\n",
       "      <td>-0.065675</td>\n",
       "      <td>0.444699</td>\n",
       "      <td>-0.085614</td>\n",
       "      <td>0.276173</td>\n",
       "      <td>0.017377</td>\n",
       "      <td>-0.375582</td>\n",
       "      <td>0.017181</td>\n",
       "      <td>0.699086</td>\n",
       "      <td>-0.115110</td>\n",
       "      <td>-0.119142</td>\n",
       "      <td>...</td>\n",
       "      <td>-0.096156</td>\n",
       "      <td>0.138758</td>\n",
       "      <td>0.258005</td>\n",
       "      <td>-0.131972</td>\n",
       "      <td>0.450365</td>\n",
       "      <td>0.071630</td>\n",
       "      <td>0.286372</td>\n",
       "      <td>-0.019650</td>\n",
       "      <td>0.431172</td>\n",
       "      <td>0.229199</td>\n",
       "    </tr>\n",
       "  </tbody>\n",
       "</table>\n",
       "<p>5 rows × 100 columns</p>\n",
       "</div>"
      ],
      "text/plain": [
       "             0         1         2         3         4         5         6   \\\n",
       "book  -0.182903  0.444808  0.167459  0.121759  0.117114 -0.330693  0.280973   \n",
       "not    0.107763  0.373913 -0.109907 -0.009591  0.191718 -0.347924  0.206552   \n",
       "read   0.165691  0.247876  0.162293 -0.151630  0.147380 -0.238636  0.100571   \n",
       "one   -0.021623  0.379505  0.064046  0.035886  0.200664 -0.277362  0.115156   \n",
       "story -0.065675  0.444699 -0.085614  0.276173  0.017377 -0.375582  0.017181   \n",
       "\n",
       "             7         8         9   ...        90        91        92  \\\n",
       "book   0.502308 -0.141385 -0.261550  ...  0.158094  0.198751  0.205140   \n",
       "not    0.540382 -0.129744 -0.250811  ...  0.124431  0.175975  0.121477   \n",
       "read   0.487197 -0.148270 -0.192424  ...  0.167623  0.123059  0.117757   \n",
       "one    0.578395 -0.135084 -0.365706  ...  0.100097  0.262225 -0.018887   \n",
       "story  0.699086 -0.115110 -0.119142  ... -0.096156  0.138758  0.258005   \n",
       "\n",
       "             93        94        95        96        97        98        99  \n",
       "book   0.082175  0.594634  0.134701  0.202003 -0.057534  0.210843  0.153562  \n",
       "not   -0.185674  0.420615  0.301120  0.381545 -0.036842  0.043970  0.079525  \n",
       "read   0.030282  0.521787 -0.038681  0.371420 -0.043137  0.334954  0.088200  \n",
       "one   -0.139296  0.465450  0.200959  0.338344 -0.076293  0.088482  0.057563  \n",
       "story -0.131972  0.450365  0.071630  0.286372 -0.019650  0.431172  0.229199  \n",
       "\n",
       "[5 rows x 100 columns]"
      ]
     },
     "execution_count": 30,
     "metadata": {},
     "output_type": "execute_result"
    }
   ],
   "source": [
    "emb_df = (\n",
    "    pd.DataFrame(\n",
    "        [w2v_model.wv.get_vector(str(n)) for n in w2vmodel.wv.key_to_index],\n",
    "        index = w2vmodel.wv.key_to_index\n",
    "    )\n",
    ")\n",
    "print(emb_df.shape)\n",
    "\n",
    "emb_df.head()"
   ]
  },
  {
   "cell_type": "code",
   "execution_count": 31,
   "id": "048b9518",
   "metadata": {},
   "outputs": [
    {
     "name": "stdout",
     "output_type": "stream",
     "text": [
      "[('fantastic', 0.8683852553367615), ('fabulous', 0.8546572923660278), ('terrific', 0.8446984887123108), ('marvelous', 0.8406555652618408), ('amazing', 0.799076497554779), ('wondeful', 0.7949334383010864), ('splendid', 0.7881342172622681), ('wonderfull', 0.7873572707176208), ('excellent', 0.7861804366111755), ('superb', 0.7860434055328369)]\n"
     ]
    }
   ],
   "source": [
    "print(w2v_model.wv.most_similar('wonderful'))"
   ]
  },
  {
   "cell_type": "code",
   "execution_count": 32,
   "id": "5f264b35",
   "metadata": {},
   "outputs": [
    {
     "name": "stdout",
     "output_type": "stream",
     "text": [
      "Cosine similarity between 'wonderful' terrible' - Skip Gram :  0.4152556\n"
     ]
    }
   ],
   "source": [
    "print(\"Cosine similarity between 'wonderful' \" +\n",
    "               \"terrible' - Skip Gram : \",\n",
    "    w2v_model.wv.similarity('wonderful', 'bad'))"
   ]
  },
  {
   "cell_type": "markdown",
   "id": "841c0972",
   "metadata": {},
   "source": [
    "## 4. Load pretrained model"
   ]
  },
  {
   "cell_type": "markdown",
   "id": "16a78f92",
   "metadata": {},
   "source": [
    "In this context, word embeddings are a representation of words in space such that words that have similar meaning are plotted closer together, while words that have different meanings are plotted further apart. Meaning is determined by the co-occurence of words.Often it’s beneficial to make use of a pre-trained model since such models are trained on much larger datasets with many more words and hence might be better at capturing the underlying meaning of a word. We can then build on this prior model and fine-tune the word embeddings to match with our current dataset.\n",
    "\n",
    "I downloaded the Glove model from the [Stanford page](https://nlp.stanford.edu/projects/glove/) and chose the glove.twitter.27B.100d model."
   ]
  },
  {
   "cell_type": "code",
   "execution_count": 33,
   "id": "3e1c0f7d",
   "metadata": {},
   "outputs": [
    {
     "data": {
      "text/plain": [
       "(72668007, 79944765)"
      ]
     },
     "execution_count": 33,
     "metadata": {},
     "output_type": "execute_result"
    }
   ],
   "source": [
    "from gensim.models import KeyedVectors\n",
    "from gensim.scripts.glove2word2vec import glove2word2vec \n",
    "glove2word2vec(\"C:/Users/haile/OneDrive - University of Bristol/assessment2/glove.twitter.27B.100d.txt\", \"C:/Users/haile/OneDrive - University of Bristol/assessment2/glove_model2.txt\")#convert to word2vec format\n",
    "pretrained_path = \"C:/Users/haile/OneDrive - University of Bristol/assessment2/glove_model2.txt\"\n",
    "model_2 = KeyedVectors.load_word2vec_format(pretrained_path, binary=False)\n",
    "#model_2.save('C:/Users/haile/OneDrive - University of Bristol/assessment2/glove_model.model')\n",
    "vocab = list(w2v_model.wv.key_to_index)# Save the vocab of your dataset\n",
    "w2v_model.build_vocab([list(model_2.index_to_key)], update=True)# Add the pre-trained model vocabulary\n",
    "training_examples_count = w2v_model.corpus_count\n",
    "w2v_model.train(train['text'],total_examples=training_examples_count, epochs=w2v_model.epochs)#train with our data\n"
   ]
  },
  {
   "cell_type": "markdown",
   "id": "41517105",
   "metadata": {},
   "source": [
    "## 5. Plot Embeddings"
   ]
  },
  {
   "cell_type": "markdown",
   "id": "59359346",
   "metadata": {},
   "source": [
    "### Extract embedding"
   ]
  },
  {
   "cell_type": "code",
   "execution_count": 34,
   "id": "4723bd8d",
   "metadata": {},
   "outputs": [
    {
     "data": {
      "text/plain": [
       "(73438, 100)"
      ]
     },
     "execution_count": 34,
     "metadata": {},
     "output_type": "execute_result"
    }
   ],
   "source": [
    "word_embeddings = np.array([ w2v_model.wv[k] if k in w2v_model.wv else np.zeros(100) for k in vocab ])\n",
    "word_embeddings.shape # Should be len(vocab) by 100"
   ]
  },
  {
   "cell_type": "markdown",
   "id": "8806942b",
   "metadata": {},
   "source": [
    "### Dimensionality Reduction"
   ]
  },
  {
   "cell_type": "markdown",
   "id": "cbc17c5f",
   "metadata": {},
   "source": [
    "project the 100 dimensional word embeddings into 2D for visualization"
   ]
  },
  {
   "cell_type": "code",
   "execution_count": 35,
   "id": "7b07ea97",
   "metadata": {},
   "outputs": [],
   "source": [
    "import umap.umap_ as umap\n",
    "#from sklearn.preprocessing import StandardScaler\n",
    "\n",
    "#scaled_we = StandardScaler().fit_transform(word_embeddings)\n",
    "#embedding2d = reducer.fit_transform(scaled_we)\n",
    "\n",
    "reducer = umap.UMAP()\n",
    "embedding2d = reducer.fit_transform(word_embeddings)"
   ]
  },
  {
   "cell_type": "markdown",
   "id": "e9f42752",
   "metadata": {},
   "source": [
    "### Plot"
   ]
  },
  {
   "cell_type": "code",
   "execution_count": 36,
   "id": "9142e005",
   "metadata": {},
   "outputs": [
    {
     "data": {
      "text/plain": [
       "<matplotlib.collections.PathCollection at 0x28bb3771e50>"
      ]
     },
     "execution_count": 36,
     "metadata": {},
     "output_type": "execute_result"
    },
    {
     "data": {
      "image/png": "[encoded data removed]",
      "text/plain": [
       "<Figure size 640x480 with 1 Axes>"
      ]
     },
     "metadata": {},
     "output_type": "display_data"
    }
   ],
   "source": [
    "import matplotlib.pyplot as plt\n",
    "\n",
    "plt.scatter(\n",
    "    embedding2d[:, 0],\n",
    "    embedding2d[:, 1])"
   ]
  },
  {
   "cell_type": "markdown",
   "id": "a16a6102",
   "metadata": {},
   "source": [
    "## 6. Compute feature vectors for each review"
   ]
  },
  {
   "cell_type": "markdown",
   "id": "0d0836d0",
   "metadata": {},
   "source": [
    "\n",
    "This [tutorial](https://www.kaggle.com/code/varun08/sentiment-analysis-using-word2vec/notebook) helped us define functions to compute feature vectors, which are an average of the vectors of each word appeared in the review. The feature vectors can be then be used as inputs for the classification model."
   ]
  },
  {
   "cell_type": "code",
   "execution_count": 43,
   "id": "e5823884",
   "metadata": {},
   "outputs": [],
   "source": [
    "# Function to average all word vectors in a paragraph\n",
    "def featureVecMethod(words, model, num_features):\n",
    "    # Pre-initialising empty numpy array for speed\n",
    "    featureVec = np.zeros(num_features,dtype=\"float32\")\n",
    "    nwords = 0\n",
    "    \n",
    "    #Converting Index2Word which is a list to a set for better speed in the execution.\n",
    "    index2word_set = set(model.wv.index_to_key)\n",
    "    for word in  words:\n",
    "        if word in index2word_set:\n",
    "            nwords = nwords + 1\n",
    "            featureVec = np.add(featureVec,model.wv[word])\n",
    "    \n",
    "    if nwords ==0:\n",
    "        featureVec = np.zeros(100)\n",
    "        #avoiding divide by zero, define it as a all zero vector\n",
    "    else:\n",
    "        featureVec = np.divide(featureVec, nwords)\n",
    "    # Dividing the result by number of words to get average\n",
    "\n",
    "    return featureVec"
   ]
  },
  {
   "cell_type": "code",
   "execution_count": 45,
   "id": "43a5418e",
   "metadata": {},
   "outputs": [],
   "source": [
    "# Function for calculating the average feature vector\n",
    "def getAvgFeatureVecs(reviews, model, num_features):\n",
    "    counter = 0\n",
    "    reviewFeatureVecs = np.zeros((len(reviews),num_features),dtype=\"float32\")\n",
    "    for review in reviews:\n",
    "        # Printing a status message every 1000th review\n",
    "        if counter%1000 == 0:\n",
    "            print(\"Comment %d of %d\"%(counter,len(reviews)))\n",
    "            \n",
    "        reviewFeatureVecs[counter] = featureVecMethod(review, model, num_features)\n",
    "            \n",
    "        counter = counter+1\n",
    "        \n",
    "    return reviewFeatureVecs"
   ]
  },
  {
   "cell_type": "markdown",
   "id": "ea7671ec",
   "metadata": {},
   "source": [
    "The two functions above will raise an error message of dividing by 0 if nwords=0, this is because the wv2 model has min_count set to 3, sometimes all the words appearing in a review turn out to have count less than 3, this could be due to spelling errors and various other reasons.\n",
    "\n",
    "Therefore, I have added a line of if boolean in the featureVecMethod function, which set the vector to all zeros when nwords=0. And it can be then identified later."
   ]
  },
  {
   "cell_type": "code",
   "execution_count": 41,
   "id": "9d9505a6",
   "metadata": {},
   "outputs": [],
   "source": [
    "X_train=train\n",
    "y_train=train['sentiment']"
   ]
  },
  {
   "cell_type": "code",
   "execution_count": 42,
   "id": "9a8f4eb1",
   "metadata": {},
   "outputs": [
    {
     "name": "stdout",
     "output_type": "stream",
     "text": [
      "Comment 0 of 199998\n",
      "Comment 1000 of 199998\n",
      "Comment 2000 of 199998\n",
      "Comment 3000 of 199998\n",
      "Comment 4000 of 199998\n",
      "Comment 5000 of 199998\n",
      "Comment 6000 of 199998\n",
      "Comment 7000 of 199998\n",
      "Comment 8000 of 199998\n",
      "Comment 9000 of 199998\n",
      "Comment 10000 of 199998\n",
      "Comment 11000 of 199998\n",
      "Comment 12000 of 199998\n",
      "Comment 13000 of 199998\n",
      "Comment 14000 of 199998\n",
      "Comment 15000 of 199998\n",
      "Comment 16000 of 199998\n",
      "Comment 17000 of 199998\n",
      "Comment 18000 of 199998\n",
      "Comment 19000 of 199998\n",
      "Comment 20000 of 199998\n",
      "Comment 21000 of 199998\n",
      "Comment 22000 of 199998\n",
      "Comment 23000 of 199998\n",
      "Comment 24000 of 199998\n",
      "Comment 25000 of 199998\n",
      "Comment 26000 of 199998\n",
      "Comment 27000 of 199998\n",
      "Comment 28000 of 199998\n",
      "Comment 29000 of 199998\n",
      "Comment 30000 of 199998\n",
      "Comment 31000 of 199998\n",
      "Comment 32000 of 199998\n",
      "Comment 33000 of 199998\n",
      "Comment 34000 of 199998\n",
      "Comment 35000 of 199998\n",
      "Comment 36000 of 199998\n",
      "Comment 37000 of 199998\n",
      "Comment 38000 of 199998\n",
      "Comment 39000 of 199998\n",
      "Comment 40000 of 199998\n",
      "Comment 41000 of 199998\n",
      "Comment 42000 of 199998\n",
      "Comment 43000 of 199998\n",
      "Comment 44000 of 199998\n",
      "Comment 45000 of 199998\n",
      "Comment 46000 of 199998\n",
      "Comment 47000 of 199998\n",
      "Comment 48000 of 199998\n",
      "Comment 49000 of 199998\n",
      "Comment 50000 of 199998\n",
      "Comment 51000 of 199998\n",
      "Comment 52000 of 199998\n",
      "Comment 53000 of 199998\n",
      "Comment 54000 of 199998\n",
      "Comment 55000 of 199998\n",
      "Comment 56000 of 199998\n",
      "Comment 57000 of 199998\n",
      "Comment 58000 of 199998\n",
      "Comment 59000 of 199998\n",
      "Comment 60000 of 199998\n",
      "Comment 61000 of 199998\n",
      "Comment 62000 of 199998\n",
      "Comment 63000 of 199998\n",
      "Comment 64000 of 199998\n",
      "Comment 65000 of 199998\n",
      "Comment 66000 of 199998\n",
      "Comment 67000 of 199998\n",
      "Comment 68000 of 199998\n",
      "Comment 69000 of 199998\n",
      "Comment 70000 of 199998\n",
      "Comment 71000 of 199998\n",
      "Comment 72000 of 199998\n",
      "Comment 73000 of 199998\n",
      "Comment 74000 of 199998\n",
      "Comment 75000 of 199998\n",
      "Comment 76000 of 199998\n",
      "Comment 77000 of 199998\n",
      "Comment 78000 of 199998\n",
      "Comment 79000 of 199998\n",
      "Comment 80000 of 199998\n",
      "Comment 81000 of 199998\n",
      "Comment 82000 of 199998\n",
      "Comment 83000 of 199998\n",
      "Comment 84000 of 199998\n",
      "Comment 85000 of 199998\n",
      "Comment 86000 of 199998\n",
      "Comment 87000 of 199998\n",
      "Comment 88000 of 199998\n",
      "Comment 89000 of 199998\n",
      "Comment 90000 of 199998\n",
      "Comment 91000 of 199998\n",
      "Comment 92000 of 199998\n",
      "Comment 93000 of 199998\n",
      "Comment 94000 of 199998\n",
      "Comment 95000 of 199998\n",
      "Comment 96000 of 199998\n",
      "Comment 97000 of 199998\n",
      "Comment 98000 of 199998\n",
      "Comment 99000 of 199998\n",
      "Comment 100000 of 199998\n",
      "Comment 101000 of 199998\n",
      "Comment 102000 of 199998\n",
      "Comment 103000 of 199998\n",
      "Comment 104000 of 199998\n",
      "Comment 105000 of 199998\n",
      "Comment 106000 of 199998\n",
      "Comment 107000 of 199998\n",
      "Comment 108000 of 199998\n",
      "Comment 109000 of 199998\n",
      "Comment 110000 of 199998\n",
      "Comment 111000 of 199998\n",
      "Comment 112000 of 199998\n",
      "Comment 113000 of 199998\n",
      "Comment 114000 of 199998\n",
      "Comment 115000 of 199998\n",
      "Comment 116000 of 199998\n",
      "Comment 117000 of 199998\n",
      "Comment 118000 of 199998\n",
      "Comment 119000 of 199998\n",
      "Comment 120000 of 199998\n",
      "Comment 121000 of 199998\n",
      "Comment 122000 of 199998\n",
      "Comment 123000 of 199998\n",
      "Comment 124000 of 199998\n",
      "Comment 125000 of 199998\n",
      "Comment 126000 of 199998\n",
      "Comment 127000 of 199998\n",
      "Comment 128000 of 199998\n",
      "Comment 129000 of 199998\n",
      "Comment 130000 of 199998\n",
      "Comment 131000 of 199998\n",
      "Comment 132000 of 199998\n",
      "Comment 133000 of 199998\n",
      "Comment 134000 of 199998\n",
      "Comment 135000 of 199998\n",
      "Comment 136000 of 199998\n",
      "Comment 137000 of 199998\n",
      "Comment 138000 of 199998\n",
      "Comment 139000 of 199998\n",
      "Comment 140000 of 199998\n",
      "Comment 141000 of 199998\n",
      "Comment 142000 of 199998\n",
      "Comment 143000 of 199998\n",
      "Comment 144000 of 199998\n",
      "Comment 145000 of 199998\n",
      "Comment 146000 of 199998\n",
      "Comment 147000 of 199998\n",
      "Comment 148000 of 199998\n",
      "Comment 149000 of 199998\n",
      "Comment 150000 of 199998\n",
      "Comment 151000 of 199998\n",
      "Comment 152000 of 199998\n",
      "Comment 153000 of 199998\n",
      "Comment 154000 of 199998\n",
      "Comment 155000 of 199998\n",
      "Comment 156000 of 199998\n",
      "Comment 157000 of 199998\n",
      "Comment 158000 of 199998\n",
      "Comment 159000 of 199998\n",
      "Comment 160000 of 199998\n",
      "Comment 161000 of 199998\n",
      "Comment 162000 of 199998\n",
      "Comment 163000 of 199998\n",
      "Comment 164000 of 199998\n",
      "Comment 165000 of 199998\n",
      "Comment 166000 of 199998\n",
      "Comment 167000 of 199998\n",
      "Comment 168000 of 199998\n",
      "Comment 169000 of 199998\n",
      "Comment 170000 of 199998\n",
      "Comment 171000 of 199998\n",
      "Comment 172000 of 199998\n",
      "Comment 173000 of 199998\n",
      "Comment 174000 of 199998\n",
      "Comment 175000 of 199998\n",
      "Comment 176000 of 199998\n",
      "Comment 177000 of 199998\n",
      "Comment 178000 of 199998\n",
      "Comment 179000 of 199998\n",
      "Comment 180000 of 199998\n",
      "Comment 181000 of 199998\n",
      "Comment 182000 of 199998\n",
      "Comment 183000 of 199998\n",
      "Comment 184000 of 199998\n",
      "Comment 185000 of 199998\n",
      "Comment 186000 of 199998\n",
      "Comment 187000 of 199998\n",
      "Comment 188000 of 199998\n",
      "Comment 189000 of 199998\n",
      "Comment 190000 of 199998\n",
      "Comment 191000 of 199998\n",
      "Comment 192000 of 199998\n",
      "Comment 193000 of 199998\n",
      "Comment 194000 of 199998\n",
      "Comment 195000 of 199998\n",
      "Comment 196000 of 199998\n",
      "Comment 197000 of 199998\n",
      "Comment 198000 of 199998\n",
      "Comment 199000 of 199998\n"
     ]
    }
   ],
   "source": [
    "trainDataVecs = getAvgFeatureVecs(X_train['text'], w2v_model, 100)\n",
    "#get feature vectors for train data"
   ]
  },
  {
   "cell_type": "code",
   "execution_count": 54,
   "id": "1c4062f1",
   "metadata": {},
   "outputs": [],
   "source": [
    "trainDataVecs.dump('C:/Users/haile/OneDrive - University of Bristol/assessment2/trainDataVecs')"
   ]
  },
  {
   "cell_type": "code",
   "execution_count": 55,
   "id": "f7df96d2",
   "metadata": {},
   "outputs": [],
   "source": [
    "trainDataVecs=pd.read_pickle('C:/Users/haile/OneDrive - University of Bristol/assessment2/trainDataVecs')"
   ]
  },
  {
   "cell_type": "code",
   "execution_count": 56,
   "id": "8b3b512b",
   "metadata": {},
   "outputs": [],
   "source": [
    "def remove_unuseful_rows(trainDataVecs,y_train):\n",
    "    list=[]\n",
    "    y_train.reset_index()\n",
    "    for i in range(trainDataVecs.shape[0]):\n",
    "        if np.all(trainDataVecs[i,]==0):\n",
    "            list.append(i)\n",
    "    if len(list)!=0:\n",
    "        trainDataVecs=np.delete(trainDataVecs,list,axis=0)\n",
    "        y_train.drop(index=list,inplace=True)\n",
    "    return trainDataVecs,y_train\n",
    "# remove the sample with all zero vector and its corresponding y"
   ]
  },
  {
   "cell_type": "code",
   "execution_count": null,
   "id": "0c361acf",
   "metadata": {},
   "outputs": [],
   "source": [
    "trainDataVecs1,y_train1=remove_unuseful_rows(trainDataVecs,y_train)"
   ]
  },
  {
   "cell_type": "code",
   "execution_count": 58,
   "id": "71810fc7",
   "metadata": {},
   "outputs": [
    {
     "data": {
      "text/plain": [
       "(199997,)"
      ]
     },
     "execution_count": 58,
     "metadata": {},
     "output_type": "execute_result"
    }
   ],
   "source": [
    "y_train1.shape"
   ]
  },
  {
   "cell_type": "code",
   "execution_count": 51,
   "id": "8e056193",
   "metadata": {},
   "outputs": [
    {
     "data": {
      "text/plain": [
       "(199997, 100)"
      ]
     },
     "execution_count": 51,
     "metadata": {},
     "output_type": "execute_result"
    }
   ],
   "source": [
    "trainDataVecs1.shape"
   ]
  },
  {
   "cell_type": "markdown",
   "id": "dc27e6f8",
   "metadata": {},
   "source": [
    "## 7. Classification models\n",
    "\n",
    "In this section, we train two classification models random forest and xgboost on our train data, we want to compare the their performance on a test data set latter."
   ]
  },
  {
   "cell_type": "code",
   "execution_count": 60,
   "id": "31da448d",
   "metadata": {},
   "outputs": [
    {
     "name": "stdout",
     "output_type": "stream",
     "text": [
      "0.25367960483426105\n"
     ]
    }
   ],
   "source": [
    "scale_pos_weight = (sum(y_train1==0))/(sum(y_train1==1))\n",
    "print(scale_pos_weight)"
   ]
  },
  {
   "cell_type": "code",
   "execution_count": 61,
   "id": "8b7ca852",
   "metadata": {},
   "outputs": [
    {
     "name": "stderr",
     "output_type": "stream",
     "text": [
      "c:\\Users\\haile\\anaconda3\\lib\\site-packages\\xgboost\\sklearn.py:1224: UserWarning: The use of label encoder in XGBClassifier is deprecated and will be removed in a future release. To remove this warning, do the following: 1) Pass option use_label_encoder=False when constructing XGBClassifier object; and 2) Encode your labels (y) as integers starting with 0, i.e. 0, 1, 2, ..., [num_class - 1].\n",
      "  warnings.warn(label_encoder_deprecation_msg, UserWarning)\n"
     ]
    },
    {
     "name": "stdout",
     "output_type": "stream",
     "text": [
      "Time taken to fit the demodel with word2vec vectors: 122.31048965454102\n"
     ]
    }
   ],
   "source": [
    "xgb_model = xgb.XGBClassifier(\n",
    "    objective='binary:logistic',\n",
    "    eval_metric='logloss',\n",
    "    scale_pos_weight=scale_pos_weight,\n",
    "    learning_rate=0.05,\n",
    "    n_estimators=150)\n",
    "\n",
    "\n",
    "start_time = time.time()\n",
    "xgb_model.fit(trainDataVecs1, y_train1)\n",
    "print(\"Time taken to fit the demodel with word2vec vectors: \" + str(time.time() - start_time))"
   ]
  },
  {
   "cell_type": "markdown",
   "id": "e69bf5b9",
   "metadata": {},
   "source": [
    "https://xgboost.readthedocs.io/en/stable/python/python_api.html\n",
    "information about xgboost"
   ]
  },
  {
   "cell_type": "code",
   "execution_count": 62,
   "id": "97047035",
   "metadata": {},
   "outputs": [
    {
     "data": {
      "text/plain": [
       "['xgb_model1.joblib']"
      ]
     },
     "execution_count": 62,
     "metadata": {},
     "output_type": "execute_result"
    }
   ],
   "source": [
    "filename='xgb_model1.joblib'\n",
    "joblib.dump(xgb_model,filename)"
   ]
  },
  {
   "cell_type": "code",
   "execution_count": 63,
   "id": "44617e9a",
   "metadata": {},
   "outputs": [],
   "source": [
    "xgb_model=joblib.load('xgb_model1.joblib')"
   ]
  },
  {
   "cell_type": "markdown",
   "id": "cae5f7b7",
   "metadata": {},
   "source": [
    "## 8. Test data set\n",
    "\n",
    "We start with process the test data set just like we did for the train data, i.e. compute feature vectors, remove rows that divide by zero, and etc."
   ]
  },
  {
   "cell_type": "code",
   "execution_count": 67,
   "id": "b986ebd6",
   "metadata": {},
   "outputs": [],
   "source": [
    "X_test=pd.read_csv(\"Data/test_combined_50k.csv\")\n",
    "# please change the directory to where you download the data to\n",
    "X_test['text']=X_test['text'].map(myprocess)"
   ]
  },
  {
   "cell_type": "code",
   "execution_count": 68,
   "id": "00219758",
   "metadata": {},
   "outputs": [
    {
     "data": {
      "text/html": [
       "<div>\n",
       "<style scoped>\n",
       "    .dataframe tbody tr th:only-of-type {\n",
       "        vertical-align: middle;\n",
       "    }\n",
       "\n",
       "    .dataframe tbody tr th {\n",
       "        vertical-align: top;\n",
       "    }\n",
       "\n",
       "    .dataframe thead th {\n",
       "        text-align: right;\n",
       "    }\n",
       "</style>\n",
       "<table border=\"1\" class=\"dataframe\">\n",
       "  <thead>\n",
       "    <tr style=\"text-align: right;\">\n",
       "      <th></th>\n",
       "      <th>Unnamed: 0.2</th>\n",
       "      <th>Unnamed: 0.1</th>\n",
       "      <th>Unnamed: 0</th>\n",
       "      <th>summary</th>\n",
       "      <th>text</th>\n",
       "    </tr>\n",
       "  </thead>\n",
       "  <tbody>\n",
       "    <tr>\n",
       "      <th>0</th>\n",
       "      <td>160287</td>\n",
       "      <td>160287</td>\n",
       "      <td>160287</td>\n",
       "      <td>Makes you think, and think some more</td>\n",
       "      <td>[make, think, think, book, make, stop, every, ...</td>\n",
       "    </tr>\n",
       "    <tr>\n",
       "      <th>1</th>\n",
       "      <td>574535</td>\n",
       "      <td>574535</td>\n",
       "      <td>574535</td>\n",
       "      <td>A Great Story Teller</td>\n",
       "      <td>[great, story, teller, little, collection, sto...</td>\n",
       "    </tr>\n",
       "    <tr>\n",
       "      <th>2</th>\n",
       "      <td>277977</td>\n",
       "      <td>277977</td>\n",
       "      <td>277977</td>\n",
       "      <td>Buy this before any other title on the subject!</td>\n",
       "      <td>[buy, title, subject, book, first, publish, wo...</td>\n",
       "    </tr>\n",
       "    <tr>\n",
       "      <th>3</th>\n",
       "      <td>548220</td>\n",
       "      <td>548220</td>\n",
       "      <td>548220</td>\n",
       "      <td>Must read.</td>\n",
       "      <td>[must, read, everyone, read, read, book, reali...</td>\n",
       "    </tr>\n",
       "    <tr>\n",
       "      <th>4</th>\n",
       "      <td>198199</td>\n",
       "      <td>198199</td>\n",
       "      <td>198199</td>\n",
       "      <td>Thoroughly enjoyed.</td>\n",
       "      <td>[thoroughly, enjoyed, end, book, author, note,...</td>\n",
       "    </tr>\n",
       "  </tbody>\n",
       "</table>\n",
       "</div>"
      ],
      "text/plain": [
       "   Unnamed: 0.2  Unnamed: 0.1  Unnamed: 0  \\\n",
       "0        160287        160287      160287   \n",
       "1        574535        574535      574535   \n",
       "2        277977        277977      277977   \n",
       "3        548220        548220      548220   \n",
       "4        198199        198199      198199   \n",
       "\n",
       "                                           summary  \\\n",
       "0             Makes you think, and think some more   \n",
       "1                             A Great Story Teller   \n",
       "2  Buy this before any other title on the subject!   \n",
       "3                                       Must read.   \n",
       "4                              Thoroughly enjoyed.   \n",
       "\n",
       "                                                text  \n",
       "0  [make, think, think, book, make, stop, every, ...  \n",
       "1  [great, story, teller, little, collection, sto...  \n",
       "2  [buy, title, subject, book, first, publish, wo...  \n",
       "3  [must, read, everyone, read, read, book, reali...  \n",
       "4  [thoroughly, enjoyed, end, book, author, note,...  "
      ]
     },
     "execution_count": 68,
     "metadata": {},
     "output_type": "execute_result"
    }
   ],
   "source": [
    "X_test.head()"
   ]
  },
  {
   "cell_type": "code",
   "execution_count": 69,
   "id": "c3ebb3e5",
   "metadata": {},
   "outputs": [
    {
     "name": "stdout",
     "output_type": "stream",
     "text": [
      "Comment 0 of 50000\n",
      "Comment 1000 of 50000\n",
      "Comment 2000 of 50000\n",
      "Comment 3000 of 50000\n",
      "Comment 4000 of 50000\n",
      "Comment 5000 of 50000\n",
      "Comment 6000 of 50000\n",
      "Comment 7000 of 50000\n",
      "Comment 8000 of 50000\n",
      "Comment 9000 of 50000\n",
      "Comment 10000 of 50000\n",
      "Comment 11000 of 50000\n",
      "Comment 12000 of 50000\n",
      "Comment 13000 of 50000\n",
      "Comment 14000 of 50000\n",
      "Comment 15000 of 50000\n",
      "Comment 16000 of 50000\n",
      "Comment 17000 of 50000\n",
      "Comment 18000 of 50000\n",
      "Comment 19000 of 50000\n",
      "Comment 20000 of 50000\n",
      "Comment 21000 of 50000\n",
      "Comment 22000 of 50000\n",
      "Comment 23000 of 50000\n",
      "Comment 24000 of 50000\n",
      "Comment 25000 of 50000\n",
      "Comment 26000 of 50000\n",
      "Comment 27000 of 50000\n",
      "Comment 28000 of 50000\n",
      "Comment 29000 of 50000\n",
      "Comment 30000 of 50000\n",
      "Comment 31000 of 50000\n",
      "Comment 32000 of 50000\n",
      "Comment 33000 of 50000\n",
      "Comment 34000 of 50000\n",
      "Comment 35000 of 50000\n",
      "Comment 36000 of 50000\n",
      "Comment 37000 of 50000\n",
      "Comment 38000 of 50000\n",
      "Comment 39000 of 50000\n",
      "Comment 40000 of 50000\n",
      "Comment 41000 of 50000\n",
      "Comment 42000 of 50000\n",
      "Comment 43000 of 50000\n",
      "Comment 44000 of 50000\n",
      "Comment 45000 of 50000\n",
      "Comment 46000 of 50000\n",
      "Comment 47000 of 50000\n",
      "Comment 48000 of 50000\n",
      "Comment 49000 of 50000\n"
     ]
    }
   ],
   "source": [
    "testDataVecs = getAvgFeatureVecs(X_test['text'], w2v_model, 100)"
   ]
  },
  {
   "cell_type": "code",
   "execution_count": 70,
   "id": "d12449e7",
   "metadata": {},
   "outputs": [],
   "source": [
    "y_test=pd.read_csv(\"C:/Users/haile/OneDrive - University of Bristol/assessment2/test_sentiments_50k.csv\")"
   ]
  },
  {
   "cell_type": "code",
   "execution_count": 71,
   "id": "30370790",
   "metadata": {},
   "outputs": [
    {
     "data": {
      "text/html": [
       "<div>\n",
       "<style scoped>\n",
       "    .dataframe tbody tr th:only-of-type {\n",
       "        vertical-align: middle;\n",
       "    }\n",
       "\n",
       "    .dataframe tbody tr th {\n",
       "        vertical-align: top;\n",
       "    }\n",
       "\n",
       "    .dataframe thead th {\n",
       "        text-align: right;\n",
       "    }\n",
       "</style>\n",
       "<table border=\"1\" class=\"dataframe\">\n",
       "  <thead>\n",
       "    <tr style=\"text-align: right;\">\n",
       "      <th></th>\n",
       "      <th>Unnamed: 0</th>\n",
       "      <th>sentiment</th>\n",
       "    </tr>\n",
       "  </thead>\n",
       "  <tbody>\n",
       "    <tr>\n",
       "      <th>0</th>\n",
       "      <td>160287</td>\n",
       "      <td>1</td>\n",
       "    </tr>\n",
       "    <tr>\n",
       "      <th>1</th>\n",
       "      <td>574535</td>\n",
       "      <td>1</td>\n",
       "    </tr>\n",
       "    <tr>\n",
       "      <th>2</th>\n",
       "      <td>277977</td>\n",
       "      <td>1</td>\n",
       "    </tr>\n",
       "    <tr>\n",
       "      <th>3</th>\n",
       "      <td>548220</td>\n",
       "      <td>1</td>\n",
       "    </tr>\n",
       "    <tr>\n",
       "      <th>4</th>\n",
       "      <td>198199</td>\n",
       "      <td>1</td>\n",
       "    </tr>\n",
       "  </tbody>\n",
       "</table>\n",
       "</div>"
      ],
      "text/plain": [
       "   Unnamed: 0  sentiment\n",
       "0      160287          1\n",
       "1      574535          1\n",
       "2      277977          1\n",
       "3      548220          1\n",
       "4      198199          1"
      ]
     },
     "execution_count": 71,
     "metadata": {},
     "output_type": "execute_result"
    }
   ],
   "source": [
    "y_test.head()"
   ]
  },
  {
   "cell_type": "code",
   "execution_count": 78,
   "id": "fcf089a8",
   "metadata": {},
   "outputs": [],
   "source": [
    "testDataVecs1,y_test1=remove_unuseful_rows(testDataVecs,y_test['sentiment'])"
   ]
  },
  {
   "cell_type": "code",
   "execution_count": 79,
   "id": "e7b3386c",
   "metadata": {},
   "outputs": [],
   "source": [
    "xgb_prediction=xgb_model.predict(testDataVecs1)"
   ]
  },
  {
   "cell_type": "code",
   "execution_count": 76,
   "id": "6b669082",
   "metadata": {},
   "outputs": [
    {
     "data": {
      "text/plain": [
       "array([1, 1, 1, ..., 1, 1, 1], dtype=int64)"
      ]
     },
     "execution_count": 76,
     "metadata": {},
     "output_type": "execute_result"
    }
   ],
   "source": [
    "xgb_prediction"
   ]
  },
  {
   "cell_type": "code",
   "execution_count": 80,
   "id": "49d1ad6d",
   "metadata": {},
   "outputs": [
    {
     "data": {
      "text/plain": [
       "0        1\n",
       "1        1\n",
       "2        1\n",
       "3        1\n",
       "4        1\n",
       "        ..\n",
       "49995    1\n",
       "49996    1\n",
       "49997    1\n",
       "49998    1\n",
       "49999    1\n",
       "Name: sentiment, Length: 50000, dtype: int64"
      ]
     },
     "execution_count": 80,
     "metadata": {},
     "output_type": "execute_result"
    }
   ],
   "source": [
    "y_test1"
   ]
  },
  {
   "cell_type": "code",
   "execution_count": 81,
   "id": "7bed9aee",
   "metadata": {},
   "outputs": [
    {
     "data": {
      "text/plain": [
       "10005"
      ]
     },
     "execution_count": 81,
     "metadata": {},
     "output_type": "execute_result"
    }
   ],
   "source": [
    "np.dot(xgb_prediction-y_test1,xgb_prediction-y_test1)"
   ]
  },
  {
   "cell_type": "code",
   "execution_count": 82,
   "id": "464e9298",
   "metadata": {},
   "outputs": [
    {
     "name": "stdout",
     "output_type": "stream",
     "text": [
      "              precision    recall  f1-score   support\n",
      "\n",
      "           0       0.50      0.78      0.61     10128\n",
      "           1       0.94      0.80      0.86     39872\n",
      "\n",
      "    accuracy                           0.80     50000\n",
      "   macro avg       0.72      0.79      0.74     50000\n",
      "weighted avg       0.85      0.80      0.81     50000\n",
      "\n"
     ]
    }
   ],
   "source": [
    "print(classification_report(y_test1,xgb_prediction))"
   ]
  },
  {
   "cell_type": "code",
   "execution_count": 83,
   "id": "b23e3c7e",
   "metadata": {},
   "outputs": [
    {
     "data": {
      "image/png": "[encoded data removed]",
      "text/plain": [
       "<Figure size 500x300 with 1 Axes>"
      ]
     },
     "metadata": {},
     "output_type": "display_data"
    }
   ],
   "source": [
    "y_pred = [x[1] for x in xgb_model.predict_proba(testDataVecs1)]\n",
    "fpr, tpr, thresholds = roc_curve(y_test1, y_pred, pos_label = 1)\n",
    "\n",
    "roc_auc = auc(fpr, tpr)\n",
    "\n",
    "plt.figure(1, figsize = (5, 3))\n",
    "lw = 2\n",
    "plt.plot(fpr, tpr, color='darkorange',\n",
    "         lw=lw, label='ROC curve (area = %0.2f)' % roc_auc)\n",
    "plt.plot([0, 1], [0, 1], lw=lw, linestyle='--')\n",
    "plt.xlim([0.0, 1.0])\n",
    "plt.ylim([0.0, 1.0])\n",
    "plt.xlabel('False Positive Rate')\n",
    "plt.ylabel('True Positive Rate')\n",
    "plt.title('Receiver operating characteristic example')\n",
    "plt.legend(loc=\"lower right\")\n",
    "plt.show()"
   ]
  },
  {
   "cell_type": "code",
   "execution_count": 87,
   "id": "dcc78dd7",
   "metadata": {},
   "outputs": [],
   "source": [
    "df=xgb_model.predict_proba(testDataVecs1)\n",
    "df=pd.DataFrame(df)\n",
    "df.to_csv('combined_proba_results.csv')"
   ]
  }
 ],
 "metadata": {
  "kernelspec": {
   "display_name": "Python 3 (ipykernel)",
   "language": "python",
   "name": "python3"
  },
  "language_info": {
   "codemirror_mode": {
    "name": "ipython",
    "version": 3
   },
   "file_extension": ".py",
   "mimetype": "text/x-python",
   "name": "python",
   "nbconvert_exporter": "python",
   "pygments_lexer": "ipython3",
   "version": "3.9.12"
  },
  "vscode": {
   "interpreter": {
    "hash": "e233b3edd5e60f0904e3f8404c7ce821d9d17539f44ffe7eab4eba0129924986"
   }
  }
 },
 "nbformat": 4,
 "nbformat_minor": 5
}
