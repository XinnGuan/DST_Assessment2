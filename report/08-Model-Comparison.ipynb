{
 "cells": [
  {
   "cell_type": "markdown",
   "id": "5d7aea49",
   "metadata": {},
   "source": [
    "# Model Comparisons"
   ]
  },
  {
   "cell_type": "markdown",
   "id": "90498df8",
   "metadata": {},
   "source": [
    "Now that we have attained the models trained on the training set, we must compare the performance of these models on the test set. First we import some necessary libraries."
   ]
  },
  {
   "cell_type": "code",
   "execution_count": 7,
   "id": "9f058bd6",
   "metadata": {},
   "outputs": [],
   "source": [
    "import os\n",
    "import pandas as pd\n",
    "import random\n",
    "import numpy as np\n",
    "from sklearn import metrics\n",
    "import matplotlib.pyplot as plt"
   ]
  },
  {
   "cell_type": "markdown",
   "id": "4ac78f7f",
   "metadata": {},
   "source": [
    "# 1. Retrieve Results"
   ]
  },
  {
   "cell_type": "markdown",
   "id": "d71956ab",
   "metadata": {},
   "source": [
    "Each model has a list of predictions for the test set where they give their respective probabilities of the review being positive. We read each list of probabilities in and store them in an array."
   ]
  },
  {
   "cell_type": "code",
   "execution_count": 16,
   "id": "7674e708",
   "metadata": {},
   "outputs": [],
   "source": [
    "lda200k_combined_df = pd.read_csv('pred_probs_combined_50k150.csv')\n",
    "lda200k_summaries_df = pd.read_csv('pred_probs_summaries_50k150.csv')\n",
    "\n",
    "w2v200k_combined_df = pd.read_csv('combined_proba_results.csv')\n",
    "w2v200k_summaries_df = pd.read_csv('summary_proba_results.csv')"
   ]
  },
  {
   "cell_type": "code",
   "execution_count": 18,
   "id": "251f911c",
   "metadata": {},
   "outputs": [],
   "source": [
    "w2v200k_combined = w2v200k_combined_df['1']\n",
    "w2v200k_summaries = w2v200k_summaries_df['1']"
   ]
  },
  {
   "cell_type": "code",
   "execution_count": 12,
   "id": "801486e1",
   "metadata": {},
   "outputs": [],
   "source": [
    "lda200k_combined = lda200k_combined_df['Probability of positive']\n",
    "lda200k_summaries = lda200k_summaries_df['Probability of positive']"
   ]
  },
  {
   "cell_type": "markdown",
   "id": "3c284331",
   "metadata": {},
   "source": [
    "# 2. Retrieve test labels"
   ]
  },
  {
   "cell_type": "markdown",
   "id": "aebd136d",
   "metadata": {},
   "source": [
    "As topic modelling is an unsupervised process, we have to load the test dataset with the sentiment scores (score of 0 is a negative review, score of 1 is a positive review)."
   ]
  },
  {
   "cell_type": "code",
   "execution_count": 30,
   "id": "ad2431ae",
   "metadata": {},
   "outputs": [
    {
     "data": {
      "text/plain": [
       "0        1\n",
       "1        1\n",
       "2        1\n",
       "3        1\n",
       "4        1\n",
       "        ..\n",
       "49995    1\n",
       "49996    1\n",
       "49997    1\n",
       "49998    1\n",
       "49999    1\n",
       "Name: sentiment, Length: 50000, dtype: int64"
      ]
     },
     "execution_count": 30,
     "metadata": {},
     "output_type": "execute_result"
    }
   ],
   "source": [
    "test_df = pd.read_csv('test_sentiments_50k.csv')\n",
    "test = test_df['sentiment']"
   ]
  },
  {
   "cell_type": "markdown",
   "id": "17b12e50",
   "metadata": {},
   "source": [
    "As shown below, the summaries probability csv produced by the word2vec model has 2 less rows than expected. This is because of how the model was designed. Words with frequency below 3 in the corpus are removed hence as two of the summaries contained only one word and these words had a frequency below 3, the whole row was deleted. In order to allow us to compare the probabilities to the test set, we created a separate test set which also had these rows removed. In hindsight, it may have been better practice to note down the index of the removed rows and then remove these rows from the test set for the LDA model also, but as there were only 2 deleted rows, this would not have significantly changed our results."
   ]
  },
  {
   "cell_type": "code",
   "execution_count": 25,
   "id": "9b3eb037",
   "metadata": {},
   "outputs": [
    {
     "data": {
      "text/plain": [
       "(49998,)"
      ]
     },
     "execution_count": 25,
     "metadata": {},
     "output_type": "execute_result"
    }
   ],
   "source": [
    "w2v200k_summaries.shape"
   ]
  },
  {
   "cell_type": "markdown",
   "id": "6d73a8f4",
   "metadata": {},
   "source": [
    "Below is the test set for the word2vec model ran on the summaries."
   ]
  },
  {
   "cell_type": "code",
   "execution_count": 28,
   "id": "bf0fbd1a",
   "metadata": {},
   "outputs": [],
   "source": [
    "ytest_df = pd.read_csv('y_test_summary.csv')\n",
    "ytest = ytest_df['sentiment']"
   ]
  },
  {
   "cell_type": "markdown",
   "id": "3c130b41",
   "metadata": {},
   "source": [
    "# 3. Producing curves"
   ]
  },
  {
   "cell_type": "markdown",
   "id": "b8d85c4e",
   "metadata": {},
   "source": [
    "We now take the probabilities produced by the models and produce the ROC based on these values and the true values stored in \"test\".\n",
    "\n",
    "Here, we generate the points for the ROC curves using the \"roc_curve\" function in the sk-learn \"metrics\" package."
   ]
  },
  {
   "cell_type": "code",
   "execution_count": 32,
   "id": "58a5845e",
   "metadata": {},
   "outputs": [],
   "source": [
    "from sklearn.metrics import roc_curve\n",
    "lda_200k_combined_fpr, lda_200k_combined_tpr, _ = roc_curve(test, lda200k_combined)\n",
    "lda_200k_summaries_fpr, lda_200k_summaries_tpr, _ = roc_curve(test, lda200k_summaries)\n",
    "\n",
    "w2v_200k_combined_fpr, lda_200k_combined_tpr, _ = roc_curve(test, w2v200k_combined)\n",
    "w2v_200k_summaries_fpr, lda_200k_summaries_tpr, _ = roc_curve(ytest, w2v200k_summaries)"
   ]
  },
  {
   "cell_type": "code",
   "execution_count": 35,
   "id": "1f97319f",
   "metadata": {},
   "outputs": [
    {
     "ename": "ValueError",
     "evalue": "x and y must have same first dimension, but have shapes (15581,) and (11541,)",
     "output_type": "error",
     "traceback": [
      "\u001b[1;31m---------------------------------------------------------------------------\u001b[0m",
      "\u001b[1;31mValueError\u001b[0m                                Traceback (most recent call last)",
      "Input \u001b[1;32mIn [35]\u001b[0m, in \u001b[0;36m<cell line: 4>\u001b[1;34m()\u001b[0m\n\u001b[0;32m      2\u001b[0m y\u001b[38;5;241m=\u001b[39m[\u001b[38;5;241m0\u001b[39m,\u001b[38;5;241m1\u001b[39m]\n\u001b[0;32m      3\u001b[0m plt\u001b[38;5;241m.\u001b[39mfigure(figsize\u001b[38;5;241m=\u001b[39m(\u001b[38;5;241m10\u001b[39m,\u001b[38;5;241m6\u001b[39m))\n\u001b[1;32m----> 4\u001b[0m \u001b[43mplt\u001b[49m\u001b[38;5;241;43m.\u001b[39;49m\u001b[43mplot\u001b[49m\u001b[43m(\u001b[49m\u001b[43mlda_200k_combined_fpr\u001b[49m\u001b[43m,\u001b[49m\u001b[43m \u001b[49m\u001b[43mlda_200k_combined_tpr\u001b[49m\u001b[43m,\u001b[49m\u001b[43m \u001b[49m\u001b[43mlabel\u001b[49m\u001b[38;5;241;43m=\u001b[39;49m\u001b[38;5;124;43m'\u001b[39;49m\u001b[38;5;124;43mText and Summaries LDA_200K\u001b[39;49m\u001b[38;5;124;43m'\u001b[39;49m\u001b[43m)\u001b[49m\n\u001b[0;32m      5\u001b[0m plt\u001b[38;5;241m.\u001b[39mplot(lda_200k_summaries_fpr, lda_200k_summaries_tpr, label\u001b[38;5;241m=\u001b[39m\u001b[38;5;124m'\u001b[39m\u001b[38;5;124mSummaries LDA_200K\u001b[39m\u001b[38;5;124m'\u001b[39m)\n\u001b[0;32m      6\u001b[0m \u001b[38;5;66;03m#plt.plot(w2v_200k_combined_fpr, w2v_200k_combined_tpr, label='Text and Summaries w2v_200K')\u001b[39;00m\n\u001b[0;32m      7\u001b[0m \u001b[38;5;66;03m#plt.plot(w2v_200k_summaries_fpr, w2v_200k_summaries_tpr, label='Summaries w2v_200K')\u001b[39;00m\n",
      "File \u001b[1;32m~\\anaconda3\\lib\\site-packages\\matplotlib\\pyplot.py:2757\u001b[0m, in \u001b[0;36mplot\u001b[1;34m(scalex, scaley, data, *args, **kwargs)\u001b[0m\n\u001b[0;32m   2755\u001b[0m \u001b[38;5;129m@_copy_docstring_and_deprecators\u001b[39m(Axes\u001b[38;5;241m.\u001b[39mplot)\n\u001b[0;32m   2756\u001b[0m \u001b[38;5;28;01mdef\u001b[39;00m \u001b[38;5;21mplot\u001b[39m(\u001b[38;5;241m*\u001b[39margs, scalex\u001b[38;5;241m=\u001b[39m\u001b[38;5;28;01mTrue\u001b[39;00m, scaley\u001b[38;5;241m=\u001b[39m\u001b[38;5;28;01mTrue\u001b[39;00m, data\u001b[38;5;241m=\u001b[39m\u001b[38;5;28;01mNone\u001b[39;00m, \u001b[38;5;241m*\u001b[39m\u001b[38;5;241m*\u001b[39mkwargs):\n\u001b[1;32m-> 2757\u001b[0m     \u001b[38;5;28;01mreturn\u001b[39;00m gca()\u001b[38;5;241m.\u001b[39mplot(\n\u001b[0;32m   2758\u001b[0m         \u001b[38;5;241m*\u001b[39margs, scalex\u001b[38;5;241m=\u001b[39mscalex, scaley\u001b[38;5;241m=\u001b[39mscaley,\n\u001b[0;32m   2759\u001b[0m         \u001b[38;5;241m*\u001b[39m\u001b[38;5;241m*\u001b[39m({\u001b[38;5;124m\"\u001b[39m\u001b[38;5;124mdata\u001b[39m\u001b[38;5;124m\"\u001b[39m: data} \u001b[38;5;28;01mif\u001b[39;00m data \u001b[38;5;129;01mis\u001b[39;00m \u001b[38;5;129;01mnot\u001b[39;00m \u001b[38;5;28;01mNone\u001b[39;00m \u001b[38;5;28;01melse\u001b[39;00m {}), \u001b[38;5;241m*\u001b[39m\u001b[38;5;241m*\u001b[39mkwargs)\n",
      "File \u001b[1;32m~\\anaconda3\\lib\\site-packages\\matplotlib\\axes\\_axes.py:1632\u001b[0m, in \u001b[0;36mAxes.plot\u001b[1;34m(self, scalex, scaley, data, *args, **kwargs)\u001b[0m\n\u001b[0;32m   1390\u001b[0m \u001b[38;5;124;03m\"\"\"\u001b[39;00m\n\u001b[0;32m   1391\u001b[0m \u001b[38;5;124;03mPlot y versus x as lines and/or markers.\u001b[39;00m\n\u001b[0;32m   1392\u001b[0m \n\u001b[1;32m   (...)\u001b[0m\n\u001b[0;32m   1629\u001b[0m \u001b[38;5;124;03m(``'green'``) or hex strings (``'#008000'``).\u001b[39;00m\n\u001b[0;32m   1630\u001b[0m \u001b[38;5;124;03m\"\"\"\u001b[39;00m\n\u001b[0;32m   1631\u001b[0m kwargs \u001b[38;5;241m=\u001b[39m cbook\u001b[38;5;241m.\u001b[39mnormalize_kwargs(kwargs, mlines\u001b[38;5;241m.\u001b[39mLine2D)\n\u001b[1;32m-> 1632\u001b[0m lines \u001b[38;5;241m=\u001b[39m [\u001b[38;5;241m*\u001b[39m\u001b[38;5;28mself\u001b[39m\u001b[38;5;241m.\u001b[39m_get_lines(\u001b[38;5;241m*\u001b[39margs, data\u001b[38;5;241m=\u001b[39mdata, \u001b[38;5;241m*\u001b[39m\u001b[38;5;241m*\u001b[39mkwargs)]\n\u001b[0;32m   1633\u001b[0m \u001b[38;5;28;01mfor\u001b[39;00m line \u001b[38;5;129;01min\u001b[39;00m lines:\n\u001b[0;32m   1634\u001b[0m     \u001b[38;5;28mself\u001b[39m\u001b[38;5;241m.\u001b[39madd_line(line)\n",
      "File \u001b[1;32m~\\anaconda3\\lib\\site-packages\\matplotlib\\axes\\_base.py:312\u001b[0m, in \u001b[0;36m_process_plot_var_args.__call__\u001b[1;34m(self, data, *args, **kwargs)\u001b[0m\n\u001b[0;32m    310\u001b[0m     this \u001b[38;5;241m+\u001b[39m\u001b[38;5;241m=\u001b[39m args[\u001b[38;5;241m0\u001b[39m],\n\u001b[0;32m    311\u001b[0m     args \u001b[38;5;241m=\u001b[39m args[\u001b[38;5;241m1\u001b[39m:]\n\u001b[1;32m--> 312\u001b[0m \u001b[38;5;28;01myield from\u001b[39;00m \u001b[38;5;28;43mself\u001b[39;49m\u001b[38;5;241;43m.\u001b[39;49m\u001b[43m_plot_args\u001b[49m\u001b[43m(\u001b[49m\u001b[43mthis\u001b[49m\u001b[43m,\u001b[49m\u001b[43m \u001b[49m\u001b[43mkwargs\u001b[49m\u001b[43m)\u001b[49m\n",
      "File \u001b[1;32m~\\anaconda3\\lib\\site-packages\\matplotlib\\axes\\_base.py:498\u001b[0m, in \u001b[0;36m_process_plot_var_args._plot_args\u001b[1;34m(self, tup, kwargs, return_kwargs)\u001b[0m\n\u001b[0;32m    495\u001b[0m     \u001b[38;5;28mself\u001b[39m\u001b[38;5;241m.\u001b[39maxes\u001b[38;5;241m.\u001b[39myaxis\u001b[38;5;241m.\u001b[39mupdate_units(y)\n\u001b[0;32m    497\u001b[0m \u001b[38;5;28;01mif\u001b[39;00m x\u001b[38;5;241m.\u001b[39mshape[\u001b[38;5;241m0\u001b[39m] \u001b[38;5;241m!=\u001b[39m y\u001b[38;5;241m.\u001b[39mshape[\u001b[38;5;241m0\u001b[39m]:\n\u001b[1;32m--> 498\u001b[0m     \u001b[38;5;28;01mraise\u001b[39;00m \u001b[38;5;167;01mValueError\u001b[39;00m(\u001b[38;5;124mf\u001b[39m\u001b[38;5;124m\"\u001b[39m\u001b[38;5;124mx and y must have same first dimension, but \u001b[39m\u001b[38;5;124m\"\u001b[39m\n\u001b[0;32m    499\u001b[0m                      \u001b[38;5;124mf\u001b[39m\u001b[38;5;124m\"\u001b[39m\u001b[38;5;124mhave shapes \u001b[39m\u001b[38;5;132;01m{\u001b[39;00mx\u001b[38;5;241m.\u001b[39mshape\u001b[38;5;132;01m}\u001b[39;00m\u001b[38;5;124m and \u001b[39m\u001b[38;5;132;01m{\u001b[39;00my\u001b[38;5;241m.\u001b[39mshape\u001b[38;5;132;01m}\u001b[39;00m\u001b[38;5;124m\"\u001b[39m)\n\u001b[0;32m    500\u001b[0m \u001b[38;5;28;01mif\u001b[39;00m x\u001b[38;5;241m.\u001b[39mndim \u001b[38;5;241m>\u001b[39m \u001b[38;5;241m2\u001b[39m \u001b[38;5;129;01mor\u001b[39;00m y\u001b[38;5;241m.\u001b[39mndim \u001b[38;5;241m>\u001b[39m \u001b[38;5;241m2\u001b[39m:\n\u001b[0;32m    501\u001b[0m     \u001b[38;5;28;01mraise\u001b[39;00m \u001b[38;5;167;01mValueError\u001b[39;00m(\u001b[38;5;124mf\u001b[39m\u001b[38;5;124m\"\u001b[39m\u001b[38;5;124mx and y can be no greater than 2D, but have \u001b[39m\u001b[38;5;124m\"\u001b[39m\n\u001b[0;32m    502\u001b[0m                      \u001b[38;5;124mf\u001b[39m\u001b[38;5;124m\"\u001b[39m\u001b[38;5;124mshapes \u001b[39m\u001b[38;5;132;01m{\u001b[39;00mx\u001b[38;5;241m.\u001b[39mshape\u001b[38;5;132;01m}\u001b[39;00m\u001b[38;5;124m and \u001b[39m\u001b[38;5;132;01m{\u001b[39;00my\u001b[38;5;241m.\u001b[39mshape\u001b[38;5;132;01m}\u001b[39;00m\u001b[38;5;124m\"\u001b[39m)\n",
      "\u001b[1;31mValueError\u001b[0m: x and y must have same first dimension, but have shapes (15581,) and (11541,)"
     ]
    },
    {
     "data": {
      "image/png": "[encoded data removed]",
      "text/plain": [
       "<Figure size 720x432 with 1 Axes>"
      ]
     },
     "metadata": {
      "needs_background": "light"
     },
     "output_type": "display_data"
    }
   ],
   "source": [
    "x=[0,1]\n",
    "y=[0,1]\n",
    "plt.figure(figsize=(10,6))\n",
    "plt.plot(lda_200k_combined_fpr, lda_200k_combined_tpr, label='Text and Summaries LDA_200K')\n",
    "plt.plot(lda_200k_summaries_fpr, lda_200k_summaries_tpr, label='Summaries LDA_200K')\n",
    "#plt.plot(w2v_200k_combined_fpr, w2v_200k_combined_tpr, label='Text and Summaries w2v_200K')\n",
    "#plt.plot(w2v_200k_summaries_fpr, w2v_200k_summaries_tpr, label='Summaries w2v_200K')\n",
    "plt.plot(x,y,label='Control', linestyle='dashed')\n",
    "plt.xlabel('FPR')\n",
    "plt.ylabel('TPR')\n",
    "plt.title('ROC Curve for each model')\n",
    "plt.legend()\n",
    "plt.show()"
   ]
  },
  {
   "cell_type": "code",
   "execution_count": null,
   "id": "f827e556",
   "metadata": {},
   "outputs": [],
   "source": []
  }
 ],
 "metadata": {
  "kernelspec": {
   "display_name": "Python 3 (ipykernel)",
   "language": "python",
   "name": "python3"
  },
  "language_info": {
   "codemirror_mode": {
    "name": "ipython",
    "version": 3
   },
   "file_extension": ".py",
   "mimetype": "text/x-python",
   "name": "python",
   "nbconvert_exporter": "python",
   "pygments_lexer": "ipython3",
   "version": "3.9.12"
  }
 },
 "nbformat": 4,
 "nbformat_minor": 5
}
