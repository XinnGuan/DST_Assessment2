{
 "cells": [
  {
   "cell_type": "markdown",
   "id": "c8561ba0",
   "metadata": {},
   "source": [
    "# Preparing The Training/Test Set\n",
    "\n",
    "As we planned to carry out classification with our topic models, we required a test set to be held out. Due to the dataset being very large, we were unsure as to whether we would be able to successfully carry out both training on all of the training set and testing on all of the test set, but decided we could always down sample them at a later stage if we needed to."
   ]
  },
  {
   "cell_type": "code",
   "execution_count": 2,
   "id": "067e50ae",
   "metadata": {},
   "outputs": [],
   "source": [
    "import os\n",
    "import pandas as pd\n",
    "import random\n",
    "from numpy.random import RandomState"
   ]
  },
  {
   "cell_type": "markdown",
   "id": "4f2450ef",
   "metadata": {},
   "source": [
    "As the dataset is very large, we cannot load it in automatically by, for example, a google drive link. Therefore, to run any lines which read in a dataset, like the one below, make sure to have the dataset downloaded to your working directory of your machine. This is the whole dataset in its original form from Kaggle."
   ]
  },
  {
   "cell_type": "code",
   "execution_count": 3,
   "id": "668ee7c9",
   "metadata": {},
   "outputs": [],
   "source": [
    "df = pd.read_csv('Books_rating.csv')"
   ]
  },
  {
   "cell_type": "code",
   "execution_count": 4,
   "id": "209c78ca",
   "metadata": {},
   "outputs": [
    {
     "data": {
      "text/html": [
       "<div>\n",
       "<style scoped>\n",
       "    .dataframe tbody tr th:only-of-type {\n",
       "        vertical-align: middle;\n",
       "    }\n",
       "\n",
       "    .dataframe tbody tr th {\n",
       "        vertical-align: top;\n",
       "    }\n",
       "\n",
       "    .dataframe thead th {\n",
       "        text-align: right;\n",
       "    }\n",
       "</style>\n",
       "<table border=\"1\" class=\"dataframe\">\n",
       "  <thead>\n",
       "    <tr style=\"text-align: right;\">\n",
       "      <th></th>\n",
       "      <th>Id</th>\n",
       "      <th>Title</th>\n",
       "      <th>Price</th>\n",
       "      <th>User_id</th>\n",
       "      <th>profileName</th>\n",
       "      <th>review/helpfulness</th>\n",
       "      <th>review/score</th>\n",
       "      <th>review/time</th>\n",
       "      <th>review/summary</th>\n",
       "      <th>review/text</th>\n",
       "    </tr>\n",
       "  </thead>\n",
       "  <tbody>\n",
       "    <tr>\n",
       "      <th>0</th>\n",
       "      <td>1882931173</td>\n",
       "      <td>Its Only Art If Its Well Hung!</td>\n",
       "      <td>NaN</td>\n",
       "      <td>AVCGYZL8FQQTD</td>\n",
       "      <td>Jim of Oz \"jim-of-oz\"</td>\n",
       "      <td>7/7</td>\n",
       "      <td>4.0</td>\n",
       "      <td>940636800</td>\n",
       "      <td>Nice collection of Julie Strain images</td>\n",
       "      <td>This is only for Julie Strain fans. It's a col...</td>\n",
       "    </tr>\n",
       "    <tr>\n",
       "      <th>1</th>\n",
       "      <td>0826414346</td>\n",
       "      <td>Dr. Seuss: American Icon</td>\n",
       "      <td>NaN</td>\n",
       "      <td>A30TK6U7DNS82R</td>\n",
       "      <td>Kevin Killian</td>\n",
       "      <td>10/10</td>\n",
       "      <td>5.0</td>\n",
       "      <td>1095724800</td>\n",
       "      <td>Really Enjoyed It</td>\n",
       "      <td>I don't care much for Dr. Seuss but after read...</td>\n",
       "    </tr>\n",
       "    <tr>\n",
       "      <th>2</th>\n",
       "      <td>0826414346</td>\n",
       "      <td>Dr. Seuss: American Icon</td>\n",
       "      <td>NaN</td>\n",
       "      <td>A3UH4UZ4RSVO82</td>\n",
       "      <td>John Granger</td>\n",
       "      <td>10/11</td>\n",
       "      <td>5.0</td>\n",
       "      <td>1078790400</td>\n",
       "      <td>Essential for every personal and Public Library</td>\n",
       "      <td>If people become the books they read and if \"t...</td>\n",
       "    </tr>\n",
       "    <tr>\n",
       "      <th>3</th>\n",
       "      <td>0826414346</td>\n",
       "      <td>Dr. Seuss: American Icon</td>\n",
       "      <td>NaN</td>\n",
       "      <td>A2MVUWT453QH61</td>\n",
       "      <td>Roy E. Perry \"amateur philosopher\"</td>\n",
       "      <td>7/7</td>\n",
       "      <td>4.0</td>\n",
       "      <td>1090713600</td>\n",
       "      <td>Phlip Nel gives silly Seuss a serious treatment</td>\n",
       "      <td>Theodore Seuss Geisel (1904-1991), aka &amp;quot;D...</td>\n",
       "    </tr>\n",
       "    <tr>\n",
       "      <th>4</th>\n",
       "      <td>0826414346</td>\n",
       "      <td>Dr. Seuss: American Icon</td>\n",
       "      <td>NaN</td>\n",
       "      <td>A22X4XUPKF66MR</td>\n",
       "      <td>D. H. Richards \"ninthwavestore\"</td>\n",
       "      <td>3/3</td>\n",
       "      <td>4.0</td>\n",
       "      <td>1107993600</td>\n",
       "      <td>Good academic overview</td>\n",
       "      <td>Philip Nel - Dr. Seuss: American IconThis is b...</td>\n",
       "    </tr>\n",
       "  </tbody>\n",
       "</table>\n",
       "</div>"
      ],
      "text/plain": [
       "           Id                           Title  Price         User_id  \\\n",
       "0  1882931173  Its Only Art If Its Well Hung!    NaN   AVCGYZL8FQQTD   \n",
       "1  0826414346        Dr. Seuss: American Icon    NaN  A30TK6U7DNS82R   \n",
       "2  0826414346        Dr. Seuss: American Icon    NaN  A3UH4UZ4RSVO82   \n",
       "3  0826414346        Dr. Seuss: American Icon    NaN  A2MVUWT453QH61   \n",
       "4  0826414346        Dr. Seuss: American Icon    NaN  A22X4XUPKF66MR   \n",
       "\n",
       "                          profileName review/helpfulness  review/score  \\\n",
       "0               Jim of Oz \"jim-of-oz\"                7/7           4.0   \n",
       "1                       Kevin Killian              10/10           5.0   \n",
       "2                        John Granger              10/11           5.0   \n",
       "3  Roy E. Perry \"amateur philosopher\"                7/7           4.0   \n",
       "4     D. H. Richards \"ninthwavestore\"                3/3           4.0   \n",
       "\n",
       "   review/time                                   review/summary  \\\n",
       "0    940636800           Nice collection of Julie Strain images   \n",
       "1   1095724800                                Really Enjoyed It   \n",
       "2   1078790400  Essential for every personal and Public Library   \n",
       "3   1090713600  Phlip Nel gives silly Seuss a serious treatment   \n",
       "4   1107993600                           Good academic overview   \n",
       "\n",
       "                                         review/text  \n",
       "0  This is only for Julie Strain fans. It's a col...  \n",
       "1  I don't care much for Dr. Seuss but after read...  \n",
       "2  If people become the books they read and if \"t...  \n",
       "3  Theodore Seuss Geisel (1904-1991), aka &quot;D...  \n",
       "4  Philip Nel - Dr. Seuss: American IconThis is b...  "
      ]
     },
     "execution_count": 4,
     "metadata": {},
     "output_type": "execute_result"
    }
   ],
   "source": [
    "df.head()"
   ]
  },
  {
   "cell_type": "markdown",
   "id": "e87d558f",
   "metadata": {},
   "source": [
    "We begin by removing the columns which we will not be using in this project. We are primarily focussing on developing topic models and investigating through this how the information gained solely from the reviews impacts a classification task."
   ]
  },
  {
   "cell_type": "code",
   "execution_count": 5,
   "id": "2076f143",
   "metadata": {},
   "outputs": [],
   "source": [
    "df.drop(['Id','Title','Price','User_id','profileName','review/helpfulness','review/time'], axis=1, inplace=True)\n"
   ]
  },
  {
   "cell_type": "code",
   "execution_count": 6,
   "id": "5bc8f901",
   "metadata": {},
   "outputs": [
    {
     "data": {
      "text/html": [
       "<div>\n",
       "<style scoped>\n",
       "    .dataframe tbody tr th:only-of-type {\n",
       "        vertical-align: middle;\n",
       "    }\n",
       "\n",
       "    .dataframe tbody tr th {\n",
       "        vertical-align: top;\n",
       "    }\n",
       "\n",
       "    .dataframe thead th {\n",
       "        text-align: right;\n",
       "    }\n",
       "</style>\n",
       "<table border=\"1\" class=\"dataframe\">\n",
       "  <thead>\n",
       "    <tr style=\"text-align: right;\">\n",
       "      <th></th>\n",
       "      <th>review/score</th>\n",
       "      <th>review/summary</th>\n",
       "      <th>review/text</th>\n",
       "    </tr>\n",
       "  </thead>\n",
       "  <tbody>\n",
       "    <tr>\n",
       "      <th>0</th>\n",
       "      <td>4.0</td>\n",
       "      <td>Nice collection of Julie Strain images</td>\n",
       "      <td>This is only for Julie Strain fans. It's a col...</td>\n",
       "    </tr>\n",
       "    <tr>\n",
       "      <th>1</th>\n",
       "      <td>5.0</td>\n",
       "      <td>Really Enjoyed It</td>\n",
       "      <td>I don't care much for Dr. Seuss but after read...</td>\n",
       "    </tr>\n",
       "    <tr>\n",
       "      <th>2</th>\n",
       "      <td>5.0</td>\n",
       "      <td>Essential for every personal and Public Library</td>\n",
       "      <td>If people become the books they read and if \"t...</td>\n",
       "    </tr>\n",
       "    <tr>\n",
       "      <th>3</th>\n",
       "      <td>4.0</td>\n",
       "      <td>Phlip Nel gives silly Seuss a serious treatment</td>\n",
       "      <td>Theodore Seuss Geisel (1904-1991), aka &amp;quot;D...</td>\n",
       "    </tr>\n",
       "    <tr>\n",
       "      <th>4</th>\n",
       "      <td>4.0</td>\n",
       "      <td>Good academic overview</td>\n",
       "      <td>Philip Nel - Dr. Seuss: American IconThis is b...</td>\n",
       "    </tr>\n",
       "  </tbody>\n",
       "</table>\n",
       "</div>"
      ],
      "text/plain": [
       "   review/score                                   review/summary  \\\n",
       "0           4.0           Nice collection of Julie Strain images   \n",
       "1           5.0                                Really Enjoyed It   \n",
       "2           5.0  Essential for every personal and Public Library   \n",
       "3           4.0  Phlip Nel gives silly Seuss a serious treatment   \n",
       "4           4.0                           Good academic overview   \n",
       "\n",
       "                                         review/text  \n",
       "0  This is only for Julie Strain fans. It's a col...  \n",
       "1  I don't care much for Dr. Seuss but after read...  \n",
       "2  If people become the books they read and if \"t...  \n",
       "3  Theodore Seuss Geisel (1904-1991), aka &quot;D...  \n",
       "4  Philip Nel - Dr. Seuss: American IconThis is b...  "
      ]
     },
     "execution_count": 6,
     "metadata": {},
     "output_type": "execute_result"
    }
   ],
   "source": [
    "df.head()"
   ]
  },
  {
   "cell_type": "markdown",
   "id": "848c7a07",
   "metadata": {},
   "source": [
    "We can rename the columns as so."
   ]
  },
  {
   "cell_type": "code",
   "execution_count": 7,
   "id": "414e6b8e",
   "metadata": {},
   "outputs": [],
   "source": [
    "df=df.rename(columns={'review/score': 'score', 'review/summary': 'summary', 'review/text': 'text'})"
   ]
  },
  {
   "cell_type": "code",
   "execution_count": 8,
   "id": "30e49f3a",
   "metadata": {},
   "outputs": [
    {
     "data": {
      "text/html": [
       "<div>\n",
       "<style scoped>\n",
       "    .dataframe tbody tr th:only-of-type {\n",
       "        vertical-align: middle;\n",
       "    }\n",
       "\n",
       "    .dataframe tbody tr th {\n",
       "        vertical-align: top;\n",
       "    }\n",
       "\n",
       "    .dataframe thead th {\n",
       "        text-align: right;\n",
       "    }\n",
       "</style>\n",
       "<table border=\"1\" class=\"dataframe\">\n",
       "  <thead>\n",
       "    <tr style=\"text-align: right;\">\n",
       "      <th></th>\n",
       "      <th>score</th>\n",
       "      <th>summary</th>\n",
       "      <th>text</th>\n",
       "    </tr>\n",
       "  </thead>\n",
       "  <tbody>\n",
       "    <tr>\n",
       "      <th>0</th>\n",
       "      <td>4.0</td>\n",
       "      <td>Nice collection of Julie Strain images</td>\n",
       "      <td>This is only for Julie Strain fans. It's a col...</td>\n",
       "    </tr>\n",
       "    <tr>\n",
       "      <th>1</th>\n",
       "      <td>5.0</td>\n",
       "      <td>Really Enjoyed It</td>\n",
       "      <td>I don't care much for Dr. Seuss but after read...</td>\n",
       "    </tr>\n",
       "    <tr>\n",
       "      <th>2</th>\n",
       "      <td>5.0</td>\n",
       "      <td>Essential for every personal and Public Library</td>\n",
       "      <td>If people become the books they read and if \"t...</td>\n",
       "    </tr>\n",
       "    <tr>\n",
       "      <th>3</th>\n",
       "      <td>4.0</td>\n",
       "      <td>Phlip Nel gives silly Seuss a serious treatment</td>\n",
       "      <td>Theodore Seuss Geisel (1904-1991), aka &amp;quot;D...</td>\n",
       "    </tr>\n",
       "    <tr>\n",
       "      <th>4</th>\n",
       "      <td>4.0</td>\n",
       "      <td>Good academic overview</td>\n",
       "      <td>Philip Nel - Dr. Seuss: American IconThis is b...</td>\n",
       "    </tr>\n",
       "  </tbody>\n",
       "</table>\n",
       "</div>"
      ],
      "text/plain": [
       "   score                                          summary  \\\n",
       "0    4.0           Nice collection of Julie Strain images   \n",
       "1    5.0                                Really Enjoyed It   \n",
       "2    5.0  Essential for every personal and Public Library   \n",
       "3    4.0  Phlip Nel gives silly Seuss a serious treatment   \n",
       "4    4.0                           Good academic overview   \n",
       "\n",
       "                                                text  \n",
       "0  This is only for Julie Strain fans. It's a col...  \n",
       "1  I don't care much for Dr. Seuss but after read...  \n",
       "2  If people become the books they read and if \"t...  \n",
       "3  Theodore Seuss Geisel (1904-1991), aka &quot;D...  \n",
       "4  Philip Nel - Dr. Seuss: American IconThis is b...  "
      ]
     },
     "execution_count": 8,
     "metadata": {},
     "output_type": "execute_result"
    }
   ],
   "source": [
    "df_combined=df\n",
    "df_combined.head()"
   ]
  },
  {
   "cell_type": "markdown",
   "id": "d6376010",
   "metadata": {},
   "source": [
    "Now we add the summary to the review text, as we will be comparing how putting both into our models changes the results from just having the summaries."
   ]
  },
  {
   "cell_type": "code",
   "execution_count": 9,
   "id": "397fd26c",
   "metadata": {},
   "outputs": [],
   "source": [
    "df_combined['text'] = df.summary.astype(str).str.cat(df.text.astype(str), sep=' ')"
   ]
  },
  {
   "cell_type": "code",
   "execution_count": 10,
   "id": "33a3e3df",
   "metadata": {},
   "outputs": [
    {
     "data": {
      "text/html": [
       "<div>\n",
       "<style scoped>\n",
       "    .dataframe tbody tr th:only-of-type {\n",
       "        vertical-align: middle;\n",
       "    }\n",
       "\n",
       "    .dataframe tbody tr th {\n",
       "        vertical-align: top;\n",
       "    }\n",
       "\n",
       "    .dataframe thead th {\n",
       "        text-align: right;\n",
       "    }\n",
       "</style>\n",
       "<table border=\"1\" class=\"dataframe\">\n",
       "  <thead>\n",
       "    <tr style=\"text-align: right;\">\n",
       "      <th></th>\n",
       "      <th>score</th>\n",
       "      <th>summary</th>\n",
       "      <th>text</th>\n",
       "    </tr>\n",
       "  </thead>\n",
       "  <tbody>\n",
       "    <tr>\n",
       "      <th>0</th>\n",
       "      <td>4.0</td>\n",
       "      <td>Nice collection of Julie Strain images</td>\n",
       "      <td>Nice collection of Julie Strain images This is...</td>\n",
       "    </tr>\n",
       "    <tr>\n",
       "      <th>1</th>\n",
       "      <td>5.0</td>\n",
       "      <td>Really Enjoyed It</td>\n",
       "      <td>Really Enjoyed It I don't care much for Dr. Se...</td>\n",
       "    </tr>\n",
       "    <tr>\n",
       "      <th>2</th>\n",
       "      <td>5.0</td>\n",
       "      <td>Essential for every personal and Public Library</td>\n",
       "      <td>Essential for every personal and Public Librar...</td>\n",
       "    </tr>\n",
       "    <tr>\n",
       "      <th>3</th>\n",
       "      <td>4.0</td>\n",
       "      <td>Phlip Nel gives silly Seuss a serious treatment</td>\n",
       "      <td>Phlip Nel gives silly Seuss a serious treatmen...</td>\n",
       "    </tr>\n",
       "    <tr>\n",
       "      <th>4</th>\n",
       "      <td>4.0</td>\n",
       "      <td>Good academic overview</td>\n",
       "      <td>Good academic overview Philip Nel - Dr. Seuss:...</td>\n",
       "    </tr>\n",
       "  </tbody>\n",
       "</table>\n",
       "</div>"
      ],
      "text/plain": [
       "   score                                          summary  \\\n",
       "0    4.0           Nice collection of Julie Strain images   \n",
       "1    5.0                                Really Enjoyed It   \n",
       "2    5.0  Essential for every personal and Public Library   \n",
       "3    4.0  Phlip Nel gives silly Seuss a serious treatment   \n",
       "4    4.0                           Good academic overview   \n",
       "\n",
       "                                                text  \n",
       "0  Nice collection of Julie Strain images This is...  \n",
       "1  Really Enjoyed It I don't care much for Dr. Se...  \n",
       "2  Essential for every personal and Public Librar...  \n",
       "3  Phlip Nel gives silly Seuss a serious treatmen...  \n",
       "4  Good academic overview Philip Nel - Dr. Seuss:...  "
      ]
     },
     "execution_count": 10,
     "metadata": {},
     "output_type": "execute_result"
    }
   ],
   "source": [
    "df_combined.head()"
   ]
  },
  {
   "cell_type": "code",
   "execution_count": 11,
   "id": "e396f986",
   "metadata": {},
   "outputs": [
    {
     "data": {
      "text/plain": [
       "\"Nice collection of Julie Strain images This is only for Julie Strain fans. It's a collection of her photos -- about 80 pages worth with a nice section of paintings by Olivia.If you're looking for heavy literary content, this isn't the place to find it -- there's only about 2 pages with text and everything else is photos.Bottom line: if you only want one book, the Six Foot One ... is probably a better choice, however, if you like Julie like I like Julie, you won't go wrong on this one either.\""
      ]
     },
     "execution_count": 11,
     "metadata": {},
     "output_type": "execute_result"
    }
   ],
   "source": [
    "df_combined.iloc[0,2]"
   ]
  },
  {
   "cell_type": "markdown",
   "id": "b7110ad6",
   "metadata": {},
   "source": [
    "The following section performs stratified sampling to split the data into a test and training set, which correspond to 20% and 80% of the dataset respectively."
   ]
  },
  {
   "cell_type": "code",
   "execution_count": 13,
   "id": "ec5e9b05",
   "metadata": {},
   "outputs": [],
   "source": [
    "rng = RandomState()"
   ]
  },
  {
   "cell_type": "code",
   "execution_count": 14,
   "id": "20975d7d",
   "metadata": {},
   "outputs": [],
   "source": [
    "ones = df_combined[df_combined['score'] == 1]\n",
    "twos = df_combined[df_combined['score'] == 2]\n",
    "threes = df_combined[df_combined['score'] == 3]\n",
    "fours = df_combined[df_combined['score'] == 4]\n",
    "fives = df_combined[df_combined['score'] == 5]\n",
    "\n",
    "num_ones = round(len(ones) * 0.2)\n",
    "num_twos = round(len(twos) * 0.2)\n",
    "num_threes = round(len(threes) * 0.2)\n",
    "num_fours = round(len(fours) * 0.2)\n",
    "num_fives = round(len(fives) * 0.2)\n",
    "\n",
    "test_ones = ones.sample(n=num_ones, random_state=rng)\n",
    "train_ones = ones.loc[~ones.index.isin(test_ones.index)]\n",
    "test_twos = twos.sample(n=num_twos, random_state=rng)\n",
    "train_twos = twos.loc[~twos.index.isin(test_twos.index)]\n",
    "test_threes = threes.sample(n=num_threes, random_state=rng)\n",
    "train_threes = threes.loc[~threes.index.isin(test_threes.index)]\n",
    "test_fours = fours.sample(n=num_fours, random_state=rng)\n",
    "train_fours = fours.loc[~fours.index.isin(test_fours.index)]\n",
    "test_fives = fives.sample(n=num_fives, random_state=rng)\n",
    "train_fives = fives.loc[~fives.index.isin(test_fives.index)]\n",
    "\n",
    "testframe = [test_ones,test_twos,test_threes,test_fours,test_fives]\n",
    "trainframe = [train_ones,train_twos,train_threes,train_fours,train_fives]\n",
    "\n",
    "test = pd.concat(testframe)\n",
    "train = pd.concat(trainframe)"
   ]
  },
  {
   "cell_type": "markdown",
   "id": "ac010945",
   "metadata": {},
   "source": [
    "We save the test and train set to csvs with the following names."
   ]
  },
  {
   "cell_type": "code",
   "execution_count": 15,
   "id": "1b095393",
   "metadata": {},
   "outputs": [],
   "source": [
    "test.to_csv('reviews_test.csv', sep=\",\", index=False)\n",
    "train.to_csv('reviews_train.csv', sep=\",\", index=False)"
   ]
  },
  {
   "cell_type": "markdown",
   "id": "d108c30b",
   "metadata": {},
   "source": [
    "Finally, this is a quick check to show that the test set is in fact 20% of the original dataset."
   ]
  },
  {
   "cell_type": "code",
   "execution_count": 16,
   "id": "70faec81",
   "metadata": {},
   "outputs": [
    {
     "data": {
      "text/plain": [
       "20.000033333333334"
      ]
     },
     "execution_count": 16,
     "metadata": {},
     "output_type": "execute_result"
    }
   ],
   "source": [
    "a = test.shape[0]\n",
    "b = train.shape[0]\n",
    "100 * a/(a+b)"
   ]
  }
 ],
 "metadata": {
  "kernelspec": {
   "display_name": "Python 3 (ipykernel)",
   "language": "python",
   "name": "python3"
  },
  "language_info": {
   "codemirror_mode": {
    "name": "ipython",
    "version": 3
   },
   "file_extension": ".py",
   "mimetype": "text/x-python",
   "name": "python",
   "nbconvert_exporter": "python",
   "pygments_lexer": "ipython3",
   "version": "3.9.13"
  }
 },
 "nbformat": 4,
 "nbformat_minor": 5
}
